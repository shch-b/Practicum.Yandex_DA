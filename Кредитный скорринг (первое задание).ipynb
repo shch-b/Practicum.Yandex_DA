{
 "cells": [
  {
   "cell_type": "markdown",
   "id": "93b658db",
   "metadata": {
    "deletable": false,
    "editable": false,
    "id": "c81daeeb"
   },
   "source": [
    "# Исследование надежности заемщиков"
   ]
  },
  {
   "cell_type": "markdown",
   "id": "401ea41b",
   "metadata": {
    "deletable": false,
    "editable": false,
    "id": "-G3EJWzf62s6"
   },
   "source": [
    "Это первая часть проекта, она будет проверена автоматически. Вторую часть проверит ревьюер. "
   ]
  },
  {
   "cell_type": "markdown",
   "id": "65f12481",
   "metadata": {
    "deletable": false,
    "editable": false,
    "id": "744d7639"
   },
   "source": [
    "## Откройте таблицу и изучите общую информацию о данных"
   ]
  },
  {
   "cell_type": "markdown",
   "id": "0aa81b64",
   "metadata": {
    "deletable": false,
    "editable": false,
    "id": "e7a14c31",
    "tags": [
     "start_task"
    ]
   },
   "source": [
    "**Задание 1. Импортируйте библиотеку pandas. Считайте данные из csv-файла в датафрейм и сохраните в переменную `data`. Путь к файлу:**\n",
    "\n",
    "`/datasets/data.csv`"
   ]
  },
  {
   "cell_type": "code",
   "execution_count": 2,
   "id": "a5233486",
   "metadata": {
    "id": "7bcf75c9"
   },
   "outputs": [],
   "source": [
    "import pandas as pd # импортируйте библиотеку pandas"
   ]
  },
  {
   "cell_type": "code",
   "execution_count": 3,
   "id": "e5abf5f3",
   "metadata": {
    "id": "4d240ee2"
   },
   "outputs": [],
   "source": [
    "data = pd.read_csv('/datasets/data.csv') # прочитайте csv-файл"
   ]
  },
  {
   "cell_type": "markdown",
   "id": "1142bacf",
   "metadata": {
    "deletable": false,
    "editable": false,
    "id": "b8038fe3",
    "tags": [
     "start_task"
    ]
   },
   "source": [
    "**Задание 2. Выведите первые 20 строчек датафрейма `data` на экран.**"
   ]
  },
  {
   "cell_type": "code",
   "execution_count": 4,
   "id": "b830d02c",
   "metadata": {
    "id": "2a7cab99"
   },
   "outputs": [
    {
     "name": "stdout",
     "output_type": "stream",
     "text": [
      "    children  days_employed  dob_years            education  education_id  \\\n",
      "0          1   -8437.673028         42               высшее             0   \n",
      "1          1   -4024.803754         36              среднее             1   \n",
      "2          0   -5623.422610         33              Среднее             1   \n",
      "3          3   -4124.747207         32              среднее             1   \n",
      "4          0  340266.072047         53              среднее             1   \n",
      "5          0    -926.185831         27               высшее             0   \n",
      "6          0   -2879.202052         43               высшее             0   \n",
      "7          0    -152.779569         50              СРЕДНЕЕ             1   \n",
      "8          2   -6929.865299         35               ВЫСШЕЕ             0   \n",
      "9          0   -2188.756445         41              среднее             1   \n",
      "10         2   -4171.483647         36               высшее             0   \n",
      "11         0    -792.701887         40              среднее             1   \n",
      "12         0            NaN         65              среднее             1   \n",
      "13         0   -1846.641941         54  неоконченное высшее             2   \n",
      "14         0   -1844.956182         56               высшее             0   \n",
      "15         1    -972.364419         26              среднее             1   \n",
      "16         0   -1719.934226         35              среднее             1   \n",
      "17         0   -2369.999720         33               высшее             0   \n",
      "18         0  400281.136913         53              среднее             1   \n",
      "19         0  -10038.818549         48              СРЕДНЕЕ             1   \n",
      "\n",
      "       family_status  family_status_id gender income_type  debt  \\\n",
      "0    женат / замужем                 0      F   сотрудник     0   \n",
      "1    женат / замужем                 0      F   сотрудник     0   \n",
      "2    женат / замужем                 0      M   сотрудник     0   \n",
      "3    женат / замужем                 0      M   сотрудник     0   \n",
      "4   гражданский брак                 1      F   пенсионер     0   \n",
      "5   гражданский брак                 1      M   компаньон     0   \n",
      "6    женат / замужем                 0      F   компаньон     0   \n",
      "7    женат / замужем                 0      M   сотрудник     0   \n",
      "8   гражданский брак                 1      F   сотрудник     0   \n",
      "9    женат / замужем                 0      M   сотрудник     0   \n",
      "10   женат / замужем                 0      M   компаньон     0   \n",
      "11   женат / замужем                 0      F   сотрудник     0   \n",
      "12  гражданский брак                 1      M   пенсионер     0   \n",
      "13   женат / замужем                 0      F   сотрудник     0   \n",
      "14  гражданский брак                 1      F   компаньон     1   \n",
      "15   женат / замужем                 0      F   сотрудник     0   \n",
      "16   женат / замужем                 0      F   сотрудник     0   \n",
      "17  гражданский брак                 1      M   сотрудник     0   \n",
      "18    вдовец / вдова                 2      F   пенсионер     0   \n",
      "19         в разводе                 3      F   сотрудник     0   \n",
      "\n",
      "     total_income                                 purpose  \n",
      "0   253875.639453                           покупка жилья  \n",
      "1   112080.014102                 приобретение автомобиля  \n",
      "2   145885.952297                           покупка жилья  \n",
      "3   267628.550329              дополнительное образование  \n",
      "4   158616.077870                         сыграть свадьбу  \n",
      "5   255763.565419                           покупка жилья  \n",
      "6   240525.971920                       операции с жильем  \n",
      "7   135823.934197                             образование  \n",
      "8    95856.832424                   на проведение свадьбы  \n",
      "9   144425.938277                 покупка жилья для семьи  \n",
      "10  113943.491460                    покупка недвижимости  \n",
      "11   77069.234271       покупка коммерческой недвижимости  \n",
      "12            NaN                         сыграть свадьбу  \n",
      "13  130458.228857                 приобретение автомобиля  \n",
      "14  165127.911772              покупка жилой недвижимости  \n",
      "15  116820.904450  строительство собственной недвижимости  \n",
      "16  289202.704229                            недвижимость  \n",
      "17   90410.586745              строительство недвижимости  \n",
      "18   56823.777243      на покупку подержанного автомобиля  \n",
      "19  242831.107982            на покупку своего автомобиля  \n"
     ]
    }
   ],
   "source": [
    "print(data.head(20)) # ваш код здесь"
   ]
  },
  {
   "cell_type": "markdown",
   "id": "3ae87cea",
   "metadata": {
    "deletable": false,
    "editable": false,
    "id": "1c12e233",
    "tags": [
     "start_task"
    ]
   },
   "source": [
    "**Задание 3. Выведите основную информацию о датафрейме с помощью метода `info()`.**"
   ]
  },
  {
   "cell_type": "code",
   "execution_count": 5,
   "id": "3ca69c48",
   "metadata": {
    "id": "2b757bca"
   },
   "outputs": [
    {
     "name": "stdout",
     "output_type": "stream",
     "text": [
      "<class 'pandas.core.frame.DataFrame'>\n",
      "RangeIndex: 21525 entries, 0 to 21524\n",
      "Data columns (total 12 columns):\n",
      " #   Column            Non-Null Count  Dtype  \n",
      "---  ------            --------------  -----  \n",
      " 0   children          21525 non-null  int64  \n",
      " 1   days_employed     19351 non-null  float64\n",
      " 2   dob_years         21525 non-null  int64  \n",
      " 3   education         21525 non-null  object \n",
      " 4   education_id      21525 non-null  int64  \n",
      " 5   family_status     21525 non-null  object \n",
      " 6   family_status_id  21525 non-null  int64  \n",
      " 7   gender            21525 non-null  object \n",
      " 8   income_type       21525 non-null  object \n",
      " 9   debt              21525 non-null  int64  \n",
      " 10  total_income      19351 non-null  float64\n",
      " 11  purpose           21525 non-null  object \n",
      "dtypes: float64(2), int64(5), object(5)\n",
      "memory usage: 2.0+ MB\n"
     ]
    }
   ],
   "source": [
    "data.info() # ваш код здесь"
   ]
  },
  {
   "cell_type": "markdown",
   "id": "670b6983",
   "metadata": {
    "deletable": false,
    "editable": false,
    "id": "333ec665"
   },
   "source": [
    "## Предобработка данных"
   ]
  },
  {
   "cell_type": "markdown",
   "id": "5c61d241",
   "metadata": {
    "deletable": false,
    "editable": false,
    "id": "02d92d53"
   },
   "source": [
    "### Удаление пропусков"
   ]
  },
  {
   "cell_type": "markdown",
   "id": "77ffe127",
   "metadata": {
    "deletable": false,
    "editable": false,
    "id": "cd84967c",
    "tags": [
     "start_task"
    ]
   },
   "source": [
    "**Задание 4. Выведите количество пропущенных значений для каждого столбца. Используйте комбинацию двух методов.**"
   ]
  },
  {
   "cell_type": "code",
   "execution_count": 6,
   "id": "b7251d74",
   "metadata": {
    "id": "7f9b2309"
   },
   "outputs": [
    {
     "name": "stdout",
     "output_type": "stream",
     "text": [
      "children               0\n",
      "days_employed       2174\n",
      "dob_years              0\n",
      "education              0\n",
      "education_id           0\n",
      "family_status          0\n",
      "family_status_id       0\n",
      "gender                 0\n",
      "income_type            0\n",
      "debt                   0\n",
      "total_income        2174\n",
      "purpose                0\n",
      "dtype: int64\n"
     ]
    }
   ],
   "source": [
    "#for col in data.columns:\n",
    "#    print(col, data[col].isna().sum())\n",
    "print(data.isna().sum())\n",
    "\n",
    "# ваш код здесь"
   ]
  },
  {
   "cell_type": "markdown",
   "id": "a8b78d3f",
   "metadata": {
    "deletable": false,
    "editable": false,
    "id": "db86e27b",
    "tags": [
     "start_task"
    ]
   },
   "source": [
    "**Задание 5. В двух столбцах есть пропущенные значения. Один из них — `days_employed`. Пропуски в этом столбце вы обработаете на следующем этапе. Другой столбец с пропущенными значениями — `total_income` — хранит данные о доходах. На сумму дохода сильнее всего влияет тип занятости, поэтому заполнить пропуски в этом столбце нужно медианным значением по каждому типу из столбца `income_type`. Например, у человека с типом занятости `сотрудник` пропуск в столбце `total_income` должен быть заполнен медианным доходом среди всех записей с тем же типом.**"
   ]
  },
  {
   "cell_type": "code",
   "execution_count": 7,
   "id": "e2a9f955",
   "metadata": {
    "id": "42006a93"
   },
   "outputs": [],
   "source": [
    "average_income_by_type = data.groupby('income_type')['total_income'].median()\n",
    "#print(average_income_by_type)\n",
    "\n",
    "unique_income_type = data['income_type'].unique()\n",
    "#print(unique_income_type)\n",
    "\n",
    "for un in unique_income_type:\n",
    "    data.loc[data['income_type']==un,'total_income'] = data['total_income'].fillna(average_income_by_type[un])\n",
    "\n",
    "\n",
    "# ваш код здесь"
   ]
  },
  {
   "cell_type": "markdown",
   "id": "7bad21cf",
   "metadata": {
    "deletable": false,
    "editable": false,
    "id": "89da5ece"
   },
   "source": [
    "### Обработка аномальных значений"
   ]
  },
  {
   "cell_type": "markdown",
   "id": "10103e1e",
   "metadata": {
    "deletable": false,
    "editable": false,
    "id": "57964554",
    "tags": [
     "start_task"
    ]
   },
   "source": [
    "**Задание 6. В данных могут встречаться артефакты (аномалии) — значения, которые не отражают действительность и появились по какой-то ошибке. Таким артефактом будет отрицательное количество дней трудового стажа в столбце `days_employed`. Для реальных данных это нормально. Обработайте значения в этом столбце: замените все отрицательные значения положительными с помощью метода `abs()`.**"
   ]
  },
  {
   "cell_type": "code",
   "execution_count": 8,
   "id": "001c89aa",
   "metadata": {
    "id": "f6f055bf"
   },
   "outputs": [],
   "source": [
    "data['days_employed'] = data['days_employed'].abs()"
   ]
  },
  {
   "cell_type": "markdown",
   "id": "619b3bc8",
   "metadata": {
    "deletable": false,
    "editable": false,
    "id": "6107dd2f",
    "tags": [
     "start_task"
    ]
   },
   "source": [
    "**Задание 7. Для каждого типа занятости выведите медианное значение трудового стажа `days_employed` в днях.**"
   ]
  },
  {
   "cell_type": "code",
   "execution_count": 9,
   "id": "693de692",
   "metadata": {
    "id": "85a5faf6"
   },
   "outputs": [
    {
     "name": "stdout",
     "output_type": "stream",
     "text": [
      "income_type\n",
      "безработный        366413.652744\n",
      "в декрете            3296.759962\n",
      "госслужащий          2689.368353\n",
      "компаньон            1547.382223\n",
      "пенсионер          365213.306266\n",
      "предприниматель       520.848083\n",
      "сотрудник            1574.202821\n",
      "студент               578.751554\n",
      "Name: days_employed, dtype: float64\n"
     ]
    }
   ],
   "source": [
    "income_type_median_days = data.groupby('income_type').agg('median')['days_employed']\n",
    "print(income_type_median_days)"
   ]
  },
  {
   "cell_type": "markdown",
   "id": "71dc77b6",
   "metadata": {
    "deletable": false,
    "editable": false,
    "id": "38d1a030"
   },
   "source": [
    "У двух типов (безработные и пенсионеры) получатся аномально большие значения. Исправить такие значения сложно, поэтому оставьте их как есть. Тем более этот столбец не понадобится вам для исследования."
   ]
  },
  {
   "cell_type": "markdown",
   "id": "9c4d68b7",
   "metadata": {
    "deletable": false,
    "editable": false,
    "id": "d8a9f147",
    "tags": [
     "start_task"
    ]
   },
   "source": [
    "**Задание 8. Выведите перечень уникальных значений столбца `children`.**"
   ]
  },
  {
   "cell_type": "code",
   "execution_count": 10,
   "id": "bc318675",
   "metadata": {
    "id": "ef5056eb"
   },
   "outputs": [
    {
     "name": "stdout",
     "output_type": "stream",
     "text": [
      "[ 1  0  3  2 -1  4 20  5]\n"
     ]
    }
   ],
   "source": [
    "print(data['children'].unique())"
   ]
  },
  {
   "cell_type": "markdown",
   "id": "81465b27",
   "metadata": {
    "deletable": false,
    "editable": false,
    "id": "40b9ebf2",
    "tags": [
     "start_task"
    ]
   },
   "source": [
    "**Задание 9. В столбце `children` есть два аномальных значения. Удалите строки, в которых встречаются такие аномальные значения из датафрейма `data`.**"
   ]
  },
  {
   "cell_type": "code",
   "execution_count": 11,
   "id": "cea8b76f",
   "metadata": {
    "id": "3ff9801d"
   },
   "outputs": [],
   "source": [
    "data = data[data['children'] != -1] \n",
    "data = data[data['children'] != 20]"
   ]
  },
  {
   "cell_type": "markdown",
   "id": "9ba7bfad",
   "metadata": {
    "deletable": false,
    "editable": false,
    "id": "bbc4d0ce",
    "tags": [
     "start_task"
    ]
   },
   "source": [
    "**Задание 10. Ещё раз выведите перечень уникальных значений столбца `children`, чтобы убедиться, что артефакты удалены.**"
   ]
  },
  {
   "cell_type": "code",
   "execution_count": 12,
   "id": "746914b6",
   "metadata": {
    "id": "ad4fa8b7"
   },
   "outputs": [
    {
     "name": "stdout",
     "output_type": "stream",
     "text": [
      "[1 0 3 2 4 5]\n"
     ]
    }
   ],
   "source": [
    "print(data['children'].unique())"
   ]
  },
  {
   "cell_type": "markdown",
   "id": "32afa6b9",
   "metadata": {
    "deletable": false,
    "editable": false,
    "id": "75440b63"
   },
   "source": [
    "### Удаление пропусков (продолжение)"
   ]
  },
  {
   "cell_type": "markdown",
   "id": "1cd45a75",
   "metadata": {
    "deletable": false,
    "editable": false,
    "id": "f4ea573f",
    "tags": [
     "start_task"
    ]
   },
   "source": [
    "**Задание 11. Заполните пропуски в столбце `days_employed` медианными значениями по каждому типу занятости `income_type`.**"
   ]
  },
  {
   "cell_type": "code",
   "execution_count": 13,
   "id": "b8f21236",
   "metadata": {
    "id": "af6b1a7e"
   },
   "outputs": [],
   "source": [
    "#for unun in unique_income_type:\n",
    "#    data.loc[data['income_type']==unun,'days_employed'] = data['days_employed'].fillna(income_type_median_days[unun])\n",
    "\n",
    "\n",
    "data['days_employed'].fillna(data.groupby('income_type')['days_employed'].transform('median'), inplace=True)"
   ]
  },
  {
   "cell_type": "markdown",
   "id": "1cf9469f",
   "metadata": {
    "deletable": false,
    "editable": false,
    "id": "2753f40d",
    "tags": [
     "start_task"
    ]
   },
   "source": [
    "**Задание 12. Убедитесь, что все пропуски заполнены. Проверьте себя и ещё раз выведите количество пропущенных значений для каждого столбца с помощью двух методов.**"
   ]
  },
  {
   "cell_type": "code",
   "execution_count": 14,
   "id": "56619e5b",
   "metadata": {
    "id": "55f78bc2"
   },
   "outputs": [
    {
     "name": "stdout",
     "output_type": "stream",
     "text": [
      "children            0\n",
      "days_employed       0\n",
      "dob_years           0\n",
      "education           0\n",
      "education_id        0\n",
      "family_status       0\n",
      "family_status_id    0\n",
      "gender              0\n",
      "income_type         0\n",
      "debt                0\n",
      "total_income        0\n",
      "purpose             0\n",
      "dtype: int64\n"
     ]
    }
   ],
   "source": [
    "print(data.isna().sum())"
   ]
  },
  {
   "cell_type": "markdown",
   "id": "1d320b99",
   "metadata": {
    "deletable": false,
    "editable": false,
    "id": "ddc81e43"
   },
   "source": [
    "### Изменение типов данных"
   ]
  },
  {
   "cell_type": "markdown",
   "id": "0b5e9be4",
   "metadata": {
    "deletable": false,
    "editable": false,
    "id": "42d19d24",
    "tags": [
     "start_task"
    ]
   },
   "source": [
    "**Задание 13. Замените вещественный тип данных в столбце `total_income` на целочисленный с помощью метода `astype()`.**"
   ]
  },
  {
   "cell_type": "code",
   "execution_count": 15,
   "id": "0cb33fa7",
   "metadata": {
    "id": "920b65ad"
   },
   "outputs": [],
   "source": [
    "data['total_income'] = data['total_income'].astype('int')"
   ]
  },
  {
   "cell_type": "markdown",
   "id": "fa8882f3",
   "metadata": {
    "deletable": false,
    "editable": false,
    "id": "80c420ba"
   },
   "source": [
    "### Обработка дубликатов"
   ]
  },
  {
   "cell_type": "markdown",
   "id": "49e074de",
   "metadata": {
    "deletable": false,
    "editable": false,
    "id": "dc587695",
    "tags": [
     "start_task"
    ]
   },
   "source": [
    "**Задание 14. Выведите на экран количество строк-дубликатов в данных. Если такие строки присутствуют, удалите их.**"
   ]
  },
  {
   "cell_type": "code",
   "execution_count": 16,
   "id": "3fb7a886",
   "metadata": {
    "id": "3ee445e4"
   },
   "outputs": [
    {
     "name": "stdout",
     "output_type": "stream",
     "text": [
      "54\n"
     ]
    }
   ],
   "source": [
    "print(data.duplicated().sum())"
   ]
  },
  {
   "cell_type": "code",
   "execution_count": 17,
   "id": "a408d961",
   "metadata": {
    "id": "8575fe05"
   },
   "outputs": [],
   "source": [
    "data = data.drop_duplicates()"
   ]
  },
  {
   "cell_type": "markdown",
   "id": "cf2a0ebe",
   "metadata": {
    "deletable": false,
    "editable": false,
    "id": "9771a76c",
    "tags": [
     "start_task"
    ]
   },
   "source": [
    "**Задание 15. Обработайте неявные дубликаты в столбце `education`. В этом столбце есть одни и те же значения, но записанные по-разному: с использованием заглавных и строчных букв. Приведите их к нижнему регистру. Проверьте остальные столбцы.**"
   ]
  },
  {
   "cell_type": "code",
   "execution_count": 18,
   "id": "14c71d9b",
   "metadata": {
    "id": "a9f8e2bf"
   },
   "outputs": [],
   "source": [
    "data['education'] = data['education'].str.lower()"
   ]
  },
  {
   "cell_type": "markdown",
   "id": "e60f895a",
   "metadata": {
    "deletable": false,
    "editable": false,
    "id": "9904cf55"
   },
   "source": [
    "### Категоризация данных"
   ]
  },
  {
   "cell_type": "markdown",
   "id": "9dbafb73",
   "metadata": {
    "deletable": false,
    "editable": false,
    "id": "72fcc8a2",
    "tags": [
     "start_task"
    ]
   },
   "source": [
    "**Задание 16. На основании диапазонов, указанных ниже, создайте в датафрейме `data` столбец `total_income_category` с категориями:**\n",
    "\n",
    "- 0–30000 — `'E'`;\n",
    "- 30001–50000 — `'D'`;\n",
    "- 50001–200000 — `'C'`;\n",
    "- 200001–1000000 — `'B'`;\n",
    "- 1000001 и выше — `'A'`.\n",
    "\n",
    "\n",
    "**Например, кредитополучателю с доходом 25000 нужно назначить категорию `'E'`, а клиенту, получающему 235000, — `'B'`. Используйте собственную функцию с именем `categorize_income()` и метод `apply()`.**"
   ]
  },
  {
   "cell_type": "code",
   "execution_count": 19,
   "id": "8e97fdfd",
   "metadata": {
    "id": "e1771346"
   },
   "outputs": [],
   "source": [
    "def categorize_income(income):\n",
    "    if income >= 1000001:\n",
    "        return 'A'\n",
    "    if income <= 1000000 and income >= 200001:\n",
    "        return 'B'\n",
    "    if income <= 200000 and income >= 50001:\n",
    "        return 'C'\n",
    "    if income <= 50000 and income>=30001:\n",
    "        return 'D'\n",
    "    return 'E'\n",
    "    \n"
   ]
  },
  {
   "cell_type": "code",
   "execution_count": 20,
   "id": "4f97aef4",
   "metadata": {
    "id": "d5f3586d"
   },
   "outputs": [],
   "source": [
    "data['total_income_category'] = data['total_income'].apply(categorize_income)"
   ]
  },
  {
   "cell_type": "markdown",
   "id": "3691ac5e",
   "metadata": {
    "deletable": false,
    "editable": false,
    "id": "dde49b5c",
    "tags": [
     "start_task"
    ]
   },
   "source": [
    "**Задание 17. Выведите на экран перечень уникальных целей взятия кредита из столбца `purpose`.**"
   ]
  },
  {
   "cell_type": "code",
   "execution_count": 21,
   "id": "ae13f903",
   "metadata": {
    "id": "f67ce9b3"
   },
   "outputs": [
    {
     "name": "stdout",
     "output_type": "stream",
     "text": [
      "['покупка жилья' 'приобретение автомобиля' 'дополнительное образование'\n",
      " 'сыграть свадьбу' 'операции с жильем' 'образование'\n",
      " 'на проведение свадьбы' 'покупка жилья для семьи' 'покупка недвижимости'\n",
      " 'покупка коммерческой недвижимости' 'покупка жилой недвижимости'\n",
      " 'строительство собственной недвижимости' 'недвижимость'\n",
      " 'строительство недвижимости' 'на покупку подержанного автомобиля'\n",
      " 'на покупку своего автомобиля' 'операции с коммерческой недвижимостью'\n",
      " 'строительство жилой недвижимости' 'жилье'\n",
      " 'операции со своей недвижимостью' 'автомобили' 'заняться образованием'\n",
      " 'сделка с подержанным автомобилем' 'получение образования' 'автомобиль'\n",
      " 'свадьба' 'получение дополнительного образования' 'покупка своего жилья'\n",
      " 'операции с недвижимостью' 'получение высшего образования'\n",
      " 'свой автомобиль' 'сделка с автомобилем' 'профильное образование'\n",
      " 'высшее образование' 'покупка жилья для сдачи' 'на покупку автомобиля'\n",
      " 'ремонт жилью' 'заняться высшим образованием']\n"
     ]
    }
   ],
   "source": [
    "print(data['purpose'].unique())"
   ]
  },
  {
   "cell_type": "markdown",
   "id": "a0ec8042",
   "metadata": {
    "deletable": false,
    "editable": false,
    "id": "85d0aef0",
    "tags": [
     "start_task"
    ]
   },
   "source": [
    "**Задание 18. Создайте функцию, которая на основании данных из столбца `purpose` сформирует новый столбец `purpose_category`, в который войдут следующие категории:**\n",
    "\n",
    "- `'операции с автомобилем'`,\n",
    "- `'операции с недвижимостью'`,\n",
    "- `'проведение свадьбы'`,\n",
    "- `'получение образования'`.\n",
    "\n",
    "**Например, если в столбце `purpose` находится подстрока `'на покупку автомобиля'`, то в столбце `purpose_category` должна появиться строка `'операции с автомобилем'`.**\n",
    "\n",
    "**Используйте собственную функцию с именем `categorize_purpose()` и метод `apply()`. Изучите данные в столбце `purpose` и определите, какие подстроки помогут вам правильно определить категорию.**"
   ]
  },
  {
   "cell_type": "code",
   "execution_count": 26,
   "id": "65e0a342",
   "metadata": {
    "id": "e149fab4"
   },
   "outputs": [],
   "source": [
    "def categorize_purpose(purpose):\n",
    "    if 'жил' in purpose or 'недвиж' in purpose:\n",
    "        return 'операции с недвижимостью'\n",
    "    if 'авто' in purpose:\n",
    "        return 'операции с автомобилем'\n",
    "    if 'образ' in purpose:\n",
    "        return 'получение образования'\n",
    "    if 'свадь'in purpose:\n",
    "        return 'проведение свадьбы'"
   ]
  },
  {
   "cell_type": "code",
   "execution_count": 27,
   "id": "133e4fa0",
   "metadata": {
    "id": "bf36e69b"
   },
   "outputs": [],
   "source": [
    "data['purpose_category'] = data['purpose'].apply(categorize_purpose)\n",
    "#data.head()"
   ]
  },
  {
   "cell_type": "code",
   "execution_count": 28,
   "id": "31d8e275",
   "metadata": {},
   "outputs": [
    {
     "data": {
      "text/html": [
       "<div>\n",
       "<style scoped>\n",
       "    .dataframe tbody tr th:only-of-type {\n",
       "        vertical-align: middle;\n",
       "    }\n",
       "\n",
       "    .dataframe tbody tr th {\n",
       "        vertical-align: top;\n",
       "    }\n",
       "\n",
       "    .dataframe thead th {\n",
       "        text-align: right;\n",
       "    }\n",
       "</style>\n",
       "<table border=\"1\" class=\"dataframe\">\n",
       "  <thead>\n",
       "    <tr style=\"text-align: right;\">\n",
       "      <th></th>\n",
       "      <th>children</th>\n",
       "      <th>days_employed</th>\n",
       "      <th>dob_years</th>\n",
       "      <th>education</th>\n",
       "      <th>education_id</th>\n",
       "      <th>family_status</th>\n",
       "      <th>family_status_id</th>\n",
       "      <th>gender</th>\n",
       "      <th>income_type</th>\n",
       "      <th>debt</th>\n",
       "      <th>total_income</th>\n",
       "      <th>purpose</th>\n",
       "      <th>total_income_category</th>\n",
       "      <th>purpose_category</th>\n",
       "    </tr>\n",
       "  </thead>\n",
       "  <tbody>\n",
       "    <tr>\n",
       "      <th>0</th>\n",
       "      <td>1</td>\n",
       "      <td>8437.673028</td>\n",
       "      <td>42</td>\n",
       "      <td>высшее</td>\n",
       "      <td>0</td>\n",
       "      <td>женат / замужем</td>\n",
       "      <td>0</td>\n",
       "      <td>F</td>\n",
       "      <td>сотрудник</td>\n",
       "      <td>0</td>\n",
       "      <td>253875</td>\n",
       "      <td>покупка жилья</td>\n",
       "      <td>B</td>\n",
       "      <td>операции с недвижимостью</td>\n",
       "    </tr>\n",
       "    <tr>\n",
       "      <th>1</th>\n",
       "      <td>1</td>\n",
       "      <td>4024.803754</td>\n",
       "      <td>36</td>\n",
       "      <td>среднее</td>\n",
       "      <td>1</td>\n",
       "      <td>женат / замужем</td>\n",
       "      <td>0</td>\n",
       "      <td>F</td>\n",
       "      <td>сотрудник</td>\n",
       "      <td>0</td>\n",
       "      <td>112080</td>\n",
       "      <td>приобретение автомобиля</td>\n",
       "      <td>C</td>\n",
       "      <td>операции с автомобилем</td>\n",
       "    </tr>\n",
       "    <tr>\n",
       "      <th>2</th>\n",
       "      <td>0</td>\n",
       "      <td>5623.422610</td>\n",
       "      <td>33</td>\n",
       "      <td>среднее</td>\n",
       "      <td>1</td>\n",
       "      <td>женат / замужем</td>\n",
       "      <td>0</td>\n",
       "      <td>M</td>\n",
       "      <td>сотрудник</td>\n",
       "      <td>0</td>\n",
       "      <td>145885</td>\n",
       "      <td>покупка жилья</td>\n",
       "      <td>C</td>\n",
       "      <td>операции с недвижимостью</td>\n",
       "    </tr>\n",
       "    <tr>\n",
       "      <th>3</th>\n",
       "      <td>3</td>\n",
       "      <td>4124.747207</td>\n",
       "      <td>32</td>\n",
       "      <td>среднее</td>\n",
       "      <td>1</td>\n",
       "      <td>женат / замужем</td>\n",
       "      <td>0</td>\n",
       "      <td>M</td>\n",
       "      <td>сотрудник</td>\n",
       "      <td>0</td>\n",
       "      <td>267628</td>\n",
       "      <td>дополнительное образование</td>\n",
       "      <td>B</td>\n",
       "      <td>получение образования</td>\n",
       "    </tr>\n",
       "    <tr>\n",
       "      <th>4</th>\n",
       "      <td>0</td>\n",
       "      <td>340266.072047</td>\n",
       "      <td>53</td>\n",
       "      <td>среднее</td>\n",
       "      <td>1</td>\n",
       "      <td>гражданский брак</td>\n",
       "      <td>1</td>\n",
       "      <td>F</td>\n",
       "      <td>пенсионер</td>\n",
       "      <td>0</td>\n",
       "      <td>158616</td>\n",
       "      <td>сыграть свадьбу</td>\n",
       "      <td>C</td>\n",
       "      <td>проведение свадьбы</td>\n",
       "    </tr>\n",
       "  </tbody>\n",
       "</table>\n",
       "</div>"
      ],
      "text/plain": [
       "   children  days_employed  dob_years education  education_id  \\\n",
       "0         1    8437.673028         42    высшее             0   \n",
       "1         1    4024.803754         36   среднее             1   \n",
       "2         0    5623.422610         33   среднее             1   \n",
       "3         3    4124.747207         32   среднее             1   \n",
       "4         0  340266.072047         53   среднее             1   \n",
       "\n",
       "      family_status  family_status_id gender income_type  debt  total_income  \\\n",
       "0   женат / замужем                 0      F   сотрудник     0        253875   \n",
       "1   женат / замужем                 0      F   сотрудник     0        112080   \n",
       "2   женат / замужем                 0      M   сотрудник     0        145885   \n",
       "3   женат / замужем                 0      M   сотрудник     0        267628   \n",
       "4  гражданский брак                 1      F   пенсионер     0        158616   \n",
       "\n",
       "                      purpose total_income_category          purpose_category  \n",
       "0               покупка жилья                     B  операции с недвижимостью  \n",
       "1     приобретение автомобиля                     C    операции с автомобилем  \n",
       "2               покупка жилья                     C  операции с недвижимостью  \n",
       "3  дополнительное образование                     B     получение образования  \n",
       "4             сыграть свадьбу                     C        проведение свадьбы  "
      ]
     },
     "execution_count": 28,
     "metadata": {},
     "output_type": "execute_result"
    }
   ],
   "source": [
    "data.head()"
   ]
  }
 ],
 "metadata": {
  "ExecuteTimeLog": [
   {
    "duration": 420,
    "start_time": "2022-06-29T16:33:53.312Z"
   },
   {
    "duration": 99,
    "start_time": "2022-06-29T16:33:56.222Z"
   },
   {
    "duration": 10,
    "start_time": "2022-06-29T16:34:31.151Z"
   },
   {
    "duration": 16,
    "start_time": "2022-06-29T16:35:53.264Z"
   },
   {
    "duration": 4,
    "start_time": "2022-06-29T16:38:39.047Z"
   },
   {
    "duration": 21,
    "start_time": "2022-06-29T16:39:36.850Z"
   },
   {
    "duration": 11,
    "start_time": "2022-06-29T16:39:59.774Z"
   },
   {
    "duration": 1151,
    "start_time": "2022-06-29T16:41:36.261Z"
   },
   {
    "duration": 12,
    "start_time": "2022-06-29T16:44:19.951Z"
   },
   {
    "duration": 12,
    "start_time": "2022-06-29T16:46:24.308Z"
   },
   {
    "duration": 10,
    "start_time": "2022-06-29T16:48:01.903Z"
   },
   {
    "duration": 13,
    "start_time": "2022-06-29T17:02:06.647Z"
   },
   {
    "duration": 8,
    "start_time": "2022-06-29T17:02:35.110Z"
   },
   {
    "duration": 7,
    "start_time": "2022-06-29T17:07:37.430Z"
   },
   {
    "duration": 8,
    "start_time": "2022-06-29T17:07:53.180Z"
   },
   {
    "duration": 8,
    "start_time": "2022-06-29T17:13:44.507Z"
   },
   {
    "duration": 7,
    "start_time": "2022-06-29T17:13:57.481Z"
   },
   {
    "duration": 30,
    "start_time": "2022-06-29T17:17:11.761Z"
   },
   {
    "duration": 27,
    "start_time": "2022-06-29T17:20:58.321Z"
   },
   {
    "duration": 4,
    "start_time": "2022-06-29T17:23:35.531Z"
   },
   {
    "duration": 6,
    "start_time": "2022-06-29T17:25:21.483Z"
   },
   {
    "duration": 13,
    "start_time": "2022-06-29T17:27:26.267Z"
   },
   {
    "duration": 4,
    "start_time": "2022-06-29T17:28:42.373Z"
   },
   {
    "duration": 10,
    "start_time": "2022-06-29T17:33:44.167Z"
   },
   {
    "duration": 1584,
    "start_time": "2022-06-29T17:35:22.701Z"
   },
   {
    "duration": 953,
    "start_time": "2022-06-29T17:35:56.764Z"
   },
   {
    "duration": 1338,
    "start_time": "2022-06-29T17:36:41.836Z"
   },
   {
    "duration": 1297,
    "start_time": "2022-06-29T17:40:23.379Z"
   },
   {
    "duration": 422,
    "start_time": "2022-06-29T17:41:29.838Z"
   },
   {
    "duration": 60,
    "start_time": "2022-06-29T17:41:32.294Z"
   },
   {
    "duration": 12,
    "start_time": "2022-06-29T17:41:35.148Z"
   },
   {
    "duration": 25,
    "start_time": "2022-06-29T17:41:38.959Z"
   },
   {
    "duration": 10,
    "start_time": "2022-06-29T17:41:41.830Z"
   },
   {
    "duration": 36,
    "start_time": "2022-06-29T17:41:45.257Z"
   },
   {
    "duration": 4,
    "start_time": "2022-06-29T17:41:47.886Z"
   },
   {
    "duration": 14,
    "start_time": "2022-06-29T17:41:51.727Z"
   },
   {
    "duration": 5,
    "start_time": "2022-06-29T17:41:56.312Z"
   },
   {
    "duration": 9,
    "start_time": "2022-06-29T17:42:08.307Z"
   },
   {
    "duration": 5,
    "start_time": "2022-06-29T17:42:33.117Z"
   },
   {
    "duration": 22,
    "start_time": "2022-06-29T17:45:03.790Z"
   },
   {
    "duration": 71,
    "start_time": "2022-06-29T17:46:40.250Z"
   },
   {
    "duration": 25,
    "start_time": "2022-06-29T17:46:53.366Z"
   },
   {
    "duration": 8,
    "start_time": "2022-06-29T17:47:20.821Z"
   },
   {
    "duration": 9,
    "start_time": "2022-06-29T17:48:32.737Z"
   },
   {
    "duration": 71,
    "start_time": "2022-06-29T17:48:36.901Z"
   },
   {
    "duration": 8,
    "start_time": "2022-06-29T17:49:59.388Z"
   },
   {
    "duration": 404,
    "start_time": "2022-06-29T17:50:24.986Z"
   },
   {
    "duration": 62,
    "start_time": "2022-06-29T17:50:27.427Z"
   },
   {
    "duration": 10,
    "start_time": "2022-06-29T17:50:29.014Z"
   },
   {
    "duration": 15,
    "start_time": "2022-06-29T17:50:32.116Z"
   },
   {
    "duration": 9,
    "start_time": "2022-06-29T17:50:33.999Z"
   },
   {
    "duration": 32,
    "start_time": "2022-06-29T17:50:37.048Z"
   },
   {
    "duration": 4,
    "start_time": "2022-06-29T17:50:39.523Z"
   },
   {
    "duration": 13,
    "start_time": "2022-06-29T17:50:40.869Z"
   },
   {
    "duration": 3,
    "start_time": "2022-06-29T17:50:43.600Z"
   },
   {
    "duration": 8,
    "start_time": "2022-06-29T17:50:45.716Z"
   },
   {
    "duration": 5,
    "start_time": "2022-06-29T17:50:48.364Z"
   },
   {
    "duration": 7,
    "start_time": "2022-06-29T17:51:14.015Z"
   },
   {
    "duration": 48,
    "start_time": "2022-06-30T08:35:59.526Z"
   },
   {
    "duration": 339,
    "start_time": "2022-06-30T08:36:05.025Z"
   },
   {
    "duration": 104,
    "start_time": "2022-06-30T08:36:07.106Z"
   },
   {
    "duration": 11,
    "start_time": "2022-06-30T08:36:09.691Z"
   },
   {
    "duration": 14,
    "start_time": "2022-06-30T08:36:13.528Z"
   },
   {
    "duration": 9,
    "start_time": "2022-06-30T08:36:16.488Z"
   },
   {
    "duration": 25,
    "start_time": "2022-06-30T08:36:19.861Z"
   },
   {
    "duration": 3,
    "start_time": "2022-06-30T08:36:22.590Z"
   },
   {
    "duration": 14,
    "start_time": "2022-06-30T08:36:26.171Z"
   },
   {
    "duration": 4,
    "start_time": "2022-06-30T08:36:31.726Z"
   },
   {
    "duration": 9,
    "start_time": "2022-06-30T08:36:34.509Z"
   },
   {
    "duration": 5,
    "start_time": "2022-06-30T08:36:37.426Z"
   },
   {
    "duration": 8,
    "start_time": "2022-06-30T08:36:42.061Z"
   },
   {
    "duration": 9,
    "start_time": "2022-06-30T08:36:44.761Z"
   },
   {
    "duration": 34,
    "start_time": "2022-06-30T08:37:07.965Z"
   },
   {
    "duration": 37,
    "start_time": "2022-06-30T08:38:43.285Z"
   },
   {
    "duration": 10,
    "start_time": "2022-06-30T08:38:46.386Z"
   },
   {
    "duration": 12,
    "start_time": "2022-06-30T08:41:28.480Z"
   },
   {
    "duration": 86,
    "start_time": "2022-06-30T08:41:38.206Z"
   },
   {
    "duration": 4,
    "start_time": "2022-06-30T08:41:48.458Z"
   },
   {
    "duration": 790,
    "start_time": "2022-06-30T08:41:53.681Z"
   },
   {
    "duration": 392,
    "start_time": "2022-06-30T08:42:08.149Z"
   },
   {
    "duration": 59,
    "start_time": "2022-06-30T08:42:10.595Z"
   },
   {
    "duration": 10,
    "start_time": "2022-06-30T08:42:12.594Z"
   },
   {
    "duration": 14,
    "start_time": "2022-06-30T08:42:16.129Z"
   },
   {
    "duration": 8,
    "start_time": "2022-06-30T08:42:18.295Z"
   },
   {
    "duration": 24,
    "start_time": "2022-06-30T08:42:21.470Z"
   },
   {
    "duration": 4,
    "start_time": "2022-06-30T08:42:23.584Z"
   },
   {
    "duration": 14,
    "start_time": "2022-06-30T08:42:25.165Z"
   },
   {
    "duration": 4,
    "start_time": "2022-06-30T08:42:27.179Z"
   },
   {
    "duration": 8,
    "start_time": "2022-06-30T08:42:28.519Z"
   },
   {
    "duration": 4,
    "start_time": "2022-06-30T08:42:30.099Z"
   },
   {
    "duration": 6,
    "start_time": "2022-06-30T08:42:34.059Z"
   },
   {
    "duration": 8,
    "start_time": "2022-06-30T08:42:37.782Z"
   },
   {
    "duration": 945,
    "start_time": "2022-06-30T08:45:13.794Z"
   },
   {
    "duration": 13,
    "start_time": "2022-06-30T08:45:22.439Z"
   },
   {
    "duration": 4,
    "start_time": "2022-06-30T08:45:27.095Z"
   },
   {
    "duration": 22,
    "start_time": "2022-06-30T08:45:53.926Z"
   },
   {
    "duration": 32,
    "start_time": "2022-06-30T08:46:28.167Z"
   },
   {
    "duration": 17,
    "start_time": "2022-06-30T08:47:25.845Z"
   },
   {
    "duration": 33,
    "start_time": "2022-06-30T08:48:36.630Z"
   },
   {
    "duration": 18,
    "start_time": "2022-06-30T08:49:16.159Z"
   },
   {
    "duration": 18,
    "start_time": "2022-06-30T08:49:30.745Z"
   },
   {
    "duration": 12,
    "start_time": "2022-06-30T08:53:48.274Z"
   },
   {
    "duration": 3,
    "start_time": "2022-06-30T09:14:14.429Z"
   },
   {
    "duration": 8,
    "start_time": "2022-06-30T09:14:18.045Z"
   },
   {
    "duration": 5,
    "start_time": "2022-06-30T09:15:23.423Z"
   },
   {
    "duration": 3,
    "start_time": "2022-06-30T09:28:51.680Z"
   },
   {
    "duration": 98,
    "start_time": "2022-06-30T09:28:54.579Z"
   },
   {
    "duration": 107,
    "start_time": "2022-06-30T09:30:17.910Z"
   },
   {
    "duration": 3,
    "start_time": "2022-06-30T09:30:51.427Z"
   },
   {
    "duration": 120,
    "start_time": "2022-06-30T09:30:53.845Z"
   },
   {
    "duration": 3,
    "start_time": "2022-06-30T09:36:02.986Z"
   },
   {
    "duration": 17,
    "start_time": "2022-06-30T09:36:06.041Z"
   },
   {
    "duration": 379,
    "start_time": "2022-06-30T09:36:58.908Z"
   },
   {
    "duration": 60,
    "start_time": "2022-06-30T09:36:59.289Z"
   },
   {
    "duration": 10,
    "start_time": "2022-06-30T09:36:59.351Z"
   },
   {
    "duration": 17,
    "start_time": "2022-06-30T09:36:59.363Z"
   },
   {
    "duration": 9,
    "start_time": "2022-06-30T09:36:59.382Z"
   },
   {
    "duration": 27,
    "start_time": "2022-06-30T09:36:59.393Z"
   },
   {
    "duration": 3,
    "start_time": "2022-06-30T09:36:59.422Z"
   },
   {
    "duration": 23,
    "start_time": "2022-06-30T09:36:59.427Z"
   },
   {
    "duration": 4,
    "start_time": "2022-06-30T09:36:59.468Z"
   },
   {
    "duration": 9,
    "start_time": "2022-06-30T09:36:59.474Z"
   },
   {
    "duration": 9,
    "start_time": "2022-06-30T09:36:59.484Z"
   },
   {
    "duration": 8,
    "start_time": "2022-06-30T09:36:59.494Z"
   },
   {
    "duration": 9,
    "start_time": "2022-06-30T09:36:59.504Z"
   },
   {
    "duration": 7,
    "start_time": "2022-06-30T09:36:59.515Z"
   },
   {
    "duration": 20,
    "start_time": "2022-06-30T09:36:59.523Z"
   },
   {
    "duration": 22,
    "start_time": "2022-06-30T09:36:59.567Z"
   },
   {
    "duration": 11,
    "start_time": "2022-06-30T09:36:59.591Z"
   },
   {
    "duration": 9,
    "start_time": "2022-06-30T09:36:59.603Z"
   },
   {
    "duration": 10,
    "start_time": "2022-06-30T09:36:59.614Z"
   },
   {
    "duration": 7,
    "start_time": "2022-06-30T09:36:59.626Z"
   },
   {
    "duration": 3,
    "start_time": "2022-06-30T09:36:59.635Z"
   },
   {
    "duration": 48,
    "start_time": "2022-06-30T09:36:59.640Z"
   },
   {
    "duration": 8,
    "start_time": "2022-06-30T09:37:12.291Z"
   },
   {
    "duration": 279,
    "start_time": "2022-06-30T09:37:38.386Z"
   },
   {
    "duration": 19,
    "start_time": "2022-06-30T09:37:46.885Z"
   },
   {
    "duration": 128,
    "start_time": "2022-06-30T09:39:36.573Z"
   },
   {
    "duration": 136,
    "start_time": "2022-06-30T09:40:19.475Z"
   },
   {
    "duration": 185,
    "start_time": "2022-06-30T09:40:43.213Z"
   },
   {
    "duration": 216,
    "start_time": "2022-06-30T09:41:06.779Z"
   },
   {
    "duration": 46,
    "start_time": "2022-06-30T10:09:48.653Z"
   },
   {
    "duration": 376,
    "start_time": "2022-06-30T10:09:56.383Z"
   },
   {
    "duration": 60,
    "start_time": "2022-06-30T10:09:59.608Z"
   },
   {
    "duration": 11,
    "start_time": "2022-06-30T10:10:02.344Z"
   },
   {
    "duration": 15,
    "start_time": "2022-06-30T10:10:05.014Z"
   },
   {
    "duration": 12,
    "start_time": "2022-06-30T10:10:06.853Z"
   },
   {
    "duration": 34,
    "start_time": "2022-06-30T10:10:08.795Z"
   },
   {
    "duration": 4,
    "start_time": "2022-06-30T10:10:11.073Z"
   },
   {
    "duration": 16,
    "start_time": "2022-06-30T10:10:12.211Z"
   },
   {
    "duration": 3,
    "start_time": "2022-06-30T10:10:13.722Z"
   },
   {
    "duration": 9,
    "start_time": "2022-06-30T10:10:14.651Z"
   },
   {
    "duration": 4,
    "start_time": "2022-06-30T10:10:16.117Z"
   },
   {
    "duration": 6,
    "start_time": "2022-06-30T10:10:17.467Z"
   },
   {
    "duration": 8,
    "start_time": "2022-06-30T10:10:18.582Z"
   },
   {
    "duration": 4,
    "start_time": "2022-06-30T10:10:20.738Z"
   },
   {
    "duration": 17,
    "start_time": "2022-06-30T10:10:21.947Z"
   },
   {
    "duration": 20,
    "start_time": "2022-06-30T10:10:23.012Z"
   },
   {
    "duration": 12,
    "start_time": "2022-06-30T10:10:24.590Z"
   },
   {
    "duration": 4,
    "start_time": "2022-06-30T10:10:26.499Z"
   },
   {
    "duration": 9,
    "start_time": "2022-06-30T10:10:27.788Z"
   },
   {
    "duration": 6,
    "start_time": "2022-06-30T10:10:28.887Z"
   },
   {
    "duration": 3,
    "start_time": "2022-06-30T10:10:32.792Z"
   },
   {
    "duration": 800,
    "start_time": "2022-06-30T10:10:47.143Z"
   },
   {
    "duration": 11,
    "start_time": "2022-06-30T10:11:26.536Z"
   },
   {
    "duration": 24,
    "start_time": "2022-06-30T10:11:44.120Z"
   },
   {
    "duration": 6,
    "start_time": "2022-06-30T10:17:54.882Z"
   },
   {
    "duration": 9,
    "start_time": "2022-06-30T10:17:57.582Z"
   },
   {
    "duration": 14,
    "start_time": "2022-06-30T10:17:59.382Z"
   }
  ],
  "colab": {
   "name": "dpp_template_part1.ipynb",
   "provenance": []
  },
  "kernelspec": {
   "display_name": "Python 3 (ipykernel)",
   "language": "python",
   "name": "python3"
  },
  "language_info": {
   "codemirror_mode": {
    "name": "ipython",
    "version": 3
   },
   "file_extension": ".py",
   "mimetype": "text/x-python",
   "name": "python",
   "nbconvert_exporter": "python",
   "pygments_lexer": "ipython3",
   "version": "3.8.16"
  },
  "toc": {
   "base_numbering": 1,
   "nav_menu": {},
   "number_sections": true,
   "sideBar": true,
   "skip_h1_title": true,
   "title_cell": "Table of Contents",
   "title_sidebar": "Contents",
   "toc_cell": false,
   "toc_position": {},
   "toc_section_display": true,
   "toc_window_display": false
  }
 },
 "nbformat": 4,
 "nbformat_minor": 5
}
