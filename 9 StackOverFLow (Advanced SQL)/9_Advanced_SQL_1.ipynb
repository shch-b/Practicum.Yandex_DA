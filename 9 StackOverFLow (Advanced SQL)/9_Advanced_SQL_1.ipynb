{
 "cells": [
  {
   "cell_type": "code",
   "execution_count": null,
   "id": "a750fa75",
   "metadata": {},
   "outputs": [],
   "source": [
    "Таблица badges\n",
    "Хранит информацию о значках, которые присуждаются за разные достижения. Например, пользователь, правильно ответивший на большое количество вопросов про PostgreSQL, может получить значок postgresql. \n",
    "Поле\tОписание\n",
    "id\tИдентификатор значка, первичный ключ таблицы\n",
    "name\tНазвание значка\n",
    "user_id\tИдентификатор пользователя, которому присвоили значок, внешний ключ, отсылающий к таблице users\n",
    "creation_date\tДата присвоения значка\n",
    "\n",
    "Таблица post_types\n",
    "Содержит информацию о типе постов. Их может быть два:\n",
    "Question — пост с вопросом;\n",
    "Answer — пост с ответом.\n",
    "Поле\tОписание\n",
    "id\tИдентификатор поста, первичный ключ таблицы\n",
    "type\tТип поста\n",
    "\n",
    "Таблица posts\n",
    "Содержит информацию о постах.\n",
    "Поле\tОписание\n",
    "id\tИдентификатор поста, первичный ключ таблицы\n",
    "title\tЗаголовок поста\n",
    "creation_date\tДата создания поста\n",
    "favorites_count\tЧисло, которое показывает, сколько раз пост добавили в «Закладки»\n",
    "last_activity_date\tДата последнего действия в посте, например комментария\n",
    "last_edit_date\tДата последнего изменения поста\n",
    "user_id\tИдентификатор пользователя, который создал пост, внешний ключ к таблице users\n",
    "parent_id\tЕсли пост написали в ответ на другую публикацию, в это поле попадёт идентификатор поста с вопросом\n",
    "post_type_id\tИдентификатор типа поста, внешний ключ к таблице post_types\n",
    "score\tКоличество очков, которое набрал пост\n",
    "views_count\tКоличество просмотров\n",
    "\n",
    "Таблица users\n",
    "Содержит информацию о пользователях.\n",
    "Поле\tОписание\n",
    "id\tИдентификатор пользователя, первичный ключ таблицы\n",
    "creation_date\tДата регистрации пользователя\n",
    "display_name\tИмя пользователя\n",
    "last_access_date\tДата последнего входа\n",
    "location\tМестоположение\n",
    "reputation\tОчки репутации, которые получают за хорошие вопросы и полезные ответы\n",
    "views\tЧисло просмотров профиля пользователя\n",
    "\n",
    "Таблица vote_types\n",
    "Содержит информацию о типах голосов. Голос — это метка, которую пользователи ставят посту. Типов бывает несколько: \n",
    "UpMod — такую отметку получают посты с вопросами или ответами, которые пользователи посчитали уместными и полезными.\n",
    "DownMod — такую отметку получают посты, которые показались пользователям наименее полезными.\n",
    "Close — такую метку ставят опытные пользователи сервиса, если заданный вопрос нужно доработать или он вообще не подходит для платформы.\n",
    "Offensive — такую метку могут поставить, если пользователь ответил на вопрос в грубой и оскорбительной манере, например, указав на неопытность автора поста.\n",
    "Spam — такую метку ставят в случае, если пост пользователя выглядит откровенной рекламой.\n",
    "Поле\tОписание\n",
    "id\tИдентификатор типа голоса, первичный ключ\n",
    "name\tНазвание метки\n",
    "\n",
    "Таблица votes\n",
    "Содержит информацию о голосах за посты. \n",
    "Поле\tОписание\n",
    "id\tИдентификатор голоса, первичный ключ\n",
    "post_id\tИдентификатор поста, внешний ключ к таблице posts\n",
    "user_id\tИдентификатор пользователя, который поставил посту голос, внешний ключ к таблице users\n",
    "bounty_amount\tСумма вознаграждения, которое назначают, чтобы привлечь внимание к посту\n",
    "vote_type_id\tИдентификатор типа голоса, внешний ключ к таблице vote_types\n",
    "creation_date\tДата назначения голоса\n"
   ]
  },
  {
   "cell_type": "code",
   "execution_count": null,
   "id": "47706093",
   "metadata": {},
   "outputs": [],
   "source": [
    "1.\n",
    "Найдите количество вопросов, которые набрали больше 300 очков или как минимум 100 раз были добавлены в «Закладки»."
   ]
  },
  {
   "cell_type": "code",
   "execution_count": null,
   "id": "d575429d",
   "metadata": {},
   "outputs": [],
   "source": [
    "SELECT COUNT(id)\n",
    "FROM stackoverflow.posts\n",
    "WHERE post_type_id=1 \n",
    "   AND (score>300 OR favorites_count >= 100)\n",
    "GROUP BY post_type_id;"
   ]
  },
  {
   "cell_type": "code",
   "execution_count": null,
   "id": "288956d8",
   "metadata": {},
   "outputs": [],
   "source": [
    "2.\n",
    "Сколько в среднем в день задавали вопросов с 1 по 18 ноября 2008 включительно? Результат округлите до целого числа."
   ]
  },
  {
   "cell_type": "code",
   "execution_count": null,
   "id": "ee527f80",
   "metadata": {},
   "outputs": [],
   "source": [
    "SELECT ROUND(AVG(a.count),0)\n",
    "FROM (\n",
    "      SELECT COUNT(id),\n",
    "             creation_date::date\n",
    "      FROM stackoverflow.posts\n",
    "      WHERE post_type_id = 1\n",
    "      GROUP BY creation_date::date\n",
    "      HAVING creation_date::date BETWEEN '2008-11-01' AND '2008-11-18') AS a;\n",
    "\n",
    "\n",
    "--SELECT ROUND(AVG(a.cnt), 0)\n",
    "--FROM \n",
    "--    (SELECT DATE_TRUNC('day', creation_date)::date AS dt,\n",
    "--           COUNT(id) AS cnt\n",
    "--    FROM stackoverflow.posts\n",
    "--    WHERE post_type_id=1 \n",
    "--          AND creation_date BETWEEN '2008-11-01' AND '2008-11-18'\n",
    "--    GROUP BY creation_date) AS a;"
   ]
  },
  {
   "cell_type": "code",
   "execution_count": null,
   "id": "b12dd146",
   "metadata": {},
   "outputs": [],
   "source": [
    "3.\n",
    "Сколько пользователей получили значки сразу в день регистрации? Выведите количество уникальных пользователей."
   ]
  },
  {
   "cell_type": "code",
   "execution_count": null,
   "id": "86e1235d",
   "metadata": {},
   "outputs": [],
   "source": [
    "SELECT COUNT(DISTINCT (u.id))\n",
    "FROM stackoverflow.badges AS b\n",
    "JOIN stackoverflow.users AS u ON b.user_id = u.id\n",
    "WHERE b.creation_date::date = u.creation_date::date;"
   ]
  },
  {
   "cell_type": "code",
   "execution_count": null,
   "id": "c492f64b",
   "metadata": {},
   "outputs": [],
   "source": [
    "4.\n",
    "Сколько уникальных постов пользователя с именем Joel Coehoorn получили хотя бы один голос?"
   ]
  },
  {
   "cell_type": "code",
   "execution_count": null,
   "id": "7b67299b",
   "metadata": {},
   "outputs": [],
   "source": [
    "SELECT COUNT(a.id)\n",
    "FROM (\n",
    "     SELECT p.id\n",
    "     FROM stackoverflow.posts AS p\n",
    "     JOIN stackoverflow.votes AS v ON p.id = v.post_id\n",
    "     JOIN stackoverflow.users AS u ON p.user_id = u.id\n",
    "     WHERE u.display_name LIKE 'Joel Coehoorn'\n",
    "     GROUP BY p.id\n",
    "     HAVING COUNT(v.id)>=1) as a;"
   ]
  },
  {
   "cell_type": "code",
   "execution_count": null,
   "id": "7858c330",
   "metadata": {},
   "outputs": [],
   "source": [
    "5.\n",
    "Выгрузите все поля таблицы vote_types. Добавьте к таблице поле rank, в которое войдут номера записей в обратном порядке. Таблица должна быть отсортирована по полю id."
   ]
  },
  {
   "cell_type": "code",
   "execution_count": null,
   "id": "f037eba8",
   "metadata": {},
   "outputs": [],
   "source": [
    "SELECT *,\n",
    "       ROW_NUMBER() OVER(ORDER BY id DESC) AS rank\n",
    "FROM stackoverflow.vote_types\n",
    "ORDER BY id;"
   ]
  },
  {
   "cell_type": "code",
   "execution_count": null,
   "id": "51e09508",
   "metadata": {},
   "outputs": [],
   "source": [
    "6.\n",
    "Отберите 10 пользователей, которые поставили больше всего голосов типа Close. Отобразите таблицу из двух полей: идентификатором пользователя и количеством голосов. Отсортируйте данные сначала по убыванию количества голосов, потом по убыванию значения идентификатора пользователя."
   ]
  },
  {
   "cell_type": "code",
   "execution_count": null,
   "id": "fe4c79be",
   "metadata": {},
   "outputs": [],
   "source": [
    "WITH a AS\n",
    "      (SELECT v.user_id AS user_id,\n",
    "             COUNT(vt.id) AS cnt\n",
    "      FROM stackoverflow.votes AS v\n",
    "      JOIN stackoverflow.vote_types as vt ON vt.id = v.vote_type_id\n",
    "      WHERE vt.name LIKE 'Close'\n",
    "      GROUP BY v.user_id\n",
    "      ORDER BY cnt DESC\n",
    "      LIMIT 10) \n",
    "SELECT *\n",
    "FROM a\n",
    "ORDER BY a.cnt DESC, a.user_id DESC;"
   ]
  },
  {
   "cell_type": "code",
   "execution_count": null,
   "id": "2f227eed",
   "metadata": {},
   "outputs": [],
   "source": [
    "7.\n",
    "Отберите 10 пользователей по количеству значков, полученных в период с 15 ноября по 15 декабря 2008 года включительно.\n",
    "Отобразите несколько полей:\n",
    "идентификатор пользователя;\n",
    "число значков;\n",
    "место в рейтинге — чем больше значков, тем выше рейтинг.\n",
    "Пользователям, которые набрали одинаковое количество значков, присвойте одно и то же место в рейтинге.\n",
    "Отсортируйте записи по количеству значков по убыванию, а затем по возрастанию значения идентификатора пользователя."
   ]
  },
  {
   "cell_type": "code",
   "execution_count": null,
   "id": "ee165862",
   "metadata": {},
   "outputs": [],
   "source": [
    "SELECT user_id,\n",
    "       COUNT(id),\n",
    "       DENSE_RANK() OVER(ORDER BY COUNT(id) DESC) AS rank\n",
    "FROM stackoverflow.badges\n",
    "WHERE creation_date::date BETWEEN '2008-11-15' AND '2008-12-15'\n",
    "GROUP BY 1\n",
    "ORDER BY 2 DESC, 1\n",
    "LIMIT 10"
   ]
  },
  {
   "cell_type": "code",
   "execution_count": null,
   "id": "01f4e003",
   "metadata": {},
   "outputs": [],
   "source": [
    "8.\n",
    "Сколько в среднем очков получает пост каждого пользователя?\n",
    "Сформируйте таблицу из следующих полей:\n",
    "заголовок поста;\n",
    "идентификатор пользователя;\n",
    "число очков поста;\n",
    "среднее число очков пользователя за пост, округлённое до целого числа.\n",
    "Не учитывайте посты без заголовка, а также те, что набрали ноль очков."
   ]
  },
  {
   "cell_type": "code",
   "execution_count": null,
   "id": "28277759",
   "metadata": {},
   "outputs": [],
   "source": [
    "SELECT title,\n",
    "       user_id,\n",
    "       score,\n",
    "       ROUND(AVG(score) OVER(PARTITION BY user_id))\n",
    "FROM stackoverflow.posts\n",
    "WHERE score != 0 AND title != ''"
   ]
  },
  {
   "cell_type": "code",
   "execution_count": null,
   "id": "b25b7799",
   "metadata": {},
   "outputs": [],
   "source": [
    "9.\n",
    "Отобразите заголовки постов, которые были написаны пользователями, получившими более 1000 значков. Посты без заголовков не должны попасть в список."
   ]
  },
  {
   "cell_type": "code",
   "execution_count": null,
   "id": "0c952e8c",
   "metadata": {},
   "outputs": [],
   "source": [
    "WITH users AS\n",
    "     (SELECT DISTINCT u.id,\n",
    "            COUNT(b.id) AS cnt\n",
    "     FROM stackoverflow.users AS u\n",
    "     JOIN stackoverflow.badges AS b ON u.id = b.user_id\n",
    "     GROUP BY u.id),\n",
    "    posts AS\n",
    "    (SELECT user_id,\n",
    "            title\n",
    "    FROM stackoverflow.posts\n",
    "    WHERE title !='')\n",
    "SELECT p.title\n",
    "FROM posts AS p\n",
    "JOIN users AS u ON p.user_id = u.id\n",
    "WHERE cnt > 1000;"
   ]
  },
  {
   "cell_type": "code",
   "execution_count": null,
   "id": "5e99dd91",
   "metadata": {},
   "outputs": [],
   "source": [
    "10.\n",
    "Напишите запрос, который выгрузит данные о пользователях из Канады (англ. Canada). Разделите пользователей на три группы в зависимости от количества просмотров их профилей:\n",
    "пользователям с числом просмотров больше либо равным 350 присвойте группу 1;\n",
    "пользователям с числом просмотров меньше 350, но больше либо равно 100 — группу 2;\n",
    "пользователям с числом просмотров меньше 100 — группу 3.\n",
    "Отобразите в итоговой таблице идентификатор пользователя, количество просмотров профиля и группу. Пользователи с нулевым количеством просмотров не должны войти в итоговую таблицу."
   ]
  },
  {
   "cell_type": "code",
   "execution_count": null,
   "id": "48f9244c",
   "metadata": {},
   "outputs": [],
   "source": [
    "SELECT DISTINCT id,\n",
    "       views,\n",
    "       CASE\n",
    "           WHEN views >=350 THEN 1\n",
    "           WHEN views >=100 AND views < 350 THEN 2\n",
    "           WHEN views < 100 THEN 3\n",
    "       END\n",
    "FROM stackoverflow.users\n",
    "WHERE location LIKE '%Canada%' AND views != 0;"
   ]
  },
  {
   "cell_type": "code",
   "execution_count": null,
   "id": "212fbb3c",
   "metadata": {},
   "outputs": [],
   "source": [
    "11.\n",
    "Дополните предыдущий запрос. Отобразите лидеров каждой группы — пользователей, которые набрали максимальное число просмотров в своей группе. Выведите поля с идентификатором пользователя, группой и количеством просмотров. Отсортируйте таблицу по убыванию просмотров, а затем по возрастанию значения идентификатора."
   ]
  },
  {
   "cell_type": "code",
   "execution_count": null,
   "id": "60e71b22",
   "metadata": {},
   "outputs": [],
   "source": [
    "WITH users AS    \n",
    "    (SELECT DISTINCT id AS top_id,\n",
    "           views,\n",
    "           CASE\n",
    "               WHEN views >=350 THEN 1\n",
    "               WHEN views >=100 AND views < 350 THEN 2\n",
    "               WHEN views < 100 THEN 3\n",
    "           END AS grp\n",
    "    FROM stackoverflow.users\n",
    "    WHERE location LIKE '%Canada%' AND views != 0)\n",
    "SELECT top.top_id,\n",
    "       top.grp,\n",
    "       top.views\n",
    "FROM (\n",
    "    SELECT top_id,\n",
    "           grp,\n",
    "           views,\n",
    "           RANK() OVER(PARTITION BY grp ORDER BY views DESC)\n",
    "    FROM users\n",
    "    ORDER BY grp, views DESC) as top\n",
    "WHERE rank = 1\n",
    "ORDER BY 3 DESC, 1;"
   ]
  },
  {
   "cell_type": "code",
   "execution_count": null,
   "id": "7378eb41",
   "metadata": {},
   "outputs": [],
   "source": [
    "12.\n",
    "Посчитайте ежедневный прирост новых пользователей в ноябре 2008 года. Сформируйте таблицу с полями:\n",
    "номер дня;\n",
    "число пользователей, зарегистрированных в этот день;\n",
    "сумму пользователей с накоплением."
   ]
  },
  {
   "cell_type": "code",
   "execution_count": null,
   "id": "c870e6b9",
   "metadata": {},
   "outputs": [],
   "source": [
    "WITH days AS\n",
    "    (SELECT creation_date::date,\n",
    "           COUNT(DISTINCT id) AS user_cnt,\n",
    "           ROW_NUMBER() OVER() AS dnum\n",
    "    FROM stackoverflow.users\n",
    "    WHERE creation_date::date BETWEEN '2008-11-01' AND '2008-11-30'\n",
    "    GROUP BY creation_date::date\n",
    "    ORDER BY creation_date::date)\n",
    "SELECT dnum,\n",
    "       user_cnt,\n",
    "       SUM(user_cnt) OVER(ORDER BY creation_date ROWS BETWEEN UNBOUNDED PRECEDING AND CURRENT ROW)\n",
    "FROM days;"
   ]
  },
  {
   "cell_type": "code",
   "execution_count": null,
   "id": "0231305e",
   "metadata": {},
   "outputs": [],
   "source": [
    "13.\n",
    "Для каждого пользователя, который написал хотя бы один пост, найдите интервал между регистрацией и временем создания первого поста. Отобразите:\n",
    "идентификатор пользователя;\n",
    "разницу во времени между регистрацией и первым постом."
   ]
  },
  {
   "cell_type": "code",
   "execution_count": null,
   "id": "80db6033",
   "metadata": {},
   "outputs": [],
   "source": [
    "WITH up AS\n",
    "    (SELECT DISTINCT user_id,\n",
    "           MIN(creation_date)\n",
    "    FROM stackoverflow.posts\n",
    "    GROUP BY user_id)\n",
    "SELECT user_id,\n",
    "       min - ub AS diff\n",
    "FROM       \n",
    "    (SELECT user_id,\n",
    "           min,\n",
    "           u.creation_date AS ub\n",
    "    FROM up\n",
    "    JOIN stackoverflow.users AS u ON up.user_id = u.id) AS crt"
   ]
  }
 ],
 "metadata": {
  "kernelspec": {
   "display_name": "Python 3 (ipykernel)",
   "language": "python",
   "name": "python3"
  },
  "language_info": {
   "codemirror_mode": {
    "name": "ipython",
    "version": 3
   },
   "file_extension": ".py",
   "mimetype": "text/x-python",
   "name": "python",
   "nbconvert_exporter": "python",
   "pygments_lexer": "ipython3",
   "version": "3.8.16"
  }
 },
 "nbformat": 4,
 "nbformat_minor": 5
}
