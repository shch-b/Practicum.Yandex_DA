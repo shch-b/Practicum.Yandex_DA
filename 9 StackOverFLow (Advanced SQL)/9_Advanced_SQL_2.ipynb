{
 "cells": [
  {
   "cell_type": "code",
   "execution_count": null,
   "metadata": {},
   "outputs": [],
   "source": []
  },
  {
   "cell_type": "markdown",
   "metadata": {},
   "source": [
    "# Второе задание проекта по теме \"Продвинутый SQL\""
   ]
  },
  {
   "cell_type": "markdown",
   "metadata": {
    "id": "sRW85nPMDWKb"
   },
   "source": [
    "В этой части проекта вам нужно написать несколько SQL-запросов в Jupyter Notebook. Эти задания проверят вручную, и вы получите комментарии к составленным запросам. \n",
    "\n",
    "Необходимые данные находятся в таблицах схемы `stackoverflow`. Не забудьте подключиться к базе с помощью SQLAlchemy. Вспомните инструкцию из урока 11 «Когортный анализ. Представление результатов» в теме 4 «Установка и настройка базы данных и клиента базы данных».. Пример кода для подключения к базе и выгрузки результатов вы найдёте и в этой тетрадке. \n",
    "\n",
    "Некоторые задания включают дополнительные вопросы — не пропустите их. На часть вопросов можно ответить текстом, а для некоторых понадобится визуализация. Помните, что результат запроса можно выгрузить в датафрейм. \n",
    "\n",
    "Чтобы ожидаемый результат было легче представить, мы добавили к каждому заданию небольшой фрагмент итоговой таблицы. В запросах вы можете использовать любые подходящие названия полей."
   ]
  },
  {
   "cell_type": "code",
   "execution_count": 1,
   "metadata": {
    "id": "nlZBlglMDWKe"
   },
   "outputs": [],
   "source": [
    "import pandas as pd\n",
    "import matplotlib.pyplot as plt\n",
    "import seaborn as sns\n",
    "from sqlalchemy import create_engine "
   ]
  },
  {
   "cell_type": "markdown",
   "metadata": {
    "id": "XnOE3n28DWKg"
   },
   "source": [
    "# Конфигурация для подключения к базе данных `data-analyst-advanced-sql`\n",
    "Эта база данных содержит схему `stackoverflow`, с которой вы будете работать в проекте"
   ]
  },
  {
   "cell_type": "code",
   "execution_count": 2,
   "metadata": {
    "id": "6p-yGp7qDWKg"
   },
   "outputs": [],
   "source": [
    "db_config = {\n",
    "    'user': '????', # имя пользователя\n",
    "    'pwd': '??????', # пароль\n",
    "    'host': '??????????',\n",
    "    'port': ????, # порт подключения\n",
    "    'db': '?????' # название базы данных\n",
    "}  \n",
    "\n",
    "connection_string = 'postgresql://{}:{}@{}:{}/{}'.format(\n",
    "    db_config['user'],\n",
    "    db_config['pwd'],\n",
    "    db_config['host'],\n",
    "    db_config['port'],\n",
    "    db_config['db'],\n",
    ")"
   ]
  },
  {
   "cell_type": "markdown",
   "metadata": {
    "id": "2Rg8ZpS0DWKh"
   },
   "source": [
    "Создание подключения"
   ]
  },
  {
   "cell_type": "code",
   "execution_count": 3,
   "metadata": {
    "id": "DamCUTR6DWKi"
   },
   "outputs": [],
   "source": [
    "engine = create_engine(connection_string) "
   ]
  },
  {
   "cell_type": "markdown",
   "metadata": {
    "id": "bel8XeSlDWKj"
   },
   "source": [
    "Пример запроса к базе данных\n",
    "\n",
    "`sample_df` является pandas-датафреймом."
   ]
  },
  {
   "cell_type": "code",
   "execution_count": 4,
   "metadata": {
    "id": "6Z_fw0yLDWKk"
   },
   "outputs": [],
   "source": [
    "query = '''\n",
    "SELECT *\n",
    "FROM stackoverflow.users\n",
    "LIMIT 10;\n",
    "'''\n",
    "\n",
    "sample_df = pd.read_sql_query(query, con=engine) "
   ]
  },
  {
   "cell_type": "code",
   "execution_count": 5,
   "metadata": {
    "id": "ZpuZ290oDWKk",
    "outputId": "22785a0a-e2bc-4559-ec3c-4879c4b377eb"
   },
   "outputs": [
    {
     "data": {
      "text/html": [
       "<div>\n",
       "<style scoped>\n",
       "    .dataframe tbody tr th:only-of-type {\n",
       "        vertical-align: middle;\n",
       "    }\n",
       "\n",
       "    .dataframe tbody tr th {\n",
       "        vertical-align: top;\n",
       "    }\n",
       "\n",
       "    .dataframe thead th {\n",
       "        text-align: right;\n",
       "    }\n",
       "</style>\n",
       "<table border=\"1\" class=\"dataframe\">\n",
       "  <thead>\n",
       "    <tr style=\"text-align: right;\">\n",
       "      <th></th>\n",
       "      <th>id</th>\n",
       "      <th>creation_date</th>\n",
       "      <th>display_name</th>\n",
       "      <th>last_access_date</th>\n",
       "      <th>location</th>\n",
       "      <th>reputation</th>\n",
       "      <th>views</th>\n",
       "    </tr>\n",
       "  </thead>\n",
       "  <tbody>\n",
       "    <tr>\n",
       "      <th>0</th>\n",
       "      <td>1</td>\n",
       "      <td>2008-07-31 14:22:31</td>\n",
       "      <td>Jeff Atwood</td>\n",
       "      <td>2018-08-29 02:34:23</td>\n",
       "      <td>El Cerrito, CA</td>\n",
       "      <td>44300</td>\n",
       "      <td>408587</td>\n",
       "    </tr>\n",
       "    <tr>\n",
       "      <th>1</th>\n",
       "      <td>2</td>\n",
       "      <td>2008-07-31 14:22:31</td>\n",
       "      <td>Geoff Dalgas</td>\n",
       "      <td>2018-08-23 17:31:56</td>\n",
       "      <td>Corvallis, OR</td>\n",
       "      <td>3491</td>\n",
       "      <td>23966</td>\n",
       "    </tr>\n",
       "    <tr>\n",
       "      <th>2</th>\n",
       "      <td>3</td>\n",
       "      <td>2008-07-31 14:22:31</td>\n",
       "      <td>Jarrod Dixon</td>\n",
       "      <td>2018-08-30 20:56:24</td>\n",
       "      <td>Raleigh, NC, United States</td>\n",
       "      <td>13418</td>\n",
       "      <td>24396</td>\n",
       "    </tr>\n",
       "    <tr>\n",
       "      <th>3</th>\n",
       "      <td>4</td>\n",
       "      <td>2008-07-31 14:22:31</td>\n",
       "      <td>Joel Spolsky</td>\n",
       "      <td>2018-08-14 22:18:15</td>\n",
       "      <td>New York, NY</td>\n",
       "      <td>28768</td>\n",
       "      <td>73755</td>\n",
       "    </tr>\n",
       "    <tr>\n",
       "      <th>4</th>\n",
       "      <td>5</td>\n",
       "      <td>2008-07-31 14:22:31</td>\n",
       "      <td>Jon Galloway</td>\n",
       "      <td>2018-08-29 16:48:36</td>\n",
       "      <td>San Diego, CA</td>\n",
       "      <td>39172</td>\n",
       "      <td>11700</td>\n",
       "    </tr>\n",
       "    <tr>\n",
       "      <th>5</th>\n",
       "      <td>8</td>\n",
       "      <td>2008-07-31 21:33:24</td>\n",
       "      <td>Eggs McLaren</td>\n",
       "      <td>2018-04-09 02:04:56</td>\n",
       "      <td>None</td>\n",
       "      <td>942</td>\n",
       "      <td>6372</td>\n",
       "    </tr>\n",
       "    <tr>\n",
       "      <th>6</th>\n",
       "      <td>9</td>\n",
       "      <td>2008-07-31 21:35:27</td>\n",
       "      <td>Kevin Dente</td>\n",
       "      <td>2018-08-30 18:18:03</td>\n",
       "      <td>Oakland, CA</td>\n",
       "      <td>14337</td>\n",
       "      <td>4949</td>\n",
       "    </tr>\n",
       "    <tr>\n",
       "      <th>7</th>\n",
       "      <td>11</td>\n",
       "      <td>2008-08-01 00:59:11</td>\n",
       "      <td>Anonymous User</td>\n",
       "      <td>2008-08-01 00:59:11</td>\n",
       "      <td>None</td>\n",
       "      <td>1890</td>\n",
       "      <td>2123</td>\n",
       "    </tr>\n",
       "    <tr>\n",
       "      <th>8</th>\n",
       "      <td>13</td>\n",
       "      <td>2008-08-01 04:18:05</td>\n",
       "      <td>Chris Jester-Young</td>\n",
       "      <td>2018-08-30 02:47:23</td>\n",
       "      <td>Raleigh, NC, United States</td>\n",
       "      <td>177138</td>\n",
       "      <td>35414</td>\n",
       "    </tr>\n",
       "    <tr>\n",
       "      <th>9</th>\n",
       "      <td>17</td>\n",
       "      <td>2008-08-01 12:02:22</td>\n",
       "      <td>Nick Berardi</td>\n",
       "      <td>2018-01-22 01:35:38</td>\n",
       "      <td>Issaquah, WA</td>\n",
       "      <td>44443</td>\n",
       "      <td>4786</td>\n",
       "    </tr>\n",
       "  </tbody>\n",
       "</table>\n",
       "</div>"
      ],
      "text/plain": [
       "   id       creation_date        display_name    last_access_date  \\\n",
       "0   1 2008-07-31 14:22:31         Jeff Atwood 2018-08-29 02:34:23   \n",
       "1   2 2008-07-31 14:22:31        Geoff Dalgas 2018-08-23 17:31:56   \n",
       "2   3 2008-07-31 14:22:31        Jarrod Dixon 2018-08-30 20:56:24   \n",
       "3   4 2008-07-31 14:22:31        Joel Spolsky 2018-08-14 22:18:15   \n",
       "4   5 2008-07-31 14:22:31        Jon Galloway 2018-08-29 16:48:36   \n",
       "5   8 2008-07-31 21:33:24        Eggs McLaren 2018-04-09 02:04:56   \n",
       "6   9 2008-07-31 21:35:27         Kevin Dente 2018-08-30 18:18:03   \n",
       "7  11 2008-08-01 00:59:11      Anonymous User 2008-08-01 00:59:11   \n",
       "8  13 2008-08-01 04:18:05  Chris Jester-Young 2018-08-30 02:47:23   \n",
       "9  17 2008-08-01 12:02:22        Nick Berardi 2018-01-22 01:35:38   \n",
       "\n",
       "                     location  reputation   views  \n",
       "0              El Cerrito, CA       44300  408587  \n",
       "1               Corvallis, OR        3491   23966  \n",
       "2  Raleigh, NC, United States       13418   24396  \n",
       "3                New York, NY       28768   73755  \n",
       "4               San Diego, CA       39172   11700  \n",
       "5                        None         942    6372  \n",
       "6                 Oakland, CA       14337    4949  \n",
       "7                        None        1890    2123  \n",
       "8  Raleigh, NC, United States      177138   35414  \n",
       "9                Issaquah, WA       44443    4786  "
      ]
     },
     "execution_count": 5,
     "metadata": {},
     "output_type": "execute_result"
    }
   ],
   "source": [
    "sample_df"
   ]
  },
  {
   "cell_type": "markdown",
   "metadata": {
    "id": "gnBMXkDBDWKm"
   },
   "source": [
    "## Задание 1"
   ]
  },
  {
   "cell_type": "markdown",
   "metadata": {
    "id": "vHsfOrrNDWKn"
   },
   "source": [
    "Выведите общую сумму просмотров постов за каждый месяц 2008 года. Если данных за какой-либо месяц в базе нет, такой месяц можно пропустить. Результат отсортируйте по убыванию общего количества просмотров."
   ]
  },
  {
   "cell_type": "markdown",
   "metadata": {
    "id": "N5rTgGNmDWKn"
   },
   "source": [
    "| month_date  | total_views |\n",
    "| ------------- | ------------- |\n",
    "| 2008-09-01  | 452928568  |\n",
    "| 2008-10-01  | 365400138  |\n",
    "| ...         | ... |"
   ]
  },
  {
   "cell_type": "code",
   "execution_count": 6,
   "metadata": {
    "id": "eWvykcXTDWKo"
   },
   "outputs": [
    {
     "data": {
      "text/html": [
       "<div>\n",
       "<style scoped>\n",
       "    .dataframe tbody tr th:only-of-type {\n",
       "        vertical-align: middle;\n",
       "    }\n",
       "\n",
       "    .dataframe tbody tr th {\n",
       "        vertical-align: top;\n",
       "    }\n",
       "\n",
       "    .dataframe thead th {\n",
       "        text-align: right;\n",
       "    }\n",
       "</style>\n",
       "<table border=\"1\" class=\"dataframe\">\n",
       "  <thead>\n",
       "    <tr style=\"text-align: right;\">\n",
       "      <th></th>\n",
       "      <th>month_date</th>\n",
       "      <th>total_views</th>\n",
       "    </tr>\n",
       "  </thead>\n",
       "  <tbody>\n",
       "    <tr>\n",
       "      <th>0</th>\n",
       "      <td>2008-09-01</td>\n",
       "      <td>452928568</td>\n",
       "    </tr>\n",
       "    <tr>\n",
       "      <th>1</th>\n",
       "      <td>2008-10-01</td>\n",
       "      <td>365400138</td>\n",
       "    </tr>\n",
       "    <tr>\n",
       "      <th>2</th>\n",
       "      <td>2008-11-01</td>\n",
       "      <td>221759651</td>\n",
       "    </tr>\n",
       "    <tr>\n",
       "      <th>3</th>\n",
       "      <td>2008-12-01</td>\n",
       "      <td>197792841</td>\n",
       "    </tr>\n",
       "    <tr>\n",
       "      <th>4</th>\n",
       "      <td>2008-08-01</td>\n",
       "      <td>131367083</td>\n",
       "    </tr>\n",
       "    <tr>\n",
       "      <th>5</th>\n",
       "      <td>2008-07-01</td>\n",
       "      <td>669895</td>\n",
       "    </tr>\n",
       "  </tbody>\n",
       "</table>\n",
       "</div>"
      ],
      "text/plain": [
       "   month_date  total_views\n",
       "0  2008-09-01    452928568\n",
       "1  2008-10-01    365400138\n",
       "2  2008-11-01    221759651\n",
       "3  2008-12-01    197792841\n",
       "4  2008-08-01    131367083\n",
       "5  2008-07-01       669895"
      ]
     },
     "metadata": {},
     "output_type": "display_data"
    }
   ],
   "source": [
    "# напишите запрос\n",
    "query = '''\n",
    "SELECT DATE_TRUNC('month', creation_date)::date AS month_date,\n",
    "       SUM(views_count) AS total_views\n",
    "FROM stackoverflow.posts\n",
    "WHERE DATE_TRUNC('year', creation_date)::date = '2008-01-01'\n",
    "GROUP BY month_date\n",
    "ORDER BY total_views DESC\n",
    "\n",
    "'''\n",
    "\n",
    "# выполните запрос\n",
    "posts_view = pd.read_sql_query(query, con=engine)\n",
    "display(posts_view)"
   ]
  },
  {
   "cell_type": "markdown",
   "metadata": {
    "id": "XMr_UeU6DWKo"
   },
   "source": [
    "<details>\n",
    "\n",
    "<summary>Подсказка</summary>\n",
    "Используйте функцию для усечения даты, а затем сгруппируйте и отсортируйте данные.\n",
    "</details>"
   ]
  },
  {
   "cell_type": "markdown",
   "metadata": {
    "id": "I_ZvhOxkDWKp"
   },
   "source": [
    "Проанализируйте итоговую таблицу. Отличаются ли данные за разные месяцы? С чем могут быть связаны отличия?"
   ]
  },
  {
   "cell_type": "markdown",
   "metadata": {},
   "source": [
    "<div class=\"alert alert-info\"  style=\"border-radius: 15px; box-shadow: 4px 4px 4px; border: 1px solid \">\n",
    "    \n",
    "<h2>Комментарий студента v_0: <a class=\"tocSkip\"> </h2>\n",
    "\n",
    "\n",
    "Не ясно, зачем в задании требовалась сортировка по количеству просмотров, т.к. \"динамика\" так не прослеживается (допустим, что временной интервал несколько лет). Найти месяц с максимальным кол-вом просмотров?. Отсротируем правильно по месяцам\n",
    "</div>\n",
    "*  "
   ]
  },
  {
   "cell_type": "code",
   "execution_count": 7,
   "metadata": {},
   "outputs": [
    {
     "data": {
      "text/html": [
       "<div>\n",
       "<style scoped>\n",
       "    .dataframe tbody tr th:only-of-type {\n",
       "        vertical-align: middle;\n",
       "    }\n",
       "\n",
       "    .dataframe tbody tr th {\n",
       "        vertical-align: top;\n",
       "    }\n",
       "\n",
       "    .dataframe thead th {\n",
       "        text-align: right;\n",
       "    }\n",
       "</style>\n",
       "<table border=\"1\" class=\"dataframe\">\n",
       "  <thead>\n",
       "    <tr style=\"text-align: right;\">\n",
       "      <th></th>\n",
       "      <th>month_date</th>\n",
       "      <th>total_views</th>\n",
       "    </tr>\n",
       "  </thead>\n",
       "  <tbody>\n",
       "    <tr>\n",
       "      <th>5</th>\n",
       "      <td>2008-07-01</td>\n",
       "      <td>669895</td>\n",
       "    </tr>\n",
       "    <tr>\n",
       "      <th>4</th>\n",
       "      <td>2008-08-01</td>\n",
       "      <td>131367083</td>\n",
       "    </tr>\n",
       "    <tr>\n",
       "      <th>0</th>\n",
       "      <td>2008-09-01</td>\n",
       "      <td>452928568</td>\n",
       "    </tr>\n",
       "    <tr>\n",
       "      <th>1</th>\n",
       "      <td>2008-10-01</td>\n",
       "      <td>365400138</td>\n",
       "    </tr>\n",
       "    <tr>\n",
       "      <th>2</th>\n",
       "      <td>2008-11-01</td>\n",
       "      <td>221759651</td>\n",
       "    </tr>\n",
       "    <tr>\n",
       "      <th>3</th>\n",
       "      <td>2008-12-01</td>\n",
       "      <td>197792841</td>\n",
       "    </tr>\n",
       "  </tbody>\n",
       "</table>\n",
       "</div>"
      ],
      "text/plain": [
       "   month_date  total_views\n",
       "5  2008-07-01       669895\n",
       "4  2008-08-01    131367083\n",
       "0  2008-09-01    452928568\n",
       "1  2008-10-01    365400138\n",
       "2  2008-11-01    221759651\n",
       "3  2008-12-01    197792841"
      ]
     },
     "metadata": {},
     "output_type": "display_data"
    }
   ],
   "source": [
    "posts_view_by_mon = posts_view.sort_values(by='month_date')\n",
    "display(posts_view_by_mon)"
   ]
  },
  {
   "cell_type": "code",
   "execution_count": 8,
   "metadata": {},
   "outputs": [
    {
     "data": {
      "image/png": "[encoded data removed]",
      "text/plain": [
       "<Figure size 432x288 with 1 Axes>"
      ]
     },
     "metadata": {
      "needs_background": "light"
     },
     "output_type": "display_data"
    }
   ],
   "source": [
    "#динамика в графическом виде\n",
    "posts_view_by_mon.plot(x='month_date', y='total_views', legend=False)\n",
    "plt.ticklabel_format(style='plain', axis='y')\n",
    "plt.title('Динамика кол-ва постов в разрезе месяцев')\n",
    "plt.xlabel('Месяц')\n",
    "plt.ylabel('Количество постов')\n",
    "plt.show()"
   ]
  },
  {
   "cell_type": "markdown",
   "metadata": {},
   "source": [
    "<div class=\"alert alert-info\"  style=\"border-radius: 15px; box-shadow: 4px 4px 4px; border: 1px solid \">\n",
    "    \n",
    "<h2>Комментарий студента v_1: <a class=\"tocSkip\"> </h2>\n",
    "\n",
    "\n",
    "Исправлено\n",
    "</div>\n",
    "*"
   ]
  },
  {
   "cell_type": "code",
   "execution_count": 9,
   "metadata": {},
   "outputs": [
    {
     "data": {
      "text/plain": [
       "676.1187469678084"
      ]
     },
     "execution_count": 9,
     "metadata": {},
     "output_type": "execute_result"
    }
   ],
   "source": [
    "posts_view_by_mon.loc[0, 'total_views'] / posts_view_by_mon.loc[5, 'total_views']"
   ]
  },
  {
   "cell_type": "markdown",
   "metadata": {
    "id": "luxSj17oDWKq"
   },
   "source": [
    "Мы наблюдаем бурный рост просмотров постов практически из 0 в июле-сентябре (в 676 раз) и постепенное скатывание на плато в октябре-декабре 2008 года.\n",
    "\n",
    "По данным из русскоязычной Википедии Stack Overflow был запущен в августе 2008 года, при этом в статье на англ. языке указано, что в сентябре 2008 г. был объявлен запуск бета-версии нового портала. Т.о. можно заключить, что в период с июля по сентябрь происходила \"накачка\" пользователями нового портала вопросов-ответов про для ИТ-сферы. После выпуска бета-версии часть пользователей отвалилась по различным причинам и аудитория (ЦА) портала начала путь к своему формированию через плато и дальнейшему постепенному росту (который мы не видим, но примерно понимаем).\n",
    "\n",
    "На графике - классический пример gartner hype cycle, т.е.:\n",
    "\n",
    "1) триггер в июле-августе 2008 года - ходят слухи, что вот-вот новый портал запустят\n",
    "\n",
    "2) пик завышенных ожиданий в сентябре - вау, круто, сейчас спросим наконецто, как на ассемблере эмулятор линукса под виндоуз запилить\n",
    "\n",
    "3) дно разочарований в октбяре-декабре - ничего такого не нашли и \"вапщета\" хотелось бы в 2008 году уже узнавать про все эти чат-боты и жэпэтэ, а тут только вот pandas год на коленке кое-как делают\n",
    "\n",
    "Возможно, с сентября все школьники наконецто пошли учиться и наплыв на портал снизился <=> кол-ву просмотров"
   ]
  },
  {
   "cell_type": "markdown",
   "metadata": {
    "id": "FziIXkn5DWKr"
   },
   "source": [
    "## Задание 2"
   ]
  },
  {
   "cell_type": "markdown",
   "metadata": {
    "id": "fTGESZvYDWKr"
   },
   "source": [
    "Выведите имена самых активных пользователей, которые в первый месяц после регистрации (включая день регистрации) дали больше 100 ответов. Вопросы, которые задавали пользователи, не учитывайте. Для каждого имени пользователя выведите количество уникальных значений `user_id`. Отсортируйте результат по полю с именами в лексикографическом порядке."
   ]
  },
  {
   "cell_type": "markdown",
   "metadata": {
    "id": "W5-tv6Y3DWKs"
   },
   "source": [
    "| display_name | count |\n",
    "| ------------ | ----- |\n",
    "| 1800 INFORMATION | 1 |\n",
    "| Adam Bellaire | 1 |\n",
    "| Adam Davis | 1 |\n",
    "| ... | ... |"
   ]
  },
  {
   "cell_type": "code",
   "execution_count": 10,
   "metadata": {
    "id": "fIO-y-YjDWKt",
    "scrolled": true
   },
   "outputs": [
    {
     "data": {
      "text/html": [
       "<div>\n",
       "<style scoped>\n",
       "    .dataframe tbody tr th:only-of-type {\n",
       "        vertical-align: middle;\n",
       "    }\n",
       "\n",
       "    .dataframe tbody tr th {\n",
       "        vertical-align: top;\n",
       "    }\n",
       "\n",
       "    .dataframe thead th {\n",
       "        text-align: right;\n",
       "    }\n",
       "</style>\n",
       "<table border=\"1\" class=\"dataframe\">\n",
       "  <thead>\n",
       "    <tr style=\"text-align: right;\">\n",
       "      <th></th>\n",
       "      <th>display_name</th>\n",
       "      <th>count</th>\n",
       "    </tr>\n",
       "  </thead>\n",
       "  <tbody>\n",
       "    <tr>\n",
       "      <th>0</th>\n",
       "      <td>1800 INFORMATION</td>\n",
       "      <td>1</td>\n",
       "    </tr>\n",
       "    <tr>\n",
       "      <th>1</th>\n",
       "      <td>Adam Bellaire</td>\n",
       "      <td>1</td>\n",
       "    </tr>\n",
       "    <tr>\n",
       "      <th>2</th>\n",
       "      <td>Adam Davis</td>\n",
       "      <td>1</td>\n",
       "    </tr>\n",
       "    <tr>\n",
       "      <th>3</th>\n",
       "      <td>Adam Liss</td>\n",
       "      <td>1</td>\n",
       "    </tr>\n",
       "    <tr>\n",
       "      <th>4</th>\n",
       "      <td>Alan</td>\n",
       "      <td>8</td>\n",
       "    </tr>\n",
       "    <tr>\n",
       "      <th>...</th>\n",
       "      <td>...</td>\n",
       "      <td>...</td>\n",
       "    </tr>\n",
       "    <tr>\n",
       "      <th>74</th>\n",
       "      <td>lomaxx</td>\n",
       "      <td>1</td>\n",
       "    </tr>\n",
       "    <tr>\n",
       "      <th>75</th>\n",
       "      <td>mattlant</td>\n",
       "      <td>1</td>\n",
       "    </tr>\n",
       "    <tr>\n",
       "      <th>76</th>\n",
       "      <td>paxdiablo</td>\n",
       "      <td>1</td>\n",
       "    </tr>\n",
       "    <tr>\n",
       "      <th>77</th>\n",
       "      <td>tvanfosson</td>\n",
       "      <td>1</td>\n",
       "    </tr>\n",
       "    <tr>\n",
       "      <th>78</th>\n",
       "      <td>tzot</td>\n",
       "      <td>1</td>\n",
       "    </tr>\n",
       "  </tbody>\n",
       "</table>\n",
       "<p>79 rows × 2 columns</p>\n",
       "</div>"
      ],
      "text/plain": [
       "        display_name  count\n",
       "0   1800 INFORMATION      1\n",
       "1      Adam Bellaire      1\n",
       "2         Adam Davis      1\n",
       "3          Adam Liss      1\n",
       "4               Alan      8\n",
       "..               ...    ...\n",
       "74            lomaxx      1\n",
       "75          mattlant      1\n",
       "76         paxdiablo      1\n",
       "77        tvanfosson      1\n",
       "78              tzot      1\n",
       "\n",
       "[79 rows x 2 columns]"
      ]
     },
     "metadata": {},
     "output_type": "display_data"
    }
   ],
   "source": [
    "# напишите запрос\n",
    "query = '''\n",
    "SELECT u.display_name,\n",
    "       COUNT(DISTINCT p.user_id)\n",
    "FROM stackoverflow.users AS u\n",
    "JOIN stackoverflow.posts AS p ON u.id = p.user_id\n",
    "JOIN stackoverflow.post_types AS pt ON p.post_type_id = pt.id\n",
    "WHERE pt.type = 'Answer'\n",
    "      AND p.creation_date::date BETWEEN u.creation_date::date AND u.creation_date::date + INTERVAL '1 month'\n",
    "GROUP BY u.display_name\n",
    "HAVING COUNT(p.id) > 100\n",
    "ORDER BY u.display_name;\n",
    "\n",
    "\n",
    "'''\n",
    "\n",
    "# выполните запрос\n",
    "name_cnt = pd.read_sql_query(query, con=engine)\n",
    "display(name_cnt)"
   ]
  },
  {
   "cell_type": "code",
   "execution_count": 11,
   "metadata": {},
   "outputs": [
    {
     "data": {
      "text/html": [
       "<div>\n",
       "<style scoped>\n",
       "    .dataframe tbody tr th:only-of-type {\n",
       "        vertical-align: middle;\n",
       "    }\n",
       "\n",
       "    .dataframe tbody tr th {\n",
       "        vertical-align: top;\n",
       "    }\n",
       "\n",
       "    .dataframe thead th {\n",
       "        text-align: right;\n",
       "    }\n",
       "</style>\n",
       "<table border=\"1\" class=\"dataframe\">\n",
       "  <thead>\n",
       "    <tr style=\"text-align: right;\">\n",
       "      <th></th>\n",
       "      <th>display_name</th>\n",
       "      <th>count</th>\n",
       "    </tr>\n",
       "  </thead>\n",
       "  <tbody>\n",
       "    <tr>\n",
       "      <th>45</th>\n",
       "      <td>Matt</td>\n",
       "      <td>29</td>\n",
       "    </tr>\n",
       "    <tr>\n",
       "      <th>10</th>\n",
       "      <td>Chris</td>\n",
       "      <td>29</td>\n",
       "    </tr>\n",
       "    <tr>\n",
       "      <th>14</th>\n",
       "      <td>Dan</td>\n",
       "      <td>21</td>\n",
       "    </tr>\n",
       "    <tr>\n",
       "      <th>64</th>\n",
       "      <td>Tom</td>\n",
       "      <td>19</td>\n",
       "    </tr>\n",
       "    <tr>\n",
       "      <th>41</th>\n",
       "      <td>Mark</td>\n",
       "      <td>17</td>\n",
       "    </tr>\n",
       "    <tr>\n",
       "      <th>50</th>\n",
       "      <td>Nick</td>\n",
       "      <td>16</td>\n",
       "    </tr>\n",
       "    <tr>\n",
       "      <th>33</th>\n",
       "      <td>Josh</td>\n",
       "      <td>16</td>\n",
       "    </tr>\n",
       "    <tr>\n",
       "      <th>7</th>\n",
       "      <td>Brian</td>\n",
       "      <td>15</td>\n",
       "    </tr>\n",
       "    <tr>\n",
       "      <th>56</th>\n",
       "      <td>Rob</td>\n",
       "      <td>15</td>\n",
       "    </tr>\n",
       "    <tr>\n",
       "      <th>21</th>\n",
       "      <td>Greg</td>\n",
       "      <td>12</td>\n",
       "    </tr>\n",
       "    <tr>\n",
       "      <th>35</th>\n",
       "      <td>Kevin</td>\n",
       "      <td>11</td>\n",
       "    </tr>\n",
       "    <tr>\n",
       "      <th>59</th>\n",
       "      <td>Ryan</td>\n",
       "      <td>10</td>\n",
       "    </tr>\n",
       "    <tr>\n",
       "      <th>12</th>\n",
       "      <td>Craig</td>\n",
       "      <td>10</td>\n",
       "    </tr>\n",
       "    <tr>\n",
       "      <th>26</th>\n",
       "      <td>Joe</td>\n",
       "      <td>9</td>\n",
       "    </tr>\n",
       "    <tr>\n",
       "      <th>4</th>\n",
       "      <td>Alan</td>\n",
       "      <td>8</td>\n",
       "    </tr>\n",
       "    <tr>\n",
       "      <th>25</th>\n",
       "      <td>Jim</td>\n",
       "      <td>7</td>\n",
       "    </tr>\n",
       "    <tr>\n",
       "      <th>34</th>\n",
       "      <td>Keith</td>\n",
       "      <td>5</td>\n",
       "    </tr>\n",
       "    <tr>\n",
       "      <th>52</th>\n",
       "      <td>Oli</td>\n",
       "      <td>3</td>\n",
       "    </tr>\n",
       "    <tr>\n",
       "      <th>72</th>\n",
       "      <td>jfs</td>\n",
       "      <td>3</td>\n",
       "    </tr>\n",
       "    <tr>\n",
       "      <th>55</th>\n",
       "      <td>PhiLho</td>\n",
       "      <td>1</td>\n",
       "    </tr>\n",
       "  </tbody>\n",
       "</table>\n",
       "</div>"
      ],
      "text/plain": [
       "   display_name  count\n",
       "45         Matt     29\n",
       "10        Chris     29\n",
       "14          Dan     21\n",
       "64          Tom     19\n",
       "41         Mark     17\n",
       "50         Nick     16\n",
       "33         Josh     16\n",
       "7         Brian     15\n",
       "56          Rob     15\n",
       "21         Greg     12\n",
       "35        Kevin     11\n",
       "59         Ryan     10\n",
       "12        Craig     10\n",
       "26          Joe      9\n",
       "4          Alan      8\n",
       "25          Jim      7\n",
       "34        Keith      5\n",
       "52          Oli      3\n",
       "72          jfs      3\n",
       "55       PhiLho      1"
      ]
     },
     "execution_count": 11,
     "metadata": {},
     "output_type": "execute_result"
    }
   ],
   "source": [
    "name_cnt = name_cnt.sort_values(by='count', ascending=False)\n",
    "name_cnt.head(20)"
   ]
  },
  {
   "cell_type": "markdown",
   "metadata": {
    "id": "YIqqc-7HDWKt"
   },
   "source": [
    "<details>\n",
    "\n",
    "<summary>Подсказка</summary>\n",
    "Вам нужно присоединить несколько таблиц — изучите внимательнее описание базы. Чтобы добавить промежуток времени к дате, используйте ключевое слово INTERVAL, например, так: <дата> + INTERVAL '1 year 2 months 3 days'\n",
    ".</details>"
   ]
  },
  {
   "cell_type": "markdown",
   "metadata": {
    "id": "I3Wr82TplKpI"
   },
   "source": [
    "Какие аномалии наблюдаются в данных? О чём они говорят?"
   ]
  },
  {
   "cell_type": "markdown",
   "metadata": {
    "id": "CEIGGQ6ODWKy"
   },
   "source": [
    "На первый взгляд, ничего необычного. В выборке есть пользователи с одинаковыми именами. Некоторым уникальным именам соответсвует большое количество разных пользователей. С большей долей вероятности в 2008 году в рассматриваемый период на вопрос ответил бы пользователь с именем Matt или Chris, Dan и Том. Маловероятно, что за пользователями с именем Мэт скрывается одн человек и скорее всего это вс разные пользователи. Т.е. в системе о время регистрации, возможно, е проводилась проверка на уникальность имен. С другой стороны в описании модели данных нет информации о том, что данная таблица users содержит все возможные атрибуты из БД stackoverflow. Также нет указаний, что display_name - это ник нейм или имя из ФИО пользователя. Может быть это непосредственно отображаемое имя, которое пользователь сам выбирает в любой момент времени и меняет по своему усмотрению. Сегодня он Крис, но на самом деле Степан Иванович Шпак более известный как nagibator_ololo_666.\n",
    "\n",
    "Может быть такое, что система работала не стабильно и некто очень умный и продуктивный на ответы Мэт регистрировался 29 раз   "
   ]
  },
  {
   "cell_type": "markdown",
   "metadata": {
    "id": "JhM2xXj5DWKu"
   },
   "source": [
    "## Задание 3"
   ]
  },
  {
   "cell_type": "markdown",
   "metadata": {
    "id": "IS6xPqyyDWKu"
   },
   "source": [
    "Выведите количество постов за 2008 год по месяцам. Отберите посты от пользователей, которые зарегистрировались в сентябре 2008 года и сделали хотя бы один пост в декабре того же года. Отсортируйте таблицу по значению месяца по убыванию."
   ]
  },
  {
   "cell_type": "markdown",
   "metadata": {
    "id": "WmjhjV2xDWKv"
   },
   "source": [
    "| month | count |\n",
    "| ------|------ |\n",
    "| 2008-12-01 | 17641 |\n",
    "| 2008-11-01 | 18294 |\n",
    "| ... | ... |"
   ]
  },
  {
   "cell_type": "code",
   "execution_count": 12,
   "metadata": {
    "id": "kVu0FB8WDWKv"
   },
   "outputs": [
    {
     "data": {
      "text/html": [
       "<div>\n",
       "<style scoped>\n",
       "    .dataframe tbody tr th:only-of-type {\n",
       "        vertical-align: middle;\n",
       "    }\n",
       "\n",
       "    .dataframe tbody tr th {\n",
       "        vertical-align: top;\n",
       "    }\n",
       "\n",
       "    .dataframe thead th {\n",
       "        text-align: right;\n",
       "    }\n",
       "</style>\n",
       "<table border=\"1\" class=\"dataframe\">\n",
       "  <thead>\n",
       "    <tr style=\"text-align: right;\">\n",
       "      <th></th>\n",
       "      <th>month</th>\n",
       "      <th>count</th>\n",
       "    </tr>\n",
       "  </thead>\n",
       "  <tbody>\n",
       "    <tr>\n",
       "      <th>0</th>\n",
       "      <td>2008-12-01</td>\n",
       "      <td>17641</td>\n",
       "    </tr>\n",
       "    <tr>\n",
       "      <th>1</th>\n",
       "      <td>2008-11-01</td>\n",
       "      <td>18294</td>\n",
       "    </tr>\n",
       "    <tr>\n",
       "      <th>2</th>\n",
       "      <td>2008-10-01</td>\n",
       "      <td>27171</td>\n",
       "    </tr>\n",
       "    <tr>\n",
       "      <th>3</th>\n",
       "      <td>2008-09-01</td>\n",
       "      <td>24870</td>\n",
       "    </tr>\n",
       "    <tr>\n",
       "      <th>4</th>\n",
       "      <td>2008-08-01</td>\n",
       "      <td>32</td>\n",
       "    </tr>\n",
       "  </tbody>\n",
       "</table>\n",
       "</div>"
      ],
      "text/plain": [
       "        month  count\n",
       "0  2008-12-01  17641\n",
       "1  2008-11-01  18294\n",
       "2  2008-10-01  27171\n",
       "3  2008-09-01  24870\n",
       "4  2008-08-01     32"
      ]
     },
     "metadata": {},
     "output_type": "display_data"
    }
   ],
   "source": [
    "# напишите запрос\n",
    "query = '''\n",
    "SELECT DATE_TRUNC('month', creation_date)::date AS month,\n",
    "       COUNT(DISTINCT id) AS count\n",
    "FROM stackoverflow.posts\n",
    "WHERE user_id IN \n",
    "     (SELECT u.id\n",
    "      FROM stackoverflow.users u\n",
    "      JOIN stackoverflow.posts p ON p.user_id = u.id\n",
    "      WHERE DATE_TRUNC('month',u.creation_date)::date = '2008-09-01'\n",
    "      AND DATE_TRUNC('month', p.creation_date) =  '2008-12-01')\n",
    "GROUP BY month\n",
    "ORDER BY month DESC;\n",
    "\n",
    "'''\n",
    "\n",
    "# выполните запрос\n",
    "month_cnt = pd.read_sql_query(query, con=engine)\n",
    "display(month_cnt)"
   ]
  },
  {
   "cell_type": "markdown",
   "metadata": {
    "id": "nWf0JsTMDWKx"
   },
   "source": [
    "<details>\n",
    "\n",
    "<summary>Подсказка</summary>\n",
    "Сначала найдите идентификаторы пользователей, которые зарегистрировались в сентябре 2008 года и оставили хотя бы один пост в декабре. Затем используйте результат для среза и посчитайте посты по месяцам.</details>"
   ]
  },
  {
   "cell_type": "markdown",
   "metadata": {
    "id": "Vnxn9DVHDWKx"
   },
   "source": [
    "Изучите данные: есть ли в них аномалии? Предположите, почему могли появиться аномальные значения."
   ]
  },
  {
   "cell_type": "markdown",
   "metadata": {
    "id": "MMVIz4yMlKpN"
   },
   "source": [
    "Динамика количества постов в рассматриваемый период укладывается в динамику кол-ва пользователей. Но выявлено 32 поста, написанных в августе 2008 года, пользователями, которые \"зарегистрировались\" в сентябре 2008 года. Скорее всего - ошибка выгрузки из БД или ошибка записи при регистрации события \"создать пост\" в системе. "
   ]
  },
  {
   "cell_type": "markdown",
   "metadata": {
    "id": "5Pcizm0DDWKz"
   },
   "source": [
    "## Задание 4"
   ]
  },
  {
   "cell_type": "markdown",
   "metadata": {
    "id": "KUZPF6vHDWKz"
   },
   "source": [
    "Используя данные о постах, выведите несколько полей:\n",
    "\n",
    "- идентификатор пользователя, который написал пост;\n",
    "- дата создания поста;\n",
    "- количество просмотров у текущего поста;\n",
    "- сумму просмотров постов автора с накоплением.\n",
    "\n",
    "Данные в таблице должны быть отсортированы по возрастанию идентификаторов пользователей, а данные об одном и том же пользователе — по возрастанию даты создания поста."
   ]
  },
  {
   "cell_type": "markdown",
   "metadata": {
    "id": "ZpsTUVDYDWK0"
   },
   "source": [
    "| user_id | creation_date | views_count | cumulative_count |\n",
    "| ------ | -------------- | ----------- | ---------------- |\n",
    "| 1 | 2008-07-31 23:41:00  | 480476   | 480476  |\n",
    "| 1 | 2008-07-31 23:55:38  | 136033 | 616509  | \n",
    "| 1 | 2008-07-31 23:56:41  | 0 |  616509  |\n",
    "| ... | ... | ... | ... |\n",
    "| 2 | 2008-07-31 23:56:41 | 79087  | 79087 |\n",
    "| 2 | 2008-08-01 05:09:56 | 65443 | 144530 |\n",
    "| ... | ...  | ...  | ...  |"
   ]
  },
  {
   "cell_type": "code",
   "execution_count": 13,
   "metadata": {
    "id": "hDoJhMzfDWK0"
   },
   "outputs": [
    {
     "data": {
      "text/html": [
       "<div>\n",
       "<style scoped>\n",
       "    .dataframe tbody tr th:only-of-type {\n",
       "        vertical-align: middle;\n",
       "    }\n",
       "\n",
       "    .dataframe tbody tr th {\n",
       "        vertical-align: top;\n",
       "    }\n",
       "\n",
       "    .dataframe thead th {\n",
       "        text-align: right;\n",
       "    }\n",
       "</style>\n",
       "<table border=\"1\" class=\"dataframe\">\n",
       "  <thead>\n",
       "    <tr style=\"text-align: right;\">\n",
       "      <th></th>\n",
       "      <th>user_id</th>\n",
       "      <th>creation_date</th>\n",
       "      <th>views_count</th>\n",
       "      <th>sum</th>\n",
       "    </tr>\n",
       "  </thead>\n",
       "  <tbody>\n",
       "    <tr>\n",
       "      <th>0</th>\n",
       "      <td>1</td>\n",
       "      <td>2008-07-31 23:41:00</td>\n",
       "      <td>480476</td>\n",
       "      <td>480476</td>\n",
       "    </tr>\n",
       "    <tr>\n",
       "      <th>1</th>\n",
       "      <td>1</td>\n",
       "      <td>2008-07-31 23:55:38</td>\n",
       "      <td>136033</td>\n",
       "      <td>616509</td>\n",
       "    </tr>\n",
       "    <tr>\n",
       "      <th>2</th>\n",
       "      <td>1</td>\n",
       "      <td>2008-07-31 23:56:41</td>\n",
       "      <td>0</td>\n",
       "      <td>616509</td>\n",
       "    </tr>\n",
       "    <tr>\n",
       "      <th>3</th>\n",
       "      <td>1</td>\n",
       "      <td>2008-08-04 02:45:08</td>\n",
       "      <td>0</td>\n",
       "      <td>616509</td>\n",
       "    </tr>\n",
       "    <tr>\n",
       "      <th>4</th>\n",
       "      <td>1</td>\n",
       "      <td>2008-08-04 04:31:03</td>\n",
       "      <td>0</td>\n",
       "      <td>616509</td>\n",
       "    </tr>\n",
       "    <tr>\n",
       "      <th>5</th>\n",
       "      <td>1</td>\n",
       "      <td>2008-08-04 08:04:42</td>\n",
       "      <td>0</td>\n",
       "      <td>616509</td>\n",
       "    </tr>\n",
       "    <tr>\n",
       "      <th>6</th>\n",
       "      <td>1</td>\n",
       "      <td>2008-08-10 08:28:52</td>\n",
       "      <td>0</td>\n",
       "      <td>616509</td>\n",
       "    </tr>\n",
       "    <tr>\n",
       "      <th>7</th>\n",
       "      <td>1</td>\n",
       "      <td>2008-08-11 19:23:47</td>\n",
       "      <td>0</td>\n",
       "      <td>616509</td>\n",
       "    </tr>\n",
       "    <tr>\n",
       "      <th>8</th>\n",
       "      <td>1</td>\n",
       "      <td>2008-08-12 00:30:43</td>\n",
       "      <td>0</td>\n",
       "      <td>616509</td>\n",
       "    </tr>\n",
       "    <tr>\n",
       "      <th>9</th>\n",
       "      <td>1</td>\n",
       "      <td>2008-08-12 04:59:35</td>\n",
       "      <td>72431</td>\n",
       "      <td>688940</td>\n",
       "    </tr>\n",
       "    <tr>\n",
       "      <th>10</th>\n",
       "      <td>1</td>\n",
       "      <td>2008-08-12 05:02:49</td>\n",
       "      <td>0</td>\n",
       "      <td>688940</td>\n",
       "    </tr>\n",
       "    <tr>\n",
       "      <th>11</th>\n",
       "      <td>1</td>\n",
       "      <td>2008-08-12 23:13:41</td>\n",
       "      <td>0</td>\n",
       "      <td>688940</td>\n",
       "    </tr>\n",
       "    <tr>\n",
       "      <th>12</th>\n",
       "      <td>1</td>\n",
       "      <td>2008-08-12 23:27:54</td>\n",
       "      <td>0</td>\n",
       "      <td>688940</td>\n",
       "    </tr>\n",
       "    <tr>\n",
       "      <th>13</th>\n",
       "      <td>1</td>\n",
       "      <td>2008-08-13 03:30:59</td>\n",
       "      <td>0</td>\n",
       "      <td>688940</td>\n",
       "    </tr>\n",
       "    <tr>\n",
       "      <th>14</th>\n",
       "      <td>1</td>\n",
       "      <td>2008-08-13 12:03:06</td>\n",
       "      <td>0</td>\n",
       "      <td>688940</td>\n",
       "    </tr>\n",
       "    <tr>\n",
       "      <th>15</th>\n",
       "      <td>1</td>\n",
       "      <td>2008-08-14 03:10:23</td>\n",
       "      <td>0</td>\n",
       "      <td>688940</td>\n",
       "    </tr>\n",
       "    <tr>\n",
       "      <th>16</th>\n",
       "      <td>1</td>\n",
       "      <td>2008-08-14 03:13:57</td>\n",
       "      <td>0</td>\n",
       "      <td>688940</td>\n",
       "    </tr>\n",
       "    <tr>\n",
       "      <th>17</th>\n",
       "      <td>1</td>\n",
       "      <td>2008-08-14 03:17:18</td>\n",
       "      <td>0</td>\n",
       "      <td>688940</td>\n",
       "    </tr>\n",
       "    <tr>\n",
       "      <th>18</th>\n",
       "      <td>1</td>\n",
       "      <td>2008-08-14 13:48:03</td>\n",
       "      <td>0</td>\n",
       "      <td>688940</td>\n",
       "    </tr>\n",
       "    <tr>\n",
       "      <th>19</th>\n",
       "      <td>1</td>\n",
       "      <td>2008-08-17 02:58:18</td>\n",
       "      <td>0</td>\n",
       "      <td>688940</td>\n",
       "    </tr>\n",
       "  </tbody>\n",
       "</table>\n",
       "</div>"
      ],
      "text/plain": [
       "    user_id       creation_date  views_count     sum\n",
       "0         1 2008-07-31 23:41:00       480476  480476\n",
       "1         1 2008-07-31 23:55:38       136033  616509\n",
       "2         1 2008-07-31 23:56:41            0  616509\n",
       "3         1 2008-08-04 02:45:08            0  616509\n",
       "4         1 2008-08-04 04:31:03            0  616509\n",
       "5         1 2008-08-04 08:04:42            0  616509\n",
       "6         1 2008-08-10 08:28:52            0  616509\n",
       "7         1 2008-08-11 19:23:47            0  616509\n",
       "8         1 2008-08-12 00:30:43            0  616509\n",
       "9         1 2008-08-12 04:59:35        72431  688940\n",
       "10        1 2008-08-12 05:02:49            0  688940\n",
       "11        1 2008-08-12 23:13:41            0  688940\n",
       "12        1 2008-08-12 23:27:54            0  688940\n",
       "13        1 2008-08-13 03:30:59            0  688940\n",
       "14        1 2008-08-13 12:03:06            0  688940\n",
       "15        1 2008-08-14 03:10:23            0  688940\n",
       "16        1 2008-08-14 03:13:57            0  688940\n",
       "17        1 2008-08-14 03:17:18            0  688940\n",
       "18        1 2008-08-14 13:48:03            0  688940\n",
       "19        1 2008-08-17 02:58:18            0  688940"
      ]
     },
     "metadata": {},
     "output_type": "display_data"
    },
    {
     "data": {
      "text/html": [
       "<div>\n",
       "<style scoped>\n",
       "    .dataframe tbody tr th:only-of-type {\n",
       "        vertical-align: middle;\n",
       "    }\n",
       "\n",
       "    .dataframe tbody tr th {\n",
       "        vertical-align: top;\n",
       "    }\n",
       "\n",
       "    .dataframe thead th {\n",
       "        text-align: right;\n",
       "    }\n",
       "</style>\n",
       "<table border=\"1\" class=\"dataframe\">\n",
       "  <thead>\n",
       "    <tr style=\"text-align: right;\">\n",
       "      <th></th>\n",
       "      <th>user_id</th>\n",
       "      <th>creation_date</th>\n",
       "      <th>views_count</th>\n",
       "      <th>sum</th>\n",
       "    </tr>\n",
       "  </thead>\n",
       "  <tbody>\n",
       "    <tr>\n",
       "      <th>70</th>\n",
       "      <td>2</td>\n",
       "      <td>2008-08-01 04:59:34</td>\n",
       "      <td>79087</td>\n",
       "      <td>79087</td>\n",
       "    </tr>\n",
       "    <tr>\n",
       "      <th>71</th>\n",
       "      <td>2</td>\n",
       "      <td>2008-08-01 05:09:56</td>\n",
       "      <td>65443</td>\n",
       "      <td>144530</td>\n",
       "    </tr>\n",
       "    <tr>\n",
       "      <th>72</th>\n",
       "      <td>2</td>\n",
       "      <td>2008-08-04 05:51:57</td>\n",
       "      <td>7628</td>\n",
       "      <td>152158</td>\n",
       "    </tr>\n",
       "    <tr>\n",
       "      <th>73</th>\n",
       "      <td>2</td>\n",
       "      <td>2008-08-21 20:53:51</td>\n",
       "      <td>0</td>\n",
       "      <td>152158</td>\n",
       "    </tr>\n",
       "    <tr>\n",
       "      <th>74</th>\n",
       "      <td>2</td>\n",
       "      <td>2008-10-13 23:46:09</td>\n",
       "      <td>2593</td>\n",
       "      <td>154751</td>\n",
       "    </tr>\n",
       "    <tr>\n",
       "      <th>75</th>\n",
       "      <td>2</td>\n",
       "      <td>2008-12-15 03:59:56</td>\n",
       "      <td>0</td>\n",
       "      <td>154751</td>\n",
       "    </tr>\n",
       "  </tbody>\n",
       "</table>\n",
       "</div>"
      ],
      "text/plain": [
       "    user_id       creation_date  views_count     sum\n",
       "70        2 2008-08-01 04:59:34        79087   79087\n",
       "71        2 2008-08-01 05:09:56        65443  144530\n",
       "72        2 2008-08-04 05:51:57         7628  152158\n",
       "73        2 2008-08-21 20:53:51            0  152158\n",
       "74        2 2008-10-13 23:46:09         2593  154751\n",
       "75        2 2008-12-15 03:59:56            0  154751"
      ]
     },
     "metadata": {},
     "output_type": "display_data"
    }
   ],
   "source": [
    "# напишите запрос\n",
    "query = '''\n",
    "SELECT user_id,\n",
    "       creation_date,\n",
    "       views_count,\n",
    "       SUM(views_count) OVER(PARTITION BY user_id ORDER BY creation_date)\n",
    "FROM stackoverflow.posts;\n",
    "'''\n",
    "\n",
    "# выполните запрос\n",
    "users_posts_cnt = pd.read_sql_query(query, con=engine)\n",
    "display(users_posts_cnt.head(20))\n",
    "display(users_posts_cnt.query('user_id == 2'))\n"
   ]
  },
  {
   "cell_type": "markdown",
   "metadata": {
    "id": "toidOivXDWK1"
   },
   "source": [
    "<details>\n",
    "\n",
    "<summary>Подсказка</summary>\n",
    "Для подсчёта суммы с накоплением используйте оконную функцию.\n",
    "</details>"
   ]
  },
  {
   "cell_type": "markdown",
   "metadata": {},
   "source": [
    "<div class=\"alert alert-info\"  style=\"border-radius: 15px; box-shadow: 4px 4px 4px; border: 1px solid \">\n",
    "    \n",
    "<h2>Комментарий студента v_0: <a class=\"tocSkip\"> </h2>\n",
    "\n",
    "\n",
    "Похоже на правду\n",
    "</div>\n",
    "*  "
   ]
  },
  {
   "cell_type": "markdown",
   "metadata": {
    "id": "N0kHRHvIDWK2"
   },
   "source": [
    "## Задание 5"
   ]
  },
  {
   "cell_type": "markdown",
   "metadata": {
    "id": "gBgvmPtODWK2"
   },
   "source": [
    "Найдите среднее количество постов пользователей в день за август 2008 года. Отберите данные о пользователях, которые опубликовали больше 120 постов за август. Дни без публикаций не учитывайте. \n",
    "\n",
    "Отсортируйте результат по возрастанию среднего количества постов. Значения можно не округлять."
   ]
  },
  {
   "cell_type": "markdown",
   "metadata": {
    "id": "nfzR08BODWK3"
   },
   "source": [
    "| user_id | avg_daily |\n",
    "| ------- | --------- |\n",
    "| 116     | 4.777778  |\n",
    "| 234     | 5.208333  |\n",
    "| ...     | ... |"
   ]
  },
  {
   "cell_type": "code",
   "execution_count": 14,
   "metadata": {},
   "outputs": [
    {
     "data": {
      "text/html": [
       "<div>\n",
       "<style scoped>\n",
       "    .dataframe tbody tr th:only-of-type {\n",
       "        vertical-align: middle;\n",
       "    }\n",
       "\n",
       "    .dataframe tbody tr th {\n",
       "        vertical-align: top;\n",
       "    }\n",
       "\n",
       "    .dataframe thead th {\n",
       "        text-align: right;\n",
       "    }\n",
       "</style>\n",
       "<table border=\"1\" class=\"dataframe\">\n",
       "  <thead>\n",
       "    <tr style=\"text-align: right;\">\n",
       "      <th></th>\n",
       "      <th>user_id</th>\n",
       "      <th>avg_daily</th>\n",
       "    </tr>\n",
       "  </thead>\n",
       "  <tbody>\n",
       "    <tr>\n",
       "      <th>0</th>\n",
       "      <td>116</td>\n",
       "      <td>4.777778</td>\n",
       "    </tr>\n",
       "    <tr>\n",
       "      <th>1</th>\n",
       "      <td>234</td>\n",
       "      <td>5.208333</td>\n",
       "    </tr>\n",
       "    <tr>\n",
       "      <th>2</th>\n",
       "      <td>91</td>\n",
       "      <td>5.681818</td>\n",
       "    </tr>\n",
       "    <tr>\n",
       "      <th>3</th>\n",
       "      <td>905</td>\n",
       "      <td>7.000000</td>\n",
       "    </tr>\n",
       "    <tr>\n",
       "      <th>4</th>\n",
       "      <td>383</td>\n",
       "      <td>7.277778</td>\n",
       "    </tr>\n",
       "  </tbody>\n",
       "</table>\n",
       "</div>"
      ],
      "text/plain": [
       "   user_id  avg_daily\n",
       "0      116   4.777778\n",
       "1      234   5.208333\n",
       "2       91   5.681818\n",
       "3      905   7.000000\n",
       "4      383   7.277778"
      ]
     },
     "metadata": {},
     "output_type": "display_data"
    }
   ],
   "source": [
    "query = '''\n",
    "WITH uspst AS\n",
    "     (SELECT user_id,\n",
    "             DATE_TRUNC('day', creation_date) AS day,\n",
    "             COUNT(id) AS posts_cnt\n",
    "      FROM stackoverflow.posts\n",
    "      WHERE user_id IN (\n",
    "            SELECT user_id\n",
    "--                 COUNT(id) as posts_cnt\n",
    "            FROM stackoverflow.posts\n",
    "            WHERE DATE_TRUNC('month', creation_date)::date = '2008-08-01'\n",
    "            GROUP BY user_id\n",
    "            HAVING COUNT(id) > 120)\n",
    "            AND DATE_TRUNC('month', creation_date)::date = '2008-08-01'\n",
    "    GROUP BY user_id, day)\n",
    "\n",
    "SELECT user_id,\n",
    "       AVG(posts_cnt) AS avg_daily\n",
    "FROM uspst\n",
    "WHERE posts_cnt > 0\n",
    "GROUP BY user_id\n",
    "ORDER BY avg_daily;\n",
    "'''\n",
    "\n",
    "# выполните запрос\n",
    "avg_posts = pd.read_sql_query(query, con=engine)\n",
    "display(avg_posts.head(20))"
   ]
  },
  {
   "cell_type": "markdown",
   "metadata": {},
   "source": [
    "<div class=\"alert alert-info\"  style=\"border-radius: 15px; box-shadow: 4px 4px 4px; border: 1px solid \">\n",
    "    \n",
    "<h2>Комментарий студента v_1: <a class=\"tocSkip\"> </h2>\n",
    "\n",
    "\n",
    "Исправлено. Во временную таблицу добавлено дополнительное условие в WHERE\n",
    "</div>\n",
    "* "
   ]
  },
  {
   "cell_type": "markdown",
   "metadata": {
    "id": "5Gs8kiJvDWK4"
   },
   "source": [
    "<details>\n",
    "\n",
    "<summary>Подсказка</summary>\n",
    "Сначала найдите идентификаторы пользователей, которые написали более 120 постов за август. Используя этот запрос в качестве подзапроса для среза, найдите и сохраните во временную таблицу идентификаторы нужных пользователей, дни августа и количество постов в день. В основном запросе сгруппируйте данные по пользователям и найдите для каждого из них среднее количество постов.\n",
    "</details>"
   ]
  },
  {
   "cell_type": "markdown",
   "metadata": {
    "id": "EQ0dcFH4DWK5"
   },
   "source": [
    "## Задание 6"
   ]
  },
  {
   "cell_type": "markdown",
   "metadata": {
    "id": "c7flfg_hDWK5"
   },
   "source": [
    "Сколько в среднем дней в период с 1 по 7 декабря 2008 года пользователи взаимодействовали с платформой? Для каждого пользователя отберите дни, в которые он или она опубликовали хотя бы один пост. Нужно получить одно целое число — не забудьте округлить результат. "
   ]
  },
  {
   "cell_type": "markdown",
   "metadata": {
    "id": "RC1Ibzm9DWK6"
   },
   "source": [
    "| result |\n",
    "| -----  |\n",
    "| <целое число> |"
   ]
  },
  {
   "cell_type": "code",
   "execution_count": 15,
   "metadata": {
    "id": "kZ7LXTr6DWK6"
   },
   "outputs": [
    {
     "data": {
      "text/html": [
       "<div>\n",
       "<style scoped>\n",
       "    .dataframe tbody tr th:only-of-type {\n",
       "        vertical-align: middle;\n",
       "    }\n",
       "\n",
       "    .dataframe tbody tr th {\n",
       "        vertical-align: top;\n",
       "    }\n",
       "\n",
       "    .dataframe thead th {\n",
       "        text-align: right;\n",
       "    }\n",
       "</style>\n",
       "<table border=\"1\" class=\"dataframe\">\n",
       "  <thead>\n",
       "    <tr style=\"text-align: right;\">\n",
       "      <th></th>\n",
       "      <th>result</th>\n",
       "    </tr>\n",
       "  </thead>\n",
       "  <tbody>\n",
       "    <tr>\n",
       "      <th>0</th>\n",
       "      <td>2.0</td>\n",
       "    </tr>\n",
       "  </tbody>\n",
       "</table>\n",
       "</div>"
      ],
      "text/plain": [
       "   result\n",
       "0     2.0"
      ]
     },
     "metadata": {},
     "output_type": "display_data"
    }
   ],
   "source": [
    "# напишите запрос\n",
    "query = '''\n",
    "WITH usdays AS \n",
    "    (SELECT user_id,\n",
    "            COUNT(DISTINCT creation_date::date) AS actdays\n",
    "     FROM stackoverflow.posts\n",
    "     WHERE creation_date::date BETWEEN '2008-12-01' AND '2008-12-07' \n",
    "     GROUP BY user_id)\n",
    "                                       \n",
    "SELECT ROUND(AVG(actdays)) AS result\n",
    "FROM usdays;\n",
    "'''\n",
    "\n",
    "# выполните запрос\n",
    "avg_days = pd.read_sql_query(query, con=engine)\n",
    "display(avg_days)"
   ]
  },
  {
   "cell_type": "markdown",
   "metadata": {
    "id": "2K5G3xuBDWK7"
   },
   "source": [
    "<details>\n",
    "\n",
    "<summary>Подсказка</summary>\n",
    "Посчитайте, сколько активных дней было у каждого пользователя. Добавьте данные во временную таблицу и используйте в основном запросе.\n",
    "</details>"
   ]
  },
  {
   "cell_type": "markdown",
   "metadata": {
    "id": "UJFtNNggDWK7"
   },
   "source": [
    "Проанализируйте итоговую таблицу — какие выводы можно сделать?"
   ]
  },
  {
   "cell_type": "markdown",
   "metadata": {
    "id": "LfUuYz-1DWK8"
   },
   "source": [
    "В среднем в первую неделю декабря 2008 года пользователи активны 2 дня. Возможно, активничать 7 дней в неделю не дало общее беспокойство и интерес к новостям о разгоне марша протеста в Зимбабве, или извержения вулкана на Каматке, или предоставлении Википедии 100 тыс архивных фото из Федерального архива Германии? https://en.wikipedia.org/wiki/Portal:Current_events/December_2008"
   ]
  },
  {
   "cell_type": "markdown",
   "metadata": {
    "id": "wfOmqmfLDWK8"
   },
   "source": [
    "## Задание 7"
   ]
  },
  {
   "cell_type": "markdown",
   "metadata": {
    "id": "X4ARQimADWK9"
   },
   "source": [
    "Выведите историю активности каждого пользователя в таком виде: идентификатор пользователя, дата публикации поста. Отсортируйте вывод по возрастанию идентификаторов пользователей, а для каждого пользователя — по возрастанию даты публикации.\n",
    "\n",
    "Добавьте в таблицу новое поле: для каждого поста в нём будет указано название месяца предпоследней публикации пользователя относительно текущей. Если такой публикации нет, укажите `NULL`.  Python автоматически поменяет `NULL` на `None`, но дополнительно преобразовывать значения `None` вам не нужно.\n",
    "\n",
    "Посмотрите внимательно на образец таблицы: для первых двух постов предпоследней публикации нет, но, начиная с третьего поста, в новое поле входит нужный месяц. Для следующего пользователя в первые две записи поля `second_last_month` тоже войдёт `NULL`."
   ]
  },
  {
   "cell_type": "markdown",
   "metadata": {
    "id": "IGPjRP01DWK9"
   },
   "source": [
    "| user_id | creation_date | second_last_month |\n",
    "| ------- | ------------- | ----------------- |\n",
    "| 1       | 2008-07-31 23:41:00 | None |\n",
    "| 1       | 2008-07-31 23:55:38 | None |\n",
    "| 1       | 2008-07-31 23:56:41 | July |\n",
    "| 1       | 2008-08-04 02:45:08 | July |\n",
    "| 1       | 2008-08-04 04:31:03 | July |\n",
    "| 1       | 2008-08-04 08:04:42 | August |\n",
    "| ... | ... | ... |"
   ]
  },
  {
   "cell_type": "code",
   "execution_count": 16,
   "metadata": {
    "id": "HzI1vhaMDWK-"
   },
   "outputs": [
    {
     "data": {
      "text/html": [
       "<div>\n",
       "<style scoped>\n",
       "    .dataframe tbody tr th:only-of-type {\n",
       "        vertical-align: middle;\n",
       "    }\n",
       "\n",
       "    .dataframe tbody tr th {\n",
       "        vertical-align: top;\n",
       "    }\n",
       "\n",
       "    .dataframe thead th {\n",
       "        text-align: right;\n",
       "    }\n",
       "</style>\n",
       "<table border=\"1\" class=\"dataframe\">\n",
       "  <thead>\n",
       "    <tr style=\"text-align: right;\">\n",
       "      <th></th>\n",
       "      <th>user_id</th>\n",
       "      <th>creation_date</th>\n",
       "      <th>second_last_month</th>\n",
       "    </tr>\n",
       "  </thead>\n",
       "  <tbody>\n",
       "    <tr>\n",
       "      <th>0</th>\n",
       "      <td>1</td>\n",
       "      <td>2008-07-31 23:41:00</td>\n",
       "      <td>None</td>\n",
       "    </tr>\n",
       "    <tr>\n",
       "      <th>1</th>\n",
       "      <td>1</td>\n",
       "      <td>2008-07-31 23:55:38</td>\n",
       "      <td>None</td>\n",
       "    </tr>\n",
       "    <tr>\n",
       "      <th>2</th>\n",
       "      <td>1</td>\n",
       "      <td>2008-07-31 23:56:41</td>\n",
       "      <td>July</td>\n",
       "    </tr>\n",
       "    <tr>\n",
       "      <th>3</th>\n",
       "      <td>1</td>\n",
       "      <td>2008-08-04 02:45:08</td>\n",
       "      <td>July</td>\n",
       "    </tr>\n",
       "    <tr>\n",
       "      <th>4</th>\n",
       "      <td>1</td>\n",
       "      <td>2008-08-04 04:31:03</td>\n",
       "      <td>July</td>\n",
       "    </tr>\n",
       "    <tr>\n",
       "      <th>...</th>\n",
       "      <td>...</td>\n",
       "      <td>...</td>\n",
       "      <td>...</td>\n",
       "    </tr>\n",
       "    <tr>\n",
       "      <th>243791</th>\n",
       "      <td>5696608</td>\n",
       "      <td>2008-12-23 16:00:37</td>\n",
       "      <td>December</td>\n",
       "    </tr>\n",
       "    <tr>\n",
       "      <th>243792</th>\n",
       "      <td>5696608</td>\n",
       "      <td>2008-12-23 17:35:09</td>\n",
       "      <td>December</td>\n",
       "    </tr>\n",
       "    <tr>\n",
       "      <th>243793</th>\n",
       "      <td>5696608</td>\n",
       "      <td>2008-12-24 01:02:48</td>\n",
       "      <td>December</td>\n",
       "    </tr>\n",
       "    <tr>\n",
       "      <th>243794</th>\n",
       "      <td>5696608</td>\n",
       "      <td>2008-12-30 14:34:45</td>\n",
       "      <td>December</td>\n",
       "    </tr>\n",
       "    <tr>\n",
       "      <th>243795</th>\n",
       "      <td>5696608</td>\n",
       "      <td>2008-12-30 16:32:12</td>\n",
       "      <td>December</td>\n",
       "    </tr>\n",
       "  </tbody>\n",
       "</table>\n",
       "<p>243796 rows × 3 columns</p>\n",
       "</div>"
      ],
      "text/plain": [
       "        user_id       creation_date second_last_month\n",
       "0             1 2008-07-31 23:41:00              None\n",
       "1             1 2008-07-31 23:55:38              None\n",
       "2             1 2008-07-31 23:56:41              July\n",
       "3             1 2008-08-04 02:45:08              July\n",
       "4             1 2008-08-04 04:31:03              July\n",
       "...         ...                 ...               ...\n",
       "243791  5696608 2008-12-23 16:00:37          December\n",
       "243792  5696608 2008-12-23 17:35:09          December\n",
       "243793  5696608 2008-12-24 01:02:48          December\n",
       "243794  5696608 2008-12-30 14:34:45          December\n",
       "243795  5696608 2008-12-30 16:32:12          December\n",
       "\n",
       "[243796 rows x 3 columns]"
      ]
     },
     "metadata": {},
     "output_type": "display_data"
    }
   ],
   "source": [
    "# напишите запрос\n",
    "query = '''\n",
    "SELECT user_id,\n",
    "       creation_date,\n",
    "       CASE \n",
    "           EXTRACT('month' FROM LAG (creation_date, 2) OVER(PARTITION BY user_id ORDER BY creation_date))\n",
    "           WHEN 1 THEN 'January'\n",
    "           WHEN 2 THEN 'February'\n",
    "           WHEN 3 THEN 'March'\n",
    "           WHEN 4 THEN 'April'\n",
    "           WHEN 5 THEN 'May'\n",
    "           WHEN 6 THEN 'June'\n",
    "           WHEN 7 THEN 'July'\n",
    "           WHEN 8 THEN 'August'\n",
    "           WHEN 9 THEN 'September'\n",
    "           WHEN 10 THEN 'October'\n",
    "           WHEN 11 THEN 'November'\n",
    "           WHEN 12 THEN 'December'\n",
    "       END AS second_last_month\n",
    "       \n",
    "FROM stackoverflow.posts\n",
    "ORDER BY user_id, creation_date;\n",
    "           \n",
    "'''\n",
    "\n",
    "# выполните запрос\n",
    "prev_mon = pd.read_sql_query(query, con=engine)\n",
    "display(prev_mon)"
   ]
  },
  {
   "cell_type": "markdown",
   "metadata": {
    "id": "7dqoKkncDWK_"
   },
   "source": [
    "<details>\n",
    "\n",
    "<summary>Подсказка</summary>\n",
    "Преобразовать результат оконной функции в нужное значение вам поможет аналог условного оператора в SQL: CASE <поле> WHEN <старое значение> THEN <новое значение> END.\n",
    "</details>"
   ]
  },
  {
   "cell_type": "code",
   "execution_count": 17,
   "metadata": {},
   "outputs": [
    {
     "ename": "ProgrammingError",
     "evalue": "(psycopg2.errors.SyntaxError) syntax error at or near \"FROM\"\nLINE 7: FROM stackoverflow.posts\n        ^\n\n[SQL: \nSELECT user_id,\n       creation_date,\n       TO_CHAR(EXTRACT('month' FROM LAG (creation_date, 2) OVER(PARTITION BY user_id ORDER BY creation_date)), \n          second_last_month\n       \nFROM stackoverflow.posts\nORDER BY user_id, creation_date;\n           \n]\n(Background on this error at: http://sqlalche.me/e/14/f405)",
     "output_type": "error",
     "traceback": [
      "\u001b[0;31m---------------------------------------------------------------------------\u001b[0m",
      "\u001b[0;31mSyntaxError\u001b[0m                               Traceback (most recent call last)",
      "\u001b[0;32m/opt/conda/lib/python3.9/site-packages/sqlalchemy/engine/base.py\u001b[0m in \u001b[0;36m_execute_context\u001b[0;34m(self, dialect, constructor, statement, parameters, execution_options, *args, **kw)\u001b[0m\n\u001b[1;32m   1769\u001b[0m                 \u001b[0;32mif\u001b[0m \u001b[0;32mnot\u001b[0m \u001b[0mevt_handled\u001b[0m\u001b[0;34m:\u001b[0m\u001b[0;34m\u001b[0m\u001b[0;34m\u001b[0m\u001b[0m\n\u001b[0;32m-> 1770\u001b[0;31m                     self.dialect.do_execute(\n\u001b[0m\u001b[1;32m   1771\u001b[0m                         \u001b[0mcursor\u001b[0m\u001b[0;34m,\u001b[0m \u001b[0mstatement\u001b[0m\u001b[0;34m,\u001b[0m \u001b[0mparameters\u001b[0m\u001b[0;34m,\u001b[0m \u001b[0mcontext\u001b[0m\u001b[0;34m\u001b[0m\u001b[0;34m\u001b[0m\u001b[0m\n",
      "\u001b[0;32m/opt/conda/lib/python3.9/site-packages/sqlalchemy/engine/default.py\u001b[0m in \u001b[0;36mdo_execute\u001b[0;34m(self, cursor, statement, parameters, context)\u001b[0m\n\u001b[1;32m    716\u001b[0m     \u001b[0;32mdef\u001b[0m \u001b[0mdo_execute\u001b[0m\u001b[0;34m(\u001b[0m\u001b[0mself\u001b[0m\u001b[0;34m,\u001b[0m \u001b[0mcursor\u001b[0m\u001b[0;34m,\u001b[0m \u001b[0mstatement\u001b[0m\u001b[0;34m,\u001b[0m \u001b[0mparameters\u001b[0m\u001b[0;34m,\u001b[0m \u001b[0mcontext\u001b[0m\u001b[0;34m=\u001b[0m\u001b[0;32mNone\u001b[0m\u001b[0;34m)\u001b[0m\u001b[0;34m:\u001b[0m\u001b[0;34m\u001b[0m\u001b[0;34m\u001b[0m\u001b[0m\n\u001b[0;32m--> 717\u001b[0;31m         \u001b[0mcursor\u001b[0m\u001b[0;34m.\u001b[0m\u001b[0mexecute\u001b[0m\u001b[0;34m(\u001b[0m\u001b[0mstatement\u001b[0m\u001b[0;34m,\u001b[0m \u001b[0mparameters\u001b[0m\u001b[0;34m)\u001b[0m\u001b[0;34m\u001b[0m\u001b[0;34m\u001b[0m\u001b[0m\n\u001b[0m\u001b[1;32m    718\u001b[0m \u001b[0;34m\u001b[0m\u001b[0m\n",
      "\u001b[0;31mSyntaxError\u001b[0m: syntax error at or near \"FROM\"\nLINE 7: FROM stackoverflow.posts\n        ^\n",
      "\nThe above exception was the direct cause of the following exception:\n",
      "\u001b[0;31mProgrammingError\u001b[0m                          Traceback (most recent call last)",
      "\u001b[0;32m/tmp/ipykernel_129/518771161.py\u001b[0m in \u001b[0;36m<module>\u001b[0;34m\u001b[0m\n\u001b[1;32m     11\u001b[0m \u001b[0;34m\u001b[0m\u001b[0m\n\u001b[1;32m     12\u001b[0m \u001b[0;31m# выполните запрос\u001b[0m\u001b[0;34m\u001b[0m\u001b[0;34m\u001b[0m\u001b[0;34m\u001b[0m\u001b[0m\n\u001b[0;32m---> 13\u001b[0;31m \u001b[0mtes\u001b[0m \u001b[0;34m=\u001b[0m \u001b[0mpd\u001b[0m\u001b[0;34m.\u001b[0m\u001b[0mread_sql_query\u001b[0m\u001b[0;34m(\u001b[0m\u001b[0mquery\u001b[0m\u001b[0;34m,\u001b[0m \u001b[0mcon\u001b[0m\u001b[0;34m=\u001b[0m\u001b[0mengine\u001b[0m\u001b[0;34m)\u001b[0m\u001b[0;34m\u001b[0m\u001b[0;34m\u001b[0m\u001b[0m\n\u001b[0m\u001b[1;32m     14\u001b[0m \u001b[0mdisplay\u001b[0m\u001b[0;34m(\u001b[0m\u001b[0mtest\u001b[0m\u001b[0;34m)\u001b[0m\u001b[0;34m\u001b[0m\u001b[0;34m\u001b[0m\u001b[0m\n",
      "\u001b[0;32m/opt/conda/lib/python3.9/site-packages/pandas/io/sql.py\u001b[0m in \u001b[0;36mread_sql_query\u001b[0;34m(sql, con, index_col, coerce_float, params, parse_dates, chunksize)\u001b[0m\n\u001b[1;32m    386\u001b[0m     \"\"\"\n\u001b[1;32m    387\u001b[0m     \u001b[0mpandas_sql\u001b[0m \u001b[0;34m=\u001b[0m \u001b[0mpandasSQL_builder\u001b[0m\u001b[0;34m(\u001b[0m\u001b[0mcon\u001b[0m\u001b[0;34m)\u001b[0m\u001b[0;34m\u001b[0m\u001b[0;34m\u001b[0m\u001b[0m\n\u001b[0;32m--> 388\u001b[0;31m     return pandas_sql.read_query(\n\u001b[0m\u001b[1;32m    389\u001b[0m         \u001b[0msql\u001b[0m\u001b[0;34m,\u001b[0m\u001b[0;34m\u001b[0m\u001b[0;34m\u001b[0m\u001b[0m\n\u001b[1;32m    390\u001b[0m         \u001b[0mindex_col\u001b[0m\u001b[0;34m=\u001b[0m\u001b[0mindex_col\u001b[0m\u001b[0;34m,\u001b[0m\u001b[0;34m\u001b[0m\u001b[0;34m\u001b[0m\u001b[0m\n",
      "\u001b[0;32m/opt/conda/lib/python3.9/site-packages/pandas/io/sql.py\u001b[0m in \u001b[0;36mread_query\u001b[0;34m(self, sql, index_col, coerce_float, parse_dates, params, chunksize)\u001b[0m\n\u001b[1;32m   1306\u001b[0m         \u001b[0margs\u001b[0m \u001b[0;34m=\u001b[0m \u001b[0m_convert_params\u001b[0m\u001b[0;34m(\u001b[0m\u001b[0msql\u001b[0m\u001b[0;34m,\u001b[0m \u001b[0mparams\u001b[0m\u001b[0;34m)\u001b[0m\u001b[0;34m\u001b[0m\u001b[0;34m\u001b[0m\u001b[0m\n\u001b[1;32m   1307\u001b[0m \u001b[0;34m\u001b[0m\u001b[0m\n\u001b[0;32m-> 1308\u001b[0;31m         \u001b[0mresult\u001b[0m \u001b[0;34m=\u001b[0m \u001b[0mself\u001b[0m\u001b[0;34m.\u001b[0m\u001b[0mexecute\u001b[0m\u001b[0;34m(\u001b[0m\u001b[0;34m*\u001b[0m\u001b[0margs\u001b[0m\u001b[0;34m)\u001b[0m\u001b[0;34m\u001b[0m\u001b[0;34m\u001b[0m\u001b[0m\n\u001b[0m\u001b[1;32m   1309\u001b[0m         \u001b[0mcolumns\u001b[0m \u001b[0;34m=\u001b[0m \u001b[0mresult\u001b[0m\u001b[0;34m.\u001b[0m\u001b[0mkeys\u001b[0m\u001b[0;34m(\u001b[0m\u001b[0;34m)\u001b[0m\u001b[0;34m\u001b[0m\u001b[0;34m\u001b[0m\u001b[0m\n\u001b[1;32m   1310\u001b[0m \u001b[0;34m\u001b[0m\u001b[0m\n",
      "\u001b[0;32m/opt/conda/lib/python3.9/site-packages/pandas/io/sql.py\u001b[0m in \u001b[0;36mexecute\u001b[0;34m(self, *args, **kwargs)\u001b[0m\n\u001b[1;32m   1174\u001b[0m     \u001b[0;32mdef\u001b[0m \u001b[0mexecute\u001b[0m\u001b[0;34m(\u001b[0m\u001b[0mself\u001b[0m\u001b[0;34m,\u001b[0m \u001b[0;34m*\u001b[0m\u001b[0margs\u001b[0m\u001b[0;34m,\u001b[0m \u001b[0;34m**\u001b[0m\u001b[0mkwargs\u001b[0m\u001b[0;34m)\u001b[0m\u001b[0;34m:\u001b[0m\u001b[0;34m\u001b[0m\u001b[0;34m\u001b[0m\u001b[0m\n\u001b[1;32m   1175\u001b[0m         \u001b[0;34m\"\"\"Simple passthrough to SQLAlchemy connectable\"\"\"\u001b[0m\u001b[0;34m\u001b[0m\u001b[0;34m\u001b[0m\u001b[0m\n\u001b[0;32m-> 1176\u001b[0;31m         \u001b[0;32mreturn\u001b[0m \u001b[0mself\u001b[0m\u001b[0;34m.\u001b[0m\u001b[0mconnectable\u001b[0m\u001b[0;34m.\u001b[0m\u001b[0mexecution_options\u001b[0m\u001b[0;34m(\u001b[0m\u001b[0;34m)\u001b[0m\u001b[0;34m.\u001b[0m\u001b[0mexecute\u001b[0m\u001b[0;34m(\u001b[0m\u001b[0;34m*\u001b[0m\u001b[0margs\u001b[0m\u001b[0;34m,\u001b[0m \u001b[0;34m**\u001b[0m\u001b[0mkwargs\u001b[0m\u001b[0;34m)\u001b[0m\u001b[0;34m\u001b[0m\u001b[0;34m\u001b[0m\u001b[0m\n\u001b[0m\u001b[1;32m   1177\u001b[0m \u001b[0;34m\u001b[0m\u001b[0m\n\u001b[1;32m   1178\u001b[0m     def read_table(\n",
      "\u001b[0;32m<string>\u001b[0m in \u001b[0;36mexecute\u001b[0;34m(self, statement, *multiparams, **params)\u001b[0m\n",
      "\u001b[0;32m/opt/conda/lib/python3.9/site-packages/sqlalchemy/util/deprecations.py\u001b[0m in \u001b[0;36mwarned\u001b[0;34m(fn, *args, **kwargs)\u001b[0m\n\u001b[1;32m    388\u001b[0m         \u001b[0;32mif\u001b[0m \u001b[0;32mnot\u001b[0m \u001b[0mskip_warning\u001b[0m\u001b[0;34m:\u001b[0m\u001b[0;34m\u001b[0m\u001b[0;34m\u001b[0m\u001b[0m\n\u001b[1;32m    389\u001b[0m             \u001b[0m_warn_with_version\u001b[0m\u001b[0;34m(\u001b[0m\u001b[0mmessage\u001b[0m\u001b[0;34m,\u001b[0m \u001b[0mversion\u001b[0m\u001b[0;34m,\u001b[0m \u001b[0mwtype\u001b[0m\u001b[0;34m,\u001b[0m \u001b[0mstacklevel\u001b[0m\u001b[0;34m=\u001b[0m\u001b[0;36m3\u001b[0m\u001b[0;34m)\u001b[0m\u001b[0;34m\u001b[0m\u001b[0;34m\u001b[0m\u001b[0m\n\u001b[0;32m--> 390\u001b[0;31m         \u001b[0;32mreturn\u001b[0m \u001b[0mfn\u001b[0m\u001b[0;34m(\u001b[0m\u001b[0;34m*\u001b[0m\u001b[0margs\u001b[0m\u001b[0;34m,\u001b[0m \u001b[0;34m**\u001b[0m\u001b[0mkwargs\u001b[0m\u001b[0;34m)\u001b[0m\u001b[0;34m\u001b[0m\u001b[0;34m\u001b[0m\u001b[0m\n\u001b[0m\u001b[1;32m    391\u001b[0m \u001b[0;34m\u001b[0m\u001b[0m\n\u001b[1;32m    392\u001b[0m     \u001b[0mdoc\u001b[0m \u001b[0;34m=\u001b[0m \u001b[0mfunc\u001b[0m\u001b[0;34m.\u001b[0m\u001b[0m__doc__\u001b[0m \u001b[0;32mis\u001b[0m \u001b[0;32mnot\u001b[0m \u001b[0;32mNone\u001b[0m \u001b[0;32mand\u001b[0m \u001b[0mfunc\u001b[0m\u001b[0;34m.\u001b[0m\u001b[0m__doc__\u001b[0m \u001b[0;32mor\u001b[0m \u001b[0;34m\"\"\u001b[0m\u001b[0;34m\u001b[0m\u001b[0;34m\u001b[0m\u001b[0m\n",
      "\u001b[0;32m/opt/conda/lib/python3.9/site-packages/sqlalchemy/engine/base.py\u001b[0m in \u001b[0;36mexecute\u001b[0;34m(self, statement, *multiparams, **params)\u001b[0m\n\u001b[1;32m   3106\u001b[0m         \"\"\"\n\u001b[1;32m   3107\u001b[0m         \u001b[0mconnection\u001b[0m \u001b[0;34m=\u001b[0m \u001b[0mself\u001b[0m\u001b[0;34m.\u001b[0m\u001b[0mconnect\u001b[0m\u001b[0;34m(\u001b[0m\u001b[0mclose_with_result\u001b[0m\u001b[0;34m=\u001b[0m\u001b[0;32mTrue\u001b[0m\u001b[0;34m)\u001b[0m\u001b[0;34m\u001b[0m\u001b[0;34m\u001b[0m\u001b[0m\n\u001b[0;32m-> 3108\u001b[0;31m         \u001b[0;32mreturn\u001b[0m \u001b[0mconnection\u001b[0m\u001b[0;34m.\u001b[0m\u001b[0mexecute\u001b[0m\u001b[0;34m(\u001b[0m\u001b[0mstatement\u001b[0m\u001b[0;34m,\u001b[0m \u001b[0;34m*\u001b[0m\u001b[0mmultiparams\u001b[0m\u001b[0;34m,\u001b[0m \u001b[0;34m**\u001b[0m\u001b[0mparams\u001b[0m\u001b[0;34m)\u001b[0m\u001b[0;34m\u001b[0m\u001b[0;34m\u001b[0m\u001b[0m\n\u001b[0m\u001b[1;32m   3109\u001b[0m \u001b[0;34m\u001b[0m\u001b[0m\n\u001b[1;32m   3110\u001b[0m     @util.deprecated_20(\n",
      "\u001b[0;32m/opt/conda/lib/python3.9/site-packages/sqlalchemy/engine/base.py\u001b[0m in \u001b[0;36mexecute\u001b[0;34m(self, statement, *multiparams, **params)\u001b[0m\n\u001b[1;32m   1245\u001b[0m             )\n\u001b[1;32m   1246\u001b[0m \u001b[0;34m\u001b[0m\u001b[0m\n\u001b[0;32m-> 1247\u001b[0;31m             return self._exec_driver_sql(\n\u001b[0m\u001b[1;32m   1248\u001b[0m                 \u001b[0mstatement\u001b[0m\u001b[0;34m,\u001b[0m\u001b[0;34m\u001b[0m\u001b[0;34m\u001b[0m\u001b[0m\n\u001b[1;32m   1249\u001b[0m                 \u001b[0mmultiparams\u001b[0m\u001b[0;34m,\u001b[0m\u001b[0;34m\u001b[0m\u001b[0;34m\u001b[0m\u001b[0m\n",
      "\u001b[0;32m/opt/conda/lib/python3.9/site-packages/sqlalchemy/engine/base.py\u001b[0m in \u001b[0;36m_exec_driver_sql\u001b[0;34m(self, statement, multiparams, params, execution_options, future)\u001b[0m\n\u001b[1;32m   1544\u001b[0m \u001b[0;34m\u001b[0m\u001b[0m\n\u001b[1;32m   1545\u001b[0m         \u001b[0mdialect\u001b[0m \u001b[0;34m=\u001b[0m \u001b[0mself\u001b[0m\u001b[0;34m.\u001b[0m\u001b[0mdialect\u001b[0m\u001b[0;34m\u001b[0m\u001b[0;34m\u001b[0m\u001b[0m\n\u001b[0;32m-> 1546\u001b[0;31m         ret = self._execute_context(\n\u001b[0m\u001b[1;32m   1547\u001b[0m             \u001b[0mdialect\u001b[0m\u001b[0;34m,\u001b[0m\u001b[0;34m\u001b[0m\u001b[0;34m\u001b[0m\u001b[0m\n\u001b[1;32m   1548\u001b[0m             \u001b[0mdialect\u001b[0m\u001b[0;34m.\u001b[0m\u001b[0mexecution_ctx_cls\u001b[0m\u001b[0;34m.\u001b[0m\u001b[0m_init_statement\u001b[0m\u001b[0;34m,\u001b[0m\u001b[0;34m\u001b[0m\u001b[0;34m\u001b[0m\u001b[0m\n",
      "\u001b[0;32m/opt/conda/lib/python3.9/site-packages/sqlalchemy/engine/base.py\u001b[0m in \u001b[0;36m_execute_context\u001b[0;34m(self, dialect, constructor, statement, parameters, execution_options, *args, **kw)\u001b[0m\n\u001b[1;32m   1811\u001b[0m \u001b[0;34m\u001b[0m\u001b[0m\n\u001b[1;32m   1812\u001b[0m         \u001b[0;32mexcept\u001b[0m \u001b[0mBaseException\u001b[0m \u001b[0;32mas\u001b[0m \u001b[0me\u001b[0m\u001b[0;34m:\u001b[0m\u001b[0;34m\u001b[0m\u001b[0;34m\u001b[0m\u001b[0m\n\u001b[0;32m-> 1813\u001b[0;31m             self._handle_dbapi_exception(\n\u001b[0m\u001b[1;32m   1814\u001b[0m                 \u001b[0me\u001b[0m\u001b[0;34m,\u001b[0m \u001b[0mstatement\u001b[0m\u001b[0;34m,\u001b[0m \u001b[0mparameters\u001b[0m\u001b[0;34m,\u001b[0m \u001b[0mcursor\u001b[0m\u001b[0;34m,\u001b[0m \u001b[0mcontext\u001b[0m\u001b[0;34m\u001b[0m\u001b[0;34m\u001b[0m\u001b[0m\n\u001b[1;32m   1815\u001b[0m             )\n",
      "\u001b[0;32m/opt/conda/lib/python3.9/site-packages/sqlalchemy/engine/base.py\u001b[0m in \u001b[0;36m_handle_dbapi_exception\u001b[0;34m(self, e, statement, parameters, cursor, context)\u001b[0m\n\u001b[1;32m   1992\u001b[0m                 \u001b[0mutil\u001b[0m\u001b[0;34m.\u001b[0m\u001b[0mraise_\u001b[0m\u001b[0;34m(\u001b[0m\u001b[0mnewraise\u001b[0m\u001b[0;34m,\u001b[0m \u001b[0mwith_traceback\u001b[0m\u001b[0;34m=\u001b[0m\u001b[0mexc_info\u001b[0m\u001b[0;34m[\u001b[0m\u001b[0;36m2\u001b[0m\u001b[0;34m]\u001b[0m\u001b[0;34m,\u001b[0m \u001b[0mfrom_\u001b[0m\u001b[0;34m=\u001b[0m\u001b[0me\u001b[0m\u001b[0;34m)\u001b[0m\u001b[0;34m\u001b[0m\u001b[0;34m\u001b[0m\u001b[0m\n\u001b[1;32m   1993\u001b[0m             \u001b[0;32melif\u001b[0m \u001b[0mshould_wrap\u001b[0m\u001b[0;34m:\u001b[0m\u001b[0;34m\u001b[0m\u001b[0;34m\u001b[0m\u001b[0m\n\u001b[0;32m-> 1994\u001b[0;31m                 util.raise_(\n\u001b[0m\u001b[1;32m   1995\u001b[0m                     \u001b[0msqlalchemy_exception\u001b[0m\u001b[0;34m,\u001b[0m \u001b[0mwith_traceback\u001b[0m\u001b[0;34m=\u001b[0m\u001b[0mexc_info\u001b[0m\u001b[0;34m[\u001b[0m\u001b[0;36m2\u001b[0m\u001b[0;34m]\u001b[0m\u001b[0;34m,\u001b[0m \u001b[0mfrom_\u001b[0m\u001b[0;34m=\u001b[0m\u001b[0me\u001b[0m\u001b[0;34m\u001b[0m\u001b[0;34m\u001b[0m\u001b[0m\n\u001b[1;32m   1996\u001b[0m                 )\n",
      "\u001b[0;32m/opt/conda/lib/python3.9/site-packages/sqlalchemy/util/compat.py\u001b[0m in \u001b[0;36mraise_\u001b[0;34m(***failed resolving arguments***)\u001b[0m\n\u001b[1;32m    209\u001b[0m \u001b[0;34m\u001b[0m\u001b[0m\n\u001b[1;32m    210\u001b[0m         \u001b[0;32mtry\u001b[0m\u001b[0;34m:\u001b[0m\u001b[0;34m\u001b[0m\u001b[0;34m\u001b[0m\u001b[0m\n\u001b[0;32m--> 211\u001b[0;31m             \u001b[0;32mraise\u001b[0m \u001b[0mexception\u001b[0m\u001b[0;34m\u001b[0m\u001b[0;34m\u001b[0m\u001b[0m\n\u001b[0m\u001b[1;32m    212\u001b[0m         \u001b[0;32mfinally\u001b[0m\u001b[0;34m:\u001b[0m\u001b[0;34m\u001b[0m\u001b[0;34m\u001b[0m\u001b[0m\n\u001b[1;32m    213\u001b[0m             \u001b[0;31m# credit to\u001b[0m\u001b[0;34m\u001b[0m\u001b[0;34m\u001b[0m\u001b[0;34m\u001b[0m\u001b[0m\n",
      "\u001b[0;32m/opt/conda/lib/python3.9/site-packages/sqlalchemy/engine/base.py\u001b[0m in \u001b[0;36m_execute_context\u001b[0;34m(self, dialect, constructor, statement, parameters, execution_options, *args, **kw)\u001b[0m\n\u001b[1;32m   1768\u001b[0m                             \u001b[0;32mbreak\u001b[0m\u001b[0;34m\u001b[0m\u001b[0;34m\u001b[0m\u001b[0m\n\u001b[1;32m   1769\u001b[0m                 \u001b[0;32mif\u001b[0m \u001b[0;32mnot\u001b[0m \u001b[0mevt_handled\u001b[0m\u001b[0;34m:\u001b[0m\u001b[0;34m\u001b[0m\u001b[0;34m\u001b[0m\u001b[0m\n\u001b[0;32m-> 1770\u001b[0;31m                     self.dialect.do_execute(\n\u001b[0m\u001b[1;32m   1771\u001b[0m                         \u001b[0mcursor\u001b[0m\u001b[0;34m,\u001b[0m \u001b[0mstatement\u001b[0m\u001b[0;34m,\u001b[0m \u001b[0mparameters\u001b[0m\u001b[0;34m,\u001b[0m \u001b[0mcontext\u001b[0m\u001b[0;34m\u001b[0m\u001b[0;34m\u001b[0m\u001b[0m\n\u001b[1;32m   1772\u001b[0m                     )\n",
      "\u001b[0;32m/opt/conda/lib/python3.9/site-packages/sqlalchemy/engine/default.py\u001b[0m in \u001b[0;36mdo_execute\u001b[0;34m(self, cursor, statement, parameters, context)\u001b[0m\n\u001b[1;32m    715\u001b[0m \u001b[0;34m\u001b[0m\u001b[0m\n\u001b[1;32m    716\u001b[0m     \u001b[0;32mdef\u001b[0m \u001b[0mdo_execute\u001b[0m\u001b[0;34m(\u001b[0m\u001b[0mself\u001b[0m\u001b[0;34m,\u001b[0m \u001b[0mcursor\u001b[0m\u001b[0;34m,\u001b[0m \u001b[0mstatement\u001b[0m\u001b[0;34m,\u001b[0m \u001b[0mparameters\u001b[0m\u001b[0;34m,\u001b[0m \u001b[0mcontext\u001b[0m\u001b[0;34m=\u001b[0m\u001b[0;32mNone\u001b[0m\u001b[0;34m)\u001b[0m\u001b[0;34m:\u001b[0m\u001b[0;34m\u001b[0m\u001b[0;34m\u001b[0m\u001b[0m\n\u001b[0;32m--> 717\u001b[0;31m         \u001b[0mcursor\u001b[0m\u001b[0;34m.\u001b[0m\u001b[0mexecute\u001b[0m\u001b[0;34m(\u001b[0m\u001b[0mstatement\u001b[0m\u001b[0;34m,\u001b[0m \u001b[0mparameters\u001b[0m\u001b[0;34m)\u001b[0m\u001b[0;34m\u001b[0m\u001b[0;34m\u001b[0m\u001b[0m\n\u001b[0m\u001b[1;32m    718\u001b[0m \u001b[0;34m\u001b[0m\u001b[0m\n\u001b[1;32m    719\u001b[0m     \u001b[0;32mdef\u001b[0m \u001b[0mdo_execute_no_params\u001b[0m\u001b[0;34m(\u001b[0m\u001b[0mself\u001b[0m\u001b[0;34m,\u001b[0m \u001b[0mcursor\u001b[0m\u001b[0;34m,\u001b[0m \u001b[0mstatement\u001b[0m\u001b[0;34m,\u001b[0m \u001b[0mcontext\u001b[0m\u001b[0;34m=\u001b[0m\u001b[0;32mNone\u001b[0m\u001b[0;34m)\u001b[0m\u001b[0;34m:\u001b[0m\u001b[0;34m\u001b[0m\u001b[0;34m\u001b[0m\u001b[0m\n",
      "\u001b[0;31mProgrammingError\u001b[0m: (psycopg2.errors.SyntaxError) syntax error at or near \"FROM\"\nLINE 7: FROM stackoverflow.posts\n        ^\n\n[SQL: \nSELECT user_id,\n       creation_date,\n       TO_CHAR(EXTRACT('month' FROM LAG (creation_date, 2) OVER(PARTITION BY user_id ORDER BY creation_date)), \n          second_last_month\n       \nFROM stackoverflow.posts\nORDER BY user_id, creation_date;\n           \n]\n(Background on this error at: http://sqlalche.me/e/14/f405)"
     ]
    }
   ],
   "source": [
    "query = '''\n",
    "SELECT user_id,\n",
    "       creation_date,\n",
    "       TO_CHAR(EXTRACT('month' FROM LAG (creation_date, 2) OVER(PARTITION BY user_id ORDER BY creation_date)), \n",
    "          second_last_month\n",
    "       \n",
    "FROM stackoverflow.posts\n",
    "ORDER BY user_id, creation_date;\n",
    "           \n",
    "'''\n",
    "\n",
    "# выполните запрос\n",
    "tes = pd.read_sql_query(query, con=engine)\n",
    "display(test)"
   ]
  },
  {
   "cell_type": "markdown",
   "metadata": {
    "id": "tf9qq2yzDWK_"
   },
   "source": [
    "## Задание 8"
   ]
  },
  {
   "cell_type": "markdown",
   "metadata": {
    "id": "gfwLVXBYDWLA"
   },
   "source": [
    "Рассчитайте аналог Retention Rate по месяцам для пользователей StackOverflow. Объедините пользователей в когорты по месяцу их первого поста. Возвращение определяйте по наличию поста в текущем месяце. "
   ]
  },
  {
   "cell_type": "markdown",
   "metadata": {
    "id": "kN2ic39WlKpl"
   },
   "source": [
    "| cohort_dt | session_date | users_cnt | cohort_users_cnt | retention_rate |\n",
    "| --- | --- | --- | --- | --- |\n",
    "| 2008-07-01 00:00:00 | 2008-07-01 00:00:00 | 3 | 3 | 100 |\n",
    "| 2008-07-01 00:00:00 | 2008-08-01 00:00:00 | 2 | 3 | 66,67 |\n",
    "| 2008-07-01 00:00:00 | 2008-09-01 00:00:00 | 1 | 3 | 33,33 |\n",
    "| 2008-07-01 00:00:00 | 2008-10-01 00:00:00 | 2 | 3 | 66,67 |\n",
    "| 2008-07-01 00:00:00 | 2008-11-01 00:00:00 | 1 | 3 | 33,33 |\n",
    "| 2008-07-01 00:00:00 | 2008-12-01 00:00:00 | 2 | 3 | 66,67 |\n",
    "| 2008-08-01 00:00:00 | 2008-08-01 00:00:00 | 2151 | 2151 | 100 |\n",
    "| ... | ... | ... | ... | ... |"
   ]
  },
  {
   "cell_type": "code",
   "execution_count": null,
   "metadata": {
    "id": "LUgFmwmTDWLB"
   },
   "outputs": [],
   "source": [
    "# напишите запрос\n",
    "query = '''\n",
    "WITH profile AS\n",
    "    (SELECT user_id,\n",
    "            DATE_TRUNC('month', MIN(creation_date))::date AS cohort_dt,\n",
    "            COUNT(user_id) OVER (PARTITION BY DATE_TRUNC('month', MIN(creation_date))::date) AS cohort_users_cnt\n",
    "    FROM stackoverflow.posts\n",
    "    GROUP BY user_id),\n",
    "\n",
    "sessions AS\n",
    "    (SELECT user_id,\n",
    "            DATE_TRUNC('month',creation_date)::date AS session_date\n",
    "            FROM stackoverflow.posts\n",
    "            GROUP BY user_id,\n",
    "                     session_date)                 \n",
    "\n",
    "SELECT p.cohort_dt,\n",
    "       session_date,\n",
    "       COUNT(p.user_id) AS users_cnt,\n",
    "       cohort_users_cnt,\n",
    "       ROUND (COUNT(p.user_id) *100.0/cohort_users_cnt, 2) AS retention_rate\n",
    "FROM profile p\n",
    "JOIN sessions s ON p.user_id = s.user_id\n",
    "GROUP BY p.cohort_dt,\n",
    "         session_date,\n",
    "         cohort_users_cnt;\n",
    "'''\n",
    "\n",
    "# выполните запрос\n",
    "retention_rate = pd.read_sql_query (query, con = engine)\n",
    "display(retention_rate)\n"
   ]
  },
  {
   "cell_type": "markdown",
   "metadata": {
    "id": "Yavb5o9JDWLB"
   },
   "source": [
    "<details>\n",
    "\n",
    "<summary>Подсказка</summary>\n",
    "Вспомните, как выглядел запрос для расчёта Retention Rate в теории. Создайте две временные таблицы: `profile` и `sessions` (в ней будет информация о публикациях), а затем используйте их в основном запросе.\n",
    "\n",
    "Во временной таблице `profile` вам понадобятся три поля:\n",
    "\n",
    "- идентификатор пользователя;\n",
    "- дата первого поста пользователя, усечённая до месяца (признак начала когорты);\n",
    "- количество пользователей этой когорты.\n",
    "</details>"
   ]
  },
  {
   "cell_type": "markdown",
   "metadata": {
    "id": "_msBtnb2DWLC"
   },
   "source": [
    "Постройте тепловую карту Retention Rate. Какие аномалии или другие необычные явления удалось выявить? Сформулируйте гипотезы о возможных причинах."
   ]
  },
  {
   "cell_type": "code",
   "execution_count": null,
   "metadata": {
    "id": "qAEJc8H1DWLC"
   },
   "outputs": [],
   "source": [
    "# постройте тепловую карту Retention Rate\n",
    "retention = retention_rate.pivot('cohort_dt', 'session_date', 'retention_rate')\n",
    "retention.index = [str(x)[0:10] for x in retention.index]\n",
    "retention.columns = [str(x)[0:10] for x in retention.columns]\n",
    "\n",
    "\n",
    "plt.figure(figsize=(15, 10))\n",
    "sns.heatmap(retention,\n",
    "            annot=True,\n",
    "            fmt='')\n",
    "plt.title('Тепловая карта Retention Rate', fontsize=18)\n",
    "plt.xlabel('Дата наблюдения', fontsize=16)\n",
    "plt.ylabel('Месяц когорты', fontsize=16)\n",
    "plt.show() "
   ]
  },
  {
   "cell_type": "markdown",
   "metadata": {},
   "source": [
    "<div class=\"alert alert-info\"  style=\"border-radius: 15px; box-shadow: 4px 4px 4px; border: 1px solid \">\n",
    "    \n",
    "<h2>Комментарий студента v_1: <a class=\"tocSkip\"> </h2>\n",
    "\n",
    "\n",
    "Исправлено.\n",
    "</div>\n",
    "* "
   ]
  },
  {
   "cell_type": "markdown",
   "metadata": {
    "id": "EgOfIsI4DWLC"
   },
   "source": [
    "Когорту июля рассматривать не стоит, т.к. она состоит из 3-х пользователей, которые скорее всего являются тестировщиками. Или это 2 основателя stackoverflow и сын бухгалтера. Какие-либо гипотезы, основываясь на поведении данной когорты, не стоит.\n",
    "\n",
    "Полученный RT соответствует теоретическому, т.е. уменьшается со временем\n",
    "\n",
    "В целом \"помесячное\" удержание в каждой новой когорте уменьшается быстрее. Удержание второго (третьего и четвертого) месяца каждый раз ниже в каждой новой когорте ниже аналогичного RT предыдущей когорты. Что не удивительно, т.к. количество пользователей с сентября падает, хайп проходит, \"система\" стремится к 30% RT"
   ]
  },
  {
   "cell_type": "markdown",
   "metadata": {
    "id": "1k7oPWt5DWLK"
   },
   "source": [
    "## Задание 9\n"
   ]
  },
  {
   "cell_type": "markdown",
   "metadata": {
    "id": "ALsYVSyRDWLM"
   },
   "source": [
    "На сколько процентов менялось количество постов ежемесячно с 1 сентября по 31 декабря 2008 года? Отобразите таблицу со следующими полями:\n",
    "\n",
    "- номер месяца;\n",
    "- количество постов за месяц;\n",
    "- процент, который показывает, насколько изменилось количество постов в текущем месяце по сравнению с предыдущим.\n",
    "\n",
    "Если постов стало меньше, значение процента должно быть отрицательным, если больше — положительным. Округлите значение процента до двух знаков после запятой.\n",
    "\n",
    "Напомним, что при делении одного целого числа на другое в PostgreSQL в результате получится целое число, округлённое до ближайшего целого вниз. Чтобы этого избежать, переведите делимое в тип `numeric`."
   ]
  },
  {
   "cell_type": "markdown",
   "metadata": {
    "id": "u4E2zF8DDWLM"
   },
   "source": [
    "| creation_month | posts_count | percentage |\n",
    "| -------------- | ----------- | ---------- |\n",
    "| 9 | 70731 | Nan |\n",
    "| 10 | 63102 | -10.33 |\n",
    "| ... | ... | ... |"
   ]
  },
  {
   "cell_type": "code",
   "execution_count": null,
   "metadata": {
    "id": "Mb5pShStDWLN"
   },
   "outputs": [],
   "source": [
    "# напишите запрос\n",
    "query = '''\n",
    "WITH monpst AS \n",
    "    (SELECT EXTRACT(MONTH FROM creation_date::date) AS creation_month,\n",
    "            COUNT(id) AS posts_count\n",
    "    FROM stackoverflow.posts\n",
    "    WHERE creation_date::date BETWEEN '2008-09-01' AND '2008-12-31'\n",
    "    GROUP BY creation_month\n",
    "    ORDER BY creation_month)\n",
    "\n",
    "SELECT *,\n",
    "      ROUND(((posts_count::numeric / LAG(posts_count) OVER(ORDER BY creation_month)) - 1) * 100, 2) AS percentage\n",
    "      FROM monpst;\n",
    "'''\n",
    "\n",
    "# выполните запрос\n",
    "perc = pd.read_sql_query (query, con = engine)\n",
    "perc"
   ]
  },
  {
   "cell_type": "markdown",
   "metadata": {
    "id": "G0VSDL4HDWLO"
   },
   "source": [
    "<details>\n",
    "\n",
    "<summary>Подсказка</summary>\n",
    "Эту задачу стоит декомпозировать. Сформируйте запрос, который отобразит номер месяца и количество постов. Затем можно использовать оконную функцию, которая вернёт значение за предыдущий месяц, и посчитать процент.\n",
    "</details>"
   ]
  },
  {
   "cell_type": "markdown",
   "metadata": {
    "id": "9NQE2y_MDWLP"
   },
   "source": [
    "Постройте круговую диаграмму с количеством постов по месяцам."
   ]
  },
  {
   "cell_type": "code",
   "execution_count": null,
   "metadata": {
    "id": "377ABjiVDWLP"
   },
   "outputs": [],
   "source": [
    "# постройте круговую диаграмму с количеством постов по месяцам\n",
    "x = perc['posts_count']\n",
    "lbls = 'месяц № ' + perc['creation_month'].astype(int).astype(str) + ', кол-во постов ' + perc['posts_count'].astype (str)\n",
    "plt.figure(figsize=(10, 10))\n",
    "plt.pie(x, labels = lbls, autopct='%.f%%')\n",
    "plt.title('Количество постов по месяцам')\n",
    "plt.show()"
   ]
  },
  {
   "cell_type": "markdown",
   "metadata": {
    "id": "uw7qMtafDWLP"
   },
   "source": [
    "## Задание 10"
   ]
  },
  {
   "cell_type": "markdown",
   "metadata": {
    "id": "oRBpWKx3DWLQ"
   },
   "source": [
    "Выгрузите данные активности пользователя, который опубликовал больше всего постов за всё время. Выведите данные за октябрь 2008 года в таком виде:\n",
    "\n",
    "- номер недели;\n",
    "- дата и время последнего поста, опубликованного на этой неделе."
   ]
  },
  {
   "cell_type": "markdown",
   "metadata": {
    "id": "XjAWSn_3DWLQ"
   },
   "source": [
    "| week_creation | creation_date |\n",
    "| ------------- | ------------- |\n",
    "| 40 | 2008-10-05 09:00:58 |\n",
    "| 41 | 2008-10-12 21:22:23 |\n",
    "| ... | ... |"
   ]
  },
  {
   "cell_type": "code",
   "execution_count": null,
   "metadata": {
    "id": "r5F5fSkwDWLQ"
   },
   "outputs": [],
   "source": [
    "# напишите запрос\n",
    "query = '''\n",
    "WITH wc AS \n",
    "    (SELECT  EXTRACT(WEEK FROM creation_date)::int AS week_creation,\n",
    "             MAX(creation_date) OVER(ORDER BY EXTRACT(WEEK FROM creation_date)) AS creation_date\n",
    "    FROM stackoverflow.posts \n",
    "    WHERE user_id IN (SELECT user_id\n",
    "                      FROM stackoverflow.posts\n",
    "                      GROUP BY user_id\n",
    "                      ORDER BY COUNT(id) DESC\n",
    "                      LIMIT 1)\n",
    "                  AND DATE_TRUNC('month', creation_date)::date = '2008-10-01'\n",
    "    ORDER BY creation_date)\n",
    "\n",
    "SELECT DISTINCT *\n",
    "FROM wc\n",
    "ORDER BY week_creation;\n",
    "'''\n",
    "\n",
    "# выполните запрос\n",
    "top_user = pd.read_sql_query (query, con = engine)\n",
    "top_user"
   ]
  },
  {
   "cell_type": "markdown",
   "metadata": {
    "id": "KAcmxvLgDWLR"
   },
   "source": [
    "<details>\n",
    "\n",
    "<summary>Подсказка</summary>\n",
    "Декомпозируйте задачу:\n",
    "1) Найдите пользователя, который опубликовал больше всего постов. 2) Найдите дату и время создания каждого поста этого пользователя и номер недели. \n",
    "3) Отобразите данные только о последних постах пользователя. Для этого можно использовать оконную функцию.\n",
    "</details>"
   ]
  },
  {
   "cell_type": "markdown",
   "metadata": {},
   "source": [
    "<div class=\"alert alert-info\"  style=\"border-radius: 15px; box-shadow: 4px 4px 4px; border: 1px solid \">\n",
    "    \n",
    "<h2>Комментарий студента v_1: <a class=\"tocSkip\"> </h2>\n",
    "\n",
    "\n",
    "Добавлено.\n",
    "</div>\n",
    "* "
   ]
  },
  {
   "cell_type": "markdown",
   "metadata": {},
   "source": [
    "# Заключение\n",
    "\n",
    "В рамках текущего задания было продолжено ознакомление с библиотекой SQLAlchemy и созданы новые SQL-запросы с учетом новых более продвинутых и углубленны знаний, отличающизся от базовых знаний SQL.\n",
    "\n",
    "Новые запросы блыи составлены к базе данных StackOverflow, содержащей общую информацию о пользователях портала и их постах, комментариях, вопросах, ответах и оценках в 2008 году. \n",
    "\n",
    "Всего суммарно было составлено 23 запроса в первой и второй частях задания. В описании к некоторым запросам добавлены краткие выводы с небольшим анализом полученных результатов. Также для визуализации результатов отдельных вопросов были построены графики и диаграммы."
   ]
  },
  {
   "cell_type": "code",
   "execution_count": null,
   "metadata": {},
   "outputs": [],
   "source": []
  }
 ],
 "metadata": {
  "ExecuteTimeLog": [
   {
    "duration": 1295,
    "start_time": "2023-04-21T23:18:42.519Z"
   },
   {
    "duration": 5,
    "start_time": "2023-04-21T23:18:45.864Z"
   },
   {
    "duration": 10196,
    "start_time": "2023-04-21T23:18:49.631Z"
   },
   {
    "duration": 226,
    "start_time": "2023-04-21T23:19:02.501Z"
   },
   {
    "duration": 23,
    "start_time": "2023-04-21T23:19:06.739Z"
   },
   {
    "duration": 209,
    "start_time": "2023-04-21T23:24:05.359Z"
   },
   {
    "duration": 162,
    "start_time": "2023-04-21T23:24:14.724Z"
   },
   {
    "duration": 169,
    "start_time": "2023-04-21T23:24:28.420Z"
   },
   {
    "duration": 155,
    "start_time": "2023-04-21T23:26:43.243Z"
   },
   {
    "duration": 102,
    "start_time": "2023-04-21T23:27:11.314Z"
   },
   {
    "duration": 99,
    "start_time": "2023-04-21T23:28:17.723Z"
   },
   {
    "duration": 142,
    "start_time": "2023-04-21T23:29:02.706Z"
   },
   {
    "duration": 105,
    "start_time": "2023-04-21T23:29:28.175Z"
   },
   {
    "duration": 17,
    "start_time": "2023-04-21T23:32:34.251Z"
   },
   {
    "duration": 107,
    "start_time": "2023-04-21T23:32:47.013Z"
   },
   {
    "duration": 100,
    "start_time": "2023-04-21T23:32:56.533Z"
   },
   {
    "duration": 10,
    "start_time": "2023-04-21T23:33:01.262Z"
   },
   {
    "duration": 206,
    "start_time": "2023-04-21T23:38:35.722Z"
   },
   {
    "duration": 11,
    "start_time": "2023-04-21T23:39:38.750Z"
   },
   {
    "duration": 13,
    "start_time": "2023-04-21T23:39:51.906Z"
   },
   {
    "duration": 13,
    "start_time": "2023-04-21T23:40:03.290Z"
   },
   {
    "duration": 308,
    "start_time": "2023-04-21T23:40:16.332Z"
   },
   {
    "duration": 1465,
    "start_time": "2023-04-21T23:40:44.987Z"
   },
   {
    "duration": 310,
    "start_time": "2023-04-21T23:40:51.826Z"
   },
   {
    "duration": 201,
    "start_time": "2023-04-21T23:41:10.052Z"
   },
   {
    "duration": 10,
    "start_time": "2023-04-21T23:41:43.072Z"
   },
   {
    "duration": 196,
    "start_time": "2023-04-21T23:41:46.841Z"
   },
   {
    "duration": 12,
    "start_time": "2023-04-22T00:21:01.815Z"
   },
   {
    "duration": 1512,
    "start_time": "2023-04-22T00:21:25.001Z"
   },
   {
    "duration": 6,
    "start_time": "2023-04-22T00:21:38.002Z"
   },
   {
    "duration": 5,
    "start_time": "2023-04-22T00:22:07.164Z"
   },
   {
    "duration": 4,
    "start_time": "2023-04-22T00:22:54.035Z"
   },
   {
    "duration": 9,
    "start_time": "2023-04-22T00:23:10.565Z"
   },
   {
    "duration": 1115,
    "start_time": "2023-04-22T20:48:56.468Z"
   },
   {
    "duration": 10,
    "start_time": "2023-04-22T20:49:04.413Z"
   },
   {
    "duration": 14046,
    "start_time": "2023-04-22T20:49:08.624Z"
   },
   {
    "duration": 373,
    "start_time": "2023-04-22T20:50:14.004Z"
   },
   {
    "duration": 44,
    "start_time": "2023-04-22T20:50:15.993Z"
   },
   {
    "duration": 140,
    "start_time": "2023-04-22T20:50:19.991Z"
   },
   {
    "duration": 22,
    "start_time": "2023-04-22T20:50:23.218Z"
   },
   {
    "duration": 408,
    "start_time": "2023-04-22T20:50:25.797Z"
   },
   {
    "duration": 5,
    "start_time": "2023-04-22T20:50:28.870Z"
   },
   {
    "duration": 283,
    "start_time": "2023-04-22T20:50:32.271Z"
   },
   {
    "duration": 180,
    "start_time": "2023-04-22T20:50:50.733Z"
   },
   {
    "duration": 196,
    "start_time": "2023-04-22T20:51:20.248Z"
   },
   {
    "duration": 57,
    "start_time": "2023-04-22T20:51:32.011Z"
   },
   {
    "duration": 167,
    "start_time": "2023-04-22T20:51:53.060Z"
   },
   {
    "duration": 301,
    "start_time": "2023-04-22T20:52:53.269Z"
   },
   {
    "duration": 221,
    "start_time": "2023-04-22T20:56:51.514Z"
   },
   {
    "duration": 219,
    "start_time": "2023-04-22T20:57:03.502Z"
   },
   {
    "duration": 159,
    "start_time": "2023-04-22T20:57:47.401Z"
   },
   {
    "duration": 169,
    "start_time": "2023-04-22T20:57:52.920Z"
   },
   {
    "duration": 173,
    "start_time": "2023-04-22T20:58:07.191Z"
   },
   {
    "duration": 182,
    "start_time": "2023-04-22T20:58:39.958Z"
   },
   {
    "duration": 14,
    "start_time": "2023-04-22T20:59:20.871Z"
   },
   {
    "duration": 11,
    "start_time": "2023-04-22T20:59:27.346Z"
   },
   {
    "duration": 10,
    "start_time": "2023-04-22T20:59:58.030Z"
   },
   {
    "duration": 164,
    "start_time": "2023-04-22T21:23:19.706Z"
   },
   {
    "duration": 203,
    "start_time": "2023-04-22T21:23:30.116Z"
   },
   {
    "duration": 315,
    "start_time": "2023-04-22T21:23:44.094Z"
   },
   {
    "duration": 310,
    "start_time": "2023-04-22T21:23:57.487Z"
   },
   {
    "duration": 151,
    "start_time": "2023-04-22T21:24:35.415Z"
   },
   {
    "duration": 279,
    "start_time": "2023-04-22T21:24:54.891Z"
   },
   {
    "duration": 338,
    "start_time": "2023-04-22T21:25:22.502Z"
   },
   {
    "duration": 194,
    "start_time": "2023-04-22T21:30:05.612Z"
   },
   {
    "duration": 161,
    "start_time": "2023-04-22T21:30:55.236Z"
   },
   {
    "duration": 175,
    "start_time": "2023-04-22T21:31:48.102Z"
   },
   {
    "duration": 101,
    "start_time": "2023-04-22T21:32:38.519Z"
   },
   {
    "duration": 161,
    "start_time": "2023-04-22T21:38:51.806Z"
   },
   {
    "duration": 190,
    "start_time": "2023-04-22T21:39:24.418Z"
   },
   {
    "duration": 187,
    "start_time": "2023-04-22T21:43:39.667Z"
   },
   {
    "duration": 127,
    "start_time": "2023-04-22T21:44:34.010Z"
   },
   {
    "duration": 122,
    "start_time": "2023-04-22T21:45:39.191Z"
   },
   {
    "duration": 136,
    "start_time": "2023-04-22T21:46:35.614Z"
   },
   {
    "duration": 1165,
    "start_time": "2023-04-22T21:58:02.628Z"
   },
   {
    "duration": 1302,
    "start_time": "2023-04-22T22:01:33.944Z"
   },
   {
    "duration": 1247,
    "start_time": "2023-04-22T22:01:49.710Z"
   },
   {
    "duration": 1248,
    "start_time": "2023-04-22T22:01:56.105Z"
   },
   {
    "duration": 1276,
    "start_time": "2023-04-22T22:02:54.027Z"
   },
   {
    "duration": 102,
    "start_time": "2023-04-22T22:03:04.466Z"
   },
   {
    "duration": 95,
    "start_time": "2023-04-22T22:03:09.406Z"
   },
   {
    "duration": 117,
    "start_time": "2023-04-22T22:03:15.525Z"
   },
   {
    "duration": 1227,
    "start_time": "2023-04-22T22:03:23.707Z"
   },
   {
    "duration": 1441,
    "start_time": "2023-04-22T22:03:35.035Z"
   },
   {
    "duration": 299,
    "start_time": "2023-04-22T22:05:00.334Z"
   },
   {
    "duration": 172,
    "start_time": "2023-04-22T22:13:10.592Z"
   },
   {
    "duration": 146,
    "start_time": "2023-04-22T22:13:18.893Z"
   },
   {
    "duration": 134,
    "start_time": "2023-04-22T22:13:31.992Z"
   },
   {
    "duration": 181,
    "start_time": "2023-04-22T22:14:13.596Z"
   },
   {
    "duration": 170,
    "start_time": "2023-04-22T22:14:27.592Z"
   },
   {
    "duration": 60,
    "start_time": "2023-04-22T22:14:43.692Z"
   },
   {
    "duration": 57,
    "start_time": "2023-04-22T22:15:01.807Z"
   },
   {
    "duration": 185,
    "start_time": "2023-04-22T22:15:37.772Z"
   },
   {
    "duration": 59,
    "start_time": "2023-04-22T22:15:42.702Z"
   },
   {
    "duration": 752,
    "start_time": "2023-04-22T22:15:57.112Z"
   },
   {
    "duration": 64,
    "start_time": "2023-04-22T22:16:09.998Z"
   },
   {
    "duration": 59,
    "start_time": "2023-04-22T22:16:29.903Z"
   },
   {
    "duration": 195,
    "start_time": "2023-04-22T22:16:33.253Z"
   },
   {
    "duration": 66,
    "start_time": "2023-04-22T22:16:47.252Z"
   },
   {
    "duration": 89,
    "start_time": "2023-04-22T22:17:10.732Z"
   },
   {
    "duration": 76,
    "start_time": "2023-04-22T22:17:16.042Z"
   },
   {
    "duration": 59,
    "start_time": "2023-04-22T22:22:02.704Z"
   },
   {
    "duration": 166,
    "start_time": "2023-04-22T22:22:20.354Z"
   },
   {
    "duration": 150,
    "start_time": "2023-04-22T22:22:46.987Z"
   },
   {
    "duration": 58,
    "start_time": "2023-04-22T22:22:58.506Z"
   },
   {
    "duration": 177,
    "start_time": "2023-04-22T22:24:14.624Z"
   },
   {
    "duration": 110,
    "start_time": "2023-04-22T22:25:18.315Z"
   },
   {
    "duration": 157,
    "start_time": "2023-04-22T22:26:23.106Z"
   },
   {
    "duration": 63,
    "start_time": "2023-04-22T22:26:34.006Z"
   },
   {
    "duration": 213,
    "start_time": "2023-04-22T22:31:45.802Z"
   },
   {
    "duration": 161,
    "start_time": "2023-04-22T22:32:04.307Z"
   },
   {
    "duration": 174,
    "start_time": "2023-04-22T22:32:40.227Z"
   },
   {
    "duration": 184,
    "start_time": "2023-04-22T22:33:04.295Z"
   },
   {
    "duration": 155,
    "start_time": "2023-04-22T22:34:11.699Z"
   },
   {
    "duration": 168,
    "start_time": "2023-04-22T22:34:33.346Z"
   },
   {
    "duration": 167,
    "start_time": "2023-04-22T22:34:51.999Z"
   },
   {
    "duration": 117,
    "start_time": "2023-04-22T22:35:19.922Z"
   },
   {
    "duration": 220,
    "start_time": "2023-04-22T22:37:35.827Z"
   },
   {
    "duration": 213,
    "start_time": "2023-04-22T22:37:43.636Z"
   },
   {
    "duration": 190,
    "start_time": "2023-04-22T22:37:52.217Z"
   },
   {
    "duration": 128,
    "start_time": "2023-04-22T22:37:57.599Z"
   },
   {
    "duration": 120,
    "start_time": "2023-04-22T22:38:42.299Z"
   },
   {
    "duration": 92,
    "start_time": "2023-04-22T22:38:49.047Z"
   },
   {
    "duration": 106,
    "start_time": "2023-04-22T22:39:52.208Z"
   },
   {
    "duration": 161,
    "start_time": "2023-04-22T22:40:35.436Z"
   },
   {
    "duration": 93,
    "start_time": "2023-04-22T22:40:57.936Z"
   },
   {
    "duration": 160,
    "start_time": "2023-04-22T22:41:12.094Z"
   },
   {
    "duration": 170,
    "start_time": "2023-04-22T22:41:18.255Z"
   },
   {
    "duration": 169,
    "start_time": "2023-04-22T22:42:14.166Z"
   },
   {
    "duration": 92,
    "start_time": "2023-04-22T22:42:22.455Z"
   },
   {
    "duration": 3,
    "start_time": "2023-04-22T23:00:15.117Z"
   },
   {
    "duration": 178,
    "start_time": "2023-04-22T23:00:47.069Z"
   },
   {
    "duration": 64,
    "start_time": "2023-04-22T23:00:58.589Z"
   },
   {
    "duration": 79,
    "start_time": "2023-04-22T23:02:00.269Z"
   },
   {
    "duration": 1205,
    "start_time": "2023-04-22T23:16:32.016Z"
   },
   {
    "duration": 100,
    "start_time": "2023-04-22T23:21:34.451Z"
   },
   {
    "duration": 288,
    "start_time": "2023-04-22T23:22:04.934Z"
   },
   {
    "duration": 15,
    "start_time": "2023-04-22T23:23:46.053Z"
   },
   {
    "duration": 424,
    "start_time": "2023-04-22T23:24:03.205Z"
   },
   {
    "duration": 406,
    "start_time": "2023-04-22T23:24:07.595Z"
   },
   {
    "duration": 105,
    "start_time": "2023-04-22T23:40:18.394Z"
   },
   {
    "duration": 89,
    "start_time": "2023-04-22T23:40:51.040Z"
   },
   {
    "duration": 72,
    "start_time": "2023-04-22T23:45:33.936Z"
   },
   {
    "duration": 61,
    "start_time": "2023-04-22T23:47:07.295Z"
   },
   {
    "duration": 48,
    "start_time": "2023-04-22T23:48:43.096Z"
   },
   {
    "duration": 147,
    "start_time": "2023-04-22T23:50:14.095Z"
   },
   {
    "duration": 15,
    "start_time": "2023-04-22T23:50:28.623Z"
   },
   {
    "duration": 16,
    "start_time": "2023-04-22T23:50:46.227Z"
   },
   {
    "duration": 88,
    "start_time": "2023-04-22T23:51:25.062Z"
   },
   {
    "duration": 15,
    "start_time": "2023-04-22T23:51:42.930Z"
   },
   {
    "duration": 81,
    "start_time": "2023-04-22T23:51:57.813Z"
   },
   {
    "duration": 98,
    "start_time": "2023-04-22T23:52:39.924Z"
   },
   {
    "duration": 105,
    "start_time": "2023-04-22T23:54:47.397Z"
   },
   {
    "duration": 94,
    "start_time": "2023-04-22T23:55:03.410Z"
   },
   {
    "duration": 103,
    "start_time": "2023-04-22T23:55:10.196Z"
   },
   {
    "duration": 97,
    "start_time": "2023-04-22T23:55:18.659Z"
   },
   {
    "duration": 114,
    "start_time": "2023-04-22T23:56:11.246Z"
   },
   {
    "duration": 86,
    "start_time": "2023-04-22T23:56:26.821Z"
   },
   {
    "duration": 87,
    "start_time": "2023-04-22T23:56:32.422Z"
   },
   {
    "duration": 88,
    "start_time": "2023-04-22T23:56:39.033Z"
   },
   {
    "duration": 129,
    "start_time": "2023-04-22T23:56:42.957Z"
   },
   {
    "duration": 90,
    "start_time": "2023-04-22T23:56:51.321Z"
   },
   {
    "duration": 103,
    "start_time": "2023-04-22T23:57:51.820Z"
   },
   {
    "duration": 144,
    "start_time": "2023-04-22T23:58:20.513Z"
   },
   {
    "duration": 120,
    "start_time": "2023-04-23T00:01:54.419Z"
   },
   {
    "duration": 166,
    "start_time": "2023-04-23T00:07:46.525Z"
   },
   {
    "duration": 143,
    "start_time": "2023-04-23T00:07:55.624Z"
   },
   {
    "duration": 152,
    "start_time": "2023-04-23T00:08:19.369Z"
   },
   {
    "duration": 144,
    "start_time": "2023-04-23T00:09:18.110Z"
   },
   {
    "duration": 161,
    "start_time": "2023-04-23T00:09:33.626Z"
   },
   {
    "duration": 122,
    "start_time": "2023-04-23T00:11:39.235Z"
   },
   {
    "duration": 121,
    "start_time": "2023-04-23T00:12:14.536Z"
   },
   {
    "duration": 121,
    "start_time": "2023-04-23T00:12:24.416Z"
   },
   {
    "duration": 132,
    "start_time": "2023-04-23T00:13:29.053Z"
   },
   {
    "duration": 1229,
    "start_time": "2023-04-23T00:15:24.014Z"
   },
   {
    "duration": 3,
    "start_time": "2023-04-23T00:15:25.245Z"
   },
   {
    "duration": 11534,
    "start_time": "2023-04-23T00:15:25.250Z"
   },
   {
    "duration": 235,
    "start_time": "2023-04-23T00:15:36.786Z"
   },
   {
    "duration": 13,
    "start_time": "2023-04-23T00:15:37.023Z"
   },
   {
    "duration": 99,
    "start_time": "2023-04-23T00:15:37.038Z"
   },
   {
    "duration": 7,
    "start_time": "2023-04-23T00:15:37.138Z"
   },
   {
    "duration": 242,
    "start_time": "2023-04-23T00:15:37.147Z"
   },
   {
    "duration": 5,
    "start_time": "2023-04-23T00:15:37.391Z"
   },
   {
    "duration": 163,
    "start_time": "2023-04-23T00:15:37.398Z"
   },
   {
    "duration": 7,
    "start_time": "2023-04-23T00:15:37.562Z"
   },
   {
    "duration": 141,
    "start_time": "2023-04-23T00:15:37.571Z"
   },
   {
    "duration": 1234,
    "start_time": "2023-04-23T00:15:37.714Z"
   },
   {
    "duration": 57,
    "start_time": "2023-04-23T00:15:38.951Z"
   },
   {
    "duration": 93,
    "start_time": "2023-04-23T00:15:39.010Z"
   },
   {
    "duration": 64,
    "start_time": "2023-04-23T00:15:39.105Z"
   },
   {
    "duration": 1161,
    "start_time": "2023-04-23T00:15:39.171Z"
   },
   {
    "duration": 289,
    "start_time": "2023-04-23T00:15:40.334Z"
   },
   {
    "duration": 400,
    "start_time": "2023-04-23T00:15:40.625Z"
   },
   {
    "duration": 87,
    "start_time": "2023-04-23T00:15:41.027Z"
   },
   {
    "duration": 141,
    "start_time": "2023-04-23T00:15:41.116Z"
   },
   {
    "duration": 148,
    "start_time": "2023-04-23T00:15:41.258Z"
   },
   {
    "duration": 588,
    "start_time": "2023-04-23T00:17:45.069Z"
   },
   {
    "duration": 475,
    "start_time": "2023-04-23T00:18:39.930Z"
   },
   {
    "duration": 641,
    "start_time": "2023-04-23T00:18:47.205Z"
   },
   {
    "duration": 128,
    "start_time": "2023-04-23T00:21:45.811Z"
   },
   {
    "duration": 1136,
    "start_time": "2023-04-23T00:24:04.920Z"
   },
   {
    "duration": 3,
    "start_time": "2023-04-23T00:24:06.058Z"
   },
   {
    "duration": 9522,
    "start_time": "2023-04-23T00:24:06.063Z"
   },
   {
    "duration": 233,
    "start_time": "2023-04-23T00:24:15.586Z"
   },
   {
    "duration": 11,
    "start_time": "2023-04-23T00:24:15.822Z"
   },
   {
    "duration": 107,
    "start_time": "2023-04-23T00:24:15.835Z"
   },
   {
    "duration": 7,
    "start_time": "2023-04-23T00:24:15.944Z"
   },
   {
    "duration": 242,
    "start_time": "2023-04-23T00:24:15.953Z"
   },
   {
    "duration": 4,
    "start_time": "2023-04-23T00:24:16.197Z"
   },
   {
    "duration": 163,
    "start_time": "2023-04-23T00:24:16.202Z"
   },
   {
    "duration": 10,
    "start_time": "2023-04-23T00:24:16.367Z"
   },
   {
    "duration": 121,
    "start_time": "2023-04-23T00:24:16.386Z"
   },
   {
    "duration": 1148,
    "start_time": "2023-04-23T00:24:16.509Z"
   },
   {
    "duration": 105,
    "start_time": "2023-04-23T00:24:17.659Z"
   },
   {
    "duration": 61,
    "start_time": "2023-04-23T00:24:17.765Z"
   },
   {
    "duration": 1070,
    "start_time": "2023-04-23T00:24:17.828Z"
   },
   {
    "duration": 287,
    "start_time": "2023-04-23T00:24:18.899Z"
   },
   {
    "duration": 359,
    "start_time": "2023-04-23T00:24:19.187Z"
   },
   {
    "duration": 86,
    "start_time": "2023-04-23T00:24:19.548Z"
   },
   {
    "duration": 155,
    "start_time": "2023-04-23T00:24:19.636Z"
   },
   {
    "duration": 123,
    "start_time": "2023-04-23T00:24:19.793Z"
   },
   {
    "duration": 1543,
    "start_time": "2023-04-23T04:31:33.854Z"
   },
   {
    "duration": 5,
    "start_time": "2023-04-23T04:31:35.400Z"
   },
   {
    "duration": 9789,
    "start_time": "2023-04-23T04:31:35.407Z"
   },
   {
    "duration": 233,
    "start_time": "2023-04-23T04:31:45.199Z"
   },
   {
    "duration": 23,
    "start_time": "2023-04-23T04:31:45.435Z"
   },
   {
    "duration": 111,
    "start_time": "2023-04-23T04:31:45.460Z"
   },
   {
    "duration": 8,
    "start_time": "2023-04-23T04:31:45.574Z"
   },
   {
    "duration": 272,
    "start_time": "2023-04-23T04:31:45.583Z"
   },
   {
    "duration": 6,
    "start_time": "2023-04-23T04:31:45.858Z"
   },
   {
    "duration": 186,
    "start_time": "2023-04-23T04:31:45.866Z"
   },
   {
    "duration": 13,
    "start_time": "2023-04-23T04:31:46.055Z"
   },
   {
    "duration": 154,
    "start_time": "2023-04-23T04:31:46.070Z"
   },
   {
    "duration": 1451,
    "start_time": "2023-04-23T04:31:46.226Z"
   },
   {
    "duration": 94,
    "start_time": "2023-04-23T04:31:47.680Z"
   },
   {
    "duration": 61,
    "start_time": "2023-04-23T04:31:47.776Z"
   },
   {
    "duration": 1268,
    "start_time": "2023-04-23T04:31:47.838Z"
   },
   {
    "duration": 297,
    "start_time": "2023-04-23T04:31:49.108Z"
   },
   {
    "duration": 480,
    "start_time": "2023-04-23T04:31:49.407Z"
   },
   {
    "duration": 90,
    "start_time": "2023-04-23T04:31:49.888Z"
   },
   {
    "duration": 159,
    "start_time": "2023-04-23T04:31:49.979Z"
   },
   {
    "duration": 140,
    "start_time": "2023-04-23T04:31:50.140Z"
   },
   {
    "duration": 1731,
    "start_time": "2023-04-23T12:10:33.018Z"
   },
   {
    "duration": 4,
    "start_time": "2023-04-23T12:10:34.752Z"
   },
   {
    "duration": 18105,
    "start_time": "2023-04-23T12:10:34.758Z"
   },
   {
    "duration": 243,
    "start_time": "2023-04-23T12:10:52.865Z"
   },
   {
    "duration": 19,
    "start_time": "2023-04-23T12:10:53.110Z"
   },
   {
    "duration": 104,
    "start_time": "2023-04-23T12:10:53.131Z"
   },
   {
    "duration": 7,
    "start_time": "2023-04-23T12:10:53.236Z"
   },
   {
    "duration": 251,
    "start_time": "2023-04-23T12:10:53.245Z"
   },
   {
    "duration": 4,
    "start_time": "2023-04-23T12:10:53.497Z"
   },
   {
    "duration": 168,
    "start_time": "2023-04-23T12:10:53.503Z"
   },
   {
    "duration": 7,
    "start_time": "2023-04-23T12:10:53.672Z"
   },
   {
    "duration": 133,
    "start_time": "2023-04-23T12:10:53.681Z"
   },
   {
    "duration": 1191,
    "start_time": "2023-04-23T12:10:53.816Z"
   },
   {
    "duration": 89,
    "start_time": "2023-04-23T12:10:55.008Z"
   },
   {
    "duration": 59,
    "start_time": "2023-04-23T12:10:55.098Z"
   },
   {
    "duration": 1104,
    "start_time": "2023-04-23T12:10:55.158Z"
   },
   {
    "duration": 275,
    "start_time": "2023-04-23T12:10:56.264Z"
   },
   {
    "duration": 457,
    "start_time": "2023-04-23T12:10:56.540Z"
   },
   {
    "duration": 82,
    "start_time": "2023-04-23T12:10:56.999Z"
   },
   {
    "duration": 134,
    "start_time": "2023-04-23T12:10:57.083Z"
   },
   {
    "duration": 119,
    "start_time": "2023-04-23T12:10:57.219Z"
   },
   {
    "duration": 142,
    "start_time": "2023-04-23T12:13:48.482Z"
   },
   {
    "duration": 316,
    "start_time": "2023-04-23T12:15:53.263Z"
   },
   {
    "duration": 214,
    "start_time": "2023-04-23T12:16:03.971Z"
   },
   {
    "duration": 144,
    "start_time": "2023-04-23T12:16:09.062Z"
   },
   {
    "duration": 155,
    "start_time": "2023-04-23T12:16:55.229Z"
   },
   {
    "duration": 82,
    "start_time": "2023-04-23T12:20:16.420Z"
   },
   {
    "duration": 365,
    "start_time": "2023-04-23T12:22:15.744Z"
   },
   {
    "duration": 390,
    "start_time": "2023-04-23T12:22:37.281Z"
   },
   {
    "duration": 374,
    "start_time": "2023-04-23T12:22:59.882Z"
   },
   {
    "duration": 82,
    "start_time": "2023-04-23T12:24:53.365Z"
   },
   {
    "duration": 1159,
    "start_time": "2023-04-23T12:35:15.598Z"
   },
   {
    "duration": 8,
    "start_time": "2023-04-23T12:35:16.759Z"
   },
   {
    "duration": 10475,
    "start_time": "2023-04-23T12:35:16.769Z"
   },
   {
    "duration": 211,
    "start_time": "2023-04-23T12:35:27.249Z"
   },
   {
    "duration": 12,
    "start_time": "2023-04-23T12:35:27.462Z"
   },
   {
    "duration": 101,
    "start_time": "2023-04-23T12:35:27.476Z"
   },
   {
    "duration": 8,
    "start_time": "2023-04-23T12:35:27.578Z"
   },
   {
    "duration": 214,
    "start_time": "2023-04-23T12:35:27.587Z"
   },
   {
    "duration": 4,
    "start_time": "2023-04-23T12:35:27.803Z"
   },
   {
    "duration": 159,
    "start_time": "2023-04-23T12:35:27.809Z"
   },
   {
    "duration": 7,
    "start_time": "2023-04-23T12:35:27.970Z"
   },
   {
    "duration": 127,
    "start_time": "2023-04-23T12:35:27.979Z"
   },
   {
    "duration": 1230,
    "start_time": "2023-04-23T12:35:28.108Z"
   },
   {
    "duration": 92,
    "start_time": "2023-04-23T12:35:29.344Z"
   },
   {
    "duration": 60,
    "start_time": "2023-04-23T12:35:29.443Z"
   },
   {
    "duration": 1294,
    "start_time": "2023-04-23T12:35:29.505Z"
   },
   {
    "duration": 283,
    "start_time": "2023-04-23T12:35:30.801Z"
   },
   {
    "duration": 408,
    "start_time": "2023-04-23T12:35:31.086Z"
   },
   {
    "duration": 84,
    "start_time": "2023-04-23T12:35:31.495Z"
   },
   {
    "duration": 128,
    "start_time": "2023-04-23T12:35:31.581Z"
   },
   {
    "duration": 131,
    "start_time": "2023-04-23T12:35:31.710Z"
   },
   {
    "duration": 1304,
    "start_time": "2023-04-24T10:31:33.269Z"
   },
   {
    "duration": 3,
    "start_time": "2023-04-24T10:31:34.575Z"
   },
   {
    "duration": 12863,
    "start_time": "2023-04-24T10:31:34.583Z"
   },
   {
    "duration": 210,
    "start_time": "2023-04-24T10:31:47.448Z"
   },
   {
    "duration": 36,
    "start_time": "2023-04-24T10:31:47.664Z"
   },
   {
    "duration": 98,
    "start_time": "2023-04-24T10:31:47.702Z"
   },
   {
    "duration": 7,
    "start_time": "2023-04-24T10:31:47.802Z"
   },
   {
    "duration": 239,
    "start_time": "2023-04-24T10:31:47.811Z"
   },
   {
    "duration": 6,
    "start_time": "2023-04-24T10:31:48.051Z"
   },
   {
    "duration": 171,
    "start_time": "2023-04-24T10:31:48.059Z"
   },
   {
    "duration": 9,
    "start_time": "2023-04-24T10:31:48.232Z"
   },
   {
    "duration": 146,
    "start_time": "2023-04-24T10:31:48.243Z"
   },
   {
    "duration": 1240,
    "start_time": "2023-04-24T10:31:48.390Z"
   },
   {
    "duration": 82,
    "start_time": "2023-04-24T10:31:49.632Z"
   },
   {
    "duration": 61,
    "start_time": "2023-04-24T10:31:49.716Z"
   },
   {
    "duration": 1218,
    "start_time": "2023-04-24T10:31:49.778Z"
   },
   {
    "duration": 238,
    "start_time": "2023-04-24T10:31:50.998Z"
   },
   {
    "duration": 0,
    "start_time": "2023-04-24T10:31:51.238Z"
   },
   {
    "duration": 0,
    "start_time": "2023-04-24T10:31:51.239Z"
   },
   {
    "duration": 0,
    "start_time": "2023-04-24T10:31:51.240Z"
   },
   {
    "duration": 0,
    "start_time": "2023-04-24T10:31:51.241Z"
   },
   {
    "duration": 0,
    "start_time": "2023-04-24T10:31:51.242Z"
   }
  ],
  "colab": {
   "provenance": []
  },
  "kernelspec": {
   "display_name": "Python 3 (ipykernel)",
   "language": "python",
   "name": "python3"
  },
  "language_info": {
   "codemirror_mode": {
    "name": "ipython",
    "version": 3
   },
   "file_extension": ".py",
   "mimetype": "text/x-python",
   "name": "python",
   "nbconvert_exporter": "python",
   "pygments_lexer": "ipython3",
   "version": "3.8.16"
  },
  "toc": {
   "base_numbering": 1,
   "nav_menu": {},
   "number_sections": true,
   "sideBar": true,
   "skip_h1_title": true,
   "title_cell": "Table of Contents",
   "title_sidebar": "Contents",
   "toc_cell": false,
   "toc_position": {},
   "toc_section_display": true,
   "toc_window_display": false
  }
 },
 "nbformat": 4,
 "nbformat_minor": 1
}
