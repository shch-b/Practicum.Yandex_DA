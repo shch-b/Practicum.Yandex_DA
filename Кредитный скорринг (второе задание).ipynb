{
 "cells": [
  {
   "cell_type": "markdown",
   "id": "38c57616",
   "metadata": {},
   "source": [
    "<b>Привет!</b>\n",
    "\n",
    "Меня зовут Харочкина Екатерина, и я буду проверять твой проект. Давай общаться на «ты», но если это неудобно, пожалуйста, сообщи. Моя основная цель — не указать на совершенные тобою ошибки, а поделиться своим опытом и помочь тебе стать аналитиком данных. \n",
    "\n",
    "Ты подготовил замечательный проект, но есть аспекты, которые еще можно улучшить. Я буду использовать комментарии с цветовой разметкой. Пожалуйста, **не перемещай, не изменяй и не удаляй их**. Это поможет выполнить повторную проверку твоего проекта оперативнее.\n",
    "\n",
    "<div class=\"alert alert-danger\">\n",
    "<b>Комментарий ревьюера №1</b> \n",
    "    \n",
    "Таким комментарием выделены самые важные замечания. Без их отработки проект не будет принят.\n",
    "</div>\n",
    "\n",
    "<div class=\"alert alert-warning\">\n",
    "<b>Комментарий ревьюера №1</b> \n",
    "    \n",
    "Таким комментарием выделены небольшие замечания и рекомендации, которые будет хорошо учесть.\n",
    "</div>\n",
    "\n",
    "<div class=\"alert alert-success\">\n",
    "<b>Комментарий ревьюера №1</b> \n",
    "    \n",
    "Таким комментарием выделены удачные решения🙂\n",
    "</div>\n",
    "\n",
    "\n",
    "Давай работать над проектом в диалоге: если ты **что-то меняешь** в проекте по моим рекомендациям — **пиши об этом**. После того, как ты все доработаешь, я смогу принять твой проект!) "
   ]
  },
  {
   "cell_type": "markdown",
   "id": "ad53090b",
   "metadata": {
    "deletable": false,
    "id": "c81daeeb"
   },
   "source": [
    "# Исследование надежности заемщиков\n"
   ]
  },
  {
   "cell_type": "markdown",
   "id": "50d31d84",
   "metadata": {
    "id": "827c20bf"
   },
   "source": [
    "Во второй части проекта вы выполните шаги 3 и 4. Их вручную проверит ревьюер.\n",
    "Чтобы вам не пришлось писать код заново для шагов 1 и 2, мы добавили авторские решения в ячейки с кодом. \n",
    "\n"
   ]
  },
  {
   "cell_type": "markdown",
   "id": "969a5134",
   "metadata": {
    "deletable": false,
    "id": "744d7639"
   },
   "source": [
    "## Откройте таблицу и изучите общую информацию о данных"
   ]
  },
  {
   "cell_type": "markdown",
   "id": "5c17ad55",
   "metadata": {
    "deletable": false,
    "id": "e7a14c31"
   },
   "source": [
    "**Задание 1. Импортируйте библиотеку pandas. Считайте данные из csv-файла в датафрейм и сохраните в переменную `data`. Путь к файлу:**\n",
    "\n",
    "`/datasets/data.csv`"
   ]
  },
  {
   "cell_type": "code",
   "execution_count": 1,
   "id": "b444f0a2",
   "metadata": {
    "deletable": false,
    "id": "7bcf75c9"
   },
   "outputs": [],
   "source": [
    "import pandas as pd\n",
    "import seaborn\n",
    "\n",
    "try:\n",
    "    data = pd.read_csv('/datasets/data.csv')\n",
    "except:\n",
    "    data = pd.read_csv('https://code.s3.yandex.net/datasets/data.csv')"
   ]
  },
  {
   "cell_type": "markdown",
   "id": "23512040",
   "metadata": {
    "deletable": false,
    "id": "b8038fe3"
   },
   "source": [
    "**Задание 2. Выведите первые 20 строчек датафрейма `data` на экран.**"
   ]
  },
  {
   "cell_type": "code",
   "execution_count": 2,
   "id": "db20b3e2",
   "metadata": {
    "deletable": false,
    "id": "2a7cab99",
    "outputId": "1a8f3ef2-d323-4ec2-ddf7-89670b5944c4"
   },
   "outputs": [
    {
     "data": {
      "text/html": [
       "<div>\n",
       "<style scoped>\n",
       "    .dataframe tbody tr th:only-of-type {\n",
       "        vertical-align: middle;\n",
       "    }\n",
       "\n",
       "    .dataframe tbody tr th {\n",
       "        vertical-align: top;\n",
       "    }\n",
       "\n",
       "    .dataframe thead th {\n",
       "        text-align: right;\n",
       "    }\n",
       "</style>\n",
       "<table border=\"1\" class=\"dataframe\">\n",
       "  <thead>\n",
       "    <tr style=\"text-align: right;\">\n",
       "      <th></th>\n",
       "      <th>children</th>\n",
       "      <th>days_employed</th>\n",
       "      <th>dob_years</th>\n",
       "      <th>education</th>\n",
       "      <th>education_id</th>\n",
       "      <th>family_status</th>\n",
       "      <th>family_status_id</th>\n",
       "      <th>gender</th>\n",
       "      <th>income_type</th>\n",
       "      <th>debt</th>\n",
       "      <th>total_income</th>\n",
       "      <th>purpose</th>\n",
       "    </tr>\n",
       "  </thead>\n",
       "  <tbody>\n",
       "    <tr>\n",
       "      <th>0</th>\n",
       "      <td>1</td>\n",
       "      <td>-8437.673028</td>\n",
       "      <td>42</td>\n",
       "      <td>высшее</td>\n",
       "      <td>0</td>\n",
       "      <td>женат / замужем</td>\n",
       "      <td>0</td>\n",
       "      <td>F</td>\n",
       "      <td>сотрудник</td>\n",
       "      <td>0</td>\n",
       "      <td>253875.639453</td>\n",
       "      <td>покупка жилья</td>\n",
       "    </tr>\n",
       "    <tr>\n",
       "      <th>1</th>\n",
       "      <td>1</td>\n",
       "      <td>-4024.803754</td>\n",
       "      <td>36</td>\n",
       "      <td>среднее</td>\n",
       "      <td>1</td>\n",
       "      <td>женат / замужем</td>\n",
       "      <td>0</td>\n",
       "      <td>F</td>\n",
       "      <td>сотрудник</td>\n",
       "      <td>0</td>\n",
       "      <td>112080.014102</td>\n",
       "      <td>приобретение автомобиля</td>\n",
       "    </tr>\n",
       "    <tr>\n",
       "      <th>2</th>\n",
       "      <td>0</td>\n",
       "      <td>-5623.422610</td>\n",
       "      <td>33</td>\n",
       "      <td>Среднее</td>\n",
       "      <td>1</td>\n",
       "      <td>женат / замужем</td>\n",
       "      <td>0</td>\n",
       "      <td>M</td>\n",
       "      <td>сотрудник</td>\n",
       "      <td>0</td>\n",
       "      <td>145885.952297</td>\n",
       "      <td>покупка жилья</td>\n",
       "    </tr>\n",
       "    <tr>\n",
       "      <th>3</th>\n",
       "      <td>3</td>\n",
       "      <td>-4124.747207</td>\n",
       "      <td>32</td>\n",
       "      <td>среднее</td>\n",
       "      <td>1</td>\n",
       "      <td>женат / замужем</td>\n",
       "      <td>0</td>\n",
       "      <td>M</td>\n",
       "      <td>сотрудник</td>\n",
       "      <td>0</td>\n",
       "      <td>267628.550329</td>\n",
       "      <td>дополнительное образование</td>\n",
       "    </tr>\n",
       "    <tr>\n",
       "      <th>4</th>\n",
       "      <td>0</td>\n",
       "      <td>340266.072047</td>\n",
       "      <td>53</td>\n",
       "      <td>среднее</td>\n",
       "      <td>1</td>\n",
       "      <td>гражданский брак</td>\n",
       "      <td>1</td>\n",
       "      <td>F</td>\n",
       "      <td>пенсионер</td>\n",
       "      <td>0</td>\n",
       "      <td>158616.077870</td>\n",
       "      <td>сыграть свадьбу</td>\n",
       "    </tr>\n",
       "    <tr>\n",
       "      <th>5</th>\n",
       "      <td>0</td>\n",
       "      <td>-926.185831</td>\n",
       "      <td>27</td>\n",
       "      <td>высшее</td>\n",
       "      <td>0</td>\n",
       "      <td>гражданский брак</td>\n",
       "      <td>1</td>\n",
       "      <td>M</td>\n",
       "      <td>компаньон</td>\n",
       "      <td>0</td>\n",
       "      <td>255763.565419</td>\n",
       "      <td>покупка жилья</td>\n",
       "    </tr>\n",
       "    <tr>\n",
       "      <th>6</th>\n",
       "      <td>0</td>\n",
       "      <td>-2879.202052</td>\n",
       "      <td>43</td>\n",
       "      <td>высшее</td>\n",
       "      <td>0</td>\n",
       "      <td>женат / замужем</td>\n",
       "      <td>0</td>\n",
       "      <td>F</td>\n",
       "      <td>компаньон</td>\n",
       "      <td>0</td>\n",
       "      <td>240525.971920</td>\n",
       "      <td>операции с жильем</td>\n",
       "    </tr>\n",
       "    <tr>\n",
       "      <th>7</th>\n",
       "      <td>0</td>\n",
       "      <td>-152.779569</td>\n",
       "      <td>50</td>\n",
       "      <td>СРЕДНЕЕ</td>\n",
       "      <td>1</td>\n",
       "      <td>женат / замужем</td>\n",
       "      <td>0</td>\n",
       "      <td>M</td>\n",
       "      <td>сотрудник</td>\n",
       "      <td>0</td>\n",
       "      <td>135823.934197</td>\n",
       "      <td>образование</td>\n",
       "    </tr>\n",
       "    <tr>\n",
       "      <th>8</th>\n",
       "      <td>2</td>\n",
       "      <td>-6929.865299</td>\n",
       "      <td>35</td>\n",
       "      <td>ВЫСШЕЕ</td>\n",
       "      <td>0</td>\n",
       "      <td>гражданский брак</td>\n",
       "      <td>1</td>\n",
       "      <td>F</td>\n",
       "      <td>сотрудник</td>\n",
       "      <td>0</td>\n",
       "      <td>95856.832424</td>\n",
       "      <td>на проведение свадьбы</td>\n",
       "    </tr>\n",
       "    <tr>\n",
       "      <th>9</th>\n",
       "      <td>0</td>\n",
       "      <td>-2188.756445</td>\n",
       "      <td>41</td>\n",
       "      <td>среднее</td>\n",
       "      <td>1</td>\n",
       "      <td>женат / замужем</td>\n",
       "      <td>0</td>\n",
       "      <td>M</td>\n",
       "      <td>сотрудник</td>\n",
       "      <td>0</td>\n",
       "      <td>144425.938277</td>\n",
       "      <td>покупка жилья для семьи</td>\n",
       "    </tr>\n",
       "    <tr>\n",
       "      <th>10</th>\n",
       "      <td>2</td>\n",
       "      <td>-4171.483647</td>\n",
       "      <td>36</td>\n",
       "      <td>высшее</td>\n",
       "      <td>0</td>\n",
       "      <td>женат / замужем</td>\n",
       "      <td>0</td>\n",
       "      <td>M</td>\n",
       "      <td>компаньон</td>\n",
       "      <td>0</td>\n",
       "      <td>113943.491460</td>\n",
       "      <td>покупка недвижимости</td>\n",
       "    </tr>\n",
       "    <tr>\n",
       "      <th>11</th>\n",
       "      <td>0</td>\n",
       "      <td>-792.701887</td>\n",
       "      <td>40</td>\n",
       "      <td>среднее</td>\n",
       "      <td>1</td>\n",
       "      <td>женат / замужем</td>\n",
       "      <td>0</td>\n",
       "      <td>F</td>\n",
       "      <td>сотрудник</td>\n",
       "      <td>0</td>\n",
       "      <td>77069.234271</td>\n",
       "      <td>покупка коммерческой недвижимости</td>\n",
       "    </tr>\n",
       "    <tr>\n",
       "      <th>12</th>\n",
       "      <td>0</td>\n",
       "      <td>NaN</td>\n",
       "      <td>65</td>\n",
       "      <td>среднее</td>\n",
       "      <td>1</td>\n",
       "      <td>гражданский брак</td>\n",
       "      <td>1</td>\n",
       "      <td>M</td>\n",
       "      <td>пенсионер</td>\n",
       "      <td>0</td>\n",
       "      <td>NaN</td>\n",
       "      <td>сыграть свадьбу</td>\n",
       "    </tr>\n",
       "    <tr>\n",
       "      <th>13</th>\n",
       "      <td>0</td>\n",
       "      <td>-1846.641941</td>\n",
       "      <td>54</td>\n",
       "      <td>неоконченное высшее</td>\n",
       "      <td>2</td>\n",
       "      <td>женат / замужем</td>\n",
       "      <td>0</td>\n",
       "      <td>F</td>\n",
       "      <td>сотрудник</td>\n",
       "      <td>0</td>\n",
       "      <td>130458.228857</td>\n",
       "      <td>приобретение автомобиля</td>\n",
       "    </tr>\n",
       "    <tr>\n",
       "      <th>14</th>\n",
       "      <td>0</td>\n",
       "      <td>-1844.956182</td>\n",
       "      <td>56</td>\n",
       "      <td>высшее</td>\n",
       "      <td>0</td>\n",
       "      <td>гражданский брак</td>\n",
       "      <td>1</td>\n",
       "      <td>F</td>\n",
       "      <td>компаньон</td>\n",
       "      <td>1</td>\n",
       "      <td>165127.911772</td>\n",
       "      <td>покупка жилой недвижимости</td>\n",
       "    </tr>\n",
       "    <tr>\n",
       "      <th>15</th>\n",
       "      <td>1</td>\n",
       "      <td>-972.364419</td>\n",
       "      <td>26</td>\n",
       "      <td>среднее</td>\n",
       "      <td>1</td>\n",
       "      <td>женат / замужем</td>\n",
       "      <td>0</td>\n",
       "      <td>F</td>\n",
       "      <td>сотрудник</td>\n",
       "      <td>0</td>\n",
       "      <td>116820.904450</td>\n",
       "      <td>строительство собственной недвижимости</td>\n",
       "    </tr>\n",
       "    <tr>\n",
       "      <th>16</th>\n",
       "      <td>0</td>\n",
       "      <td>-1719.934226</td>\n",
       "      <td>35</td>\n",
       "      <td>среднее</td>\n",
       "      <td>1</td>\n",
       "      <td>женат / замужем</td>\n",
       "      <td>0</td>\n",
       "      <td>F</td>\n",
       "      <td>сотрудник</td>\n",
       "      <td>0</td>\n",
       "      <td>289202.704229</td>\n",
       "      <td>недвижимость</td>\n",
       "    </tr>\n",
       "    <tr>\n",
       "      <th>17</th>\n",
       "      <td>0</td>\n",
       "      <td>-2369.999720</td>\n",
       "      <td>33</td>\n",
       "      <td>высшее</td>\n",
       "      <td>0</td>\n",
       "      <td>гражданский брак</td>\n",
       "      <td>1</td>\n",
       "      <td>M</td>\n",
       "      <td>сотрудник</td>\n",
       "      <td>0</td>\n",
       "      <td>90410.586745</td>\n",
       "      <td>строительство недвижимости</td>\n",
       "    </tr>\n",
       "    <tr>\n",
       "      <th>18</th>\n",
       "      <td>0</td>\n",
       "      <td>400281.136913</td>\n",
       "      <td>53</td>\n",
       "      <td>среднее</td>\n",
       "      <td>1</td>\n",
       "      <td>вдовец / вдова</td>\n",
       "      <td>2</td>\n",
       "      <td>F</td>\n",
       "      <td>пенсионер</td>\n",
       "      <td>0</td>\n",
       "      <td>56823.777243</td>\n",
       "      <td>на покупку подержанного автомобиля</td>\n",
       "    </tr>\n",
       "    <tr>\n",
       "      <th>19</th>\n",
       "      <td>0</td>\n",
       "      <td>-10038.818549</td>\n",
       "      <td>48</td>\n",
       "      <td>СРЕДНЕЕ</td>\n",
       "      <td>1</td>\n",
       "      <td>в разводе</td>\n",
       "      <td>3</td>\n",
       "      <td>F</td>\n",
       "      <td>сотрудник</td>\n",
       "      <td>0</td>\n",
       "      <td>242831.107982</td>\n",
       "      <td>на покупку своего автомобиля</td>\n",
       "    </tr>\n",
       "  </tbody>\n",
       "</table>\n",
       "</div>"
      ],
      "text/plain": [
       "    children  days_employed  dob_years            education  education_id  \\\n",
       "0          1   -8437.673028         42               высшее             0   \n",
       "1          1   -4024.803754         36              среднее             1   \n",
       "2          0   -5623.422610         33              Среднее             1   \n",
       "3          3   -4124.747207         32              среднее             1   \n",
       "4          0  340266.072047         53              среднее             1   \n",
       "5          0    -926.185831         27               высшее             0   \n",
       "6          0   -2879.202052         43               высшее             0   \n",
       "7          0    -152.779569         50              СРЕДНЕЕ             1   \n",
       "8          2   -6929.865299         35               ВЫСШЕЕ             0   \n",
       "9          0   -2188.756445         41              среднее             1   \n",
       "10         2   -4171.483647         36               высшее             0   \n",
       "11         0    -792.701887         40              среднее             1   \n",
       "12         0            NaN         65              среднее             1   \n",
       "13         0   -1846.641941         54  неоконченное высшее             2   \n",
       "14         0   -1844.956182         56               высшее             0   \n",
       "15         1    -972.364419         26              среднее             1   \n",
       "16         0   -1719.934226         35              среднее             1   \n",
       "17         0   -2369.999720         33               высшее             0   \n",
       "18         0  400281.136913         53              среднее             1   \n",
       "19         0  -10038.818549         48              СРЕДНЕЕ             1   \n",
       "\n",
       "       family_status  family_status_id gender income_type  debt  \\\n",
       "0    женат / замужем                 0      F   сотрудник     0   \n",
       "1    женат / замужем                 0      F   сотрудник     0   \n",
       "2    женат / замужем                 0      M   сотрудник     0   \n",
       "3    женат / замужем                 0      M   сотрудник     0   \n",
       "4   гражданский брак                 1      F   пенсионер     0   \n",
       "5   гражданский брак                 1      M   компаньон     0   \n",
       "6    женат / замужем                 0      F   компаньон     0   \n",
       "7    женат / замужем                 0      M   сотрудник     0   \n",
       "8   гражданский брак                 1      F   сотрудник     0   \n",
       "9    женат / замужем                 0      M   сотрудник     0   \n",
       "10   женат / замужем                 0      M   компаньон     0   \n",
       "11   женат / замужем                 0      F   сотрудник     0   \n",
       "12  гражданский брак                 1      M   пенсионер     0   \n",
       "13   женат / замужем                 0      F   сотрудник     0   \n",
       "14  гражданский брак                 1      F   компаньон     1   \n",
       "15   женат / замужем                 0      F   сотрудник     0   \n",
       "16   женат / замужем                 0      F   сотрудник     0   \n",
       "17  гражданский брак                 1      M   сотрудник     0   \n",
       "18    вдовец / вдова                 2      F   пенсионер     0   \n",
       "19         в разводе                 3      F   сотрудник     0   \n",
       "\n",
       "     total_income                                 purpose  \n",
       "0   253875.639453                           покупка жилья  \n",
       "1   112080.014102                 приобретение автомобиля  \n",
       "2   145885.952297                           покупка жилья  \n",
       "3   267628.550329              дополнительное образование  \n",
       "4   158616.077870                         сыграть свадьбу  \n",
       "5   255763.565419                           покупка жилья  \n",
       "6   240525.971920                       операции с жильем  \n",
       "7   135823.934197                             образование  \n",
       "8    95856.832424                   на проведение свадьбы  \n",
       "9   144425.938277                 покупка жилья для семьи  \n",
       "10  113943.491460                    покупка недвижимости  \n",
       "11   77069.234271       покупка коммерческой недвижимости  \n",
       "12            NaN                         сыграть свадьбу  \n",
       "13  130458.228857                 приобретение автомобиля  \n",
       "14  165127.911772              покупка жилой недвижимости  \n",
       "15  116820.904450  строительство собственной недвижимости  \n",
       "16  289202.704229                            недвижимость  \n",
       "17   90410.586745              строительство недвижимости  \n",
       "18   56823.777243      на покупку подержанного автомобиля  \n",
       "19  242831.107982            на покупку своего автомобиля  "
      ]
     },
     "execution_count": 2,
     "metadata": {},
     "output_type": "execute_result"
    }
   ],
   "source": [
    "data.head(20)"
   ]
  },
  {
   "cell_type": "markdown",
   "id": "d74bcfc3",
   "metadata": {
    "deletable": false,
    "id": "1c12e233"
   },
   "source": [
    "**Задание 3. Выведите основную информацию о датафрейме с помощью метода `info()`.**"
   ]
  },
  {
   "cell_type": "code",
   "execution_count": 3,
   "id": "e5302d87",
   "metadata": {
    "deletable": false,
    "id": "2b757bca",
    "outputId": "15376089-8dad-46c9-b520-c05248d43158"
   },
   "outputs": [
    {
     "name": "stdout",
     "output_type": "stream",
     "text": [
      "<class 'pandas.core.frame.DataFrame'>\n",
      "RangeIndex: 21525 entries, 0 to 21524\n",
      "Data columns (total 12 columns):\n",
      " #   Column            Non-Null Count  Dtype  \n",
      "---  ------            --------------  -----  \n",
      " 0   children          21525 non-null  int64  \n",
      " 1   days_employed     19351 non-null  float64\n",
      " 2   dob_years         21525 non-null  int64  \n",
      " 3   education         21525 non-null  object \n",
      " 4   education_id      21525 non-null  int64  \n",
      " 5   family_status     21525 non-null  object \n",
      " 6   family_status_id  21525 non-null  int64  \n",
      " 7   gender            21525 non-null  object \n",
      " 8   income_type       21525 non-null  object \n",
      " 9   debt              21525 non-null  int64  \n",
      " 10  total_income      19351 non-null  float64\n",
      " 11  purpose           21525 non-null  object \n",
      "dtypes: float64(2), int64(5), object(5)\n",
      "memory usage: 2.0+ MB\n"
     ]
    }
   ],
   "source": [
    "data.info()"
   ]
  },
  {
   "cell_type": "markdown",
   "id": "6f0a895c",
   "metadata": {
    "deletable": false,
    "id": "333ec665"
   },
   "source": [
    "## Предобработка данных"
   ]
  },
  {
   "cell_type": "markdown",
   "id": "72a6ee1e",
   "metadata": {
    "deletable": false,
    "id": "02d92d53"
   },
   "source": [
    "### Удаление пропусков"
   ]
  },
  {
   "cell_type": "markdown",
   "id": "4aea328f",
   "metadata": {
    "deletable": false,
    "id": "cd84967c"
   },
   "source": [
    "**Задание 4. Выведите количество пропущенных значений для каждого столбца. Используйте комбинацию двух методов.**"
   ]
  },
  {
   "cell_type": "code",
   "execution_count": 4,
   "id": "5d1c6215",
   "metadata": {
    "deletable": false,
    "id": "7f9b2309",
    "outputId": "81f4d817-781c-465c-ed15-91ce4446810d"
   },
   "outputs": [
    {
     "data": {
      "text/plain": [
       "children               0\n",
       "days_employed       2174\n",
       "dob_years              0\n",
       "education              0\n",
       "education_id           0\n",
       "family_status          0\n",
       "family_status_id       0\n",
       "gender                 0\n",
       "income_type            0\n",
       "debt                   0\n",
       "total_income        2174\n",
       "purpose                0\n",
       "dtype: int64"
      ]
     },
     "execution_count": 4,
     "metadata": {},
     "output_type": "execute_result"
    }
   ],
   "source": [
    "data.isna().sum()"
   ]
  },
  {
   "cell_type": "markdown",
   "id": "898ab4a2",
   "metadata": {
    "deletable": false,
    "id": "db86e27b"
   },
   "source": [
    "**Задание 5. В двух столбцах есть пропущенные значения. Один из них — `days_employed`. Пропуски в этом столбце вы обработаете на следующем этапе. Другой столбец с пропущенными значениями — `total_income` — хранит данные о доходах. На сумму дохода сильнее всего влияет тип занятости, поэтому заполнить пропуски в этом столбце нужно медианным значением по каждому типу из столбца `income_type`. Например, у человека с типом занятости `сотрудник` пропуск в столбце `total_income` должен быть заполнен медианным доходом среди всех записей с тем же типом.**"
   ]
  },
  {
   "cell_type": "code",
   "execution_count": 5,
   "id": "492a914a",
   "metadata": {
    "deletable": false,
    "id": "42006a93"
   },
   "outputs": [],
   "source": [
    "for t in data['income_type'].unique():\n",
    "    data.loc[(data['income_type'] == t) & (data['total_income'].isna()), 'total_income'] = \\\n",
    "    data.loc[(data['income_type'] == t), 'total_income'].median()"
   ]
  },
  {
   "cell_type": "markdown",
   "id": "716291a0",
   "metadata": {
    "deletable": false,
    "id": "89da5ece"
   },
   "source": [
    "### Обработка аномальных значений"
   ]
  },
  {
   "cell_type": "markdown",
   "id": "117c1104",
   "metadata": {
    "deletable": false,
    "id": "57964554"
   },
   "source": [
    "**Задание 6. В данных могут встречаться артефакты (аномалии) — значения, которые не отражают действительность и появились по какой-то ошибке. таким артефактом будет отрицательное количество дней трудового стажа в столбце `days_employed`. Для реальных данных это нормально. Обработайте значения в этом столбце: замените все отрицательные значения положительными с помощью метода `abs()`.**"
   ]
  },
  {
   "cell_type": "code",
   "execution_count": 6,
   "id": "dd298ce9",
   "metadata": {
    "deletable": false,
    "id": "f6f055bf"
   },
   "outputs": [],
   "source": [
    "data['days_employed'] = data['days_employed'].abs()"
   ]
  },
  {
   "cell_type": "markdown",
   "id": "c1b18334",
   "metadata": {
    "deletable": false,
    "id": "6107dd2f"
   },
   "source": [
    "**Задание 7. Для каждого типа занятости выведите медианное значение трудового стажа `days_employed` в днях.**"
   ]
  },
  {
   "cell_type": "code",
   "execution_count": 7,
   "id": "a50d4fe1",
   "metadata": {
    "deletable": false,
    "id": "85a5faf6",
    "outputId": "801ef80e-522b-4668-f34e-565af7432bcf"
   },
   "outputs": [
    {
     "data": {
      "text/plain": [
       "income_type\n",
       "безработный        366413.652744\n",
       "в декрете            3296.759962\n",
       "госслужащий          2689.368353\n",
       "компаньон            1547.382223\n",
       "пенсионер          365213.306266\n",
       "предприниматель       520.848083\n",
       "сотрудник            1574.202821\n",
       "студент               578.751554\n",
       "Name: days_employed, dtype: float64"
      ]
     },
     "execution_count": 7,
     "metadata": {},
     "output_type": "execute_result"
    }
   ],
   "source": [
    "data.groupby('income_type')['days_employed'].agg('median')"
   ]
  },
  {
   "cell_type": "markdown",
   "id": "e30e57ce",
   "metadata": {
    "deletable": false,
    "id": "38d1a030"
   },
   "source": [
    "У двух типов (безработные и пенсионеры) получатся аномально большие значения. Исправить такие значения сложно, поэтому оставьте их как есть. Тем более этот столбец не понадобится вам для исследования."
   ]
  },
  {
   "cell_type": "markdown",
   "id": "62950604",
   "metadata": {
    "deletable": false,
    "id": "d8a9f147"
   },
   "source": [
    "**Задание 8. Выведите перечень уникальных значений столбца `children`.**"
   ]
  },
  {
   "cell_type": "code",
   "execution_count": 8,
   "id": "55b9246d",
   "metadata": {
    "deletable": false,
    "id": "ef5056eb",
    "outputId": "6975b15c-7f95-4697-d16d-a0c79b657b03"
   },
   "outputs": [
    {
     "data": {
      "text/plain": [
       "array([ 1,  0,  3,  2, -1,  4, 20,  5])"
      ]
     },
     "execution_count": 8,
     "metadata": {},
     "output_type": "execute_result"
    }
   ],
   "source": [
    "data['children'].unique()"
   ]
  },
  {
   "cell_type": "markdown",
   "id": "de3644db",
   "metadata": {
    "deletable": false,
    "id": "40b9ebf2"
   },
   "source": [
    "**Задание 9. В столбце `children` есть два аномальных значения. Удалите строки, в которых встречаются такие аномальные значения из датафрейма `data`.**"
   ]
  },
  {
   "cell_type": "code",
   "execution_count": 9,
   "id": "3ff76ff0",
   "metadata": {
    "deletable": false,
    "id": "3ff9801d"
   },
   "outputs": [],
   "source": [
    "data = data[(data['children'] != -1) & (data['children'] != 20)]"
   ]
  },
  {
   "cell_type": "markdown",
   "id": "5c1a6abf",
   "metadata": {
    "deletable": false,
    "id": "bbc4d0ce"
   },
   "source": [
    "**Задание 10. Ещё раз выведите перечень уникальных значений столбца `children`, чтобы убедиться, что артефакты удалены.**"
   ]
  },
  {
   "cell_type": "code",
   "execution_count": 10,
   "id": "9b1561eb",
   "metadata": {
    "deletable": false,
    "id": "ad4fa8b7",
    "outputId": "b2097101-d49d-44d9-901b-32a65c9463d1"
   },
   "outputs": [
    {
     "data": {
      "text/plain": [
       "array([1, 0, 3, 2, 4, 5])"
      ]
     },
     "execution_count": 10,
     "metadata": {},
     "output_type": "execute_result"
    }
   ],
   "source": [
    "data['children'].unique()"
   ]
  },
  {
   "cell_type": "markdown",
   "id": "4e3e4d09",
   "metadata": {
    "deletable": false,
    "id": "75440b63"
   },
   "source": [
    "### Удаление пропусков (продолжение)"
   ]
  },
  {
   "cell_type": "markdown",
   "id": "65e43bb9",
   "metadata": {
    "deletable": false,
    "id": "f4ea573f"
   },
   "source": [
    "**Задание 11. Заполните пропуски в столбце `days_employed` медианными значениями по каждого типа занятости `income_type`.**"
   ]
  },
  {
   "cell_type": "code",
   "execution_count": 11,
   "id": "7677a2c5",
   "metadata": {
    "deletable": false,
    "id": "af6b1a7e"
   },
   "outputs": [],
   "source": [
    "for t in data['income_type'].unique():\n",
    "    data.loc[(data['income_type'] == t) & (data['days_employed'].isna()), 'days_employed'] = \\\n",
    "    data.loc[(data['income_type'] == t), 'days_employed'].median()"
   ]
  },
  {
   "cell_type": "markdown",
   "id": "4e5df3ca",
   "metadata": {
    "deletable": false,
    "id": "2753f40d"
   },
   "source": [
    "**Задание 12. Убедитесь, что все пропуски заполнены. Проверьте себя и ещё раз выведите количество пропущенных значений для каждого столбца с помощью двух методов.**"
   ]
  },
  {
   "cell_type": "code",
   "execution_count": 12,
   "id": "e7cb6e85",
   "metadata": {
    "deletable": false,
    "id": "55f78bc2",
    "outputId": "8da1e4e1-358e-4e87-98c9-f261bce0a7b2"
   },
   "outputs": [
    {
     "data": {
      "text/plain": [
       "children            0\n",
       "days_employed       0\n",
       "dob_years           0\n",
       "education           0\n",
       "education_id        0\n",
       "family_status       0\n",
       "family_status_id    0\n",
       "gender              0\n",
       "income_type         0\n",
       "debt                0\n",
       "total_income        0\n",
       "purpose             0\n",
       "dtype: int64"
      ]
     },
     "execution_count": 12,
     "metadata": {},
     "output_type": "execute_result"
    }
   ],
   "source": [
    "data.isna().sum()"
   ]
  },
  {
   "cell_type": "markdown",
   "id": "820fbddb",
   "metadata": {
    "deletable": false,
    "id": "ddc81e43"
   },
   "source": [
    "### Изменение типов данных"
   ]
  },
  {
   "cell_type": "markdown",
   "id": "b556f25a",
   "metadata": {
    "deletable": false,
    "id": "42d19d24"
   },
   "source": [
    "**Задание 13. Замените вещественный тип данных в столбце `total_income` на целочисленный с помощью метода `astype()`.**"
   ]
  },
  {
   "cell_type": "code",
   "execution_count": 13,
   "id": "d8f78a8a",
   "metadata": {
    "deletable": false,
    "id": "920b65ad"
   },
   "outputs": [],
   "source": [
    "data['total_income'] = data['total_income'].astype(int)"
   ]
  },
  {
   "cell_type": "markdown",
   "id": "2ce0ac05",
   "metadata": {
    "deletable": false,
    "id": "80c420ba"
   },
   "source": [
    "### Обработка дубликатов"
   ]
  },
  {
   "cell_type": "markdown",
   "id": "aa575519",
   "metadata": {
    "deletable": false,
    "id": "dc587695"
   },
   "source": [
    "**Задание 14. Выведите на экран количество строк-дубликатов в данных. Если такие строки присутствуют, удалите их.**"
   ]
  },
  {
   "cell_type": "code",
   "execution_count": 14,
   "id": "e5235481",
   "metadata": {
    "deletable": false,
    "id": "3ee445e4",
    "outputId": "9684deba-1934-42d1-99e1-cda61740f822"
   },
   "outputs": [
    {
     "data": {
      "text/plain": [
       "54"
      ]
     },
     "execution_count": 14,
     "metadata": {},
     "output_type": "execute_result"
    }
   ],
   "source": [
    "data.duplicated().sum()"
   ]
  },
  {
   "cell_type": "code",
   "execution_count": 15,
   "id": "f50df0fa",
   "metadata": {
    "deletable": false,
    "id": "8575fe05"
   },
   "outputs": [],
   "source": [
    "data = data.drop_duplicates()"
   ]
  },
  {
   "cell_type": "markdown",
   "id": "58b395cc",
   "metadata": {
    "deletable": false,
    "id": "9771a76c"
   },
   "source": [
    "**Задание 15. Обработайте неявные дубликаты в столбце `education`. В этом столбце есть одни и те же значения, но записанные по-разному: с использованием заглавных и строчных букв. Приведите их к нижнему регистру. Проверьте остальные столбцы.**"
   ]
  },
  {
   "cell_type": "code",
   "execution_count": 16,
   "id": "d4101975",
   "metadata": {
    "deletable": false,
    "id": "a9f8e2bf"
   },
   "outputs": [],
   "source": [
    "data['education'] = data['education'].str.lower()"
   ]
  },
  {
   "cell_type": "markdown",
   "id": "d915c62b",
   "metadata": {
    "deletable": false,
    "id": "9904cf55"
   },
   "source": [
    "### Категоризация данных"
   ]
  },
  {
   "cell_type": "markdown",
   "id": "9fc7d9ff",
   "metadata": {
    "deletable": false,
    "id": "72fcc8a2"
   },
   "source": [
    "**Задание 16. На основании диапазонов, указанных ниже, создайте в датафрейме `data` столбец `total_income_category` с категориями:**\n",
    "\n",
    "- 0–30000 — `'E'`;\n",
    "- 30001–50000 — `'D'`;\n",
    "- 50001–200000 — `'C'`;\n",
    "- 200001–1000000 — `'B'`;\n",
    "- 1000001 и выше — `'A'`.\n",
    "\n",
    "\n",
    "**Например, кредитополучателю с доходом 25000 нужно назначить категорию `'E'`, а клиенту, получающему 235000, — `'B'`. Используйте собственную функцию с именем `categorize_income()` и метод `apply()`.**"
   ]
  },
  {
   "cell_type": "code",
   "execution_count": 17,
   "id": "e929c559",
   "metadata": {
    "deletable": false,
    "id": "e1771346"
   },
   "outputs": [],
   "source": [
    "def categorize_income(income):\n",
    "    try:\n",
    "        if 0 <= income <= 30000:\n",
    "            return 'E'\n",
    "        elif 30001 <= income <= 50000:\n",
    "            return 'D'\n",
    "        elif 50001 <= income <= 200000:\n",
    "            return 'C'\n",
    "        elif 200001 <= income <= 1000000:\n",
    "            return 'B'\n",
    "        elif income >= 1000001:\n",
    "            return 'A'\n",
    "    except:\n",
    "        pass"
   ]
  },
  {
   "cell_type": "code",
   "execution_count": 18,
   "id": "e0fe4e1d",
   "metadata": {
    "deletable": false,
    "id": "d5f3586d"
   },
   "outputs": [],
   "source": [
    "data['total_income_category'] = data['total_income'].apply(categorize_income)"
   ]
  },
  {
   "cell_type": "code",
   "execution_count": null,
   "id": "a22a18f6",
   "metadata": {},
   "outputs": [],
   "source": []
  },
  {
   "cell_type": "markdown",
   "id": "f40058ff",
   "metadata": {
    "deletable": false,
    "id": "dde49b5c"
   },
   "source": [
    "**Задание 17. Выведите на экран перечень уникальных целей взятия кредита из столбца `purpose`.**"
   ]
  },
  {
   "cell_type": "code",
   "execution_count": 19,
   "id": "5882dd93",
   "metadata": {
    "deletable": false,
    "id": "f67ce9b3",
    "outputId": "673c12d9-7d7e-4ae0-9812-c622c89dd244"
   },
   "outputs": [
    {
     "data": {
      "text/plain": [
       "array(['покупка жилья', 'приобретение автомобиля',\n",
       "       'дополнительное образование', 'сыграть свадьбу',\n",
       "       'операции с жильем', 'образование', 'на проведение свадьбы',\n",
       "       'покупка жилья для семьи', 'покупка недвижимости',\n",
       "       'покупка коммерческой недвижимости', 'покупка жилой недвижимости',\n",
       "       'строительство собственной недвижимости', 'недвижимость',\n",
       "       'строительство недвижимости', 'на покупку подержанного автомобиля',\n",
       "       'на покупку своего автомобиля',\n",
       "       'операции с коммерческой недвижимостью',\n",
       "       'строительство жилой недвижимости', 'жилье',\n",
       "       'операции со своей недвижимостью', 'автомобили',\n",
       "       'заняться образованием', 'сделка с подержанным автомобилем',\n",
       "       'получение образования', 'автомобиль', 'свадьба',\n",
       "       'получение дополнительного образования', 'покупка своего жилья',\n",
       "       'операции с недвижимостью', 'получение высшего образования',\n",
       "       'свой автомобиль', 'сделка с автомобилем',\n",
       "       'профильное образование', 'высшее образование',\n",
       "       'покупка жилья для сдачи', 'на покупку автомобиля', 'ремонт жилью',\n",
       "       'заняться высшим образованием'], dtype=object)"
      ]
     },
     "execution_count": 19,
     "metadata": {},
     "output_type": "execute_result"
    }
   ],
   "source": [
    "data['purpose'].unique()"
   ]
  },
  {
   "cell_type": "markdown",
   "id": "58cbbf50",
   "metadata": {
    "deletable": false,
    "id": "85d0aef0"
   },
   "source": [
    "**Задание 18. Создайте функцию, которая на основании данных из столбца `purpose` сформирует новый столбец `purpose_category`, в который войдут следующие категории:**\n",
    "\n",
    "- `'операции с автомобилем'`,\n",
    "- `'операции с недвижимостью'`,\n",
    "- `'проведение свадьбы'`,\n",
    "- `'получение образования'`.\n",
    "\n",
    "**Например, если в столбце `purpose` находится подстрока `'на покупку автомобиля'`, то в столбце `purpose_category` должна появиться строка `'операции с автомобилем'`.**\n",
    "\n",
    "**Используйте собственную функцию с именем `categorize_purpose()` и метод `apply()`. Изучите данные в столбце `purpose` и определите, какие подстроки помогут вам правильно определить категорию.**"
   ]
  },
  {
   "cell_type": "code",
   "execution_count": 20,
   "id": "ae7bb213",
   "metadata": {
    "deletable": false,
    "id": "e149fab4"
   },
   "outputs": [],
   "source": [
    "def categorize_purpose(row):\n",
    "    try:\n",
    "        if 'автом' in row:\n",
    "            return 'операции с автомобилем'\n",
    "        elif 'жил' in row or 'недвиж' in row:\n",
    "            return 'операции с недвижимостью'\n",
    "        elif 'свад' in row:\n",
    "            return 'проведение свадьбы'\n",
    "        elif 'образов' in row:\n",
    "            return 'получение образования'\n",
    "    except:\n",
    "        return 'нет категории'"
   ]
  },
  {
   "cell_type": "code",
   "execution_count": 21,
   "id": "cc235504",
   "metadata": {
    "deletable": false,
    "id": "bf36e69b"
   },
   "outputs": [],
   "source": [
    "data['purpose_category'] = data['purpose'].apply(categorize_purpose)"
   ]
  },
  {
   "cell_type": "markdown",
   "id": "98f3485a",
   "metadata": {
    "deletable": false,
    "editable": false,
    "id": "09b242bf"
   },
   "source": [
    "## Исследуйте данные и ответьте на вопросы"
   ]
  },
  {
   "cell_type": "markdown",
   "id": "0e7848a9",
   "metadata": {},
   "source": [
    "<div class=\"alert alert-danger\">\n",
    "<b>Комментарий ревьюера №1</b> Замечание по всему разделу ответов на вопросы\n",
    "    \n",
    "Гораздо рациональнее здесь воспользоваться pivot и выводить результаты в каждом из вопросов в одной табличке.\n",
    "    \n",
    "Чтобы найти долю должников, нужно количество должников поделить на общее число заемщиков. Эту долю можно найти с помощью функции агрегации `mean` \n",
    "    \n",
    "Попробуй получить сводную следующего вида. В индексе столбец, который исследуем (в первом вопросе это количество детей), а столбцы: 'Всего кредитополучателей', 'Всего должников', 'Доля должников'. Учитывай, что использовать параметр columns необязательно, а в aggfunc можно указывать несколько функций агрегации сразу.\n",
    "    \n",
    "Также могу посоветовать переименовать столбцы и написать функцию для построения сводных во всех вопросах.\n",
    "</div>"
   ]
  },
  {
   "cell_type": "markdown",
   "id": "cec59849",
   "metadata": {
    "deletable": false,
    "editable": false,
    "id": "c5d66278"
   },
   "source": [
    "**Задание 19. Есть ли зависимость между количеством детей и возвратом кредита в срок?**"
   ]
  },
  {
   "cell_type": "markdown",
   "id": "d1652a64",
   "metadata": {},
   "source": [
    "** Общие статистики"
   ]
  },
  {
   "cell_type": "code",
   "execution_count": 22,
   "id": "b664bcc6",
   "metadata": {},
   "outputs": [
    {
     "data": {
      "text/html": [
       "<div>\n",
       "<style scoped>\n",
       "    .dataframe tbody tr th:only-of-type {\n",
       "        vertical-align: middle;\n",
       "    }\n",
       "\n",
       "    .dataframe tbody tr th {\n",
       "        vertical-align: top;\n",
       "    }\n",
       "\n",
       "    .dataframe thead th {\n",
       "        text-align: right;\n",
       "    }\n",
       "</style>\n",
       "<table border=\"1\" class=\"dataframe\">\n",
       "  <thead>\n",
       "    <tr style=\"text-align: right;\">\n",
       "      <th></th>\n",
       "      <th>children</th>\n",
       "      <th>days_employed</th>\n",
       "      <th>dob_years</th>\n",
       "      <th>education_id</th>\n",
       "      <th>family_status_id</th>\n",
       "      <th>debt</th>\n",
       "      <th>total_income</th>\n",
       "    </tr>\n",
       "  </thead>\n",
       "  <tbody>\n",
       "    <tr>\n",
       "      <th>count</th>\n",
       "      <td>21348.000000</td>\n",
       "      <td>21348.000000</td>\n",
       "      <td>21348.000000</td>\n",
       "      <td>21348.000000</td>\n",
       "      <td>21348.000000</td>\n",
       "      <td>21348.000000</td>\n",
       "      <td>2.134800e+04</td>\n",
       "    </tr>\n",
       "    <tr>\n",
       "      <th>mean</th>\n",
       "      <td>0.473674</td>\n",
       "      <td>67233.049266</td>\n",
       "      <td>43.285835</td>\n",
       "      <td>0.817079</td>\n",
       "      <td>0.974283</td>\n",
       "      <td>0.081132</td>\n",
       "      <td>1.653184e+05</td>\n",
       "    </tr>\n",
       "    <tr>\n",
       "      <th>std</th>\n",
       "      <td>0.752199</td>\n",
       "      <td>139351.730617</td>\n",
       "      <td>12.578779</td>\n",
       "      <td>0.549115</td>\n",
       "      <td>1.421299</td>\n",
       "      <td>0.273044</td>\n",
       "      <td>9.827990e+04</td>\n",
       "    </tr>\n",
       "    <tr>\n",
       "      <th>min</th>\n",
       "      <td>0.000000</td>\n",
       "      <td>24.141633</td>\n",
       "      <td>0.000000</td>\n",
       "      <td>0.000000</td>\n",
       "      <td>0.000000</td>\n",
       "      <td>0.000000</td>\n",
       "      <td>2.066700e+04</td>\n",
       "    </tr>\n",
       "    <tr>\n",
       "      <th>25%</th>\n",
       "      <td>0.000000</td>\n",
       "      <td>1025.203063</td>\n",
       "      <td>33.000000</td>\n",
       "      <td>1.000000</td>\n",
       "      <td>0.000000</td>\n",
       "      <td>0.000000</td>\n",
       "      <td>1.075595e+05</td>\n",
       "    </tr>\n",
       "    <tr>\n",
       "      <th>50%</th>\n",
       "      <td>0.000000</td>\n",
       "      <td>1996.658290</td>\n",
       "      <td>42.000000</td>\n",
       "      <td>1.000000</td>\n",
       "      <td>0.000000</td>\n",
       "      <td>0.000000</td>\n",
       "      <td>1.425940e+05</td>\n",
       "    </tr>\n",
       "    <tr>\n",
       "      <th>75%</th>\n",
       "      <td>1.000000</td>\n",
       "      <td>5347.525014</td>\n",
       "      <td>53.000000</td>\n",
       "      <td>1.000000</td>\n",
       "      <td>1.000000</td>\n",
       "      <td>0.000000</td>\n",
       "      <td>1.957885e+05</td>\n",
       "    </tr>\n",
       "    <tr>\n",
       "      <th>max</th>\n",
       "      <td>5.000000</td>\n",
       "      <td>401755.400475</td>\n",
       "      <td>75.000000</td>\n",
       "      <td>4.000000</td>\n",
       "      <td>4.000000</td>\n",
       "      <td>1.000000</td>\n",
       "      <td>2.265604e+06</td>\n",
       "    </tr>\n",
       "  </tbody>\n",
       "</table>\n",
       "</div>"
      ],
      "text/plain": [
       "           children  days_employed     dob_years  education_id  \\\n",
       "count  21348.000000   21348.000000  21348.000000  21348.000000   \n",
       "mean       0.473674   67233.049266     43.285835      0.817079   \n",
       "std        0.752199  139351.730617     12.578779      0.549115   \n",
       "min        0.000000      24.141633      0.000000      0.000000   \n",
       "25%        0.000000    1025.203063     33.000000      1.000000   \n",
       "50%        0.000000    1996.658290     42.000000      1.000000   \n",
       "75%        1.000000    5347.525014     53.000000      1.000000   \n",
       "max        5.000000  401755.400475     75.000000      4.000000   \n",
       "\n",
       "       family_status_id          debt  total_income  \n",
       "count      21348.000000  21348.000000  2.134800e+04  \n",
       "mean           0.974283      0.081132  1.653184e+05  \n",
       "std            1.421299      0.273044  9.827990e+04  \n",
       "min            0.000000      0.000000  2.066700e+04  \n",
       "25%            0.000000      0.000000  1.075595e+05  \n",
       "50%            0.000000      0.000000  1.425940e+05  \n",
       "75%            1.000000      0.000000  1.957885e+05  \n",
       "max            4.000000      1.000000  2.265604e+06  "
      ]
     },
     "execution_count": 22,
     "metadata": {},
     "output_type": "execute_result"
    }
   ],
   "source": [
    "data.describe()"
   ]
  },
  {
   "cell_type": "code",
   "execution_count": 23,
   "id": "c92b4a93",
   "metadata": {},
   "outputs": [
    {
     "data": {
      "text/plain": [
       "'Корреляция Пирсона'"
      ]
     },
     "metadata": {},
     "output_type": "display_data"
    },
    {
     "data": {
      "text/html": [
       "<div>\n",
       "<style scoped>\n",
       "    .dataframe tbody tr th:only-of-type {\n",
       "        vertical-align: middle;\n",
       "    }\n",
       "\n",
       "    .dataframe tbody tr th {\n",
       "        vertical-align: top;\n",
       "    }\n",
       "\n",
       "    .dataframe thead th {\n",
       "        text-align: right;\n",
       "    }\n",
       "</style>\n",
       "<table border=\"1\" class=\"dataframe\">\n",
       "  <thead>\n",
       "    <tr style=\"text-align: right;\">\n",
       "      <th></th>\n",
       "      <th>children</th>\n",
       "      <th>days_employed</th>\n",
       "      <th>dob_years</th>\n",
       "      <th>education_id</th>\n",
       "      <th>family_status_id</th>\n",
       "      <th>debt</th>\n",
       "      <th>total_income</th>\n",
       "    </tr>\n",
       "  </thead>\n",
       "  <tbody>\n",
       "    <tr>\n",
       "      <th>children</th>\n",
       "      <td>1.000000</td>\n",
       "      <td>-0.239912</td>\n",
       "      <td>-0.310919</td>\n",
       "      <td>-0.027140</td>\n",
       "      <td>-0.158835</td>\n",
       "      <td>0.024769</td>\n",
       "      <td>0.032351</td>\n",
       "    </tr>\n",
       "    <tr>\n",
       "      <th>days_employed</th>\n",
       "      <td>-0.239912</td>\n",
       "      <td>1.000000</td>\n",
       "      <td>0.587948</td>\n",
       "      <td>0.081241</td>\n",
       "      <td>0.003561</td>\n",
       "      <td>-0.042345</td>\n",
       "      <td>-0.141647</td>\n",
       "    </tr>\n",
       "    <tr>\n",
       "      <th>dob_years</th>\n",
       "      <td>-0.310919</td>\n",
       "      <td>0.587948</td>\n",
       "      <td>1.000000</td>\n",
       "      <td>0.067008</td>\n",
       "      <td>-0.069795</td>\n",
       "      <td>-0.069698</td>\n",
       "      <td>-0.057774</td>\n",
       "    </tr>\n",
       "    <tr>\n",
       "      <th>education_id</th>\n",
       "      <td>-0.027140</td>\n",
       "      <td>0.081241</td>\n",
       "      <td>0.067008</td>\n",
       "      <td>1.000000</td>\n",
       "      <td>0.007717</td>\n",
       "      <td>0.052746</td>\n",
       "      <td>-0.172290</td>\n",
       "    </tr>\n",
       "    <tr>\n",
       "      <th>family_status_id</th>\n",
       "      <td>-0.158835</td>\n",
       "      <td>0.003561</td>\n",
       "      <td>-0.069795</td>\n",
       "      <td>0.007717</td>\n",
       "      <td>1.000000</td>\n",
       "      <td>0.020224</td>\n",
       "      <td>-0.007546</td>\n",
       "    </tr>\n",
       "    <tr>\n",
       "      <th>debt</th>\n",
       "      <td>0.024769</td>\n",
       "      <td>-0.042345</td>\n",
       "      <td>-0.069698</td>\n",
       "      <td>0.052746</td>\n",
       "      <td>0.020224</td>\n",
       "      <td>1.000000</td>\n",
       "      <td>-0.012596</td>\n",
       "    </tr>\n",
       "    <tr>\n",
       "      <th>total_income</th>\n",
       "      <td>0.032351</td>\n",
       "      <td>-0.141647</td>\n",
       "      <td>-0.057774</td>\n",
       "      <td>-0.172290</td>\n",
       "      <td>-0.007546</td>\n",
       "      <td>-0.012596</td>\n",
       "      <td>1.000000</td>\n",
       "    </tr>\n",
       "  </tbody>\n",
       "</table>\n",
       "</div>"
      ],
      "text/plain": [
       "                  children  days_employed  dob_years  education_id  \\\n",
       "children          1.000000      -0.239912  -0.310919     -0.027140   \n",
       "days_employed    -0.239912       1.000000   0.587948      0.081241   \n",
       "dob_years        -0.310919       0.587948   1.000000      0.067008   \n",
       "education_id     -0.027140       0.081241   0.067008      1.000000   \n",
       "family_status_id -0.158835       0.003561  -0.069795      0.007717   \n",
       "debt              0.024769      -0.042345  -0.069698      0.052746   \n",
       "total_income      0.032351      -0.141647  -0.057774     -0.172290   \n",
       "\n",
       "                  family_status_id      debt  total_income  \n",
       "children                 -0.158835  0.024769      0.032351  \n",
       "days_employed             0.003561 -0.042345     -0.141647  \n",
       "dob_years                -0.069795 -0.069698     -0.057774  \n",
       "education_id              0.007717  0.052746     -0.172290  \n",
       "family_status_id          1.000000  0.020224     -0.007546  \n",
       "debt                      0.020224  1.000000     -0.012596  \n",
       "total_income             -0.007546 -0.012596      1.000000  "
      ]
     },
     "metadata": {},
     "output_type": "display_data"
    }
   ],
   "source": [
    "display('Корреляция Пирсона', data.corr(method='pearson'))"
   ]
  },
  {
   "cell_type": "markdown",
   "id": "b7439dfd",
   "metadata": {},
   "source": [
    "<div class=\"alert alert-success\">\n",
    "<b>Комментарий ревьюера №1</b> \n",
    "    \n",
    "Для вывода матрицы корреляции можно использовать `heatmap()` из библиотеки `seaborn`\n",
    "</div>"
   ]
  },
  {
   "cell_type": "code",
   "execution_count": 24,
   "id": "bd75ce01",
   "metadata": {},
   "outputs": [
    {
     "data": {
      "text/plain": [
       "'Корреляция Спирмана'"
      ]
     },
     "metadata": {},
     "output_type": "display_data"
    },
    {
     "data": {
      "text/html": [
       "<div>\n",
       "<style scoped>\n",
       "    .dataframe tbody tr th:only-of-type {\n",
       "        vertical-align: middle;\n",
       "    }\n",
       "\n",
       "    .dataframe tbody tr th {\n",
       "        vertical-align: top;\n",
       "    }\n",
       "\n",
       "    .dataframe thead th {\n",
       "        text-align: right;\n",
       "    }\n",
       "</style>\n",
       "<table border=\"1\" class=\"dataframe\">\n",
       "  <thead>\n",
       "    <tr style=\"text-align: right;\">\n",
       "      <th></th>\n",
       "      <th>children</th>\n",
       "      <th>days_employed</th>\n",
       "      <th>dob_years</th>\n",
       "      <th>education_id</th>\n",
       "      <th>family_status_id</th>\n",
       "      <th>debt</th>\n",
       "      <th>total_income</th>\n",
       "    </tr>\n",
       "  </thead>\n",
       "  <tbody>\n",
       "    <tr>\n",
       "      <th>children</th>\n",
       "      <td>1.000000</td>\n",
       "      <td>-0.191812</td>\n",
       "      <td>-0.342300</td>\n",
       "      <td>-0.038076</td>\n",
       "      <td>-0.156419</td>\n",
       "      <td>0.028841</td>\n",
       "      <td>0.035621</td>\n",
       "    </tr>\n",
       "    <tr>\n",
       "      <th>days_employed</th>\n",
       "      <td>-0.191812</td>\n",
       "      <td>1.000000</td>\n",
       "      <td>0.536249</td>\n",
       "      <td>0.045366</td>\n",
       "      <td>-0.039662</td>\n",
       "      <td>-0.074686</td>\n",
       "      <td>-0.095978</td>\n",
       "    </tr>\n",
       "    <tr>\n",
       "      <th>dob_years</th>\n",
       "      <td>-0.342300</td>\n",
       "      <td>0.536249</td>\n",
       "      <td>1.000000</td>\n",
       "      <td>0.075646</td>\n",
       "      <td>-0.045158</td>\n",
       "      <td>-0.071941</td>\n",
       "      <td>-0.087964</td>\n",
       "    </tr>\n",
       "    <tr>\n",
       "      <th>education_id</th>\n",
       "      <td>-0.038076</td>\n",
       "      <td>0.045366</td>\n",
       "      <td>0.075646</td>\n",
       "      <td>1.000000</td>\n",
       "      <td>0.013074</td>\n",
       "      <td>0.056432</td>\n",
       "      <td>-0.182800</td>\n",
       "    </tr>\n",
       "    <tr>\n",
       "      <th>family_status_id</th>\n",
       "      <td>-0.156419</td>\n",
       "      <td>-0.039662</td>\n",
       "      <td>-0.045158</td>\n",
       "      <td>0.013074</td>\n",
       "      <td>1.000000</td>\n",
       "      <td>0.022936</td>\n",
       "      <td>-0.013030</td>\n",
       "    </tr>\n",
       "    <tr>\n",
       "      <th>debt</th>\n",
       "      <td>0.028841</td>\n",
       "      <td>-0.074686</td>\n",
       "      <td>-0.071941</td>\n",
       "      <td>0.056432</td>\n",
       "      <td>0.022936</td>\n",
       "      <td>1.000000</td>\n",
       "      <td>-0.010282</td>\n",
       "    </tr>\n",
       "    <tr>\n",
       "      <th>total_income</th>\n",
       "      <td>0.035621</td>\n",
       "      <td>-0.095978</td>\n",
       "      <td>-0.087964</td>\n",
       "      <td>-0.182800</td>\n",
       "      <td>-0.013030</td>\n",
       "      <td>-0.010282</td>\n",
       "      <td>1.000000</td>\n",
       "    </tr>\n",
       "  </tbody>\n",
       "</table>\n",
       "</div>"
      ],
      "text/plain": [
       "                  children  days_employed  dob_years  education_id  \\\n",
       "children          1.000000      -0.191812  -0.342300     -0.038076   \n",
       "days_employed    -0.191812       1.000000   0.536249      0.045366   \n",
       "dob_years        -0.342300       0.536249   1.000000      0.075646   \n",
       "education_id     -0.038076       0.045366   0.075646      1.000000   \n",
       "family_status_id -0.156419      -0.039662  -0.045158      0.013074   \n",
       "debt              0.028841      -0.074686  -0.071941      0.056432   \n",
       "total_income      0.035621      -0.095978  -0.087964     -0.182800   \n",
       "\n",
       "                  family_status_id      debt  total_income  \n",
       "children                 -0.156419  0.028841      0.035621  \n",
       "days_employed            -0.039662 -0.074686     -0.095978  \n",
       "dob_years                -0.045158 -0.071941     -0.087964  \n",
       "education_id              0.013074  0.056432     -0.182800  \n",
       "family_status_id          1.000000  0.022936     -0.013030  \n",
       "debt                      0.022936  1.000000     -0.010282  \n",
       "total_income             -0.013030 -0.010282      1.000000  "
      ]
     },
     "metadata": {},
     "output_type": "display_data"
    }
   ],
   "source": [
    "display('Корреляция Спирмана', data.corr(method='spearman'))"
   ]
  },
  {
   "cell_type": "code",
   "execution_count": null,
   "id": "1e94f341",
   "metadata": {},
   "outputs": [],
   "source": []
  },
  {
   "cell_type": "code",
   "execution_count": 55,
   "id": "f71e6f7e",
   "metadata": {
    "id": "2cacfc4a"
   },
   "outputs": [
    {
     "data": {
      "text/html": [
       "<div>\n",
       "<style scoped>\n",
       "    .dataframe tbody tr th:only-of-type {\n",
       "        vertical-align: middle;\n",
       "    }\n",
       "\n",
       "    .dataframe tbody tr th {\n",
       "        vertical-align: top;\n",
       "    }\n",
       "\n",
       "    .dataframe thead th {\n",
       "        text-align: right;\n",
       "    }\n",
       "</style>\n",
       "<table border=\"1\" class=\"dataframe\">\n",
       "  <thead>\n",
       "    <tr style=\"text-align: right;\">\n",
       "      <th></th>\n",
       "      <th>children_amount</th>\n",
       "      <th>sum_of_clients</th>\n",
       "      <th>sum_of_clients_with_debt</th>\n",
       "      <th>children_dept_prob</th>\n",
       "      <th>general_prob</th>\n",
       "    </tr>\n",
       "  </thead>\n",
       "  <tbody>\n",
       "    <tr>\n",
       "      <th>0</th>\n",
       "      <td>0</td>\n",
       "      <td>14107</td>\n",
       "      <td>1063</td>\n",
       "      <td>0.075353</td>\n",
       "      <td>0.049794</td>\n",
       "    </tr>\n",
       "    <tr>\n",
       "      <th>1</th>\n",
       "      <td>1</td>\n",
       "      <td>4809</td>\n",
       "      <td>444</td>\n",
       "      <td>0.092327</td>\n",
       "      <td>0.020798</td>\n",
       "    </tr>\n",
       "    <tr>\n",
       "      <th>2</th>\n",
       "      <td>2</td>\n",
       "      <td>2052</td>\n",
       "      <td>194</td>\n",
       "      <td>0.094542</td>\n",
       "      <td>0.009088</td>\n",
       "    </tr>\n",
       "    <tr>\n",
       "      <th>3</th>\n",
       "      <td>3</td>\n",
       "      <td>330</td>\n",
       "      <td>27</td>\n",
       "      <td>0.081818</td>\n",
       "      <td>0.001265</td>\n",
       "    </tr>\n",
       "    <tr>\n",
       "      <th>4</th>\n",
       "      <td>4</td>\n",
       "      <td>41</td>\n",
       "      <td>4</td>\n",
       "      <td>0.097561</td>\n",
       "      <td>0.000187</td>\n",
       "    </tr>\n",
       "    <tr>\n",
       "      <th>5</th>\n",
       "      <td>5</td>\n",
       "      <td>9</td>\n",
       "      <td>0</td>\n",
       "      <td>0.000000</td>\n",
       "      <td>0.000000</td>\n",
       "    </tr>\n",
       "  </tbody>\n",
       "</table>\n",
       "</div>"
      ],
      "text/plain": [
       "   children_amount  sum_of_clients  sum_of_clients_with_debt  \\\n",
       "0                0           14107                      1063   \n",
       "1                1            4809                       444   \n",
       "2                2            2052                       194   \n",
       "3                3             330                        27   \n",
       "4                4              41                         4   \n",
       "5                5               9                         0   \n",
       "\n",
       "   children_dept_prob  general_prob  \n",
       "0            0.075353      0.049794  \n",
       "1            0.092327      0.020798  \n",
       "2            0.094542      0.009088  \n",
       "3            0.081818      0.001265  \n",
       "4            0.097561      0.000187  \n",
       "5            0.000000      0.000000  "
      ]
     },
     "metadata": {},
     "output_type": "display_data"
    }
   ],
   "source": [
    "#первоначальное решение\n",
    "debt_children = pd.DataFrame()\n",
    "debt_children['children_amount'] = [0, 1, 2, 3, 4, 5]\n",
    "debt_children['sum_of_clients'] = data.groupby('children')['gender'].count()\n",
    "debt_children['sum_of_clients_with_debt'] = data.groupby('children')['debt'].sum()\n",
    "debt_children['children_dept_prob'] = debt_children['sum_of_clients_with_debt'] / debt_children['sum_of_clients']\n",
    "debt_children['general_prob'] = debt_children['sum_of_clients_with_debt'] / data['children'].count()\n",
    "display(debt_children)"
   ]
  },
  {
   "cell_type": "markdown",
   "id": "cdad4d80",
   "metadata": {},
   "source": [
    "<div class=\"alert alert-danger\">\n",
    "<b>Комментарий ревьюера №1</b> \n",
    "    \n",
    "Все библиотеки нужно импортировать в начале всего кода в отдельной ячейке, это соответствует стилевому гайду <a href=\"https://peps.python.org/pep-0008/\">pep 8</a>. Также непонятно откуда взялось число 21348\n",
    "</div>"
   ]
  },
  {
   "cell_type": "markdown",
   "id": "923d91c0",
   "metadata": {},
   "source": [
    "<div class=\"alert alert-success\">\n",
    "<b>Исправлено</b> \n",
    "    \n",
    "заменил 21348 на счетчик. Импортировал seaborn в ячейке 1\n",
    "</div>"
   ]
  },
  {
   "cell_type": "code",
   "execution_count": 61,
   "id": "97d14fa7",
   "metadata": {},
   "outputs": [
    {
     "data": {
      "text/html": [
       "<div>\n",
       "<style scoped>\n",
       "    .dataframe tbody tr th:only-of-type {\n",
       "        vertical-align: middle;\n",
       "    }\n",
       "\n",
       "    .dataframe tbody tr th {\n",
       "        vertical-align: top;\n",
       "    }\n",
       "\n",
       "    .dataframe thead tr th {\n",
       "        text-align: left;\n",
       "    }\n",
       "\n",
       "    .dataframe thead tr:last-of-type th {\n",
       "        text-align: right;\n",
       "    }\n",
       "</style>\n",
       "<table border=\"1\" class=\"dataframe\">\n",
       "  <thead>\n",
       "    <tr>\n",
       "      <th></th>\n",
       "      <th>sum_of clients</th>\n",
       "      <th>sum_of_clients_with_debt</th>\n",
       "      <th>dabt_rate</th>\n",
       "    </tr>\n",
       "    <tr>\n",
       "      <th></th>\n",
       "      <th>debt</th>\n",
       "      <th>debt</th>\n",
       "      <th>debt</th>\n",
       "    </tr>\n",
       "    <tr>\n",
       "      <th>children</th>\n",
       "      <th></th>\n",
       "      <th></th>\n",
       "      <th></th>\n",
       "    </tr>\n",
       "  </thead>\n",
       "  <tbody>\n",
       "    <tr>\n",
       "      <th>0</th>\n",
       "      <td>14107</td>\n",
       "      <td>1063</td>\n",
       "      <td>0.075353</td>\n",
       "    </tr>\n",
       "    <tr>\n",
       "      <th>1</th>\n",
       "      <td>4809</td>\n",
       "      <td>444</td>\n",
       "      <td>0.092327</td>\n",
       "    </tr>\n",
       "    <tr>\n",
       "      <th>2</th>\n",
       "      <td>2052</td>\n",
       "      <td>194</td>\n",
       "      <td>0.094542</td>\n",
       "    </tr>\n",
       "    <tr>\n",
       "      <th>3</th>\n",
       "      <td>330</td>\n",
       "      <td>27</td>\n",
       "      <td>0.081818</td>\n",
       "    </tr>\n",
       "    <tr>\n",
       "      <th>4</th>\n",
       "      <td>41</td>\n",
       "      <td>4</td>\n",
       "      <td>0.097561</td>\n",
       "    </tr>\n",
       "    <tr>\n",
       "      <th>5</th>\n",
       "      <td>9</td>\n",
       "      <td>0</td>\n",
       "      <td>0.000000</td>\n",
       "    </tr>\n",
       "  </tbody>\n",
       "</table>\n",
       "</div>"
      ],
      "text/plain": [
       "         sum_of clients sum_of_clients_with_debt dabt_rate\n",
       "                   debt                     debt      debt\n",
       "children                                                  \n",
       "0                 14107                     1063  0.075353\n",
       "1                  4809                      444  0.092327\n",
       "2                  2052                      194  0.094542\n",
       "3                   330                       27  0.081818\n",
       "4                    41                        4  0.097561\n",
       "5                     9                        0  0.000000"
      ]
     },
     "metadata": {},
     "output_type": "display_data"
    }
   ],
   "source": [
    "# Вариант решения №2\n",
    "pivot_children = data.pivot_table(index='children', values='debt', aggfunc=['count', 'sum','mean']).rename(columns={'count' : 'sum_of clients', 'sum' : 'sum_of_clients_with_debt', 'mean' : 'debt_rate'})\n",
    "display(pivot_children)"
   ]
  },
  {
   "cell_type": "markdown",
   "id": "2d90903d",
   "metadata": {},
   "source": [
    "<div class=\"alert alert-warning\">\n",
    "<b>Комментарий ревьюера №2</b> \n",
    "    \n",
    "Длинные строки кода лучше разбивать на несколько. \n",
    "    \n",
    "Чтобы убрать `debt`, можно использовать метод `.droplevel(1,axis=1)` или переименовать столбцы так:\n",
    "\n",
    "    pivot_children.columns = ['Всего кредитополучателей', 'Количество должников', 'Доля должников']\n",
    "    \n",
    "Можно использовать фигурные скобки `data.pivot_table(index='children', values='debt', aggfunc={'count', 'sum','mean'})`\n",
    "</div>"
   ]
  },
  {
   "cell_type": "code",
   "execution_count": 68,
   "id": "98b0c818",
   "metadata": {},
   "outputs": [],
   "source": [
    "#Вариант решения №3\n",
    "#в данном решениее не переименовываются столбцы сводной, как в варианте 2. Но добавление \n",
    "#.rename(columns={'count' : 'sum_of clients', 'sum' : 'sum_of_clients_with_debt', 'mean' : 'debt_rate'})\n",
    "# возвращает новые названия\n",
    "def rate(feature):\n",
    "    return data.pivot_table(index=feature, values='debt', aggfunc=['count', 'sum','mean'])"
   ]
  },
  {
   "cell_type": "code",
   "execution_count": 69,
   "id": "51bc9f46",
   "metadata": {},
   "outputs": [
    {
     "data": {
      "text/html": [
       "<div>\n",
       "<style scoped>\n",
       "    .dataframe tbody tr th:only-of-type {\n",
       "        vertical-align: middle;\n",
       "    }\n",
       "\n",
       "    .dataframe tbody tr th {\n",
       "        vertical-align: top;\n",
       "    }\n",
       "\n",
       "    .dataframe thead tr th {\n",
       "        text-align: left;\n",
       "    }\n",
       "\n",
       "    .dataframe thead tr:last-of-type th {\n",
       "        text-align: right;\n",
       "    }\n",
       "</style>\n",
       "<table border=\"1\" class=\"dataframe\">\n",
       "  <thead>\n",
       "    <tr>\n",
       "      <th></th>\n",
       "      <th>sum_of clients</th>\n",
       "      <th>sum_of_clients_with_debt</th>\n",
       "      <th>debt_rate</th>\n",
       "    </tr>\n",
       "    <tr>\n",
       "      <th></th>\n",
       "      <th>debt</th>\n",
       "      <th>debt</th>\n",
       "      <th>debt</th>\n",
       "    </tr>\n",
       "    <tr>\n",
       "      <th>children</th>\n",
       "      <th></th>\n",
       "      <th></th>\n",
       "      <th></th>\n",
       "    </tr>\n",
       "  </thead>\n",
       "  <tbody>\n",
       "    <tr>\n",
       "      <th>0</th>\n",
       "      <td>14107</td>\n",
       "      <td>1063</td>\n",
       "      <td>0.075353</td>\n",
       "    </tr>\n",
       "    <tr>\n",
       "      <th>1</th>\n",
       "      <td>4809</td>\n",
       "      <td>444</td>\n",
       "      <td>0.092327</td>\n",
       "    </tr>\n",
       "    <tr>\n",
       "      <th>2</th>\n",
       "      <td>2052</td>\n",
       "      <td>194</td>\n",
       "      <td>0.094542</td>\n",
       "    </tr>\n",
       "    <tr>\n",
       "      <th>3</th>\n",
       "      <td>330</td>\n",
       "      <td>27</td>\n",
       "      <td>0.081818</td>\n",
       "    </tr>\n",
       "    <tr>\n",
       "      <th>4</th>\n",
       "      <td>41</td>\n",
       "      <td>4</td>\n",
       "      <td>0.097561</td>\n",
       "    </tr>\n",
       "    <tr>\n",
       "      <th>5</th>\n",
       "      <td>9</td>\n",
       "      <td>0</td>\n",
       "      <td>0.000000</td>\n",
       "    </tr>\n",
       "  </tbody>\n",
       "</table>\n",
       "</div>"
      ],
      "text/plain": [
       "         sum_of clients sum_of_clients_with_debt debt_rate\n",
       "                   debt                     debt      debt\n",
       "children                                                  \n",
       "0                 14107                     1063  0.075353\n",
       "1                  4809                      444  0.092327\n",
       "2                  2052                      194  0.094542\n",
       "3                   330                       27  0.081818\n",
       "4                    41                        4  0.097561\n",
       "5                     9                        0  0.000000"
      ]
     },
     "execution_count": 69,
     "metadata": {},
     "output_type": "execute_result"
    }
   ],
   "source": [
    "rate('children')"
   ]
  },
  {
   "cell_type": "code",
   "execution_count": 27,
   "id": "ce173963",
   "metadata": {},
   "outputs": [
    {
     "data": {
      "text/plain": [
       "<AxesSubplot:xlabel='children_amount', ylabel='children_dept_prob'>"
      ]
     },
     "execution_count": 27,
     "metadata": {},
     "output_type": "execute_result"
    },
    {
     "data": {
      "image/png": "[encoded data removed]",
      "text/plain": [
       "<Figure size 432x288 with 1 Axes>"
      ]
     },
     "metadata": {
      "needs_background": "light"
     },
     "output_type": "display_data"
    }
   ],
   "source": [
    "seaborn.barplot(x='children_amount', y='children_dept_prob', data=debt_children)"
   ]
  },
  {
   "cell_type": "code",
   "execution_count": 28,
   "id": "4a8762c5",
   "metadata": {},
   "outputs": [
    {
     "data": {
      "text/plain": [
       "<AxesSubplot:xlabel='children_amount', ylabel='sum_of_clients_with_debt'>"
      ]
     },
     "execution_count": 28,
     "metadata": {},
     "output_type": "execute_result"
    },
    {
     "data": {
      "image/png": "[encoded data removed]",
      "text/plain": [
       "<Figure size 432x288 with 1 Axes>"
      ]
     },
     "metadata": {
      "needs_background": "light"
     },
     "output_type": "display_data"
    }
   ],
   "source": [
    "seaborn.barplot(x='children_amount', y='sum_of_clients_with_debt', data=debt_children)"
   ]
  },
  {
   "cell_type": "code",
   "execution_count": 29,
   "id": "dc6c24cf",
   "metadata": {},
   "outputs": [
    {
     "data": {
      "text/plain": [
       "<AxesSubplot:xlabel='children_amount', ylabel='general_prob'>"
      ]
     },
     "execution_count": 29,
     "metadata": {},
     "output_type": "execute_result"
    },
    {
     "data": {
      "image/png": "[encoded data removed]",
      "text/plain": [
       "<Figure size 432x288 with 1 Axes>"
      ]
     },
     "metadata": {
      "needs_background": "light"
     },
     "output_type": "display_data"
    }
   ],
   "source": [
    "seaborn.barplot(x='children_amount', y='general_prob', data=debt_children)"
   ]
  },
  {
   "cell_type": "code",
   "execution_count": 30,
   "id": "5753bef9",
   "metadata": {},
   "outputs": [
    {
     "data": {
      "text/plain": [
       "1.9482115729871565"
      ]
     },
     "metadata": {},
     "output_type": "display_data"
    },
    {
     "data": {
      "text/plain": [
       "1.5889387144992526"
      ]
     },
     "metadata": {},
     "output_type": "display_data"
    }
   ],
   "source": [
    "display(debt_children['sum_of_clients'][0] / (debt_children['sum_of_clients'].sum() - debt_children['sum_of_clients'][0]))\n",
    "display(debt_children['sum_of_clients_with_debt'][0] / (debt_children['sum_of_clients_with_debt'].sum() - debt_children['sum_of_clients_with_debt'][0]))\n"
   ]
  },
  {
   "cell_type": "markdown",
   "id": "0e1c4f1c",
   "metadata": {
    "deletable": false,
    "id": "3a6b99ec"
   },
   "source": [
    "**Вывод:** \n",
    "В целом количество детей у заемщика влияет на вероятность возврата кредита в срок. Так, заемщиков которые не вернули кредит в срок:\n",
    "\n",
    "- бездетных - 7,5%,\n",
    "- с одним ребенком - 9,2%\n",
    "- с двумя детьми - 9,5%\n",
    "- 4-мя детьми - 9,8%\n",
    "\n",
    "С другой стороны, \"плохих\" заемщиков с тремя детьми - 8,2%, а у заемщиков с 5-ю детьми еще не было просрочек. \n",
    "\n",
    "Cтоит отметить, что число бездетных заемщиков в 1,95 раза больше, чем остальных заемщиков с 1-м и более детьми, и просрочек выплат у бездетных заемщиков в 1,59  раза больше чем у остальных. Подобный перекос в выборке в сторону бездетных заемщиков влияет на долю \"невозвратных кредитов\" в общем количестве кредитов. Так, доля невозвратных кредитов в общем количестве кредиов у бездетных заемщиков самая высокая и составляет почти 5%, а у заемщиков с 4-мя детьми - 0,01%. Поэтому может сложиться впечатление, что многодетные заемщики более привлекательны для выдачи кредитов в будущем.\n",
    "\n",
    "Необходимо учитывать также то, что корреляция (Спирмена для дискретных значений) между значением количества детей и возратом кредита в срок \"очень слабая\" и близка к 0.\n",
    "\n",
    "Для более корректной оценки по данному показателю необходимо обогатить базу клиентами с детьми. \n",
    "Давайте срочно раздадим кредиты многодетным =)\n",
    "\n"
   ]
  },
  {
   "cell_type": "markdown",
   "id": "288fc019",
   "metadata": {
    "deletable": false,
    "editable": false,
    "id": "97be82ca"
   },
   "source": [
    "**Задание 20. Есть ли зависимость между семейным положением и возвратом кредита в срок?**"
   ]
  },
  {
   "cell_type": "code",
   "execution_count": 80,
   "id": "c4b62402",
   "metadata": {
    "id": "dc3f7ee8"
   },
   "outputs": [
    {
     "data": {
      "text/html": [
       "<div>\n",
       "<style scoped>\n",
       "    .dataframe tbody tr th:only-of-type {\n",
       "        vertical-align: middle;\n",
       "    }\n",
       "\n",
       "    .dataframe tbody tr th {\n",
       "        vertical-align: top;\n",
       "    }\n",
       "\n",
       "    .dataframe thead th {\n",
       "        text-align: right;\n",
       "    }\n",
       "</style>\n",
       "<table border=\"1\" class=\"dataframe\">\n",
       "  <thead>\n",
       "    <tr style=\"text-align: right;\">\n",
       "      <th></th>\n",
       "      <th>sum_of_clients</th>\n",
       "      <th>sum_of_clients_with_debt</th>\n",
       "      <th>status_dept_prob</th>\n",
       "      <th>general_prob</th>\n",
       "    </tr>\n",
       "    <tr>\n",
       "      <th>family_status</th>\n",
       "      <th></th>\n",
       "      <th></th>\n",
       "      <th></th>\n",
       "      <th></th>\n",
       "    </tr>\n",
       "  </thead>\n",
       "  <tbody>\n",
       "    <tr>\n",
       "      <th>Не женат / не замужем</th>\n",
       "      <td>2796</td>\n",
       "      <td>273</td>\n",
       "      <td>0.097639</td>\n",
       "      <td>0.012788</td>\n",
       "    </tr>\n",
       "    <tr>\n",
       "      <th>в разводе</th>\n",
       "      <td>1189</td>\n",
       "      <td>84</td>\n",
       "      <td>0.070648</td>\n",
       "      <td>0.003935</td>\n",
       "    </tr>\n",
       "    <tr>\n",
       "      <th>вдовец / вдова</th>\n",
       "      <td>951</td>\n",
       "      <td>63</td>\n",
       "      <td>0.066246</td>\n",
       "      <td>0.002951</td>\n",
       "    </tr>\n",
       "    <tr>\n",
       "      <th>гражданский брак</th>\n",
       "      <td>4146</td>\n",
       "      <td>385</td>\n",
       "      <td>0.092861</td>\n",
       "      <td>0.018034</td>\n",
       "    </tr>\n",
       "    <tr>\n",
       "      <th>женат / замужем</th>\n",
       "      <td>12266</td>\n",
       "      <td>927</td>\n",
       "      <td>0.075575</td>\n",
       "      <td>0.043423</td>\n",
       "    </tr>\n",
       "  </tbody>\n",
       "</table>\n",
       "</div>"
      ],
      "text/plain": [
       "                       sum_of_clients  sum_of_clients_with_debt  \\\n",
       "family_status                                                     \n",
       "Не женат / не замужем            2796                       273   \n",
       "в разводе                        1189                        84   \n",
       "вдовец / вдова                    951                        63   \n",
       "гражданский брак                 4146                       385   \n",
       "женат / замужем                 12266                       927   \n",
       "\n",
       "                       status_dept_prob  general_prob  \n",
       "family_status                                          \n",
       "Не женат / не замужем          0.097639      0.012788  \n",
       "в разводе                      0.070648      0.003935  \n",
       "вдовец / вдова                 0.066246      0.002951  \n",
       "гражданский брак               0.092861      0.018034  \n",
       "женат / замужем                0.075575      0.043423  "
      ]
     },
     "metadata": {},
     "output_type": "display_data"
    }
   ],
   "source": [
    "debt_family_status = pd.DataFrame()\n",
    "debt_family_status['sum_of_clients'] = data.groupby('family_status')['gender'].count()\n",
    "debt_family_status['sum_of_clients_with_debt'] = data.groupby('family_status')['debt'].sum()\n",
    "debt_family_status['status_dept_prob'] = debt_family_status['sum_of_clients_with_debt'] / debt_family_status['sum_of_clients']\n",
    "debt_family_status['general_prob'] = debt_family_status['sum_of_clients_with_debt'] / data['children'].count()\n",
    "display(debt_family_status)"
   ]
  },
  {
   "cell_type": "code",
   "execution_count": 88,
   "id": "70198c52",
   "metadata": {},
   "outputs": [
    {
     "data": {
      "text/plain": [
       "<AxesSubplot:xlabel='sum_of_clients', ylabel='family_status'>"
      ]
     },
     "execution_count": 88,
     "metadata": {},
     "output_type": "execute_result"
    },
    {
     "data": {
      "image/png": "[encoded data removed]",
      "text/plain": [
       "<Figure size 432x288 with 1 Axes>"
      ]
     },
     "metadata": {
      "needs_background": "light"
     },
     "output_type": "display_data"
    }
   ],
   "source": [
    "#debt_family_status.reset_index()\n",
    "debt_family_status['family_status'] = ['Не женат / не замужем', 'в разводе', 'вдовец / вдова', 'гражданский брак', 'женат / замужем']\n",
    "seaborn.barplot(x='sum_of_clients', y='family_status', data=debt_family_status)\n",
    "#display(debt_family_status)"
   ]
  },
  {
   "cell_type": "markdown",
   "id": "5c5893da",
   "metadata": {},
   "source": [
    "<div class=\"alert alert-warning\">\n",
    "<b>Комментарий ревьюера №1</b> \n",
    "    \n",
    "Не нужно создавать лишний столбец, дублирующий индексы. Можно воспользоваться методом `reset_index()`\n",
    "</div>"
   ]
  },
  {
   "cell_type": "markdown",
   "id": "a95b444b",
   "metadata": {},
   "source": [
    "**Можно, наверное, только я не понял как запихнуть столбец с индексами в барплот. Новый столбец созадвался исключительно для картинок. Так что не догадался пока, как скорректировать"
   ]
  },
  {
   "cell_type": "markdown",
   "id": "fb073aaa",
   "metadata": {},
   "source": [
    "<div class=\"alert alert-warning\">\n",
    "<b>Комментарий ревьюера №2</b> \n",
    "    \n",
    "Метод `reset_index()` выносит индексы в столбец, затем можно обратиться к этому столбцу при построении графика\n",
    "</div>"
   ]
  },
  {
   "cell_type": "code",
   "execution_count": 33,
   "id": "c552db06",
   "metadata": {},
   "outputs": [
    {
     "data": {
      "text/plain": [
       "<AxesSubplot:xlabel='status_dept_prob', ylabel='family_status'>"
      ]
     },
     "execution_count": 33,
     "metadata": {},
     "output_type": "execute_result"
    },
    {
     "data": {
      "image/png": "[encoded data removed]",
      "text/plain": [
       "<Figure size 432x288 with 1 Axes>"
      ]
     },
     "metadata": {
      "needs_background": "light"
     },
     "output_type": "display_data"
    }
   ],
   "source": [
    "seaborn.barplot(x='status_dept_prob', y='family_status', data=debt_family_status)"
   ]
  },
  {
   "cell_type": "code",
   "execution_count": 72,
   "id": "997eb58c",
   "metadata": {},
   "outputs": [
    {
     "data": {
      "text/html": [
       "<div>\n",
       "<style scoped>\n",
       "    .dataframe tbody tr th:only-of-type {\n",
       "        vertical-align: middle;\n",
       "    }\n",
       "\n",
       "    .dataframe tbody tr th {\n",
       "        vertical-align: top;\n",
       "    }\n",
       "\n",
       "    .dataframe thead tr th {\n",
       "        text-align: left;\n",
       "    }\n",
       "\n",
       "    .dataframe thead tr:last-of-type th {\n",
       "        text-align: right;\n",
       "    }\n",
       "</style>\n",
       "<table border=\"1\" class=\"dataframe\">\n",
       "  <thead>\n",
       "    <tr>\n",
       "      <th></th>\n",
       "      <th>sum_of clients</th>\n",
       "      <th>sum_of_clients_with_debt</th>\n",
       "      <th>debt_rate</th>\n",
       "    </tr>\n",
       "    <tr>\n",
       "      <th></th>\n",
       "      <th>debt</th>\n",
       "      <th>debt</th>\n",
       "      <th>debt</th>\n",
       "    </tr>\n",
       "    <tr>\n",
       "      <th>family_status</th>\n",
       "      <th></th>\n",
       "      <th></th>\n",
       "      <th></th>\n",
       "    </tr>\n",
       "  </thead>\n",
       "  <tbody>\n",
       "    <tr>\n",
       "      <th>Не женат / не замужем</th>\n",
       "      <td>2796</td>\n",
       "      <td>273</td>\n",
       "      <td>0.097639</td>\n",
       "    </tr>\n",
       "    <tr>\n",
       "      <th>в разводе</th>\n",
       "      <td>1189</td>\n",
       "      <td>84</td>\n",
       "      <td>0.070648</td>\n",
       "    </tr>\n",
       "    <tr>\n",
       "      <th>вдовец / вдова</th>\n",
       "      <td>951</td>\n",
       "      <td>63</td>\n",
       "      <td>0.066246</td>\n",
       "    </tr>\n",
       "    <tr>\n",
       "      <th>гражданский брак</th>\n",
       "      <td>4146</td>\n",
       "      <td>385</td>\n",
       "      <td>0.092861</td>\n",
       "    </tr>\n",
       "    <tr>\n",
       "      <th>женат / замужем</th>\n",
       "      <td>12266</td>\n",
       "      <td>927</td>\n",
       "      <td>0.075575</td>\n",
       "    </tr>\n",
       "  </tbody>\n",
       "</table>\n",
       "</div>"
      ],
      "text/plain": [
       "                      sum_of clients sum_of_clients_with_debt debt_rate\n",
       "                                debt                     debt      debt\n",
       "family_status                                                          \n",
       "Не женат / не замужем           2796                      273  0.097639\n",
       "в разводе                       1189                       84  0.070648\n",
       "вдовец / вдова                   951                       63  0.066246\n",
       "гражданский брак                4146                      385  0.092861\n",
       "женат / замужем                12266                      927  0.075575"
      ]
     },
     "metadata": {},
     "output_type": "display_data"
    }
   ],
   "source": [
    "# Вариант решения №2\n",
    "pivot_family_status = data.pivot_table(index='family_status', values='debt', aggfunc=['count', 'sum','mean']).rename(columns={'count' : 'sum_of clients', 'sum' : 'sum_of_clients_with_debt', 'mean' : 'debt_rate'})\n",
    "display(pivot_family_status)"
   ]
  },
  {
   "cell_type": "code",
   "execution_count": 73,
   "id": "34499694",
   "metadata": {},
   "outputs": [
    {
     "data": {
      "text/html": [
       "<div>\n",
       "<style scoped>\n",
       "    .dataframe tbody tr th:only-of-type {\n",
       "        vertical-align: middle;\n",
       "    }\n",
       "\n",
       "    .dataframe tbody tr th {\n",
       "        vertical-align: top;\n",
       "    }\n",
       "\n",
       "    .dataframe thead tr th {\n",
       "        text-align: left;\n",
       "    }\n",
       "\n",
       "    .dataframe thead tr:last-of-type th {\n",
       "        text-align: right;\n",
       "    }\n",
       "</style>\n",
       "<table border=\"1\" class=\"dataframe\">\n",
       "  <thead>\n",
       "    <tr>\n",
       "      <th></th>\n",
       "      <th>sum_of clients</th>\n",
       "      <th>sum_of_clients_with_debt</th>\n",
       "      <th>debt_rate</th>\n",
       "    </tr>\n",
       "    <tr>\n",
       "      <th></th>\n",
       "      <th>debt</th>\n",
       "      <th>debt</th>\n",
       "      <th>debt</th>\n",
       "    </tr>\n",
       "    <tr>\n",
       "      <th>family_status</th>\n",
       "      <th></th>\n",
       "      <th></th>\n",
       "      <th></th>\n",
       "    </tr>\n",
       "  </thead>\n",
       "  <tbody>\n",
       "    <tr>\n",
       "      <th>Не женат / не замужем</th>\n",
       "      <td>2796</td>\n",
       "      <td>273</td>\n",
       "      <td>0.097639</td>\n",
       "    </tr>\n",
       "    <tr>\n",
       "      <th>в разводе</th>\n",
       "      <td>1189</td>\n",
       "      <td>84</td>\n",
       "      <td>0.070648</td>\n",
       "    </tr>\n",
       "    <tr>\n",
       "      <th>вдовец / вдова</th>\n",
       "      <td>951</td>\n",
       "      <td>63</td>\n",
       "      <td>0.066246</td>\n",
       "    </tr>\n",
       "    <tr>\n",
       "      <th>гражданский брак</th>\n",
       "      <td>4146</td>\n",
       "      <td>385</td>\n",
       "      <td>0.092861</td>\n",
       "    </tr>\n",
       "    <tr>\n",
       "      <th>женат / замужем</th>\n",
       "      <td>12266</td>\n",
       "      <td>927</td>\n",
       "      <td>0.075575</td>\n",
       "    </tr>\n",
       "  </tbody>\n",
       "</table>\n",
       "</div>"
      ],
      "text/plain": [
       "                      sum_of clients sum_of_clients_with_debt debt_rate\n",
       "                                debt                     debt      debt\n",
       "family_status                                                          \n",
       "Не женат / не замужем           2796                      273  0.097639\n",
       "в разводе                       1189                       84  0.070648\n",
       "вдовец / вдова                   951                       63  0.066246\n",
       "гражданский брак                4146                      385  0.092861\n",
       "женат / замужем                12266                      927  0.075575"
      ]
     },
     "execution_count": 73,
     "metadata": {},
     "output_type": "execute_result"
    }
   ],
   "source": [
    "# Вариант решения №3\n",
    "rate('family_status')"
   ]
  },
  {
   "cell_type": "markdown",
   "id": "7917586a",
   "metadata": {
    "deletable": false,
    "id": "1cef7837"
   },
   "source": [
    "**Вывод:** \n",
    "\n",
    "Существует некая зависимость между семейным положением и вероятностью возврата кредита в срок. Так самые \"злостные нарушители\" - незамужние/неженатые и состоящие в гражданском браке (скорее всего это связано с возрастом, т.к такой статус имеет прежде всего свободная молодежь, но в рамках задания этого выяснять не требуется, поэтому см. след вывод на экран).\n",
    "\n",
    "Самые \"пунктуальные\" и ответственные заемщики - находящиеся в разводе или овдовели.  В тоже время, хотя доля заемщиков с невозвращенными кредитами среди женатых и замужних, ниже чем доля таких среди \"свободных\" заемщиков, в общем количестве всех кредитов доля невозвращенных кредитов от неженатых заемщиков выше, чем в остальных группах. Скорее всего такое распределение вызвано тем, что доля таких заемщиков в общей выборке составляет более 50%."
   ]
  },
  {
   "cell_type": "markdown",
   "id": "0fddba55",
   "metadata": {},
   "source": [
    "**Посмотрим на распределение между числом невозвращенных кредитов и возрастом заемщиков**"
   ]
  },
  {
   "cell_type": "code",
   "execution_count": 34,
   "id": "e4ebd58d",
   "metadata": {},
   "outputs": [
    {
     "data": {
      "text/html": [
       "<div>\n",
       "<style scoped>\n",
       "    .dataframe tbody tr th:only-of-type {\n",
       "        vertical-align: middle;\n",
       "    }\n",
       "\n",
       "    .dataframe tbody tr th {\n",
       "        vertical-align: top;\n",
       "    }\n",
       "\n",
       "    .dataframe thead th {\n",
       "        text-align: right;\n",
       "    }\n",
       "</style>\n",
       "<table border=\"1\" class=\"dataframe\">\n",
       "  <thead>\n",
       "    <tr style=\"text-align: right;\">\n",
       "      <th>family_status</th>\n",
       "      <th>Не женат / не замужем</th>\n",
       "      <th>в разводе</th>\n",
       "      <th>вдовец / вдова</th>\n",
       "      <th>гражданский брак</th>\n",
       "      <th>женат / замужем</th>\n",
       "      <th>sum_free</th>\n",
       "    </tr>\n",
       "    <tr>\n",
       "      <th>dob_years</th>\n",
       "      <th></th>\n",
       "      <th></th>\n",
       "      <th></th>\n",
       "      <th></th>\n",
       "      <th></th>\n",
       "      <th></th>\n",
       "    </tr>\n",
       "  </thead>\n",
       "  <tbody>\n",
       "    <tr>\n",
       "      <th>0</th>\n",
       "      <td>1.0</td>\n",
       "      <td>0.0</td>\n",
       "      <td>1.0</td>\n",
       "      <td>2.0</td>\n",
       "      <td>4.0</td>\n",
       "      <td>3.0</td>\n",
       "    </tr>\n",
       "    <tr>\n",
       "      <th>19</th>\n",
       "      <td>1.0</td>\n",
       "      <td>NaN</td>\n",
       "      <td>NaN</td>\n",
       "      <td>0.0</td>\n",
       "      <td>0.0</td>\n",
       "      <td>1.0</td>\n",
       "    </tr>\n",
       "    <tr>\n",
       "      <th>20</th>\n",
       "      <td>1.0</td>\n",
       "      <td>0.0</td>\n",
       "      <td>NaN</td>\n",
       "      <td>1.0</td>\n",
       "      <td>2.0</td>\n",
       "      <td>2.0</td>\n",
       "    </tr>\n",
       "    <tr>\n",
       "      <th>21</th>\n",
       "      <td>9.0</td>\n",
       "      <td>0.0</td>\n",
       "      <td>NaN</td>\n",
       "      <td>1.0</td>\n",
       "      <td>4.0</td>\n",
       "      <td>10.0</td>\n",
       "    </tr>\n",
       "    <tr>\n",
       "      <th>22</th>\n",
       "      <td>13.0</td>\n",
       "      <td>1.0</td>\n",
       "      <td>NaN</td>\n",
       "      <td>6.0</td>\n",
       "      <td>5.0</td>\n",
       "      <td>19.0</td>\n",
       "    </tr>\n",
       "    <tr>\n",
       "      <th>23</th>\n",
       "      <td>6.0</td>\n",
       "      <td>0.0</td>\n",
       "      <td>0.0</td>\n",
       "      <td>9.0</td>\n",
       "      <td>5.0</td>\n",
       "      <td>15.0</td>\n",
       "    </tr>\n",
       "    <tr>\n",
       "      <th>24</th>\n",
       "      <td>11.0</td>\n",
       "      <td>1.0</td>\n",
       "      <td>NaN</td>\n",
       "      <td>4.0</td>\n",
       "      <td>8.0</td>\n",
       "      <td>15.0</td>\n",
       "    </tr>\n",
       "    <tr>\n",
       "      <th>25</th>\n",
       "      <td>16.0</td>\n",
       "      <td>2.0</td>\n",
       "      <td>NaN</td>\n",
       "      <td>8.0</td>\n",
       "      <td>17.0</td>\n",
       "      <td>24.0</td>\n",
       "    </tr>\n",
       "    <tr>\n",
       "      <th>26</th>\n",
       "      <td>14.0</td>\n",
       "      <td>1.0</td>\n",
       "      <td>NaN</td>\n",
       "      <td>9.0</td>\n",
       "      <td>23.0</td>\n",
       "      <td>23.0</td>\n",
       "    </tr>\n",
       "    <tr>\n",
       "      <th>27</th>\n",
       "      <td>9.0</td>\n",
       "      <td>3.0</td>\n",
       "      <td>0.0</td>\n",
       "      <td>7.0</td>\n",
       "      <td>30.0</td>\n",
       "      <td>16.0</td>\n",
       "    </tr>\n",
       "    <tr>\n",
       "      <th>28</th>\n",
       "      <td>11.0</td>\n",
       "      <td>4.0</td>\n",
       "      <td>NaN</td>\n",
       "      <td>12.0</td>\n",
       "      <td>30.0</td>\n",
       "      <td>23.0</td>\n",
       "    </tr>\n",
       "    <tr>\n",
       "      <th>29</th>\n",
       "      <td>12.0</td>\n",
       "      <td>2.0</td>\n",
       "      <td>NaN</td>\n",
       "      <td>13.0</td>\n",
       "      <td>38.0</td>\n",
       "      <td>25.0</td>\n",
       "    </tr>\n",
       "    <tr>\n",
       "      <th>30</th>\n",
       "      <td>11.0</td>\n",
       "      <td>3.0</td>\n",
       "      <td>1.0</td>\n",
       "      <td>14.0</td>\n",
       "      <td>25.0</td>\n",
       "      <td>25.0</td>\n",
       "    </tr>\n",
       "    <tr>\n",
       "      <th>31</th>\n",
       "      <td>16.0</td>\n",
       "      <td>3.0</td>\n",
       "      <td>0.0</td>\n",
       "      <td>19.0</td>\n",
       "      <td>38.0</td>\n",
       "      <td>35.0</td>\n",
       "    </tr>\n",
       "    <tr>\n",
       "      <th>32</th>\n",
       "      <td>11.0</td>\n",
       "      <td>1.0</td>\n",
       "      <td>0.0</td>\n",
       "      <td>11.0</td>\n",
       "      <td>28.0</td>\n",
       "      <td>22.0</td>\n",
       "    </tr>\n",
       "    <tr>\n",
       "      <th>33</th>\n",
       "      <td>7.0</td>\n",
       "      <td>0.0</td>\n",
       "      <td>0.0</td>\n",
       "      <td>11.0</td>\n",
       "      <td>37.0</td>\n",
       "      <td>18.0</td>\n",
       "    </tr>\n",
       "    <tr>\n",
       "      <th>34</th>\n",
       "      <td>10.0</td>\n",
       "      <td>1.0</td>\n",
       "      <td>1.0</td>\n",
       "      <td>15.0</td>\n",
       "      <td>36.0</td>\n",
       "      <td>25.0</td>\n",
       "    </tr>\n",
       "    <tr>\n",
       "      <th>35</th>\n",
       "      <td>5.0</td>\n",
       "      <td>1.0</td>\n",
       "      <td>0.0</td>\n",
       "      <td>11.0</td>\n",
       "      <td>30.0</td>\n",
       "      <td>16.0</td>\n",
       "    </tr>\n",
       "    <tr>\n",
       "      <th>36</th>\n",
       "      <td>3.0</td>\n",
       "      <td>1.0</td>\n",
       "      <td>1.0</td>\n",
       "      <td>11.0</td>\n",
       "      <td>27.0</td>\n",
       "      <td>14.0</td>\n",
       "    </tr>\n",
       "    <tr>\n",
       "      <th>37</th>\n",
       "      <td>4.0</td>\n",
       "      <td>3.0</td>\n",
       "      <td>0.0</td>\n",
       "      <td>18.0</td>\n",
       "      <td>26.0</td>\n",
       "      <td>22.0</td>\n",
       "    </tr>\n",
       "  </tbody>\n",
       "</table>\n",
       "</div>"
      ],
      "text/plain": [
       "family_status  Не женат / не замужем  в разводе  вдовец / вдова  \\\n",
       "dob_years                                                         \n",
       "0                                1.0        0.0             1.0   \n",
       "19                               1.0        NaN             NaN   \n",
       "20                               1.0        0.0             NaN   \n",
       "21                               9.0        0.0             NaN   \n",
       "22                              13.0        1.0             NaN   \n",
       "23                               6.0        0.0             0.0   \n",
       "24                              11.0        1.0             NaN   \n",
       "25                              16.0        2.0             NaN   \n",
       "26                              14.0        1.0             NaN   \n",
       "27                               9.0        3.0             0.0   \n",
       "28                              11.0        4.0             NaN   \n",
       "29                              12.0        2.0             NaN   \n",
       "30                              11.0        3.0             1.0   \n",
       "31                              16.0        3.0             0.0   \n",
       "32                              11.0        1.0             0.0   \n",
       "33                               7.0        0.0             0.0   \n",
       "34                              10.0        1.0             1.0   \n",
       "35                               5.0        1.0             0.0   \n",
       "36                               3.0        1.0             1.0   \n",
       "37                               4.0        3.0             0.0   \n",
       "\n",
       "family_status  гражданский брак  женат / замужем  sum_free  \n",
       "dob_years                                                   \n",
       "0                           2.0              4.0       3.0  \n",
       "19                          0.0              0.0       1.0  \n",
       "20                          1.0              2.0       2.0  \n",
       "21                          1.0              4.0      10.0  \n",
       "22                          6.0              5.0      19.0  \n",
       "23                          9.0              5.0      15.0  \n",
       "24                          4.0              8.0      15.0  \n",
       "25                          8.0             17.0      24.0  \n",
       "26                          9.0             23.0      23.0  \n",
       "27                          7.0             30.0      16.0  \n",
       "28                         12.0             30.0      23.0  \n",
       "29                         13.0             38.0      25.0  \n",
       "30                         14.0             25.0      25.0  \n",
       "31                         19.0             38.0      35.0  \n",
       "32                         11.0             28.0      22.0  \n",
       "33                         11.0             37.0      18.0  \n",
       "34                         15.0             36.0      25.0  \n",
       "35                         11.0             30.0      16.0  \n",
       "36                         11.0             27.0      14.0  \n",
       "37                         18.0             26.0      22.0  "
      ]
     },
     "metadata": {},
     "output_type": "display_data"
    }
   ],
   "source": [
    "#data.describe()\n",
    "data_pivot = data.pivot_table(index='dob_years', columns='family_status', values='debt', aggfunc='sum')\n",
    "data_pivot['sum_free'] = data_pivot['Не женат / не замужем'] + data_pivot['гражданский брак']\n",
    "display(data_pivot.head(20))"
   ]
  },
  {
   "cell_type": "markdown",
   "id": "517406f0",
   "metadata": {},
   "source": [
    "Из сводной талицы видно, что молодых \"свободные\" заемщики (незамужние и в гр. браке) с невозращенными кредитами в срок больше, чем замужних/ женатых"
   ]
  },
  {
   "cell_type": "markdown",
   "id": "2d06fe87",
   "metadata": {
    "deletable": false,
    "editable": false,
    "id": "1e8b2fca"
   },
   "source": [
    "**Задание 21. Есть ли зависимость между уровнем дохода и возвратом кредита в срок?**"
   ]
  },
  {
   "cell_type": "code",
   "execution_count": 35,
   "id": "493a0513",
   "metadata": {},
   "outputs": [
    {
     "data": {
      "text/html": [
       "<div>\n",
       "<style scoped>\n",
       "    .dataframe tbody tr th:only-of-type {\n",
       "        vertical-align: middle;\n",
       "    }\n",
       "\n",
       "    .dataframe tbody tr th {\n",
       "        vertical-align: top;\n",
       "    }\n",
       "\n",
       "    .dataframe thead th {\n",
       "        text-align: right;\n",
       "    }\n",
       "</style>\n",
       "<table border=\"1\" class=\"dataframe\">\n",
       "  <thead>\n",
       "    <tr style=\"text-align: right;\">\n",
       "      <th></th>\n",
       "      <th>children</th>\n",
       "      <th>days_employed</th>\n",
       "      <th>dob_years</th>\n",
       "      <th>education</th>\n",
       "      <th>education_id</th>\n",
       "      <th>family_status</th>\n",
       "      <th>family_status_id</th>\n",
       "      <th>gender</th>\n",
       "      <th>income_type</th>\n",
       "      <th>debt</th>\n",
       "      <th>total_income</th>\n",
       "      <th>purpose</th>\n",
       "      <th>total_income_category</th>\n",
       "      <th>purpose_category</th>\n",
       "    </tr>\n",
       "  </thead>\n",
       "  <tbody>\n",
       "    <tr>\n",
       "      <th>0</th>\n",
       "      <td>1</td>\n",
       "      <td>8437.673028</td>\n",
       "      <td>42</td>\n",
       "      <td>высшее</td>\n",
       "      <td>0</td>\n",
       "      <td>женат / замужем</td>\n",
       "      <td>0</td>\n",
       "      <td>F</td>\n",
       "      <td>сотрудник</td>\n",
       "      <td>0</td>\n",
       "      <td>253875</td>\n",
       "      <td>покупка жилья</td>\n",
       "      <td>B</td>\n",
       "      <td>операции с недвижимостью</td>\n",
       "    </tr>\n",
       "    <tr>\n",
       "      <th>1</th>\n",
       "      <td>1</td>\n",
       "      <td>4024.803754</td>\n",
       "      <td>36</td>\n",
       "      <td>среднее</td>\n",
       "      <td>1</td>\n",
       "      <td>женат / замужем</td>\n",
       "      <td>0</td>\n",
       "      <td>F</td>\n",
       "      <td>сотрудник</td>\n",
       "      <td>0</td>\n",
       "      <td>112080</td>\n",
       "      <td>приобретение автомобиля</td>\n",
       "      <td>C</td>\n",
       "      <td>операции с автомобилем</td>\n",
       "    </tr>\n",
       "    <tr>\n",
       "      <th>2</th>\n",
       "      <td>0</td>\n",
       "      <td>5623.422610</td>\n",
       "      <td>33</td>\n",
       "      <td>среднее</td>\n",
       "      <td>1</td>\n",
       "      <td>женат / замужем</td>\n",
       "      <td>0</td>\n",
       "      <td>M</td>\n",
       "      <td>сотрудник</td>\n",
       "      <td>0</td>\n",
       "      <td>145885</td>\n",
       "      <td>покупка жилья</td>\n",
       "      <td>C</td>\n",
       "      <td>операции с недвижимостью</td>\n",
       "    </tr>\n",
       "    <tr>\n",
       "      <th>3</th>\n",
       "      <td>3</td>\n",
       "      <td>4124.747207</td>\n",
       "      <td>32</td>\n",
       "      <td>среднее</td>\n",
       "      <td>1</td>\n",
       "      <td>женат / замужем</td>\n",
       "      <td>0</td>\n",
       "      <td>M</td>\n",
       "      <td>сотрудник</td>\n",
       "      <td>0</td>\n",
       "      <td>267628</td>\n",
       "      <td>дополнительное образование</td>\n",
       "      <td>B</td>\n",
       "      <td>получение образования</td>\n",
       "    </tr>\n",
       "    <tr>\n",
       "      <th>4</th>\n",
       "      <td>0</td>\n",
       "      <td>340266.072047</td>\n",
       "      <td>53</td>\n",
       "      <td>среднее</td>\n",
       "      <td>1</td>\n",
       "      <td>гражданский брак</td>\n",
       "      <td>1</td>\n",
       "      <td>F</td>\n",
       "      <td>пенсионер</td>\n",
       "      <td>0</td>\n",
       "      <td>158616</td>\n",
       "      <td>сыграть свадьбу</td>\n",
       "      <td>C</td>\n",
       "      <td>проведение свадьбы</td>\n",
       "    </tr>\n",
       "  </tbody>\n",
       "</table>\n",
       "</div>"
      ],
      "text/plain": [
       "   children  days_employed  dob_years education  education_id  \\\n",
       "0         1    8437.673028         42    высшее             0   \n",
       "1         1    4024.803754         36   среднее             1   \n",
       "2         0    5623.422610         33   среднее             1   \n",
       "3         3    4124.747207         32   среднее             1   \n",
       "4         0  340266.072047         53   среднее             1   \n",
       "\n",
       "      family_status  family_status_id gender income_type  debt  total_income  \\\n",
       "0   женат / замужем                 0      F   сотрудник     0        253875   \n",
       "1   женат / замужем                 0      F   сотрудник     0        112080   \n",
       "2   женат / замужем                 0      M   сотрудник     0        145885   \n",
       "3   женат / замужем                 0      M   сотрудник     0        267628   \n",
       "4  гражданский брак                 1      F   пенсионер     0        158616   \n",
       "\n",
       "                      purpose total_income_category          purpose_category  \n",
       "0               покупка жилья                     B  операции с недвижимостью  \n",
       "1     приобретение автомобиля                     C    операции с автомобилем  \n",
       "2               покупка жилья                     C  операции с недвижимостью  \n",
       "3  дополнительное образование                     B     получение образования  \n",
       "4             сыграть свадьбу                     C        проведение свадьбы  "
      ]
     },
     "execution_count": 35,
     "metadata": {},
     "output_type": "execute_result"
    }
   ],
   "source": [
    "data.head(5)"
   ]
  },
  {
   "cell_type": "code",
   "execution_count": 36,
   "id": "58ce3089",
   "metadata": {
    "id": "cd7e3720"
   },
   "outputs": [
    {
     "data": {
      "text/html": [
       "<div>\n",
       "<style scoped>\n",
       "    .dataframe tbody tr th:only-of-type {\n",
       "        vertical-align: middle;\n",
       "    }\n",
       "\n",
       "    .dataframe tbody tr th {\n",
       "        vertical-align: top;\n",
       "    }\n",
       "\n",
       "    .dataframe thead th {\n",
       "        text-align: right;\n",
       "    }\n",
       "</style>\n",
       "<table border=\"1\" class=\"dataframe\">\n",
       "  <thead>\n",
       "    <tr style=\"text-align: right;\">\n",
       "      <th></th>\n",
       "      <th>sum_of_clients</th>\n",
       "      <th>sum_of_clients_with_debt</th>\n",
       "      <th>inccat_dept_prob</th>\n",
       "      <th>category</th>\n",
       "    </tr>\n",
       "    <tr>\n",
       "      <th>total_income_category</th>\n",
       "      <th></th>\n",
       "      <th></th>\n",
       "      <th></th>\n",
       "      <th></th>\n",
       "    </tr>\n",
       "  </thead>\n",
       "  <tbody>\n",
       "    <tr>\n",
       "      <th>A</th>\n",
       "      <td>25</td>\n",
       "      <td>2</td>\n",
       "      <td>0.080000</td>\n",
       "      <td>A</td>\n",
       "    </tr>\n",
       "    <tr>\n",
       "      <th>B</th>\n",
       "      <td>5014</td>\n",
       "      <td>354</td>\n",
       "      <td>0.070602</td>\n",
       "      <td>B</td>\n",
       "    </tr>\n",
       "    <tr>\n",
       "      <th>C</th>\n",
       "      <td>15938</td>\n",
       "      <td>1353</td>\n",
       "      <td>0.084891</td>\n",
       "      <td>C</td>\n",
       "    </tr>\n",
       "    <tr>\n",
       "      <th>D</th>\n",
       "      <td>349</td>\n",
       "      <td>21</td>\n",
       "      <td>0.060172</td>\n",
       "      <td>D</td>\n",
       "    </tr>\n",
       "    <tr>\n",
       "      <th>E</th>\n",
       "      <td>22</td>\n",
       "      <td>2</td>\n",
       "      <td>0.090909</td>\n",
       "      <td>E</td>\n",
       "    </tr>\n",
       "  </tbody>\n",
       "</table>\n",
       "</div>"
      ],
      "text/plain": [
       "                       sum_of_clients  sum_of_clients_with_debt  \\\n",
       "total_income_category                                             \n",
       "A                                  25                         2   \n",
       "B                                5014                       354   \n",
       "C                               15938                      1353   \n",
       "D                                 349                        21   \n",
       "E                                  22                         2   \n",
       "\n",
       "                       inccat_dept_prob category  \n",
       "total_income_category                             \n",
       "A                              0.080000        A  \n",
       "B                              0.070602        B  \n",
       "C                              0.084891        C  \n",
       "D                              0.060172        D  \n",
       "E                              0.090909        E  "
      ]
     },
     "metadata": {},
     "output_type": "display_data"
    }
   ],
   "source": [
    "debt_income = pd.DataFrame()\n",
    "\n",
    "debt_income['sum_of_clients'] = data.groupby('total_income_category')['gender'].count()\n",
    "debt_income['sum_of_clients_with_debt'] = data.groupby('total_income_category')['debt'].sum()\n",
    "debt_income['inccat_dept_prob'] = debt_income['sum_of_clients_with_debt'] / debt_income['sum_of_clients']\n",
    "debt_income['category'] = ['A', 'B', 'C', 'D', 'E']\n",
    "display(debt_income)"
   ]
  },
  {
   "cell_type": "code",
   "execution_count": 37,
   "id": "d0dc4329",
   "metadata": {},
   "outputs": [
    {
     "data": {
      "text/plain": [
       "<AxesSubplot:xlabel='category', ylabel='inccat_dept_prob'>"
      ]
     },
     "execution_count": 37,
     "metadata": {},
     "output_type": "execute_result"
    },
    {
     "data": {
      "image/png": "[encoded data removed]",
      "text/plain": [
       "<Figure size 432x288 with 1 Axes>"
      ]
     },
     "metadata": {
      "needs_background": "light"
     },
     "output_type": "display_data"
    }
   ],
   "source": [
    "seaborn.barplot(x='category', y='inccat_dept_prob', data=debt_income)"
   ]
  },
  {
   "cell_type": "code",
   "execution_count": 89,
   "id": "40716410",
   "metadata": {},
   "outputs": [
    {
     "data": {
      "text/html": [
       "<div>\n",
       "<style scoped>\n",
       "    .dataframe tbody tr th:only-of-type {\n",
       "        vertical-align: middle;\n",
       "    }\n",
       "\n",
       "    .dataframe tbody tr th {\n",
       "        vertical-align: top;\n",
       "    }\n",
       "\n",
       "    .dataframe thead tr th {\n",
       "        text-align: left;\n",
       "    }\n",
       "\n",
       "    .dataframe thead tr:last-of-type th {\n",
       "        text-align: right;\n",
       "    }\n",
       "</style>\n",
       "<table border=\"1\" class=\"dataframe\">\n",
       "  <thead>\n",
       "    <tr>\n",
       "      <th></th>\n",
       "      <th>sum_of clients</th>\n",
       "      <th>sum_of_clients_with_debt</th>\n",
       "      <th>debt_rate</th>\n",
       "    </tr>\n",
       "    <tr>\n",
       "      <th></th>\n",
       "      <th>debt</th>\n",
       "      <th>debt</th>\n",
       "      <th>debt</th>\n",
       "    </tr>\n",
       "    <tr>\n",
       "      <th>total_income_category</th>\n",
       "      <th></th>\n",
       "      <th></th>\n",
       "      <th></th>\n",
       "    </tr>\n",
       "  </thead>\n",
       "  <tbody>\n",
       "    <tr>\n",
       "      <th>A</th>\n",
       "      <td>25</td>\n",
       "      <td>2</td>\n",
       "      <td>0.080000</td>\n",
       "    </tr>\n",
       "    <tr>\n",
       "      <th>B</th>\n",
       "      <td>5014</td>\n",
       "      <td>354</td>\n",
       "      <td>0.070602</td>\n",
       "    </tr>\n",
       "    <tr>\n",
       "      <th>C</th>\n",
       "      <td>15938</td>\n",
       "      <td>1353</td>\n",
       "      <td>0.084891</td>\n",
       "    </tr>\n",
       "    <tr>\n",
       "      <th>D</th>\n",
       "      <td>349</td>\n",
       "      <td>21</td>\n",
       "      <td>0.060172</td>\n",
       "    </tr>\n",
       "    <tr>\n",
       "      <th>E</th>\n",
       "      <td>22</td>\n",
       "      <td>2</td>\n",
       "      <td>0.090909</td>\n",
       "    </tr>\n",
       "  </tbody>\n",
       "</table>\n",
       "</div>"
      ],
      "text/plain": [
       "                      sum_of clients sum_of_clients_with_debt debt_rate\n",
       "                                debt                     debt      debt\n",
       "total_income_category                                                  \n",
       "A                                 25                        2  0.080000\n",
       "B                               5014                      354  0.070602\n",
       "C                              15938                     1353  0.084891\n",
       "D                                349                       21  0.060172\n",
       "E                                 22                        2  0.090909"
      ]
     },
     "metadata": {},
     "output_type": "display_data"
    }
   ],
   "source": [
    "# Вариант решения №2\n",
    "pivot_income = data.pivot_table(index='total_income_category', values='debt', aggfunc=['count', 'sum','mean']).rename(columns={'count' : 'sum_of clients', 'sum' : 'sum_of_clients_with_debt', 'mean' : 'debt_rate'})\n",
    "display(pivot_income)"
   ]
  },
  {
   "cell_type": "code",
   "execution_count": 90,
   "id": "480db770",
   "metadata": {},
   "outputs": [
    {
     "data": {
      "text/html": [
       "<div>\n",
       "<style scoped>\n",
       "    .dataframe tbody tr th:only-of-type {\n",
       "        vertical-align: middle;\n",
       "    }\n",
       "\n",
       "    .dataframe tbody tr th {\n",
       "        vertical-align: top;\n",
       "    }\n",
       "\n",
       "    .dataframe thead tr th {\n",
       "        text-align: left;\n",
       "    }\n",
       "\n",
       "    .dataframe thead tr:last-of-type th {\n",
       "        text-align: right;\n",
       "    }\n",
       "</style>\n",
       "<table border=\"1\" class=\"dataframe\">\n",
       "  <thead>\n",
       "    <tr>\n",
       "      <th></th>\n",
       "      <th>sum_of clients</th>\n",
       "      <th>sum_of_clients_with_debt</th>\n",
       "      <th>debt_rate</th>\n",
       "    </tr>\n",
       "    <tr>\n",
       "      <th></th>\n",
       "      <th>debt</th>\n",
       "      <th>debt</th>\n",
       "      <th>debt</th>\n",
       "    </tr>\n",
       "    <tr>\n",
       "      <th>total_income_category</th>\n",
       "      <th></th>\n",
       "      <th></th>\n",
       "      <th></th>\n",
       "    </tr>\n",
       "  </thead>\n",
       "  <tbody>\n",
       "    <tr>\n",
       "      <th>A</th>\n",
       "      <td>25</td>\n",
       "      <td>2</td>\n",
       "      <td>0.080000</td>\n",
       "    </tr>\n",
       "    <tr>\n",
       "      <th>B</th>\n",
       "      <td>5014</td>\n",
       "      <td>354</td>\n",
       "      <td>0.070602</td>\n",
       "    </tr>\n",
       "    <tr>\n",
       "      <th>C</th>\n",
       "      <td>15938</td>\n",
       "      <td>1353</td>\n",
       "      <td>0.084891</td>\n",
       "    </tr>\n",
       "    <tr>\n",
       "      <th>D</th>\n",
       "      <td>349</td>\n",
       "      <td>21</td>\n",
       "      <td>0.060172</td>\n",
       "    </tr>\n",
       "    <tr>\n",
       "      <th>E</th>\n",
       "      <td>22</td>\n",
       "      <td>2</td>\n",
       "      <td>0.090909</td>\n",
       "    </tr>\n",
       "  </tbody>\n",
       "</table>\n",
       "</div>"
      ],
      "text/plain": [
       "                      sum_of clients sum_of_clients_with_debt debt_rate\n",
       "                                debt                     debt      debt\n",
       "total_income_category                                                  \n",
       "A                                 25                        2  0.080000\n",
       "B                               5014                      354  0.070602\n",
       "C                              15938                     1353  0.084891\n",
       "D                                349                       21  0.060172\n",
       "E                                 22                        2  0.090909"
      ]
     },
     "execution_count": 90,
     "metadata": {},
     "output_type": "execute_result"
    }
   ],
   "source": [
    "# Вариант решения №3\n",
    "rate('total_income_category')"
   ]
  },
  {
   "cell_type": "markdown",
   "id": "ca6533f6",
   "metadata": {
    "deletable": false,
    "id": "e8593def"
   },
   "source": [
    "**Вывод:** \n",
    "\n",
    "Из таблицы корреляций видно, что корреляция между уровнем дохода и возвратом кредита в срок отсутствует.\n",
    "Доли невозращающих вредиты в срок среди \"сверхбогатых\" (категория А) и \"бедных\" (категория Е) различается на 1 п.п. и сопоставима с долей из категории заемщиков среднего достатка (категория С). При этом \"богатые\" (категория D) ответственнее всех (что в принципе не удивительно)\n",
    "\n",
    "Для полноценного анализа и выявления такой зависимости не хватает данных о кредитах, выданных заемщикам категорий А и Е, т.к. количество таких заемщиков в выборке слишком мало. Как видно из общего распеределения, наш ПАО \"Поддрежка среднего класса с зарплатой 17 тыс. руб\"* в основном выдавал кредиты заемщикам со средним доходом, при этом нельзя сказать, что такие заемщики являются ответственными, т.к. у заемщиков с меньшим доходом (бедные и сверхбедные) двероятность не возврата в срок - меньше. \n",
    "\n",
    "Т.о. предварительно можно заключить, что явной зависимости между уровнем дохода и возвратом кредита в срок\n",
    "\n",
    "\n",
    "\n",
    "* *в соответствии с посланием Президента\n"
   ]
  },
  {
   "cell_type": "markdown",
   "id": "2842264b",
   "metadata": {},
   "source": [
    "<div class=\"alert alert-warning\">\n",
    "<b>Комментарий ревьюера №1</b> \n",
    "    \n",
    "Ответственнее всех категория D\n",
    "</div>"
   ]
  },
  {
   "cell_type": "markdown",
   "id": "edb55ead",
   "metadata": {},
   "source": [
    "<div class=\"alert alert-warning\">\n",
    "<b>Исправлено</b> \n",
    "</div>"
   ]
  },
  {
   "cell_type": "markdown",
   "id": "f3c93468",
   "metadata": {},
   "source": [
    "<div class=\"alert alert-warning\">\n",
    "<b>Комментарий ревьюера №2</b> \n",
    "    \n",
    "Посмотри еще раз на обозначения категорий D (30001 - 50000) - почти самые бедные\n",
    "</div>"
   ]
  },
  {
   "cell_type": "markdown",
   "id": "fe1aa9fa",
   "metadata": {
    "deletable": false,
    "editable": false,
    "id": "99ecbd1f"
   },
   "source": [
    "**Задание 22. Как разные цели кредита влияют на его возврат в срок?**"
   ]
  },
  {
   "cell_type": "code",
   "execution_count": 38,
   "id": "83670f6d",
   "metadata": {
    "id": "2b687290"
   },
   "outputs": [
    {
     "data": {
      "text/html": [
       "<div>\n",
       "<style scoped>\n",
       "    .dataframe tbody tr th:only-of-type {\n",
       "        vertical-align: middle;\n",
       "    }\n",
       "\n",
       "    .dataframe tbody tr th {\n",
       "        vertical-align: top;\n",
       "    }\n",
       "\n",
       "    .dataframe thead th {\n",
       "        text-align: right;\n",
       "    }\n",
       "</style>\n",
       "<table border=\"1\" class=\"dataframe\">\n",
       "  <thead>\n",
       "    <tr style=\"text-align: right;\">\n",
       "      <th></th>\n",
       "      <th>sum_of_clients</th>\n",
       "      <th>sum_of_clients_with_debt</th>\n",
       "      <th>prob</th>\n",
       "      <th>general_prob</th>\n",
       "    </tr>\n",
       "    <tr>\n",
       "      <th>purpose_category</th>\n",
       "      <th></th>\n",
       "      <th></th>\n",
       "      <th></th>\n",
       "      <th></th>\n",
       "    </tr>\n",
       "  </thead>\n",
       "  <tbody>\n",
       "    <tr>\n",
       "      <th>операции с автомобилем</th>\n",
       "      <td>4281</td>\n",
       "      <td>400</td>\n",
       "      <td>0.093436</td>\n",
       "      <td>0.018737</td>\n",
       "    </tr>\n",
       "    <tr>\n",
       "      <th>операции с недвижимостью</th>\n",
       "      <td>10754</td>\n",
       "      <td>780</td>\n",
       "      <td>0.072531</td>\n",
       "      <td>0.036537</td>\n",
       "    </tr>\n",
       "    <tr>\n",
       "      <th>получение образования</th>\n",
       "      <td>3989</td>\n",
       "      <td>369</td>\n",
       "      <td>0.092504</td>\n",
       "      <td>0.017285</td>\n",
       "    </tr>\n",
       "    <tr>\n",
       "      <th>проведение свадьбы</th>\n",
       "      <td>2324</td>\n",
       "      <td>183</td>\n",
       "      <td>0.078744</td>\n",
       "      <td>0.008572</td>\n",
       "    </tr>\n",
       "  </tbody>\n",
       "</table>\n",
       "</div>"
      ],
      "text/plain": [
       "                          sum_of_clients  sum_of_clients_with_debt      prob  \\\n",
       "purpose_category                                                               \n",
       "операции с автомобилем              4281                       400  0.093436   \n",
       "операции с недвижимостью           10754                       780  0.072531   \n",
       "получение образования               3989                       369  0.092504   \n",
       "проведение свадьбы                  2324                       183  0.078744   \n",
       "\n",
       "                          general_prob  \n",
       "purpose_category                        \n",
       "операции с автомобилем        0.018737  \n",
       "операции с недвижимостью      0.036537  \n",
       "получение образования         0.017285  \n",
       "проведение свадьбы            0.008572  "
      ]
     },
     "execution_count": 38,
     "metadata": {},
     "output_type": "execute_result"
    }
   ],
   "source": [
    "purpose_debt = pd.DataFrame()\n",
    "purpose_debt['sum_of_clients'] = data.groupby('purpose_category')['gender'].count() \n",
    "purpose_debt['sum_of_clients_with_debt'] = data.groupby('purpose_category')['debt'].sum()\n",
    "purpose_debt['prob'] = purpose_debt['sum_of_clients_with_debt'] / purpose_debt['sum_of_clients']\n",
    "purpose_debt['general_prob'] = purpose_debt['sum_of_clients_with_debt'] / 21348\n",
    "\n",
    "purpose_debt\n"
   ]
  },
  {
   "cell_type": "code",
   "execution_count": 39,
   "id": "089b8456",
   "metadata": {},
   "outputs": [
    {
     "data": {
      "text/html": [
       "<div>\n",
       "<style scoped>\n",
       "    .dataframe tbody tr th:only-of-type {\n",
       "        vertical-align: middle;\n",
       "    }\n",
       "\n",
       "    .dataframe tbody tr th {\n",
       "        vertical-align: top;\n",
       "    }\n",
       "\n",
       "    .dataframe thead th {\n",
       "        text-align: right;\n",
       "    }\n",
       "</style>\n",
       "<table border=\"1\" class=\"dataframe\">\n",
       "  <thead>\n",
       "    <tr style=\"text-align: right;\">\n",
       "      <th>total_income_category</th>\n",
       "      <th>A</th>\n",
       "      <th>B</th>\n",
       "      <th>C</th>\n",
       "      <th>D</th>\n",
       "      <th>E</th>\n",
       "    </tr>\n",
       "    <tr>\n",
       "      <th>purpose_category</th>\n",
       "      <th></th>\n",
       "      <th></th>\n",
       "      <th></th>\n",
       "      <th></th>\n",
       "      <th></th>\n",
       "    </tr>\n",
       "  </thead>\n",
       "  <tbody>\n",
       "    <tr>\n",
       "      <th>операции с автомобилем</th>\n",
       "      <td>0</td>\n",
       "      <td>85</td>\n",
       "      <td>305</td>\n",
       "      <td>10</td>\n",
       "      <td>0</td>\n",
       "    </tr>\n",
       "    <tr>\n",
       "      <th>операции с недвижимостью</th>\n",
       "      <td>1</td>\n",
       "      <td>172</td>\n",
       "      <td>599</td>\n",
       "      <td>6</td>\n",
       "      <td>2</td>\n",
       "    </tr>\n",
       "    <tr>\n",
       "      <th>получение образования</th>\n",
       "      <td>1</td>\n",
       "      <td>69</td>\n",
       "      <td>297</td>\n",
       "      <td>2</td>\n",
       "      <td>0</td>\n",
       "    </tr>\n",
       "    <tr>\n",
       "      <th>проведение свадьбы</th>\n",
       "      <td>0</td>\n",
       "      <td>28</td>\n",
       "      <td>152</td>\n",
       "      <td>3</td>\n",
       "      <td>0</td>\n",
       "    </tr>\n",
       "  </tbody>\n",
       "</table>\n",
       "</div>"
      ],
      "text/plain": [
       "total_income_category     A    B    C   D  E\n",
       "purpose_category                            \n",
       "операции с автомобилем    0   85  305  10  0\n",
       "операции с недвижимостью  1  172  599   6  2\n",
       "получение образования     1   69  297   2  0\n",
       "проведение свадьбы        0   28  152   3  0"
      ]
     },
     "execution_count": 39,
     "metadata": {},
     "output_type": "execute_result"
    }
   ],
   "source": [
    "data_pivot_debt = data.pivot_table(index='purpose_category', columns='total_income_category', values='debt', aggfunc='sum')\n",
    "data_pivot_debt"
   ]
  },
  {
   "cell_type": "code",
   "execution_count": 40,
   "id": "5e420f19",
   "metadata": {},
   "outputs": [
    {
     "data": {
      "text/plain": [
       "<AxesSubplot:xlabel='total_income_category', ylabel='purpose_category'>"
      ]
     },
     "execution_count": 40,
     "metadata": {},
     "output_type": "execute_result"
    },
    {
     "data": {
      "image/png": "[encoded data removed]",
      "text/plain": [
       "<Figure size 432x288 with 2 Axes>"
      ]
     },
     "metadata": {
      "needs_background": "light"
     },
     "output_type": "display_data"
    }
   ],
   "source": [
    "seaborn.heatmap(data_pivot_debt)"
   ]
  },
  {
   "cell_type": "code",
   "execution_count": 91,
   "id": "f526611d",
   "metadata": {},
   "outputs": [
    {
     "data": {
      "text/html": [
       "<div>\n",
       "<style scoped>\n",
       "    .dataframe tbody tr th:only-of-type {\n",
       "        vertical-align: middle;\n",
       "    }\n",
       "\n",
       "    .dataframe tbody tr th {\n",
       "        vertical-align: top;\n",
       "    }\n",
       "\n",
       "    .dataframe thead tr th {\n",
       "        text-align: left;\n",
       "    }\n",
       "\n",
       "    .dataframe thead tr:last-of-type th {\n",
       "        text-align: right;\n",
       "    }\n",
       "</style>\n",
       "<table border=\"1\" class=\"dataframe\">\n",
       "  <thead>\n",
       "    <tr>\n",
       "      <th></th>\n",
       "      <th>sum_of clients</th>\n",
       "      <th>sum_of_clients_with_debt</th>\n",
       "      <th>debt_rate</th>\n",
       "    </tr>\n",
       "    <tr>\n",
       "      <th></th>\n",
       "      <th>debt</th>\n",
       "      <th>debt</th>\n",
       "      <th>debt</th>\n",
       "    </tr>\n",
       "    <tr>\n",
       "      <th>purpose_category</th>\n",
       "      <th></th>\n",
       "      <th></th>\n",
       "      <th></th>\n",
       "    </tr>\n",
       "  </thead>\n",
       "  <tbody>\n",
       "    <tr>\n",
       "      <th>операции с автомобилем</th>\n",
       "      <td>4281</td>\n",
       "      <td>400</td>\n",
       "      <td>0.093436</td>\n",
       "    </tr>\n",
       "    <tr>\n",
       "      <th>операции с недвижимостью</th>\n",
       "      <td>10754</td>\n",
       "      <td>780</td>\n",
       "      <td>0.072531</td>\n",
       "    </tr>\n",
       "    <tr>\n",
       "      <th>получение образования</th>\n",
       "      <td>3989</td>\n",
       "      <td>369</td>\n",
       "      <td>0.092504</td>\n",
       "    </tr>\n",
       "    <tr>\n",
       "      <th>проведение свадьбы</th>\n",
       "      <td>2324</td>\n",
       "      <td>183</td>\n",
       "      <td>0.078744</td>\n",
       "    </tr>\n",
       "  </tbody>\n",
       "</table>\n",
       "</div>"
      ],
      "text/plain": [
       "                         sum_of clients sum_of_clients_with_debt debt_rate\n",
       "                                   debt                     debt      debt\n",
       "purpose_category                                                          \n",
       "операции с автомобилем             4281                      400  0.093436\n",
       "операции с недвижимостью          10754                      780  0.072531\n",
       "получение образования              3989                      369  0.092504\n",
       "проведение свадьбы                 2324                      183  0.078744"
      ]
     },
     "metadata": {},
     "output_type": "display_data"
    }
   ],
   "source": [
    "# Вариант решения №2\n",
    "pivot_purpose = data.pivot_table(index='purpose_category', values='debt', aggfunc=['count', 'sum','mean']).rename(columns={'count' : 'sum_of clients', 'sum' : 'sum_of_clients_with_debt', 'mean' : 'debt_rate'})\n",
    "display(pivot_purpose)"
   ]
  },
  {
   "cell_type": "code",
   "execution_count": 92,
   "id": "f6a6e034",
   "metadata": {},
   "outputs": [
    {
     "data": {
      "text/html": [
       "<div>\n",
       "<style scoped>\n",
       "    .dataframe tbody tr th:only-of-type {\n",
       "        vertical-align: middle;\n",
       "    }\n",
       "\n",
       "    .dataframe tbody tr th {\n",
       "        vertical-align: top;\n",
       "    }\n",
       "\n",
       "    .dataframe thead tr th {\n",
       "        text-align: left;\n",
       "    }\n",
       "\n",
       "    .dataframe thead tr:last-of-type th {\n",
       "        text-align: right;\n",
       "    }\n",
       "</style>\n",
       "<table border=\"1\" class=\"dataframe\">\n",
       "  <thead>\n",
       "    <tr>\n",
       "      <th></th>\n",
       "      <th>sum_of clients</th>\n",
       "      <th>sum_of_clients_with_debt</th>\n",
       "      <th>debt_rate</th>\n",
       "    </tr>\n",
       "    <tr>\n",
       "      <th></th>\n",
       "      <th>debt</th>\n",
       "      <th>debt</th>\n",
       "      <th>debt</th>\n",
       "    </tr>\n",
       "    <tr>\n",
       "      <th>purpose_category</th>\n",
       "      <th></th>\n",
       "      <th></th>\n",
       "      <th></th>\n",
       "    </tr>\n",
       "  </thead>\n",
       "  <tbody>\n",
       "    <tr>\n",
       "      <th>операции с автомобилем</th>\n",
       "      <td>4281</td>\n",
       "      <td>400</td>\n",
       "      <td>0.093436</td>\n",
       "    </tr>\n",
       "    <tr>\n",
       "      <th>операции с недвижимостью</th>\n",
       "      <td>10754</td>\n",
       "      <td>780</td>\n",
       "      <td>0.072531</td>\n",
       "    </tr>\n",
       "    <tr>\n",
       "      <th>получение образования</th>\n",
       "      <td>3989</td>\n",
       "      <td>369</td>\n",
       "      <td>0.092504</td>\n",
       "    </tr>\n",
       "    <tr>\n",
       "      <th>проведение свадьбы</th>\n",
       "      <td>2324</td>\n",
       "      <td>183</td>\n",
       "      <td>0.078744</td>\n",
       "    </tr>\n",
       "  </tbody>\n",
       "</table>\n",
       "</div>"
      ],
      "text/plain": [
       "                         sum_of clients sum_of_clients_with_debt debt_rate\n",
       "                                   debt                     debt      debt\n",
       "purpose_category                                                          \n",
       "операции с автомобилем             4281                      400  0.093436\n",
       "операции с недвижимостью          10754                      780  0.072531\n",
       "получение образования              3989                      369  0.092504\n",
       "проведение свадьбы                 2324                      183  0.078744"
      ]
     },
     "execution_count": 92,
     "metadata": {},
     "output_type": "execute_result"
    }
   ],
   "source": [
    "# Вариант решения №3\n",
    "rate('purpose_category')"
   ]
  },
  {
   "cell_type": "markdown",
   "id": "9e9bed31",
   "metadata": {
    "deletable": false,
    "id": "b4bb2ce6"
   },
   "source": [
    "**Вывод:** \n",
    "\n",
    "Чаще всего просрочка происходит по кредитам из категорий \"операции с автомобилем\" и \"получение образования\".\n",
    "\n",
    "Хотя доля невозвращенныз в срок кредитов самая минимальная (7,2%) в категории \"операции с недвижимостью\", в общей массе кредитов данная категория является самой \"проблемной\". Вероятность невозврата кредитов на проведение свадьбы сопоставима с невозвратом кредита на недвижимость, но в тоже время в общем количестве кредитов кредиты на свадьбу - самый \"непроблемный\" продукт, т.к. таких невозвращенных кредитов менее 1%."
   ]
  },
  {
   "cell_type": "markdown",
   "id": "1a61e7bc",
   "metadata": {},
   "source": [
    "<div class=\"alert alert-danger\">\n",
    "<b>Комментарий ревьюера №1</b> \n",
    "    \n",
    "Почему они самые \"проблемные\"? Клиентов по этим направлениям много, поэтому и должников много. Но доля-то должников у них маленькая.\n",
    "</div>"
   ]
  },
  {
   "cell_type": "markdown",
   "id": "6517c1c2",
   "metadata": {},
   "source": [
    "<div class=\"alert alert-danger\">\n",
    "<b>Ответ</b> \n",
    "\n",
    "\n",
    "Тут про \"проблемные\" в целом, потому что за счет того, что их много - накопленный эффект в будущем от них будет сильно влиять на \"портфель\". Если бы они не были \"проблемными\", то и вероятность их невозврата стремилась к 0. Данный комментарий был к тому, что не стоит забывать про долю таких невозвращенных кредитов на недвижимость среди всех кредитов , а не только по категориям + мы динамику не знаем. Стоит в будущем учесть.\n",
    "\n",
    "</div>"
   ]
  },
  {
   "cell_type": "markdown",
   "id": "b7bf59ae",
   "metadata": {
    "deletable": false,
    "editable": false,
    "id": "09c3ac4c"
   },
   "source": [
    "**Задание 23. Приведите возможные причины появления пропусков в исходных данных.**"
   ]
  },
  {
   "cell_type": "code",
   "execution_count": 41,
   "id": "2ae999ec",
   "metadata": {},
   "outputs": [
    {
     "data": {
      "text/html": [
       "<div>\n",
       "<style scoped>\n",
       "    .dataframe tbody tr th:only-of-type {\n",
       "        vertical-align: middle;\n",
       "    }\n",
       "\n",
       "    .dataframe tbody tr th {\n",
       "        vertical-align: top;\n",
       "    }\n",
       "\n",
       "    .dataframe thead th {\n",
       "        text-align: right;\n",
       "    }\n",
       "</style>\n",
       "<table border=\"1\" class=\"dataframe\">\n",
       "  <thead>\n",
       "    <tr style=\"text-align: right;\">\n",
       "      <th></th>\n",
       "      <th>children</th>\n",
       "      <th>days_employed</th>\n",
       "      <th>dob_years</th>\n",
       "      <th>education</th>\n",
       "      <th>education_id</th>\n",
       "      <th>family_status</th>\n",
       "      <th>family_status_id</th>\n",
       "      <th>gender</th>\n",
       "      <th>income_type</th>\n",
       "      <th>debt</th>\n",
       "      <th>total_income</th>\n",
       "      <th>purpose</th>\n",
       "      <th>total_income_category</th>\n",
       "      <th>purpose_category</th>\n",
       "    </tr>\n",
       "  </thead>\n",
       "  <tbody>\n",
       "  </tbody>\n",
       "</table>\n",
       "</div>"
      ],
      "text/plain": [
       "Empty DataFrame\n",
       "Columns: [children, days_employed, dob_years, education, education_id, family_status, family_status_id, gender, income_type, debt, total_income, purpose, total_income_category, purpose_category]\n",
       "Index: []"
      ]
     },
     "execution_count": 41,
     "metadata": {},
     "output_type": "execute_result"
    }
   ],
   "source": [
    "data_nan = data.loc[data['days_employed'].isna() == True]\n",
    "data_nan.head(15)"
   ]
  },
  {
   "cell_type": "markdown",
   "id": "b0036ced",
   "metadata": {
    "deletable": false,
    "id": "9da2ceda"
   },
   "source": [
    "*Ответ:* \n",
    "Пропуски в данных в исходном наборе встречались в значениях общего трудового стажа и ежемесячного дохода. Каких-либо особенностей и зависимостей между пропусками в атрибутах и другими значениями, например, пустые значения в столбцах с общим стажем работы и ежемесячным доходом встречаются для всех категорий заемщиков.\n",
    "Вероятно, заемщики, для которых не заполнены соответствующие атрибуты не предоставили подтверждение своего трудового стажа,и, следовательно, не могли предоставить подтверждающие документы о ежемесячном доходе, но при регистрации в базе таких заемщиков все равно внесли в общий список.\n",
    "\n",
    "Также, пропуски в данных могут возникнуть на этапе выгрузки данных и их подготовке перед передачей для анализа."
   ]
  },
  {
   "cell_type": "markdown",
   "id": "dd0ed3b3",
   "metadata": {},
   "source": [
    "<div class=\"alert alert-danger\">\n",
    "<b>Комментарий ревьюера №1</b> \n",
    "    \n",
    "Не нужно забывать, что проблемы могли возникнуть и на этапе выгрузки данных. Неправильный запрос, объединение таблиц также может быть причиной. \n",
    "</div>"
   ]
  },
  {
   "cell_type": "markdown",
   "id": "1fa84279",
   "metadata": {},
   "source": [
    "<div class=\"alert alert-danger\">\n",
    "Возможно, я понадеясля на то, что \"выгрузку\" делал ответсвенный исполнитель. Если бы был неправильно составлен запрос к БД, то скорее всего в выгрузке вообще отсутсвовали бы столбцы с общим трудовым стажем и ежемесячным доходом, и вместо значений в данных столбцах были бы только пропуски или ошибки данных. Пропусков в исходных данных всего 10%. Как-то сомнительно, мне кажется, пенять на этап выгрузки\n",
    "    \n",
    "Также, возможно, данные пропуски вообще связаны с тем, что в процессе заполнения форм/карточек/анкет/и т.д. не проводится форматно-логический контроль, т.е. на эатапе формирования БД. Операторы/менеджеры внесли кривые/недкооректные данные. В процессе выгрузки из БД были выявлены ошибки и выгрузку сделали так, чтобы ошибки были заменены пропусками.\n",
    "    \n",
    "Вопрос, наверное, больше про \"причины появления пропусков в исходных данных вообще\"\n",
    "</div>"
   ]
  },
  {
   "cell_type": "markdown",
   "id": "9ee527e0",
   "metadata": {
    "deletable": false,
    "editable": false,
    "id": "7b0487d6"
   },
   "source": [
    "**Задание 24. Объясните, почему заполнить пропуски медианным значением — лучшее решение для количественных переменных.**"
   ]
  },
  {
   "cell_type": "markdown",
   "id": "358eea89",
   "metadata": {},
   "source": [
    "Спорное утверждение. Моежт быть, средневзешенное является более адекватной мерой.\n",
    "Но медиана набора чисел является значением, сумма расстояний от которого до всех чисел из набора минимальна. С точки зрения мат статитстики в бесконечной выборке к медиане (а в итоге к среднему) будут стремиться все значения в соответствии с законом о нормальном распределении. В ограниченных выборках медиана позволяет избежать влияния \"выхлопов\", т.е влияния аномальных значений, которые могли внести в базу слуайно или по ошибке"
   ]
  },
  {
   "cell_type": "markdown",
   "id": "872a848e",
   "metadata": {
    "deletable": false,
    "id": "7ecf2b8e"
   },
   "source": [
    "*Ответ:* "
   ]
  },
  {
   "cell_type": "markdown",
   "id": "8cd8a4f2",
   "metadata": {},
   "source": [
    "<div class=\"alert alert-success\">\n",
    "<b>Комментарий ревьюера №1</b> \n",
    "    \n",
    "Да, нужно смотреть, есть ли выбросы\n",
    "</div>"
   ]
  },
  {
   "cell_type": "markdown",
   "id": "782b02bd",
   "metadata": {
    "deletable": false,
    "editable": false,
    "id": "6db5255a"
   },
   "source": [
    "## Общий вывод."
   ]
  },
  {
   "cell_type": "markdown",
   "id": "6a4838b0",
   "metadata": {
    "id": "bad65432"
   },
   "source": [
    "В рамках проекта были оценены различные характеристики, по которым можно оценить \"степень\", \"уровень\", \"вероятность\" заивисимости или влияния одного параметра на другой. В ходе анализа было выявлено, что такие параметры заемщика, как \"количеством детей\", \" уровень дохода\", \"цель кредита\" в общем случае по отдельности влияют на вероятность возврата кредита в срок.\n",
    "\n",
    "В тоже время было показано, что исходная выборка имеет ряд \"перекосов\" по отдельным атрибутам/параметрам. Например, в исходных данных содержится большое число бездетных, среднеобеспеченных потребителей кредитов на недвижимость, и инофрмация о ряде категорий заемщиков отсутствует либо её недостаточно для однозначных выводов. \n",
    "\n",
    "Также около 10% строк (2174 из 21525) по отдельным атрибутам содержат пустые значения, характеризующих \"трудовой опыт\" и доход заемщика. Скорее всего, часть заемщиков не смогли предоставить подтверждающие документы (копию трудовой книжки и справку 2-НДФЛ). В тоже время, количество всех таких \"непонятных\" заемщиков, кто не смог предоставить документы (в рамках гипотезы о непредоставлении документов) и не вернул кредит в срок, всего 169, т.е. 7,7% от общего числа \"непонтяных\" заемщиков, а это, кстати, сопоставимо с долей \"возвратов\" среди бездетных.\n",
    "\n",
    "Т.е. очень даже может быть, что бездетный заемщик <=> заемщик без документов, подтверждающих стаж и зарплату. Хм, интересно! А может быть это они и те же люди? Ту надо с СБ проконсультироваться\n",
    "\n",
    "Если представить, что данная выборка характеризует все население и всех заемщиков, то общий вывод следующий - самыми непроблемными заемщиками (ЦА, заметка для кредитного менеджера: \"давай кредит без вопросов\") являются овдовевшие бездетные заемщиики с ежемесячным доходом от 30 до 50 тыс., по кредитному продукту \"операции с недвижимостью\"\n",
    "\n",
    "Но не все так однозначно (с)"
   ]
  },
  {
   "cell_type": "markdown",
   "id": "4b351f19",
   "metadata": {},
   "source": [
    "<div class=\"alert alert-success\">\n",
    "<b>Комментарий ревьюера №1</b> \n",
    "    \n",
    "Хорошо, что выделил портрет \"идельного\" клиента. Также лучше добавить здесь описание зависимостей, которые удалось обнаружить\n",
    "</div>"
   ]
  },
  {
   "cell_type": "markdown",
   "id": "c6875251",
   "metadata": {},
   "source": [
    "<div style=\"border:solid purple 2px; padding: 20px\"> \n",
    "    \n",
    "В целом, работа хорошая. Все задачи в рамках проекта у тебя получились. Ты молодец! Но остались небольшие доработки. Доделывай и отправляй на повторную проверку.\n",
    "    \n",
    "Жду твоих исправлений 😊\n",
    "</div>"
   ]
  },
  {
   "cell_type": "markdown",
   "id": "51357e47",
   "metadata": {},
   "source": [
    "<div style=\"border:solid purple 2px; padding: 20px\"> \n",
    "    \n",
    "Отлично! Критических замечаний больше нет. Проект принят! 👏 Поздравляю и желаю удачи!\n",
    "</div>"
   ]
  }
 ],
 "metadata": {
  "ExecuteTimeLog": [
   {
    "duration": 516,
    "start_time": "2022-06-30T10:21:06.445Z"
   },
   {
    "duration": 26,
    "start_time": "2022-06-30T10:21:10.942Z"
   },
   {
    "duration": 23,
    "start_time": "2022-06-30T10:21:17.300Z"
   },
   {
    "duration": 11,
    "start_time": "2022-06-30T10:21:20.904Z"
   },
   {
    "duration": 41,
    "start_time": "2022-06-30T10:21:24.417Z"
   },
   {
    "duration": 82,
    "start_time": "2022-06-30T10:41:07.024Z"
   },
   {
    "duration": 5,
    "start_time": "2022-06-30T10:41:26.981Z"
   },
   {
    "duration": 7,
    "start_time": "2022-06-30T10:41:38.879Z"
   },
   {
    "duration": 3,
    "start_time": "2022-06-30T10:41:53.962Z"
   },
   {
    "duration": 9,
    "start_time": "2022-06-30T10:41:55.074Z"
   },
   {
    "duration": 5,
    "start_time": "2022-06-30T10:41:56.840Z"
   },
   {
    "duration": 7,
    "start_time": "2022-06-30T10:41:58.182Z"
   },
   {
    "duration": 5,
    "start_time": "2022-06-30T10:41:59.172Z"
   },
   {
    "duration": 36,
    "start_time": "2022-06-30T10:42:00.641Z"
   },
   {
    "duration": 410,
    "start_time": "2022-06-30T10:42:17.103Z"
   },
   {
    "duration": 22,
    "start_time": "2022-06-30T10:42:17.515Z"
   },
   {
    "duration": 14,
    "start_time": "2022-06-30T10:42:17.538Z"
   },
   {
    "duration": 20,
    "start_time": "2022-06-30T10:42:17.554Z"
   },
   {
    "duration": 34,
    "start_time": "2022-06-30T10:42:17.576Z"
   },
   {
    "duration": 3,
    "start_time": "2022-06-30T10:42:17.612Z"
   },
   {
    "duration": 15,
    "start_time": "2022-06-30T10:42:17.616Z"
   },
   {
    "duration": 7,
    "start_time": "2022-06-30T10:42:17.633Z"
   },
   {
    "duration": 28,
    "start_time": "2022-06-30T10:42:17.641Z"
   },
   {
    "duration": 4,
    "start_time": "2022-06-30T10:42:17.672Z"
   },
   {
    "duration": 36,
    "start_time": "2022-06-30T10:42:17.677Z"
   },
   {
    "duration": 8,
    "start_time": "2022-06-30T10:42:17.715Z"
   },
   {
    "duration": 13,
    "start_time": "2022-06-30T10:42:17.725Z"
   },
   {
    "duration": 44,
    "start_time": "2022-06-30T10:42:17.739Z"
   },
   {
    "duration": 18,
    "start_time": "2022-06-30T10:42:17.785Z"
   },
   {
    "duration": 10,
    "start_time": "2022-06-30T10:42:17.805Z"
   },
   {
    "duration": 5,
    "start_time": "2022-06-30T10:42:17.817Z"
   },
   {
    "duration": 10,
    "start_time": "2022-06-30T10:42:17.823Z"
   },
   {
    "duration": 35,
    "start_time": "2022-06-30T10:42:17.835Z"
   },
   {
    "duration": 4,
    "start_time": "2022-06-30T10:42:17.871Z"
   },
   {
    "duration": 14,
    "start_time": "2022-06-30T10:42:17.877Z"
   },
   {
    "duration": 9,
    "start_time": "2022-06-30T10:42:17.893Z"
   },
   {
    "duration": 5,
    "start_time": "2022-06-30T10:42:17.903Z"
   },
   {
    "duration": 5,
    "start_time": "2022-06-30T10:42:17.910Z"
   },
   {
    "duration": 5,
    "start_time": "2022-06-30T10:42:17.917Z"
   },
   {
    "duration": 8,
    "start_time": "2022-06-30T10:43:04.899Z"
   },
   {
    "duration": 6,
    "start_time": "2022-06-30T10:43:31.404Z"
   },
   {
    "duration": 7,
    "start_time": "2022-06-30T10:43:41.781Z"
   },
   {
    "duration": 76,
    "start_time": "2022-06-30T10:45:07.148Z"
   },
   {
    "duration": 10,
    "start_time": "2022-06-30T10:45:19.469Z"
   },
   {
    "duration": 11,
    "start_time": "2022-06-30T10:46:29.470Z"
   },
   {
    "duration": 27,
    "start_time": "2022-06-30T10:46:42.683Z"
   },
   {
    "duration": 12,
    "start_time": "2022-06-30T10:47:02.343Z"
   },
   {
    "duration": 11,
    "start_time": "2022-06-30T10:47:06.851Z"
   },
   {
    "duration": 14,
    "start_time": "2022-06-30T10:49:03.951Z"
   },
   {
    "duration": 12,
    "start_time": "2022-06-30T10:49:13.094Z"
   },
   {
    "duration": 13,
    "start_time": "2022-06-30T10:50:17.014Z"
   },
   {
    "duration": 64,
    "start_time": "2022-06-30T10:58:08.555Z"
   },
   {
    "duration": 47,
    "start_time": "2022-06-30T10:58:51.919Z"
   },
   {
    "duration": 49,
    "start_time": "2022-06-30T10:59:31.938Z"
   },
   {
    "duration": 960,
    "start_time": "2022-06-30T10:59:49.156Z"
   },
   {
    "duration": 16,
    "start_time": "2022-06-30T11:00:02.011Z"
   },
   {
    "duration": 11,
    "start_time": "2022-06-30T11:01:25.945Z"
   },
   {
    "duration": 14,
    "start_time": "2022-06-30T11:01:33.753Z"
   },
   {
    "duration": 53,
    "start_time": "2022-06-30T11:01:53.557Z"
   },
   {
    "duration": 874,
    "start_time": "2022-06-30T11:02:32.374Z"
   },
   {
    "duration": 20,
    "start_time": "2022-06-30T11:02:47.879Z"
   },
   {
    "duration": 134,
    "start_time": "2022-06-30T11:04:27.069Z"
   },
   {
    "duration": 120,
    "start_time": "2022-06-30T11:04:55.904Z"
   },
   {
    "duration": 140,
    "start_time": "2022-06-30T11:05:08.071Z"
   },
   {
    "duration": 139,
    "start_time": "2022-06-30T11:07:50.397Z"
   },
   {
    "duration": 152,
    "start_time": "2022-06-30T11:08:11.118Z"
   },
   {
    "duration": 168,
    "start_time": "2022-06-30T11:08:39.786Z"
   },
   {
    "duration": 187,
    "start_time": "2022-06-30T11:09:44.265Z"
   },
   {
    "duration": 141,
    "start_time": "2022-06-30T11:10:21.005Z"
   },
   {
    "duration": 219,
    "start_time": "2022-06-30T11:11:08.239Z"
   },
   {
    "duration": 234,
    "start_time": "2022-06-30T11:12:25.507Z"
   },
   {
    "duration": 161,
    "start_time": "2022-06-30T11:14:13.777Z"
   },
   {
    "duration": 143,
    "start_time": "2022-06-30T11:15:26.924Z"
   },
   {
    "duration": 133,
    "start_time": "2022-06-30T11:15:33.225Z"
   },
   {
    "duration": 155,
    "start_time": "2022-06-30T11:15:45.470Z"
   },
   {
    "duration": 148,
    "start_time": "2022-06-30T11:16:26.058Z"
   },
   {
    "duration": 193,
    "start_time": "2022-06-30T11:16:37.776Z"
   },
   {
    "duration": 172,
    "start_time": "2022-06-30T11:17:01.133Z"
   },
   {
    "duration": 156,
    "start_time": "2022-06-30T11:17:29.417Z"
   },
   {
    "duration": 39,
    "start_time": "2022-06-30T11:19:11.358Z"
   },
   {
    "duration": 139,
    "start_time": "2022-06-30T11:19:35.583Z"
   },
   {
    "duration": 196,
    "start_time": "2022-06-30T11:19:43.166Z"
   },
   {
    "duration": 10,
    "start_time": "2022-06-30T11:22:35.318Z"
   },
   {
    "duration": 15,
    "start_time": "2022-06-30T11:22:58.419Z"
   },
   {
    "duration": 262,
    "start_time": "2022-06-30T11:23:07.987Z"
   },
   {
    "duration": 17,
    "start_time": "2022-06-30T11:23:38.673Z"
   },
   {
    "duration": 34,
    "start_time": "2022-06-30T11:23:41.588Z"
   },
   {
    "duration": 154,
    "start_time": "2022-06-30T11:23:47.866Z"
   },
   {
    "duration": 128,
    "start_time": "2022-06-30T11:24:05.043Z"
   },
   {
    "duration": 135,
    "start_time": "2022-06-30T11:24:07.420Z"
   },
   {
    "duration": 138,
    "start_time": "2022-06-30T11:24:27.502Z"
   },
   {
    "duration": 121,
    "start_time": "2022-06-30T11:24:30.182Z"
   },
   {
    "duration": 12,
    "start_time": "2022-06-30T11:35:41.674Z"
   },
   {
    "duration": 4,
    "start_time": "2022-06-30T11:35:55.362Z"
   },
   {
    "duration": 4,
    "start_time": "2022-06-30T11:36:43.158Z"
   },
   {
    "duration": 4,
    "start_time": "2022-06-30T11:36:55.393Z"
   },
   {
    "duration": 46,
    "start_time": "2022-06-30T11:37:36.658Z"
   },
   {
    "duration": 5,
    "start_time": "2022-06-30T11:38:05.212Z"
   },
   {
    "duration": 6,
    "start_time": "2022-06-30T11:40:58.196Z"
   },
   {
    "duration": 11,
    "start_time": "2022-06-30T11:47:46.972Z"
   },
   {
    "duration": 12,
    "start_time": "2022-06-30T11:47:56.066Z"
   },
   {
    "duration": 8,
    "start_time": "2022-06-30T11:48:20.016Z"
   },
   {
    "duration": 13,
    "start_time": "2022-06-30T11:48:54.493Z"
   },
   {
    "duration": 10,
    "start_time": "2022-06-30T11:49:47.524Z"
   },
   {
    "duration": 9,
    "start_time": "2022-06-30T11:50:13.914Z"
   },
   {
    "duration": 10,
    "start_time": "2022-06-30T11:50:28.645Z"
   },
   {
    "duration": 16,
    "start_time": "2022-06-30T11:50:59.066Z"
   },
   {
    "duration": 16,
    "start_time": "2022-06-30T11:51:31.982Z"
   },
   {
    "duration": 11,
    "start_time": "2022-06-30T11:59:27.219Z"
   },
   {
    "duration": 9,
    "start_time": "2022-06-30T12:00:12.463Z"
   },
   {
    "duration": 5,
    "start_time": "2022-06-30T12:00:20.689Z"
   },
   {
    "duration": 9,
    "start_time": "2022-06-30T12:00:32.833Z"
   },
   {
    "duration": 6,
    "start_time": "2022-06-30T12:01:14.491Z"
   },
   {
    "duration": 20,
    "start_time": "2022-06-30T12:02:12.068Z"
   },
   {
    "duration": 78,
    "start_time": "2022-06-30T12:02:22.920Z"
   },
   {
    "duration": 15,
    "start_time": "2022-06-30T12:02:34.838Z"
   },
   {
    "duration": 46,
    "start_time": "2022-06-30T12:03:38.733Z"
   },
   {
    "duration": 19,
    "start_time": "2022-06-30T12:03:49.160Z"
   },
   {
    "duration": 118,
    "start_time": "2022-06-30T12:04:17.322Z"
   },
   {
    "duration": 9,
    "start_time": "2022-06-30T12:04:43.928Z"
   },
   {
    "duration": 423,
    "start_time": "2022-06-30T12:04:54.804Z"
   },
   {
    "duration": 23,
    "start_time": "2022-06-30T12:04:55.229Z"
   },
   {
    "duration": 16,
    "start_time": "2022-06-30T12:04:55.253Z"
   },
   {
    "duration": 9,
    "start_time": "2022-06-30T12:04:55.272Z"
   },
   {
    "duration": 34,
    "start_time": "2022-06-30T12:04:55.283Z"
   },
   {
    "duration": 4,
    "start_time": "2022-06-30T12:04:55.318Z"
   },
   {
    "duration": 19,
    "start_time": "2022-06-30T12:04:55.323Z"
   },
   {
    "duration": 5,
    "start_time": "2022-06-30T12:04:55.344Z"
   },
   {
    "duration": 7,
    "start_time": "2022-06-30T12:04:55.368Z"
   },
   {
    "duration": 5,
    "start_time": "2022-06-30T12:04:55.379Z"
   },
   {
    "duration": 43,
    "start_time": "2022-06-30T12:04:55.385Z"
   },
   {
    "duration": 10,
    "start_time": "2022-06-30T12:04:55.429Z"
   },
   {
    "duration": 3,
    "start_time": "2022-06-30T12:04:55.441Z"
   },
   {
    "duration": 37,
    "start_time": "2022-06-30T12:04:55.445Z"
   },
   {
    "duration": 17,
    "start_time": "2022-06-30T12:04:55.483Z"
   },
   {
    "duration": 11,
    "start_time": "2022-06-30T12:04:55.501Z"
   },
   {
    "duration": 11,
    "start_time": "2022-06-30T12:04:55.513Z"
   },
   {
    "duration": 14,
    "start_time": "2022-06-30T12:04:55.525Z"
   },
   {
    "duration": 27,
    "start_time": "2022-06-30T12:04:55.541Z"
   },
   {
    "duration": 4,
    "start_time": "2022-06-30T12:04:55.570Z"
   },
   {
    "duration": 13,
    "start_time": "2022-06-30T12:04:55.576Z"
   },
   {
    "duration": 707,
    "start_time": "2022-06-30T12:04:55.591Z"
   },
   {
    "duration": 16,
    "start_time": "2022-06-30T12:04:56.300Z"
   },
   {
    "duration": 26,
    "start_time": "2022-06-30T12:04:56.317Z"
   },
   {
    "duration": 165,
    "start_time": "2022-06-30T12:04:56.345Z"
   },
   {
    "duration": 138,
    "start_time": "2022-06-30T12:04:56.512Z"
   },
   {
    "duration": 18,
    "start_time": "2022-06-30T12:04:56.651Z"
   },
   {
    "duration": 16,
    "start_time": "2022-06-30T12:04:56.671Z"
   },
   {
    "duration": 8,
    "start_time": "2022-06-30T12:04:56.689Z"
   },
   {
    "duration": 5,
    "start_time": "2022-06-30T12:04:56.699Z"
   },
   {
    "duration": 9,
    "start_time": "2022-06-30T12:04:56.705Z"
   },
   {
    "duration": 138,
    "start_time": "2022-06-30T12:05:15.113Z"
   },
   {
    "duration": 143,
    "start_time": "2022-06-30T12:07:00.663Z"
   },
   {
    "duration": 121,
    "start_time": "2022-06-30T12:07:34.357Z"
   },
   {
    "duration": 131,
    "start_time": "2022-06-30T12:08:00.351Z"
   },
   {
    "duration": 3,
    "start_time": "2022-06-30T12:23:28.121Z"
   },
   {
    "duration": 5,
    "start_time": "2022-06-30T12:24:55.298Z"
   },
   {
    "duration": 8,
    "start_time": "2022-06-30T12:25:06.689Z"
   },
   {
    "duration": 7,
    "start_time": "2022-06-30T12:25:23.539Z"
   },
   {
    "duration": 90,
    "start_time": "2022-06-30T12:25:33.924Z"
   },
   {
    "duration": 10,
    "start_time": "2022-06-30T12:26:28.020Z"
   },
   {
    "duration": 10,
    "start_time": "2022-06-30T12:28:08.574Z"
   },
   {
    "duration": 10,
    "start_time": "2022-06-30T12:29:19.845Z"
   },
   {
    "duration": 11,
    "start_time": "2022-06-30T12:31:41.650Z"
   },
   {
    "duration": 10,
    "start_time": "2022-06-30T12:31:55.391Z"
   },
   {
    "duration": 11,
    "start_time": "2022-06-30T12:32:13.449Z"
   },
   {
    "duration": 11,
    "start_time": "2022-06-30T12:32:35.921Z"
   },
   {
    "duration": 36,
    "start_time": "2022-06-30T12:33:46.612Z"
   },
   {
    "duration": 32,
    "start_time": "2022-06-30T12:35:11.947Z"
   },
   {
    "duration": 31,
    "start_time": "2022-06-30T12:35:27.571Z"
   },
   {
    "duration": 23,
    "start_time": "2022-06-30T12:35:34.856Z"
   },
   {
    "duration": 33,
    "start_time": "2022-06-30T12:38:52.710Z"
   },
   {
    "duration": 42,
    "start_time": "2022-06-30T12:39:01.376Z"
   },
   {
    "duration": 57,
    "start_time": "2022-06-30T12:39:24.927Z"
   },
   {
    "duration": 43,
    "start_time": "2022-06-30T12:43:05.449Z"
   },
   {
    "duration": 40,
    "start_time": "2022-06-30T12:44:52.333Z"
   },
   {
    "duration": 28,
    "start_time": "2022-06-30T12:52:00.270Z"
   },
   {
    "duration": 33,
    "start_time": "2022-06-30T12:52:29.306Z"
   },
   {
    "duration": 51,
    "start_time": "2022-06-30T12:53:30.304Z"
   },
   {
    "duration": 13,
    "start_time": "2022-06-30T12:59:55.191Z"
   },
   {
    "duration": 1111,
    "start_time": "2022-06-30T13:03:23.668Z"
   },
   {
    "duration": 56,
    "start_time": "2022-06-30T13:03:48.912Z"
   },
   {
    "duration": 31,
    "start_time": "2022-06-30T13:04:17.553Z"
   },
   {
    "duration": 2037,
    "start_time": "2022-06-30T13:07:03.727Z"
   },
   {
    "duration": 2024,
    "start_time": "2022-06-30T13:07:21.787Z"
   },
   {
    "duration": 2,
    "start_time": "2022-06-30T13:08:00.509Z"
   },
   {
    "duration": 31,
    "start_time": "2022-06-30T13:08:05.840Z"
   },
   {
    "duration": 1491,
    "start_time": "2022-06-30T13:08:21.992Z"
   },
   {
    "duration": 2,
    "start_time": "2022-06-30T13:14:16.825Z"
   },
   {
    "duration": 5,
    "start_time": "2022-06-30T13:14:20.206Z"
   },
   {
    "duration": 5,
    "start_time": "2022-06-30T13:14:37.223Z"
   },
   {
    "duration": 9,
    "start_time": "2022-06-30T13:14:44.646Z"
   },
   {
    "duration": 10,
    "start_time": "2022-06-30T13:16:34.490Z"
   },
   {
    "duration": 11,
    "start_time": "2022-06-30T13:16:50.206Z"
   },
   {
    "duration": 10,
    "start_time": "2022-06-30T13:16:54.738Z"
   },
   {
    "duration": 8,
    "start_time": "2022-06-30T13:17:33.111Z"
   },
   {
    "duration": 10,
    "start_time": "2022-06-30T13:18:23.065Z"
   },
   {
    "duration": 15,
    "start_time": "2022-06-30T13:18:33.043Z"
   },
   {
    "duration": 49,
    "start_time": "2022-06-30T13:18:40.117Z"
   },
   {
    "duration": 11,
    "start_time": "2022-06-30T13:18:57.292Z"
   },
   {
    "duration": 14,
    "start_time": "2022-06-30T13:19:47.757Z"
   },
   {
    "duration": 14,
    "start_time": "2022-06-30T13:19:58.086Z"
   },
   {
    "duration": 10,
    "start_time": "2022-06-30T13:20:06.848Z"
   },
   {
    "duration": 7,
    "start_time": "2022-06-30T13:20:25.870Z"
   },
   {
    "duration": 5,
    "start_time": "2022-06-30T13:20:37.974Z"
   },
   {
    "duration": 10,
    "start_time": "2022-06-30T13:20:45.398Z"
   },
   {
    "duration": 5,
    "start_time": "2022-06-30T13:21:21.026Z"
   },
   {
    "duration": 9,
    "start_time": "2022-06-30T13:21:39.625Z"
   },
   {
    "duration": 9,
    "start_time": "2022-06-30T13:22:00.378Z"
   },
   {
    "duration": 6,
    "start_time": "2022-06-30T13:22:05.433Z"
   },
   {
    "duration": 12,
    "start_time": "2022-06-30T13:28:14.391Z"
   },
   {
    "duration": 9,
    "start_time": "2022-06-30T13:29:32.742Z"
   },
   {
    "duration": 14,
    "start_time": "2022-06-30T13:30:03.585Z"
   },
   {
    "duration": 14,
    "start_time": "2022-06-30T13:30:16.454Z"
   },
   {
    "duration": 406,
    "start_time": "2022-06-30T13:30:37.426Z"
   },
   {
    "duration": 19,
    "start_time": "2022-06-30T13:30:37.834Z"
   },
   {
    "duration": 15,
    "start_time": "2022-06-30T13:30:37.855Z"
   },
   {
    "duration": 8,
    "start_time": "2022-06-30T13:30:37.872Z"
   },
   {
    "duration": 33,
    "start_time": "2022-06-30T13:30:37.882Z"
   },
   {
    "duration": 4,
    "start_time": "2022-06-30T13:30:37.917Z"
   },
   {
    "duration": 12,
    "start_time": "2022-06-30T13:30:37.922Z"
   },
   {
    "duration": 5,
    "start_time": "2022-06-30T13:30:37.935Z"
   },
   {
    "duration": 9,
    "start_time": "2022-06-30T13:30:37.967Z"
   },
   {
    "duration": 4,
    "start_time": "2022-06-30T13:30:37.978Z"
   },
   {
    "duration": 33,
    "start_time": "2022-06-30T13:30:37.983Z"
   },
   {
    "duration": 8,
    "start_time": "2022-06-30T13:30:38.018Z"
   },
   {
    "duration": 4,
    "start_time": "2022-06-30T13:30:38.027Z"
   },
   {
    "duration": 46,
    "start_time": "2022-06-30T13:30:38.032Z"
   },
   {
    "duration": 15,
    "start_time": "2022-06-30T13:30:38.079Z"
   },
   {
    "duration": 10,
    "start_time": "2022-06-30T13:30:38.096Z"
   },
   {
    "duration": 7,
    "start_time": "2022-06-30T13:30:38.107Z"
   },
   {
    "duration": 13,
    "start_time": "2022-06-30T13:30:38.115Z"
   },
   {
    "duration": 8,
    "start_time": "2022-06-30T13:30:38.129Z"
   },
   {
    "duration": 5,
    "start_time": "2022-06-30T13:30:38.138Z"
   },
   {
    "duration": 29,
    "start_time": "2022-06-30T13:30:38.144Z"
   },
   {
    "duration": 737,
    "start_time": "2022-06-30T13:30:38.175Z"
   },
   {
    "duration": 20,
    "start_time": "2022-06-30T13:30:38.914Z"
   },
   {
    "duration": 53,
    "start_time": "2022-06-30T13:30:38.936Z"
   },
   {
    "duration": 171,
    "start_time": "2022-06-30T13:30:38.991Z"
   },
   {
    "duration": 146,
    "start_time": "2022-06-30T13:30:39.163Z"
   },
   {
    "duration": 6,
    "start_time": "2022-06-30T13:30:39.311Z"
   },
   {
    "duration": 17,
    "start_time": "2022-06-30T13:30:39.320Z"
   },
   {
    "duration": 159,
    "start_time": "2022-06-30T13:30:39.339Z"
   },
   {
    "duration": 149,
    "start_time": "2022-06-30T13:30:39.500Z"
   },
   {
    "duration": 43,
    "start_time": "2022-06-30T13:30:39.651Z"
   },
   {
    "duration": 12,
    "start_time": "2022-06-30T13:30:39.696Z"
   },
   {
    "duration": 20,
    "start_time": "2022-06-30T13:30:39.710Z"
   },
   {
    "duration": 3,
    "start_time": "2022-06-30T13:30:39.731Z"
   },
   {
    "duration": 15,
    "start_time": "2022-06-30T13:31:28.677Z"
   },
   {
    "duration": 18,
    "start_time": "2022-06-30T13:33:25.164Z"
   },
   {
    "duration": 18,
    "start_time": "2022-06-30T13:33:38.178Z"
   },
   {
    "duration": 15,
    "start_time": "2022-06-30T13:38:02.688Z"
   },
   {
    "duration": 98,
    "start_time": "2022-06-30T13:38:59.534Z"
   },
   {
    "duration": 10,
    "start_time": "2022-06-30T13:39:04.949Z"
   },
   {
    "duration": 125,
    "start_time": "2022-06-30T13:39:11.678Z"
   },
   {
    "duration": 12,
    "start_time": "2022-06-30T13:54:12.500Z"
   },
   {
    "duration": 10,
    "start_time": "2022-06-30T13:54:25.601Z"
   },
   {
    "duration": 20,
    "start_time": "2022-06-30T13:54:35.157Z"
   },
   {
    "duration": 29,
    "start_time": "2022-06-30T13:59:06.202Z"
   },
   {
    "duration": 14,
    "start_time": "2022-06-30T14:00:54.180Z"
   },
   {
    "duration": 14,
    "start_time": "2022-06-30T14:01:12.931Z"
   },
   {
    "duration": 12,
    "start_time": "2022-06-30T14:01:38.945Z"
   },
   {
    "duration": 11,
    "start_time": "2022-06-30T14:01:47.311Z"
   },
   {
    "duration": 434,
    "start_time": "2022-06-30T14:02:05.432Z"
   },
   {
    "duration": 21,
    "start_time": "2022-06-30T14:02:05.868Z"
   },
   {
    "duration": 15,
    "start_time": "2022-06-30T14:02:05.890Z"
   },
   {
    "duration": 9,
    "start_time": "2022-06-30T14:02:05.906Z"
   },
   {
    "duration": 50,
    "start_time": "2022-06-30T14:02:05.917Z"
   },
   {
    "duration": 4,
    "start_time": "2022-06-30T14:02:05.969Z"
   },
   {
    "duration": 11,
    "start_time": "2022-06-30T14:02:05.974Z"
   },
   {
    "duration": 5,
    "start_time": "2022-06-30T14:02:05.986Z"
   },
   {
    "duration": 9,
    "start_time": "2022-06-30T14:02:05.992Z"
   },
   {
    "duration": 5,
    "start_time": "2022-06-30T14:02:06.002Z"
   },
   {
    "duration": 34,
    "start_time": "2022-06-30T14:02:06.008Z"
   },
   {
    "duration": 27,
    "start_time": "2022-06-30T14:02:06.044Z"
   },
   {
    "duration": 4,
    "start_time": "2022-06-30T14:02:06.073Z"
   },
   {
    "duration": 19,
    "start_time": "2022-06-30T14:02:06.079Z"
   },
   {
    "duration": 15,
    "start_time": "2022-06-30T14:02:06.099Z"
   },
   {
    "duration": 10,
    "start_time": "2022-06-30T14:02:06.116Z"
   },
   {
    "duration": 6,
    "start_time": "2022-06-30T14:02:06.127Z"
   },
   {
    "duration": 38,
    "start_time": "2022-06-30T14:02:06.134Z"
   },
   {
    "duration": 7,
    "start_time": "2022-06-30T14:02:06.174Z"
   },
   {
    "duration": 5,
    "start_time": "2022-06-30T14:02:06.182Z"
   },
   {
    "duration": 11,
    "start_time": "2022-06-30T14:02:06.188Z"
   },
   {
    "duration": 684,
    "start_time": "2022-06-30T14:02:06.200Z"
   },
   {
    "duration": 17,
    "start_time": "2022-06-30T14:02:06.886Z"
   },
   {
    "duration": 26,
    "start_time": "2022-06-30T14:02:06.904Z"
   },
   {
    "duration": 151,
    "start_time": "2022-06-30T14:02:06.932Z"
   },
   {
    "duration": 129,
    "start_time": "2022-06-30T14:02:07.084Z"
   },
   {
    "duration": 5,
    "start_time": "2022-06-30T14:02:07.215Z"
   },
   {
    "duration": 16,
    "start_time": "2022-06-30T14:02:07.222Z"
   },
   {
    "duration": 147,
    "start_time": "2022-06-30T14:02:07.239Z"
   },
   {
    "duration": 150,
    "start_time": "2022-06-30T14:02:07.388Z"
   },
   {
    "duration": 42,
    "start_time": "2022-06-30T14:02:07.540Z"
   },
   {
    "duration": 13,
    "start_time": "2022-06-30T14:02:07.584Z"
   },
   {
    "duration": 27,
    "start_time": "2022-06-30T14:02:07.599Z"
   },
   {
    "duration": 126,
    "start_time": "2022-06-30T14:02:07.628Z"
   },
   {
    "duration": 105,
    "start_time": "2022-06-30T14:02:07.756Z"
   },
   {
    "duration": 11,
    "start_time": "2022-06-30T14:02:40.976Z"
   },
   {
    "duration": 13,
    "start_time": "2022-06-30T14:02:47.005Z"
   },
   {
    "duration": 17,
    "start_time": "2022-06-30T14:02:50.178Z"
   },
   {
    "duration": 16,
    "start_time": "2022-06-30T14:03:02.977Z"
   },
   {
    "duration": 28,
    "start_time": "2022-06-30T14:03:22.003Z"
   },
   {
    "duration": 27,
    "start_time": "2022-06-30T14:03:35.937Z"
   },
   {
    "duration": 7,
    "start_time": "2022-06-30T14:03:38.336Z"
   },
   {
    "duration": 18,
    "start_time": "2022-06-30T14:04:10.553Z"
   },
   {
    "duration": 19,
    "start_time": "2022-06-30T14:04:12.862Z"
   },
   {
    "duration": 22,
    "start_time": "2022-06-30T14:06:29.210Z"
   },
   {
    "duration": 286,
    "start_time": "2022-06-30T14:09:48.662Z"
   },
   {
    "duration": 1805,
    "start_time": "2022-06-30T14:11:37.479Z"
   },
   {
    "duration": 15,
    "start_time": "2022-06-30T14:12:09.673Z"
   },
   {
    "duration": 16,
    "start_time": "2022-06-30T14:13:22.371Z"
   },
   {
    "duration": 19,
    "start_time": "2022-06-30T14:13:31.670Z"
   },
   {
    "duration": 22,
    "start_time": "2022-06-30T14:14:38.672Z"
   },
   {
    "duration": 18,
    "start_time": "2022-06-30T14:14:57.148Z"
   },
   {
    "duration": 15,
    "start_time": "2022-06-30T14:25:18.134Z"
   },
   {
    "duration": 131,
    "start_time": "2022-06-30T14:26:44.312Z"
   },
   {
    "duration": 32,
    "start_time": "2022-06-30T14:33:50.661Z"
   },
   {
    "duration": 17,
    "start_time": "2022-06-30T14:34:08.422Z"
   },
   {
    "duration": 16,
    "start_time": "2022-06-30T14:34:24.696Z"
   },
   {
    "duration": 28,
    "start_time": "2022-06-30T14:34:29.356Z"
   },
   {
    "duration": 6,
    "start_time": "2022-06-30T14:53:59.823Z"
   },
   {
    "duration": 11,
    "start_time": "2022-06-30T17:38:49.962Z"
   },
   {
    "duration": 12,
    "start_time": "2022-06-30T17:39:05.145Z"
   },
   {
    "duration": 10,
    "start_time": "2022-06-30T17:40:45.052Z"
   },
   {
    "duration": 7,
    "start_time": "2022-06-30T17:40:54.004Z"
   },
   {
    "duration": 5,
    "start_time": "2022-06-30T17:41:00.824Z"
   },
   {
    "duration": 10,
    "start_time": "2022-06-30T17:41:13.660Z"
   },
   {
    "duration": 7,
    "start_time": "2022-06-30T17:41:19.878Z"
   },
   {
    "duration": 6,
    "start_time": "2022-06-30T17:41:35.882Z"
   },
   {
    "duration": 30,
    "start_time": "2022-06-30T17:42:08.452Z"
   },
   {
    "duration": 23,
    "start_time": "2022-06-30T17:42:26.026Z"
   },
   {
    "duration": 10,
    "start_time": "2022-06-30T17:43:04.790Z"
   },
   {
    "duration": 50,
    "start_time": "2022-06-30T17:44:49.080Z"
   },
   {
    "duration": 24,
    "start_time": "2022-06-30T17:44:53.194Z"
   },
   {
    "duration": 29,
    "start_time": "2022-06-30T17:45:08.937Z"
   },
   {
    "duration": 20,
    "start_time": "2022-06-30T17:45:33.703Z"
   },
   {
    "duration": 11,
    "start_time": "2022-06-30T17:46:07.180Z"
   },
   {
    "duration": 476,
    "start_time": "2022-06-30T21:24:46.081Z"
   },
   {
    "duration": 25,
    "start_time": "2022-06-30T21:24:46.560Z"
   },
   {
    "duration": 16,
    "start_time": "2022-06-30T21:24:46.586Z"
   },
   {
    "duration": 11,
    "start_time": "2022-06-30T21:24:46.604Z"
   },
   {
    "duration": 61,
    "start_time": "2022-06-30T21:24:46.617Z"
   },
   {
    "duration": 4,
    "start_time": "2022-06-30T21:24:46.680Z"
   },
   {
    "duration": 13,
    "start_time": "2022-06-30T21:24:46.686Z"
   },
   {
    "duration": 5,
    "start_time": "2022-06-30T21:24:46.700Z"
   },
   {
    "duration": 10,
    "start_time": "2022-06-30T21:24:46.707Z"
   },
   {
    "duration": 4,
    "start_time": "2022-06-30T21:24:46.721Z"
   },
   {
    "duration": 64,
    "start_time": "2022-06-30T21:24:46.727Z"
   },
   {
    "duration": 10,
    "start_time": "2022-06-30T21:24:46.792Z"
   },
   {
    "duration": 5,
    "start_time": "2022-06-30T21:24:46.804Z"
   },
   {
    "duration": 21,
    "start_time": "2022-06-30T21:24:46.810Z"
   },
   {
    "duration": 41,
    "start_time": "2022-06-30T21:24:46.833Z"
   },
   {
    "duration": 13,
    "start_time": "2022-06-30T21:24:46.876Z"
   },
   {
    "duration": 5,
    "start_time": "2022-06-30T21:24:46.891Z"
   },
   {
    "duration": 14,
    "start_time": "2022-06-30T21:24:46.898Z"
   },
   {
    "duration": 9,
    "start_time": "2022-06-30T21:24:46.913Z"
   },
   {
    "duration": 4,
    "start_time": "2022-06-30T21:24:46.924Z"
   },
   {
    "duration": 42,
    "start_time": "2022-06-30T21:24:46.929Z"
   },
   {
    "duration": 38,
    "start_time": "2022-06-30T21:24:46.973Z"
   },
   {
    "duration": 18,
    "start_time": "2022-06-30T21:24:47.012Z"
   },
   {
    "duration": 47,
    "start_time": "2022-06-30T21:24:47.032Z"
   },
   {
    "duration": 732,
    "start_time": "2022-06-30T21:24:47.081Z"
   },
   {
    "duration": 152,
    "start_time": "2022-06-30T21:24:47.815Z"
   },
   {
    "duration": 184,
    "start_time": "2022-06-30T21:24:47.969Z"
   },
   {
    "duration": 151,
    "start_time": "2022-06-30T21:24:48.158Z"
   },
   {
    "duration": 7,
    "start_time": "2022-06-30T21:24:48.312Z"
   },
   {
    "duration": 30,
    "start_time": "2022-06-30T21:24:48.322Z"
   },
   {
    "duration": 175,
    "start_time": "2022-06-30T21:24:48.354Z"
   },
   {
    "duration": 145,
    "start_time": "2022-06-30T21:24:48.531Z"
   },
   {
    "duration": 44,
    "start_time": "2022-06-30T21:24:48.677Z"
   },
   {
    "duration": 13,
    "start_time": "2022-06-30T21:24:48.722Z"
   },
   {
    "duration": 41,
    "start_time": "2022-06-30T21:24:48.736Z"
   },
   {
    "duration": 151,
    "start_time": "2022-06-30T21:24:48.779Z"
   },
   {
    "duration": 47,
    "start_time": "2022-06-30T21:24:48.931Z"
   },
   {
    "duration": 25,
    "start_time": "2022-06-30T21:24:48.981Z"
   },
   {
    "duration": 347,
    "start_time": "2022-06-30T21:24:49.008Z"
   },
   {
    "duration": 15,
    "start_time": "2022-06-30T21:24:49.357Z"
   },
   {
    "duration": 511,
    "start_time": "2022-07-01T11:20:54.437Z"
   },
   {
    "duration": 26,
    "start_time": "2022-07-01T11:20:54.951Z"
   },
   {
    "duration": 15,
    "start_time": "2022-07-01T11:20:54.978Z"
   },
   {
    "duration": 13,
    "start_time": "2022-07-01T11:20:54.995Z"
   },
   {
    "duration": 48,
    "start_time": "2022-07-01T11:20:55.010Z"
   },
   {
    "duration": 3,
    "start_time": "2022-07-01T11:20:55.060Z"
   },
   {
    "duration": 15,
    "start_time": "2022-07-01T11:20:55.065Z"
   },
   {
    "duration": 7,
    "start_time": "2022-07-01T11:20:55.082Z"
   },
   {
    "duration": 9,
    "start_time": "2022-07-01T11:20:55.090Z"
   },
   {
    "duration": 4,
    "start_time": "2022-07-01T11:20:55.103Z"
   },
   {
    "duration": 32,
    "start_time": "2022-07-01T11:20:55.126Z"
   },
   {
    "duration": 9,
    "start_time": "2022-07-01T11:20:55.160Z"
   },
   {
    "duration": 7,
    "start_time": "2022-07-01T11:20:55.170Z"
   },
   {
    "duration": 26,
    "start_time": "2022-07-01T11:20:55.178Z"
   },
   {
    "duration": 31,
    "start_time": "2022-07-01T11:20:55.205Z"
   },
   {
    "duration": 11,
    "start_time": "2022-07-01T11:20:55.238Z"
   },
   {
    "duration": 15,
    "start_time": "2022-07-01T11:20:55.250Z"
   },
   {
    "duration": 13,
    "start_time": "2022-07-01T11:20:55.266Z"
   },
   {
    "duration": 9,
    "start_time": "2022-07-01T11:20:55.281Z"
   },
   {
    "duration": 5,
    "start_time": "2022-07-01T11:20:55.292Z"
   },
   {
    "duration": 14,
    "start_time": "2022-07-01T11:20:55.298Z"
   },
   {
    "duration": 44,
    "start_time": "2022-07-01T11:20:55.314Z"
   },
   {
    "duration": 19,
    "start_time": "2022-07-01T11:20:55.360Z"
   },
   {
    "duration": 50,
    "start_time": "2022-07-01T11:20:55.381Z"
   },
   {
    "duration": 903,
    "start_time": "2022-07-01T11:20:55.433Z"
   },
   {
    "duration": 144,
    "start_time": "2022-07-01T11:20:56.338Z"
   },
   {
    "duration": 127,
    "start_time": "2022-07-01T11:20:56.484Z"
   },
   {
    "duration": 133,
    "start_time": "2022-07-01T11:20:56.615Z"
   },
   {
    "duration": 6,
    "start_time": "2022-07-01T11:20:56.749Z"
   },
   {
    "duration": 48,
    "start_time": "2022-07-01T11:20:56.756Z"
   },
   {
    "duration": 131,
    "start_time": "2022-07-01T11:21:00.242Z"
   },
   {
    "duration": 12,
    "start_time": "2022-07-01T11:21:13.503Z"
   },
   {
    "duration": 1393,
    "start_time": "2022-07-10T18:20:50.048Z"
   },
   {
    "duration": 22,
    "start_time": "2022-07-10T18:25:45.011Z"
   },
   {
    "duration": 4,
    "start_time": "2022-07-10T18:26:04.799Z"
   },
   {
    "duration": 17,
    "start_time": "2022-07-10T18:31:05.518Z"
   },
   {
    "duration": 117,
    "start_time": "2022-07-10T18:37:31.790Z"
   },
   {
    "duration": 15,
    "start_time": "2022-07-10T18:39:29.683Z"
   },
   {
    "duration": 18,
    "start_time": "2022-07-10T18:39:47.761Z"
   },
   {
    "duration": 22,
    "start_time": "2022-07-10T18:39:54.617Z"
   },
   {
    "duration": 17,
    "start_time": "2022-07-10T18:39:59.209Z"
   },
   {
    "duration": 1141,
    "start_time": "2022-07-10T18:40:16.678Z"
   },
   {
    "duration": 18,
    "start_time": "2022-07-10T18:40:17.821Z"
   },
   {
    "duration": 13,
    "start_time": "2022-07-10T18:40:17.841Z"
   },
   {
    "duration": 9,
    "start_time": "2022-07-10T18:40:17.856Z"
   },
   {
    "duration": 35,
    "start_time": "2022-07-10T18:40:17.867Z"
   },
   {
    "duration": 22,
    "start_time": "2022-07-10T18:40:17.903Z"
   },
   {
    "duration": 14,
    "start_time": "2022-07-10T18:40:17.926Z"
   },
   {
    "duration": 4,
    "start_time": "2022-07-10T18:40:17.941Z"
   },
   {
    "duration": 8,
    "start_time": "2022-07-10T18:40:17.947Z"
   },
   {
    "duration": 3,
    "start_time": "2022-07-10T18:40:17.958Z"
   },
   {
    "duration": 38,
    "start_time": "2022-07-10T18:40:17.963Z"
   },
   {
    "duration": 29,
    "start_time": "2022-07-10T18:40:18.003Z"
   },
   {
    "duration": 4,
    "start_time": "2022-07-10T18:40:18.033Z"
   },
   {
    "duration": 20,
    "start_time": "2022-07-10T18:40:18.038Z"
   },
   {
    "duration": 15,
    "start_time": "2022-07-10T18:40:18.060Z"
   },
   {
    "duration": 11,
    "start_time": "2022-07-10T18:40:18.077Z"
   },
   {
    "duration": 6,
    "start_time": "2022-07-10T18:40:18.090Z"
   },
   {
    "duration": 35,
    "start_time": "2022-07-10T18:40:18.097Z"
   },
   {
    "duration": 12,
    "start_time": "2022-07-10T18:40:18.134Z"
   },
   {
    "duration": 7,
    "start_time": "2022-07-10T18:40:18.148Z"
   },
   {
    "duration": 12,
    "start_time": "2022-07-10T18:40:18.156Z"
   },
   {
    "duration": 37,
    "start_time": "2022-07-10T18:40:18.169Z"
   },
   {
    "duration": 28,
    "start_time": "2022-07-10T18:40:18.208Z"
   },
   {
    "duration": 25,
    "start_time": "2022-07-10T18:40:18.237Z"
   },
   {
    "duration": 16,
    "start_time": "2022-07-10T18:40:18.263Z"
   },
   {
    "duration": 43,
    "start_time": "2022-07-10T18:40:18.281Z"
   },
   {
    "duration": 131,
    "start_time": "2022-07-10T18:40:18.326Z"
   },
   {
    "duration": 127,
    "start_time": "2022-07-10T18:40:18.460Z"
   },
   {
    "duration": 128,
    "start_time": "2022-07-10T18:40:18.589Z"
   },
   {
    "duration": 10,
    "start_time": "2022-07-10T18:40:18.719Z"
   },
   {
    "duration": 18,
    "start_time": "2022-07-10T18:40:18.731Z"
   },
   {
    "duration": 154,
    "start_time": "2022-07-10T18:40:18.751Z"
   },
   {
    "duration": 132,
    "start_time": "2022-07-10T18:40:18.907Z"
   },
   {
    "duration": 29,
    "start_time": "2022-07-10T18:40:19.041Z"
   },
   {
    "duration": 11,
    "start_time": "2022-07-10T18:40:19.073Z"
   },
   {
    "duration": 40,
    "start_time": "2022-07-10T18:40:19.086Z"
   },
   {
    "duration": 127,
    "start_time": "2022-07-10T18:40:19.128Z"
   },
   {
    "duration": 17,
    "start_time": "2022-07-10T18:40:19.257Z"
   },
   {
    "duration": 19,
    "start_time": "2022-07-10T18:40:19.276Z"
   },
   {
    "duration": 307,
    "start_time": "2022-07-10T18:40:19.297Z"
   },
   {
    "duration": 24,
    "start_time": "2022-07-10T18:40:19.606Z"
   },
   {
    "duration": 19,
    "start_time": "2022-07-10T18:47:14.955Z"
   },
   {
    "duration": 25,
    "start_time": "2022-07-10T18:47:43.205Z"
   },
   {
    "duration": 11,
    "start_time": "2022-07-10T18:48:24.948Z"
   },
   {
    "duration": 10,
    "start_time": "2022-07-10T18:53:05.012Z"
   },
   {
    "duration": 12,
    "start_time": "2022-07-10T18:53:19.113Z"
   },
   {
    "duration": 10,
    "start_time": "2022-07-10T18:54:27.817Z"
   },
   {
    "duration": 17,
    "start_time": "2022-07-10T18:56:55.751Z"
   },
   {
    "duration": 16,
    "start_time": "2022-07-10T18:58:24.672Z"
   },
   {
    "duration": 15,
    "start_time": "2022-07-10T18:59:41.414Z"
   },
   {
    "duration": 17,
    "start_time": "2022-07-10T18:59:52.883Z"
   },
   {
    "duration": 20,
    "start_time": "2022-07-10T19:03:42.881Z"
   },
   {
    "duration": 16,
    "start_time": "2022-07-10T19:46:21.179Z"
   },
   {
    "duration": 18,
    "start_time": "2022-07-10T19:46:43.477Z"
   },
   {
    "duration": 16,
    "start_time": "2022-07-10T19:47:31.595Z"
   },
   {
    "duration": 4,
    "start_time": "2022-07-10T19:50:19.062Z"
   },
   {
    "duration": 21,
    "start_time": "2022-07-10T19:50:26.322Z"
   },
   {
    "duration": 24,
    "start_time": "2022-07-10T19:53:01.980Z"
   },
   {
    "duration": 23,
    "start_time": "2022-07-10T19:54:17.122Z"
   },
   {
    "duration": 23,
    "start_time": "2022-07-10T19:54:31.439Z"
   },
   {
    "duration": 26,
    "start_time": "2022-07-10T19:54:42.060Z"
   },
   {
    "duration": 2,
    "start_time": "2022-07-10T19:57:48.606Z"
   },
   {
    "duration": 93,
    "start_time": "2022-07-10T19:58:04.779Z"
   },
   {
    "duration": 9,
    "start_time": "2022-07-10T19:58:12.220Z"
   },
   {
    "duration": 21,
    "start_time": "2022-07-10T19:59:15.805Z"
   },
   {
    "duration": 3,
    "start_time": "2022-07-10T19:59:33.655Z"
   },
   {
    "duration": 25,
    "start_time": "2022-07-10T19:59:35.488Z"
   },
   {
    "duration": 3,
    "start_time": "2022-07-10T20:04:18.646Z"
   },
   {
    "duration": 25,
    "start_time": "2022-07-10T20:04:21.074Z"
   },
   {
    "duration": 16,
    "start_time": "2022-07-10T20:06:20.544Z"
   },
   {
    "duration": 28,
    "start_time": "2022-07-10T20:07:35.280Z"
   },
   {
    "duration": 28,
    "start_time": "2022-07-10T20:07:46.602Z"
   },
   {
    "duration": 28,
    "start_time": "2022-07-10T20:08:26.741Z"
   },
   {
    "duration": 63,
    "start_time": "2022-07-10T20:09:17.378Z"
   },
   {
    "duration": 48,
    "start_time": "2022-07-10T20:09:25.995Z"
   },
   {
    "duration": 14,
    "start_time": "2022-07-10T20:10:33.637Z"
   },
   {
    "duration": 128,
    "start_time": "2022-07-10T20:10:40.068Z"
   },
   {
    "duration": 14,
    "start_time": "2022-07-10T20:12:05.617Z"
   },
   {
    "duration": 13,
    "start_time": "2022-07-10T20:12:33.932Z"
   },
   {
    "duration": 16,
    "start_time": "2022-07-10T20:13:11.815Z"
   },
   {
    "duration": 9,
    "start_time": "2022-07-10T20:13:15.364Z"
   },
   {
    "duration": 14,
    "start_time": "2022-07-10T20:13:21.825Z"
   },
   {
    "duration": 14,
    "start_time": "2022-07-10T20:13:42.128Z"
   },
   {
    "duration": 13,
    "start_time": "2022-07-10T20:13:46.760Z"
   },
   {
    "duration": 10,
    "start_time": "2022-07-10T20:13:58.867Z"
   },
   {
    "duration": 130,
    "start_time": "2022-07-10T20:14:30.001Z"
   },
   {
    "duration": 14,
    "start_time": "2022-07-10T20:14:38.053Z"
   },
   {
    "duration": 214,
    "start_time": "2022-07-10T20:14:48.360Z"
   },
   {
    "duration": 29,
    "start_time": "2022-07-10T20:16:50.611Z"
   },
   {
    "duration": 36,
    "start_time": "2022-07-10T20:17:16.469Z"
   },
   {
    "duration": 39,
    "start_time": "2022-07-10T20:23:00.075Z"
   },
   {
    "duration": 42,
    "start_time": "2022-07-10T20:23:30.985Z"
   },
   {
    "duration": 44,
    "start_time": "2022-07-10T20:24:19.683Z"
   }
  ],
  "colab": {
   "name": "dpp_template_part2.ipynb",
   "provenance": []
  },
  "kernelspec": {
   "display_name": "Python 3 (ipykernel)",
   "language": "python",
   "name": "python3"
  },
  "language_info": {
   "codemirror_mode": {
    "name": "ipython",
    "version": 3
   },
   "file_extension": ".py",
   "mimetype": "text/x-python",
   "name": "python",
   "nbconvert_exporter": "python",
   "pygments_lexer": "ipython3",
   "version": "3.8.16"
  },
  "toc": {
   "base_numbering": 1,
   "nav_menu": {},
   "number_sections": true,
   "sideBar": true,
   "skip_h1_title": true,
   "title_cell": "Table of Contents",
   "title_sidebar": "Contents",
   "toc_cell": false,
   "toc_position": {},
   "toc_section_display": true,
   "toc_window_display": false
  }
 },
 "nbformat": 4,
 "nbformat_minor": 5
}
