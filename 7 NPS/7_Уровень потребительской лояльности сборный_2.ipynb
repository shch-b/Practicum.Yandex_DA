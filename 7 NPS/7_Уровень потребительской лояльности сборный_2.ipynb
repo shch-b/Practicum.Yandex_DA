{
 "cells": [
  {
   "cell_type": "markdown",
   "id": "d496e6e7",
   "metadata": {},
   "source": [
    "# Сборный проект 2. Исследование уровня потребительской лояльности"
   ]
  },
  {
   "cell_type": "markdown",
   "id": "c0378abe",
   "metadata": {},
   "source": [
    "**Описание**\n",
    "\n",
    "По заказу большой телекоммуникационной компании, оказывающей услуги на территории всего СНГ, проведена работа по определению текущего уровеня потребительской лояльности, или NPS, среди клиентов из России.\n",
    "\n",
    "Исследовательская работа основана на данных опроса пользователей, основанного на методике проедения социальных опросов, оценивающих потребительскую лояльность.\n",
    "\n",
    "По результатам работы сформирован дашборд с результатами опроса и подготовлена презентация с описанием и итогами проведенной работы.\n",
    "\n",
    "В рамках работы:\n",
    "1) Получен доступ к базе данных SQLite\n",
    "\n",
    "2) Проведена выгрузка данных и предобработка данных\n",
    "\n",
    "3) Сформирована аггрегированная таблица-источник для дашборда\n",
    "\n",
    "4) Создан дашборд и подготовлена презентация, содержащие в т.ч. следующие результаты исследования:\n",
    "\n",
    "- распределение участников опроса по возрасту, полу и возрасту, периоду регистрации, активности по городам?\n",
    "- респределение по группам лояльности к сервису\n",
    "- расчет NPS\n",
    "- описание пользователей-сторонников"
   ]
  },
  {
   "cell_type": "markdown",
   "id": "377853fa",
   "metadata": {},
   "source": [
    "## Получение доступа к БД"
   ]
  },
  {
   "cell_type": "markdown",
   "id": "6bdc9c0e",
   "metadata": {},
   "source": [
    "### Импортируем необходимые библиотеки"
   ]
  },
  {
   "cell_type": "code",
   "execution_count": 1,
   "id": "25619f95",
   "metadata": {
    "tags": [
     "aa81075c-062f-4de0-b5fe-14c73dc7468e"
    ]
   },
   "outputs": [],
   "source": [
    "import pandas as pd\n",
    "from sqlalchemy import create_engine"
   ]
  },
  {
   "cell_type": "markdown",
   "id": "a3b8c8e4",
   "metadata": {},
   "source": [
    "### Зададим путь к БД и создадим подключение"
   ]
  },
  {
   "cell_type": "code",
   "execution_count": 2,
   "id": "db55174e",
   "metadata": {},
   "outputs": [],
   "source": [
    "try:\n",
    "    path_to_db = '/datasets/telecomm_csi.db'\n",
    "except:\n",
    "    path_to_db = 'https://??????/datasets/telecomm_csi.db'\n",
    "\n",
    "# path_to_db = 'C:/Users/Asus/Яндекс_практикум/8 Сборный проект 2/telecomm_csi.db'\n",
    "engine = create_engine(f'sqlite:///{path_to_db}', echo = False)"
   ]
  },
  {
   "cell_type": "code",
   "execution_count": 3,
   "id": "c96cc560",
   "metadata": {},
   "outputs": [],
   "source": [
    "#для локального подключения\n",
    "# path_to_db = 'C:/Users/Asus/Яндекс_практикум/8 Сборный проект 2/telecomm_csi.db'\n",
    "# engine = create_engine(f'sqlite:///{path_to_db}', echo = False)"
   ]
  },
  {
   "cell_type": "markdown",
   "id": "28ad3368",
   "metadata": {},
   "source": [
    "### Проверим подключение и рассмотрим таблицы из БД"
   ]
  },
  {
   "cell_type": "code",
   "execution_count": 4,
   "id": "36661e08",
   "metadata": {},
   "outputs": [],
   "source": [
    "#рассмотрим, что из себя представляют таблицы БД, выявим возможные пропуски\n",
    "query_1 = \"\"\"\n",
    "SELECT * FROM books;\n",
    "\"\"\"\n",
    "query_2 = \"\"\"\n",
    "SELECT * FROM authors;\n",
    "\"\"\"\n",
    "query_3 = \"\"\"\n",
    "SELECT * FROM publishers;\n",
    "\"\"\"\n",
    "query_4 = \"\"\"\n",
    "SELECT * FROM ratings;\n",
    "\"\"\"\n",
    "query_5 = \"\"\"\n",
    "SELECT * FROM reviews;\n",
    "\"\"\""
   ]
  },
  {
   "cell_type": "code",
   "execution_count": 5,
   "id": "7663868e",
   "metadata": {},
   "outputs": [
    {
     "data": {
      "text/html": [
       "<div>\n",
       "<style scoped>\n",
       "    .dataframe tbody tr th:only-of-type {\n",
       "        vertical-align: middle;\n",
       "    }\n",
       "\n",
       "    .dataframe tbody tr th {\n",
       "        vertical-align: top;\n",
       "    }\n",
       "\n",
       "    .dataframe thead th {\n",
       "        text-align: right;\n",
       "    }\n",
       "</style>\n",
       "<table border=\"1\" class=\"dataframe\">\n",
       "  <thead>\n",
       "    <tr style=\"text-align: right;\">\n",
       "      <th></th>\n",
       "      <th>user_id</th>\n",
       "      <th>lt_day</th>\n",
       "      <th>age</th>\n",
       "      <th>gender_segment</th>\n",
       "      <th>os_name</th>\n",
       "      <th>cpe_type_name</th>\n",
       "      <th>location_id</th>\n",
       "      <th>age_gr_id</th>\n",
       "      <th>tr_gr_id</th>\n",
       "      <th>lt_gr_id</th>\n",
       "      <th>nps_score</th>\n",
       "    </tr>\n",
       "  </thead>\n",
       "  <tbody>\n",
       "    <tr>\n",
       "      <th>0</th>\n",
       "      <td>A001A2</td>\n",
       "      <td>2320</td>\n",
       "      <td>45.0</td>\n",
       "      <td>1.0</td>\n",
       "      <td>ANDROID</td>\n",
       "      <td>SMARTPHONE</td>\n",
       "      <td>55</td>\n",
       "      <td>5</td>\n",
       "      <td>5</td>\n",
       "      <td>8</td>\n",
       "      <td>10</td>\n",
       "    </tr>\n",
       "    <tr>\n",
       "      <th>1</th>\n",
       "      <td>A001WF</td>\n",
       "      <td>2344</td>\n",
       "      <td>53.0</td>\n",
       "      <td>0.0</td>\n",
       "      <td>ANDROID</td>\n",
       "      <td>SMARTPHONE</td>\n",
       "      <td>21</td>\n",
       "      <td>5</td>\n",
       "      <td>5</td>\n",
       "      <td>8</td>\n",
       "      <td>10</td>\n",
       "    </tr>\n",
       "    <tr>\n",
       "      <th>2</th>\n",
       "      <td>A003Q7</td>\n",
       "      <td>467</td>\n",
       "      <td>57.0</td>\n",
       "      <td>0.0</td>\n",
       "      <td>ANDROID</td>\n",
       "      <td>SMARTPHONE</td>\n",
       "      <td>28</td>\n",
       "      <td>6</td>\n",
       "      <td>9</td>\n",
       "      <td>6</td>\n",
       "      <td>10</td>\n",
       "    </tr>\n",
       "    <tr>\n",
       "      <th>3</th>\n",
       "      <td>A004TB</td>\n",
       "      <td>4190</td>\n",
       "      <td>44.0</td>\n",
       "      <td>1.0</td>\n",
       "      <td>IOS</td>\n",
       "      <td>SMARTPHONE</td>\n",
       "      <td>38</td>\n",
       "      <td>4</td>\n",
       "      <td>4</td>\n",
       "      <td>8</td>\n",
       "      <td>10</td>\n",
       "    </tr>\n",
       "    <tr>\n",
       "      <th>4</th>\n",
       "      <td>A004XT</td>\n",
       "      <td>1163</td>\n",
       "      <td>24.0</td>\n",
       "      <td>0.0</td>\n",
       "      <td>ANDROID</td>\n",
       "      <td>SMARTPHONE</td>\n",
       "      <td>39</td>\n",
       "      <td>2</td>\n",
       "      <td>6</td>\n",
       "      <td>8</td>\n",
       "      <td>10</td>\n",
       "    </tr>\n",
       "  </tbody>\n",
       "</table>\n",
       "</div>"
      ],
      "text/plain": [
       "  user_id  lt_day   age  gender_segment  os_name cpe_type_name  location_id  \\\n",
       "0  A001A2    2320  45.0             1.0  ANDROID    SMARTPHONE           55   \n",
       "1  A001WF    2344  53.0             0.0  ANDROID    SMARTPHONE           21   \n",
       "2  A003Q7     467  57.0             0.0  ANDROID    SMARTPHONE           28   \n",
       "3  A004TB    4190  44.0             1.0      IOS    SMARTPHONE           38   \n",
       "4  A004XT    1163  24.0             0.0  ANDROID    SMARTPHONE           39   \n",
       "\n",
       "   age_gr_id  tr_gr_id  lt_gr_id  nps_score  \n",
       "0          5         5         8         10  \n",
       "1          5         5         8         10  \n",
       "2          6         9         6         10  \n",
       "3          4         4         8         10  \n",
       "4          2         6         8         10  "
      ]
     },
     "metadata": {},
     "output_type": "display_data"
    },
    {
     "name": "stdout",
     "output_type": "stream",
     "text": [
      "<class 'pandas.core.frame.DataFrame'>\n",
      "RangeIndex: 502493 entries, 0 to 502492\n",
      "Data columns (total 11 columns):\n",
      " #   Column          Non-Null Count   Dtype  \n",
      "---  ------          --------------   -----  \n",
      " 0   user_id         502493 non-null  object \n",
      " 1   lt_day          502493 non-null  int64  \n",
      " 2   age             501939 non-null  float64\n",
      " 3   gender_segment  501192 non-null  float64\n",
      " 4   os_name         502493 non-null  object \n",
      " 5   cpe_type_name   502493 non-null  object \n",
      " 6   location_id     502493 non-null  int64  \n",
      " 7   age_gr_id       502493 non-null  int64  \n",
      " 8   tr_gr_id        502493 non-null  int64  \n",
      " 9   lt_gr_id        502493 non-null  int64  \n",
      " 10  nps_score       502493 non-null  int64  \n",
      "dtypes: float64(2), int64(6), object(3)\n",
      "memory usage: 42.2+ MB\n"
     ]
    },
    {
     "data": {
      "text/plain": [
       "None"
      ]
     },
     "metadata": {},
     "output_type": "display_data"
    }
   ],
   "source": [
    "df_user = pd.read_sql(query_1, engine)\n",
    "display(df_user.head(5))\n",
    "display(df_user.info())"
   ]
  },
  {
   "cell_type": "code",
   "execution_count": 6,
   "id": "81130ae4",
   "metadata": {},
   "outputs": [
    {
     "data": {
      "text/html": [
       "<div>\n",
       "<style scoped>\n",
       "    .dataframe tbody tr th:only-of-type {\n",
       "        vertical-align: middle;\n",
       "    }\n",
       "\n",
       "    .dataframe tbody tr th {\n",
       "        vertical-align: top;\n",
       "    }\n",
       "\n",
       "    .dataframe thead th {\n",
       "        text-align: right;\n",
       "    }\n",
       "</style>\n",
       "<table border=\"1\" class=\"dataframe\">\n",
       "  <thead>\n",
       "    <tr style=\"text-align: right;\">\n",
       "      <th></th>\n",
       "      <th>location_id</th>\n",
       "      <th>city</th>\n",
       "      <th>country</th>\n",
       "    </tr>\n",
       "  </thead>\n",
       "  <tbody>\n",
       "    <tr>\n",
       "      <th>0</th>\n",
       "      <td>1</td>\n",
       "      <td>Архангельск</td>\n",
       "      <td>Россия</td>\n",
       "    </tr>\n",
       "    <tr>\n",
       "      <th>1</th>\n",
       "      <td>2</td>\n",
       "      <td>Астрахань</td>\n",
       "      <td>Россия</td>\n",
       "    </tr>\n",
       "    <tr>\n",
       "      <th>2</th>\n",
       "      <td>3</td>\n",
       "      <td>Балашиха</td>\n",
       "      <td>Россия</td>\n",
       "    </tr>\n",
       "    <tr>\n",
       "      <th>3</th>\n",
       "      <td>4</td>\n",
       "      <td>Барнаул</td>\n",
       "      <td>Россия</td>\n",
       "    </tr>\n",
       "    <tr>\n",
       "      <th>4</th>\n",
       "      <td>5</td>\n",
       "      <td>Белгород</td>\n",
       "      <td>Россия</td>\n",
       "    </tr>\n",
       "  </tbody>\n",
       "</table>\n",
       "</div>"
      ],
      "text/plain": [
       "   location_id         city country\n",
       "0            1  Архангельск  Россия\n",
       "1            2    Астрахань  Россия\n",
       "2            3     Балашиха  Россия\n",
       "3            4      Барнаул  Россия\n",
       "4            5     Белгород  Россия"
      ]
     },
     "metadata": {},
     "output_type": "display_data"
    },
    {
     "name": "stdout",
     "output_type": "stream",
     "text": [
      "<class 'pandas.core.frame.DataFrame'>\n",
      "RangeIndex: 62 entries, 0 to 61\n",
      "Data columns (total 3 columns):\n",
      " #   Column       Non-Null Count  Dtype \n",
      "---  ------       --------------  ----- \n",
      " 0   location_id  62 non-null     int64 \n",
      " 1   city         62 non-null     object\n",
      " 2   country      62 non-null     object\n",
      "dtypes: int64(1), object(2)\n",
      "memory usage: 1.6+ KB\n"
     ]
    },
    {
     "data": {
      "text/plain": [
       "None"
      ]
     },
     "metadata": {},
     "output_type": "display_data"
    }
   ],
   "source": [
    "df_loc = pd.read_sql(query_2, engine)\n",
    "display(df_loc.head(5))\n",
    "display(df_loc.info())"
   ]
  },
  {
   "cell_type": "code",
   "execution_count": 7,
   "id": "c52b4d93",
   "metadata": {},
   "outputs": [
    {
     "data": {
      "text/html": [
       "<div>\n",
       "<style scoped>\n",
       "    .dataframe tbody tr th:only-of-type {\n",
       "        vertical-align: middle;\n",
       "    }\n",
       "\n",
       "    .dataframe tbody tr th {\n",
       "        vertical-align: top;\n",
       "    }\n",
       "\n",
       "    .dataframe thead th {\n",
       "        text-align: right;\n",
       "    }\n",
       "</style>\n",
       "<table border=\"1\" class=\"dataframe\">\n",
       "  <thead>\n",
       "    <tr style=\"text-align: right;\">\n",
       "      <th></th>\n",
       "      <th>age_gr_id</th>\n",
       "      <th>bucket_min</th>\n",
       "      <th>bucket_max</th>\n",
       "      <th>title</th>\n",
       "    </tr>\n",
       "  </thead>\n",
       "  <tbody>\n",
       "    <tr>\n",
       "      <th>0</th>\n",
       "      <td>1</td>\n",
       "      <td>NaN</td>\n",
       "      <td>15.0</td>\n",
       "      <td>01 до 16</td>\n",
       "    </tr>\n",
       "    <tr>\n",
       "      <th>1</th>\n",
       "      <td>2</td>\n",
       "      <td>16.0</td>\n",
       "      <td>24.0</td>\n",
       "      <td>02 16-24</td>\n",
       "    </tr>\n",
       "    <tr>\n",
       "      <th>2</th>\n",
       "      <td>3</td>\n",
       "      <td>25.0</td>\n",
       "      <td>34.0</td>\n",
       "      <td>03 25-34</td>\n",
       "    </tr>\n",
       "    <tr>\n",
       "      <th>3</th>\n",
       "      <td>4</td>\n",
       "      <td>35.0</td>\n",
       "      <td>44.0</td>\n",
       "      <td>04 35-44</td>\n",
       "    </tr>\n",
       "    <tr>\n",
       "      <th>4</th>\n",
       "      <td>5</td>\n",
       "      <td>45.0</td>\n",
       "      <td>54.0</td>\n",
       "      <td>05 45-54</td>\n",
       "    </tr>\n",
       "    <tr>\n",
       "      <th>5</th>\n",
       "      <td>6</td>\n",
       "      <td>55.0</td>\n",
       "      <td>64.0</td>\n",
       "      <td>06 55-64</td>\n",
       "    </tr>\n",
       "    <tr>\n",
       "      <th>6</th>\n",
       "      <td>7</td>\n",
       "      <td>66.0</td>\n",
       "      <td>NaN</td>\n",
       "      <td>07 66 +</td>\n",
       "    </tr>\n",
       "    <tr>\n",
       "      <th>7</th>\n",
       "      <td>8</td>\n",
       "      <td>NaN</td>\n",
       "      <td>NaN</td>\n",
       "      <td>08 n/a</td>\n",
       "    </tr>\n",
       "  </tbody>\n",
       "</table>\n",
       "</div>"
      ],
      "text/plain": [
       "   age_gr_id  bucket_min  bucket_max     title\n",
       "0          1         NaN        15.0  01 до 16\n",
       "1          2        16.0        24.0  02 16-24\n",
       "2          3        25.0        34.0  03 25-34\n",
       "3          4        35.0        44.0  04 35-44\n",
       "4          5        45.0        54.0  05 45-54\n",
       "5          6        55.0        64.0  06 55-64\n",
       "6          7        66.0         NaN   07 66 +\n",
       "7          8         NaN         NaN    08 n/a"
      ]
     },
     "metadata": {},
     "output_type": "display_data"
    },
    {
     "name": "stdout",
     "output_type": "stream",
     "text": [
      "<class 'pandas.core.frame.DataFrame'>\n",
      "RangeIndex: 8 entries, 0 to 7\n",
      "Data columns (total 4 columns):\n",
      " #   Column      Non-Null Count  Dtype  \n",
      "---  ------      --------------  -----  \n",
      " 0   age_gr_id   8 non-null      int64  \n",
      " 1   bucket_min  6 non-null      float64\n",
      " 2   bucket_max  6 non-null      float64\n",
      " 3   title       8 non-null      object \n",
      "dtypes: float64(2), int64(1), object(1)\n",
      "memory usage: 384.0+ bytes\n"
     ]
    },
    {
     "data": {
      "text/plain": [
       "None"
      ]
     },
     "metadata": {},
     "output_type": "display_data"
    }
   ],
   "source": [
    "df_age_segment = pd.read_sql(query_3, engine)\n",
    "display(df_age_segment.head(10))\n",
    "display(df_age_segment.info())"
   ]
  },
  {
   "cell_type": "code",
   "execution_count": 8,
   "id": "c2793ec8",
   "metadata": {},
   "outputs": [
    {
     "data": {
      "text/html": [
       "<div>\n",
       "<style scoped>\n",
       "    .dataframe tbody tr th:only-of-type {\n",
       "        vertical-align: middle;\n",
       "    }\n",
       "\n",
       "    .dataframe tbody tr th {\n",
       "        vertical-align: top;\n",
       "    }\n",
       "\n",
       "    .dataframe thead th {\n",
       "        text-align: right;\n",
       "    }\n",
       "</style>\n",
       "<table border=\"1\" class=\"dataframe\">\n",
       "  <thead>\n",
       "    <tr style=\"text-align: right;\">\n",
       "      <th></th>\n",
       "      <th>tr_gr_id</th>\n",
       "      <th>bucket_min</th>\n",
       "      <th>bucket_max</th>\n",
       "      <th>title</th>\n",
       "    </tr>\n",
       "  </thead>\n",
       "  <tbody>\n",
       "    <tr>\n",
       "      <th>0</th>\n",
       "      <td>1</td>\n",
       "      <td>0.00</td>\n",
       "      <td>0.00</td>\n",
       "      <td>01 0</td>\n",
       "    </tr>\n",
       "    <tr>\n",
       "      <th>1</th>\n",
       "      <td>2</td>\n",
       "      <td>0.00</td>\n",
       "      <td>0.01</td>\n",
       "      <td>01 0-0.01</td>\n",
       "    </tr>\n",
       "    <tr>\n",
       "      <th>2</th>\n",
       "      <td>3</td>\n",
       "      <td>0.01</td>\n",
       "      <td>0.10</td>\n",
       "      <td>02 0.01-0.1</td>\n",
       "    </tr>\n",
       "    <tr>\n",
       "      <th>3</th>\n",
       "      <td>4</td>\n",
       "      <td>0.10</td>\n",
       "      <td>1.00</td>\n",
       "      <td>03 0.1-1</td>\n",
       "    </tr>\n",
       "    <tr>\n",
       "      <th>4</th>\n",
       "      <td>5</td>\n",
       "      <td>1.00</td>\n",
       "      <td>5.00</td>\n",
       "      <td>04 1-5</td>\n",
       "    </tr>\n",
       "  </tbody>\n",
       "</table>\n",
       "</div>"
      ],
      "text/plain": [
       "   tr_gr_id  bucket_min  bucket_max        title\n",
       "0         1        0.00        0.00         01 0\n",
       "1         2        0.00        0.01    01 0-0.01\n",
       "2         3        0.01        0.10  02 0.01-0.1\n",
       "3         4        0.10        1.00     03 0.1-1\n",
       "4         5        1.00        5.00       04 1-5"
      ]
     },
     "metadata": {},
     "output_type": "display_data"
    },
    {
     "name": "stdout",
     "output_type": "stream",
     "text": [
      "<class 'pandas.core.frame.DataFrame'>\n",
      "RangeIndex: 25 entries, 0 to 24\n",
      "Data columns (total 4 columns):\n",
      " #   Column      Non-Null Count  Dtype  \n",
      "---  ------      --------------  -----  \n",
      " 0   tr_gr_id    25 non-null     int64  \n",
      " 1   bucket_min  25 non-null     float64\n",
      " 2   bucket_max  24 non-null     float64\n",
      " 3   title       25 non-null     object \n",
      "dtypes: float64(2), int64(1), object(1)\n",
      "memory usage: 928.0+ bytes\n"
     ]
    },
    {
     "data": {
      "text/plain": [
       "None"
      ]
     },
     "metadata": {},
     "output_type": "display_data"
    }
   ],
   "source": [
    "df_traffic_segment = pd.read_sql(query_4, engine)\n",
    "display(df_traffic_segment.head(5))\n",
    "display(df_traffic_segment.info())"
   ]
  },
  {
   "cell_type": "code",
   "execution_count": 9,
   "id": "a353e836",
   "metadata": {},
   "outputs": [
    {
     "data": {
      "text/html": [
       "<div>\n",
       "<style scoped>\n",
       "    .dataframe tbody tr th:only-of-type {\n",
       "        vertical-align: middle;\n",
       "    }\n",
       "\n",
       "    .dataframe tbody tr th {\n",
       "        vertical-align: top;\n",
       "    }\n",
       "\n",
       "    .dataframe thead th {\n",
       "        text-align: right;\n",
       "    }\n",
       "</style>\n",
       "<table border=\"1\" class=\"dataframe\">\n",
       "  <thead>\n",
       "    <tr style=\"text-align: right;\">\n",
       "      <th></th>\n",
       "      <th>lt_gr_id</th>\n",
       "      <th>bucket_min</th>\n",
       "      <th>bucket_max</th>\n",
       "      <th>title</th>\n",
       "    </tr>\n",
       "  </thead>\n",
       "  <tbody>\n",
       "    <tr>\n",
       "      <th>0</th>\n",
       "      <td>1</td>\n",
       "      <td>1.0</td>\n",
       "      <td>1.0</td>\n",
       "      <td>01 1</td>\n",
       "    </tr>\n",
       "    <tr>\n",
       "      <th>1</th>\n",
       "      <td>2</td>\n",
       "      <td>2.0</td>\n",
       "      <td>2.0</td>\n",
       "      <td>02 2</td>\n",
       "    </tr>\n",
       "    <tr>\n",
       "      <th>2</th>\n",
       "      <td>3</td>\n",
       "      <td>3.0</td>\n",
       "      <td>3.0</td>\n",
       "      <td>03 3</td>\n",
       "    </tr>\n",
       "    <tr>\n",
       "      <th>3</th>\n",
       "      <td>4</td>\n",
       "      <td>4.0</td>\n",
       "      <td>6.0</td>\n",
       "      <td>04 4-6</td>\n",
       "    </tr>\n",
       "    <tr>\n",
       "      <th>4</th>\n",
       "      <td>5</td>\n",
       "      <td>7.0</td>\n",
       "      <td>12.0</td>\n",
       "      <td>05 7-12</td>\n",
       "    </tr>\n",
       "    <tr>\n",
       "      <th>5</th>\n",
       "      <td>6</td>\n",
       "      <td>13.0</td>\n",
       "      <td>24.0</td>\n",
       "      <td>06 13-24</td>\n",
       "    </tr>\n",
       "    <tr>\n",
       "      <th>6</th>\n",
       "      <td>7</td>\n",
       "      <td>25.0</td>\n",
       "      <td>36.0</td>\n",
       "      <td>07 25-36</td>\n",
       "    </tr>\n",
       "    <tr>\n",
       "      <th>7</th>\n",
       "      <td>8</td>\n",
       "      <td>36.0</td>\n",
       "      <td>NaN</td>\n",
       "      <td>08 36+</td>\n",
       "    </tr>\n",
       "  </tbody>\n",
       "</table>\n",
       "</div>"
      ],
      "text/plain": [
       "   lt_gr_id  bucket_min  bucket_max     title\n",
       "0         1         1.0         1.0      01 1\n",
       "1         2         2.0         2.0      02 2\n",
       "2         3         3.0         3.0      03 3\n",
       "3         4         4.0         6.0    04 4-6\n",
       "4         5         7.0        12.0   05 7-12\n",
       "5         6        13.0        24.0  06 13-24\n",
       "6         7        25.0        36.0  07 25-36\n",
       "7         8        36.0         NaN    08 36+"
      ]
     },
     "metadata": {},
     "output_type": "display_data"
    },
    {
     "name": "stdout",
     "output_type": "stream",
     "text": [
      "<class 'pandas.core.frame.DataFrame'>\n",
      "RangeIndex: 8 entries, 0 to 7\n",
      "Data columns (total 4 columns):\n",
      " #   Column      Non-Null Count  Dtype  \n",
      "---  ------      --------------  -----  \n",
      " 0   lt_gr_id    8 non-null      int64  \n",
      " 1   bucket_min  8 non-null      float64\n",
      " 2   bucket_max  7 non-null      float64\n",
      " 3   title       8 non-null      object \n",
      "dtypes: float64(2), int64(1), object(1)\n",
      "memory usage: 384.0+ bytes\n"
     ]
    },
    {
     "data": {
      "text/plain": [
       "None"
      ]
     },
     "metadata": {},
     "output_type": "display_data"
    }
   ],
   "source": [
    "df_lifetime_segment = pd.read_sql(query_5, engine)\n",
    "display(df_lifetime_segment.head(10))\n",
    "display(df_lifetime_segment.info())"
   ]
  },
  {
   "cell_type": "markdown",
   "id": "7469154e",
   "metadata": {},
   "source": [
    "### Проверим отдельные значения"
   ]
  },
  {
   "cell_type": "code",
   "execution_count": 10,
   "id": "e534dfa6",
   "metadata": {},
   "outputs": [
    {
     "data": {
      "text/plain": [
       "count    501939.000000\n",
       "mean         39.621946\n",
       "std          11.188249\n",
       "min          10.000000\n",
       "25%          31.000000\n",
       "50%          38.000000\n",
       "75%          47.000000\n",
       "max          89.000000\n",
       "Name: age, dtype: float64"
      ]
     },
     "execution_count": 10,
     "metadata": {},
     "output_type": "execute_result"
    }
   ],
   "source": [
    "df_user['age'].describe()"
   ]
  },
  {
   "cell_type": "code",
   "execution_count": 11,
   "id": "ceda8224",
   "metadata": {},
   "outputs": [
    {
     "data": {
      "text/plain": [
       "count    502493.000000\n",
       "mean       1868.841439\n",
       "std        1683.701762\n",
       "min         -21.000000\n",
       "25%         533.000000\n",
       "50%        1239.000000\n",
       "75%        3064.000000\n",
       "max        9162.000000\n",
       "Name: lt_day, dtype: float64"
      ]
     },
     "execution_count": 11,
     "metadata": {},
     "output_type": "execute_result"
    }
   ],
   "source": [
    "df_user['lt_day'].describe()"
   ]
  },
  {
   "cell_type": "code",
   "execution_count": 12,
   "id": "0be54ce6",
   "metadata": {},
   "outputs": [
    {
     "data": {
      "text/plain": [
       "<AxesSubplot:>"
      ]
     },
     "execution_count": 12,
     "metadata": {},
     "output_type": "execute_result"
    },
    {
     "data": {
      "image/png": "[encoded data removed]",
      "text/plain": [
       "<Figure size 432x288 with 1 Axes>"
      ]
     },
     "metadata": {
      "needs_background": "light"
     },
     "output_type": "display_data"
    }
   ],
   "source": [
    "df_user['lt_day'].hist(bins=100)"
   ]
  },
  {
   "cell_type": "code",
   "execution_count": 13,
   "id": "eeb869f6",
   "metadata": {},
   "outputs": [
    {
     "data": {
      "text/plain": [
       "<AxesSubplot:>"
      ]
     },
     "execution_count": 13,
     "metadata": {},
     "output_type": "execute_result"
    },
    {
     "data": {
      "image/png": "[encoded data removed]",
      "text/plain": [
       "<Figure size 432x288 with 1 Axes>"
      ]
     },
     "metadata": {
      "needs_background": "light"
     },
     "output_type": "display_data"
    }
   ],
   "source": [
    "df_user['lt_day'].hist(bins=100, range=(0,533))"
   ]
  },
  {
   "cell_type": "markdown",
   "id": "f870aced",
   "metadata": {},
   "source": [
    "В целом состав данных понятен. Пропуски в данных объяснимы. В таблицах lifetime_segment, traffic_segment, age_segment пропущенные значения - неопределенные границы сегментов, например, для 66+  - невозможно определить верхнюю границу.\n",
    "\n",
    "В таблице user часть данных о возрасте и поле отсутствует (0,028% и 0,025%). Данными пропусками можно принебречь, предобработка не требуется. При создании итоговой выгрузки исключим данные с пропусками.\n",
    "\n",
    "Также из таблиц lifetime_segment, traffic_segment, age_segment потребуются наименования сегментов, которые в исходных таблицах записаны в формате \"0id min-max\"\n",
    "\n",
    "Есть пользователи, время жизни которых отрицательное. В задании требуется задать для каждого пользователя категорию, описывающую, явялется ли пользователь \"новым пользователем\". Однако, условия не определены. Как видно из статистики поля lt_day более 75% пользователей зарегеистрированы более 533 дней (больше полутора лет). Распределение количесва пользователей от времени \"жизни\" для 25% пользователей в целом равномероно после 100 дня жизни. \n",
    "\n",
    "На этапе выгрузки данных:\n",
    "1) Заменим категории 1 и 0 в обозначении пола пользователя gender_segment в таблице user на \"женщина\"/\"мужчина\" (man/woman)\n",
    "\n",
    "2) Создадим новое поле с категорией \"Новый юзер\", \"Старый юзер\" в зависимости от количества дней «жизни» клиента lt_day в таблице user (new user/old user)\n",
    "\n",
    "3) Создадим новое поле с группой пользователя на основании оценки клиента в NPS-опросе:\n",
    "- 9-10 баллов — «cторонники» (англ. promoters)\n",
    "- 7-8 баллов — «нейтралы» (англ. passives)\n",
    "- 0-6 баллов — «критики» (англ. detractors)"
   ]
  },
  {
   "cell_type": "markdown",
   "id": "e08e80e1",
   "metadata": {},
   "source": [
    "## Выгрузка требуемых данных "
   ]
  },
  {
   "cell_type": "markdown",
   "id": "6c58c4e7",
   "metadata": {},
   "source": [
    "### Создадим необходимый запрос"
   ]
  },
  {
   "cell_type": "code",
   "execution_count": 14,
   "id": "b94f8797",
   "metadata": {},
   "outputs": [],
   "source": [
    "query = \"\"\"\n",
    "SELECT u.user_id,\n",
    "       u.lt_day,\n",
    "       CASE\n",
    "           WHEN u.lt_day <= 365 THEN 'new user'\n",
    "           ELSE 'old user'\n",
    "       END AS is_new,\n",
    "       SUBSTR(ls.title, 3) AS lifetime_segment,\n",
    "       u.age,\n",
    "       SUBSTR(ags.title, 3) AS age_segment,\n",
    "       CASE\n",
    "           WHEN u.gender_segment == 0 THEN 'man'\n",
    "           WHEN u.gender_segment == 1 THEN 'woman'\n",
    "       END AS gender_segment,\n",
    "       u.os_name,\n",
    "       u.cpe_type_name,\n",
    "       l.country, \n",
    "       l.city,  \n",
    "       u.nps_score,\n",
    "       CASE \n",
    "           WHEN u.nps_score >= 9 THEN 'promoter'\n",
    "           WHEN u.nps_score <= 6 THEN 'detractor'\n",
    "           ELSE 'passive'\n",
    "       END AS nps_group,\n",
    "       SUBSTR(ts.title, 3) AS traffic_segment\n",
    "FROM user AS u\n",
    "LEFT JOIN location AS l ON u.location_id = l.location_id\n",
    "LEFT JOIN age_segment AS ags ON u.age_gr_id = ags.age_gr_id\n",
    "LEFT JOIN traffic_segment AS ts ON u.tr_gr_id = ts.tr_gr_id\n",
    "LEFT JOIN lifetime_segment AS ls ON u.lt_gr_id = ls.lt_gr_id\n",
    "WHERE u.age IS NOT NULL AND gender_segment IS NOT NULL AND u.lt_day > 0;\n",
    "\"\"\" "
   ]
  },
  {
   "cell_type": "markdown",
   "id": "4bf22be8",
   "metadata": {},
   "source": [
    "### Проверим и сохраним в файл "
   ]
  },
  {
   "cell_type": "code",
   "execution_count": 15,
   "id": "213e5e62",
   "metadata": {},
   "outputs": [
    {
     "data": {
      "text/html": [
       "<div>\n",
       "<style scoped>\n",
       "    .dataframe tbody tr th:only-of-type {\n",
       "        vertical-align: middle;\n",
       "    }\n",
       "\n",
       "    .dataframe tbody tr th {\n",
       "        vertical-align: top;\n",
       "    }\n",
       "\n",
       "    .dataframe thead th {\n",
       "        text-align: right;\n",
       "    }\n",
       "</style>\n",
       "<table border=\"1\" class=\"dataframe\">\n",
       "  <thead>\n",
       "    <tr style=\"text-align: right;\">\n",
       "      <th></th>\n",
       "      <th>user_id</th>\n",
       "      <th>lt_day</th>\n",
       "      <th>is_new</th>\n",
       "      <th>lifetime_segment</th>\n",
       "      <th>age</th>\n",
       "      <th>age_segment</th>\n",
       "      <th>gender_segment</th>\n",
       "      <th>os_name</th>\n",
       "      <th>cpe_type_name</th>\n",
       "      <th>country</th>\n",
       "      <th>city</th>\n",
       "      <th>nps_score</th>\n",
       "      <th>nps_group</th>\n",
       "      <th>traffic_segment</th>\n",
       "    </tr>\n",
       "  </thead>\n",
       "  <tbody>\n",
       "    <tr>\n",
       "      <th>0</th>\n",
       "      <td>A001A2</td>\n",
       "      <td>2320</td>\n",
       "      <td>old user</td>\n",
       "      <td>36+</td>\n",
       "      <td>45.0</td>\n",
       "      <td>45-54</td>\n",
       "      <td>woman</td>\n",
       "      <td>ANDROID</td>\n",
       "      <td>SMARTPHONE</td>\n",
       "      <td>Россия</td>\n",
       "      <td>Уфа</td>\n",
       "      <td>10</td>\n",
       "      <td>promoter</td>\n",
       "      <td>1-5</td>\n",
       "    </tr>\n",
       "    <tr>\n",
       "      <th>1</th>\n",
       "      <td>A001WF</td>\n",
       "      <td>2344</td>\n",
       "      <td>old user</td>\n",
       "      <td>36+</td>\n",
       "      <td>53.0</td>\n",
       "      <td>45-54</td>\n",
       "      <td>man</td>\n",
       "      <td>ANDROID</td>\n",
       "      <td>SMARTPHONE</td>\n",
       "      <td>Россия</td>\n",
       "      <td>Киров</td>\n",
       "      <td>10</td>\n",
       "      <td>promoter</td>\n",
       "      <td>1-5</td>\n",
       "    </tr>\n",
       "    <tr>\n",
       "      <th>2</th>\n",
       "      <td>A003Q7</td>\n",
       "      <td>467</td>\n",
       "      <td>old user</td>\n",
       "      <td>13-24</td>\n",
       "      <td>57.0</td>\n",
       "      <td>55-64</td>\n",
       "      <td>man</td>\n",
       "      <td>ANDROID</td>\n",
       "      <td>SMARTPHONE</td>\n",
       "      <td>Россия</td>\n",
       "      <td>Москва</td>\n",
       "      <td>10</td>\n",
       "      <td>promoter</td>\n",
       "      <td>20-25</td>\n",
       "    </tr>\n",
       "    <tr>\n",
       "      <th>3</th>\n",
       "      <td>A004TB</td>\n",
       "      <td>4190</td>\n",
       "      <td>old user</td>\n",
       "      <td>36+</td>\n",
       "      <td>44.0</td>\n",
       "      <td>35-44</td>\n",
       "      <td>woman</td>\n",
       "      <td>IOS</td>\n",
       "      <td>SMARTPHONE</td>\n",
       "      <td>Россия</td>\n",
       "      <td>РостовнаДону</td>\n",
       "      <td>10</td>\n",
       "      <td>promoter</td>\n",
       "      <td>0.1-1</td>\n",
       "    </tr>\n",
       "    <tr>\n",
       "      <th>4</th>\n",
       "      <td>A004XT</td>\n",
       "      <td>1163</td>\n",
       "      <td>old user</td>\n",
       "      <td>36+</td>\n",
       "      <td>24.0</td>\n",
       "      <td>16-24</td>\n",
       "      <td>man</td>\n",
       "      <td>ANDROID</td>\n",
       "      <td>SMARTPHONE</td>\n",
       "      <td>Россия</td>\n",
       "      <td>Рязань</td>\n",
       "      <td>10</td>\n",
       "      <td>promoter</td>\n",
       "      <td>5-10</td>\n",
       "    </tr>\n",
       "    <tr>\n",
       "      <th>5</th>\n",
       "      <td>A005O0</td>\n",
       "      <td>5501</td>\n",
       "      <td>old user</td>\n",
       "      <td>36+</td>\n",
       "      <td>42.0</td>\n",
       "      <td>35-44</td>\n",
       "      <td>woman</td>\n",
       "      <td>ANDROID</td>\n",
       "      <td>SMARTPHONE</td>\n",
       "      <td>Россия</td>\n",
       "      <td>Омск</td>\n",
       "      <td>6</td>\n",
       "      <td>detractor</td>\n",
       "      <td>5-10</td>\n",
       "    </tr>\n",
       "    <tr>\n",
       "      <th>6</th>\n",
       "      <td>A0061R</td>\n",
       "      <td>1236</td>\n",
       "      <td>old user</td>\n",
       "      <td>36+</td>\n",
       "      <td>45.0</td>\n",
       "      <td>45-54</td>\n",
       "      <td>man</td>\n",
       "      <td>ANDROID</td>\n",
       "      <td>SMARTPHONE</td>\n",
       "      <td>Россия</td>\n",
       "      <td>Уфа</td>\n",
       "      <td>10</td>\n",
       "      <td>promoter</td>\n",
       "      <td>10-15</td>\n",
       "    </tr>\n",
       "    <tr>\n",
       "      <th>7</th>\n",
       "      <td>A009KS</td>\n",
       "      <td>313</td>\n",
       "      <td>new user</td>\n",
       "      <td>7-12</td>\n",
       "      <td>35.0</td>\n",
       "      <td>35-44</td>\n",
       "      <td>man</td>\n",
       "      <td>ANDROID</td>\n",
       "      <td>SMARTPHONE</td>\n",
       "      <td>Россия</td>\n",
       "      <td>Москва</td>\n",
       "      <td>10</td>\n",
       "      <td>promoter</td>\n",
       "      <td>45-50</td>\n",
       "    </tr>\n",
       "    <tr>\n",
       "      <th>8</th>\n",
       "      <td>A00AES</td>\n",
       "      <td>3238</td>\n",
       "      <td>old user</td>\n",
       "      <td>36+</td>\n",
       "      <td>36.0</td>\n",
       "      <td>35-44</td>\n",
       "      <td>woman</td>\n",
       "      <td>ANDROID</td>\n",
       "      <td>SMARTPHONE</td>\n",
       "      <td>Россия</td>\n",
       "      <td>СанктПетербург</td>\n",
       "      <td>10</td>\n",
       "      <td>promoter</td>\n",
       "      <td>1-5</td>\n",
       "    </tr>\n",
       "    <tr>\n",
       "      <th>9</th>\n",
       "      <td>A00F70</td>\n",
       "      <td>4479</td>\n",
       "      <td>old user</td>\n",
       "      <td>36+</td>\n",
       "      <td>54.0</td>\n",
       "      <td>45-54</td>\n",
       "      <td>woman</td>\n",
       "      <td>ANDROID</td>\n",
       "      <td>SMARTPHONE</td>\n",
       "      <td>Россия</td>\n",
       "      <td>Волгоград</td>\n",
       "      <td>9</td>\n",
       "      <td>promoter</td>\n",
       "      <td>15-20</td>\n",
       "    </tr>\n",
       "  </tbody>\n",
       "</table>\n",
       "</div>"
      ],
      "text/plain": [
       "  user_id  lt_day    is_new lifetime_segment   age age_segment gender_segment  \\\n",
       "0  A001A2    2320  old user              36+  45.0       45-54          woman   \n",
       "1  A001WF    2344  old user              36+  53.0       45-54            man   \n",
       "2  A003Q7     467  old user            13-24  57.0       55-64            man   \n",
       "3  A004TB    4190  old user              36+  44.0       35-44          woman   \n",
       "4  A004XT    1163  old user              36+  24.0       16-24            man   \n",
       "5  A005O0    5501  old user              36+  42.0       35-44          woman   \n",
       "6  A0061R    1236  old user              36+  45.0       45-54            man   \n",
       "7  A009KS     313  new user             7-12  35.0       35-44            man   \n",
       "8  A00AES    3238  old user              36+  36.0       35-44          woman   \n",
       "9  A00F70    4479  old user              36+  54.0       45-54          woman   \n",
       "\n",
       "   os_name cpe_type_name country            city  nps_score  nps_group  \\\n",
       "0  ANDROID    SMARTPHONE  Россия             Уфа         10   promoter   \n",
       "1  ANDROID    SMARTPHONE  Россия           Киров         10   promoter   \n",
       "2  ANDROID    SMARTPHONE  Россия          Москва         10   promoter   \n",
       "3      IOS    SMARTPHONE  Россия    РостовнаДону         10   promoter   \n",
       "4  ANDROID    SMARTPHONE  Россия          Рязань         10   promoter   \n",
       "5  ANDROID    SMARTPHONE  Россия            Омск          6  detractor   \n",
       "6  ANDROID    SMARTPHONE  Россия             Уфа         10   promoter   \n",
       "7  ANDROID    SMARTPHONE  Россия          Москва         10   promoter   \n",
       "8  ANDROID    SMARTPHONE  Россия  СанктПетербург         10   promoter   \n",
       "9  ANDROID    SMARTPHONE  Россия       Волгоград          9   promoter   \n",
       "\n",
       "  traffic_segment  \n",
       "0             1-5  \n",
       "1             1-5  \n",
       "2           20-25  \n",
       "3           0.1-1  \n",
       "4            5-10  \n",
       "5            5-10  \n",
       "6           10-15  \n",
       "7           45-50  \n",
       "8             1-5  \n",
       "9           15-20  "
      ]
     },
     "metadata": {},
     "output_type": "display_data"
    },
    {
     "name": "stdout",
     "output_type": "stream",
     "text": [
      "<class 'pandas.core.frame.DataFrame'>\n",
      "RangeIndex: 501152 entries, 0 to 501151\n",
      "Data columns (total 14 columns):\n",
      " #   Column            Non-Null Count   Dtype  \n",
      "---  ------            --------------   -----  \n",
      " 0   user_id           501152 non-null  object \n",
      " 1   lt_day            501152 non-null  int64  \n",
      " 2   is_new            501152 non-null  object \n",
      " 3   lifetime_segment  501152 non-null  object \n",
      " 4   age               501152 non-null  float64\n",
      " 5   age_segment       501152 non-null  object \n",
      " 6   gender_segment    501152 non-null  object \n",
      " 7   os_name           501152 non-null  object \n",
      " 8   cpe_type_name     501152 non-null  object \n",
      " 9   country           501152 non-null  object \n",
      " 10  city              501152 non-null  object \n",
      " 11  nps_score         501152 non-null  int64  \n",
      " 12  nps_group         501152 non-null  object \n",
      " 13  traffic_segment   501152 non-null  object \n",
      "dtypes: float64(1), int64(2), object(11)\n",
      "memory usage: 53.5+ MB\n"
     ]
    },
    {
     "data": {
      "text/plain": [
       "None"
      ]
     },
     "metadata": {},
     "output_type": "display_data"
    }
   ],
   "source": [
    "df = pd.read_sql(query, engine)\n",
    "display(df.head(10))\n",
    "display(df.info())"
   ]
  },
  {
   "cell_type": "code",
   "execution_count": 16,
   "id": "be4351da",
   "metadata": {},
   "outputs": [
    {
     "data": {
      "text/html": [
       "<div>\n",
       "<style scoped>\n",
       "    .dataframe tbody tr th:only-of-type {\n",
       "        vertical-align: middle;\n",
       "    }\n",
       "\n",
       "    .dataframe tbody tr th {\n",
       "        vertical-align: top;\n",
       "    }\n",
       "\n",
       "    .dataframe thead th {\n",
       "        text-align: right;\n",
       "    }\n",
       "</style>\n",
       "<table border=\"1\" class=\"dataframe\">\n",
       "  <thead>\n",
       "    <tr style=\"text-align: right;\">\n",
       "      <th></th>\n",
       "      <th></th>\n",
       "      <th>nps_score</th>\n",
       "    </tr>\n",
       "    <tr>\n",
       "      <th>is_new</th>\n",
       "      <th>lifetime_segment</th>\n",
       "      <th></th>\n",
       "    </tr>\n",
       "  </thead>\n",
       "  <tbody>\n",
       "    <tr>\n",
       "      <th rowspan=\"6\" valign=\"top\">new user</th>\n",
       "      <th>1</th>\n",
       "      <td>8.692308</td>\n",
       "    </tr>\n",
       "    <tr>\n",
       "      <th>13-24</th>\n",
       "      <td>7.990443</td>\n",
       "    </tr>\n",
       "    <tr>\n",
       "      <th>2</th>\n",
       "      <td>7.967787</td>\n",
       "    </tr>\n",
       "    <tr>\n",
       "      <th>3</th>\n",
       "      <td>8.050080</td>\n",
       "    </tr>\n",
       "    <tr>\n",
       "      <th>4-6</th>\n",
       "      <td>8.007741</td>\n",
       "    </tr>\n",
       "    <tr>\n",
       "      <th>7-12</th>\n",
       "      <td>7.922994</td>\n",
       "    </tr>\n",
       "    <tr>\n",
       "      <th rowspan=\"3\" valign=\"top\">old user</th>\n",
       "      <th>13-24</th>\n",
       "      <td>7.716531</td>\n",
       "    </tr>\n",
       "    <tr>\n",
       "      <th>25-36</th>\n",
       "      <td>7.514088</td>\n",
       "    </tr>\n",
       "    <tr>\n",
       "      <th>36+</th>\n",
       "      <td>7.309343</td>\n",
       "    </tr>\n",
       "  </tbody>\n",
       "</table>\n",
       "</div>"
      ],
      "text/plain": [
       "                           nps_score\n",
       "is_new   lifetime_segment           \n",
       "new user  1                 8.692308\n",
       "          13-24             7.990443\n",
       "          2                 7.967787\n",
       "          3                 8.050080\n",
       "          4-6               8.007741\n",
       "          7-12              7.922994\n",
       "old user  13-24             7.716531\n",
       "          25-36             7.514088\n",
       "          36+               7.309343"
      ]
     },
     "execution_count": 16,
     "metadata": {},
     "output_type": "execute_result"
    }
   ],
   "source": [
    "df.pivot_table(index=['is_new', 'lifetime_segment'], values='nps_score', aggfunc='mean')"
   ]
  },
  {
   "cell_type": "markdown",
   "id": "15927660",
   "metadata": {},
   "source": [
    "<div class=\"alert alert-info\"  style=\"border-radius: 15px; box-shadow: 4px 4px 4px; border: 1px solid \">\n",
    "    \n",
    "<h2>Комментарий студента v_1: <a class=\"tocSkip\"> </h2>\n",
    "Как видим, новые юзеры также оказались в сегменте 13-24. Что довольно странно. Но действительно, для части пользователей с днями \"жизни\" 360-365 дней в признаке \"lifetime_segment\" указано 13-24. Всего таких пользователей 1151  \n",
    "\n",
    "</div>"
   ]
  },
  {
   "cell_type": "code",
   "execution_count": 17,
   "id": "9c8ee5be",
   "metadata": {},
   "outputs": [
    {
     "data": {
      "text/html": [
       "<div>\n",
       "<style scoped>\n",
       "    .dataframe tbody tr th:only-of-type {\n",
       "        vertical-align: middle;\n",
       "    }\n",
       "\n",
       "    .dataframe tbody tr th {\n",
       "        vertical-align: top;\n",
       "    }\n",
       "\n",
       "    .dataframe thead th {\n",
       "        text-align: right;\n",
       "    }\n",
       "</style>\n",
       "<table border=\"1\" class=\"dataframe\">\n",
       "  <thead>\n",
       "    <tr style=\"text-align: right;\">\n",
       "      <th></th>\n",
       "      <th>user_id</th>\n",
       "      <th>lt_day</th>\n",
       "      <th>is_new</th>\n",
       "      <th>lifetime_segment</th>\n",
       "      <th>age</th>\n",
       "      <th>age_segment</th>\n",
       "      <th>gender_segment</th>\n",
       "      <th>os_name</th>\n",
       "      <th>cpe_type_name</th>\n",
       "      <th>country</th>\n",
       "      <th>city</th>\n",
       "      <th>nps_score</th>\n",
       "      <th>nps_group</th>\n",
       "      <th>traffic_segment</th>\n",
       "    </tr>\n",
       "  </thead>\n",
       "  <tbody>\n",
       "    <tr>\n",
       "      <th>226834</th>\n",
       "      <td>LR6CUR</td>\n",
       "      <td>10</td>\n",
       "      <td>new user</td>\n",
       "      <td>1</td>\n",
       "      <td>37.0</td>\n",
       "      <td>35-44</td>\n",
       "      <td>man</td>\n",
       "      <td>ANDROID</td>\n",
       "      <td>SMARTPHONE</td>\n",
       "      <td>Россия</td>\n",
       "      <td>НабережныеЧелны</td>\n",
       "      <td>5</td>\n",
       "      <td>detractor</td>\n",
       "      <td>5-10</td>\n",
       "    </tr>\n",
       "    <tr>\n",
       "      <th>61276</th>\n",
       "      <td>D5TACT</td>\n",
       "      <td>2</td>\n",
       "      <td>new user</td>\n",
       "      <td>1</td>\n",
       "      <td>42.0</td>\n",
       "      <td>35-44</td>\n",
       "      <td>woman</td>\n",
       "      <td>ANDROID</td>\n",
       "      <td>SMARTPHONE</td>\n",
       "      <td>Россия</td>\n",
       "      <td>Москва</td>\n",
       "      <td>3</td>\n",
       "      <td>detractor</td>\n",
       "      <td>0.1-1</td>\n",
       "    </tr>\n",
       "    <tr>\n",
       "      <th>374527</th>\n",
       "      <td>TFDG3K</td>\n",
       "      <td>16</td>\n",
       "      <td>new user</td>\n",
       "      <td>1</td>\n",
       "      <td>43.0</td>\n",
       "      <td>35-44</td>\n",
       "      <td>woman</td>\n",
       "      <td>ANDROID</td>\n",
       "      <td>SMARTPHONE</td>\n",
       "      <td>Россия</td>\n",
       "      <td>Москва</td>\n",
       "      <td>10</td>\n",
       "      <td>promoter</td>\n",
       "      <td>40-45</td>\n",
       "    </tr>\n",
       "    <tr>\n",
       "      <th>132279</th>\n",
       "      <td>GU5USS</td>\n",
       "      <td>28</td>\n",
       "      <td>new user</td>\n",
       "      <td>1</td>\n",
       "      <td>35.0</td>\n",
       "      <td>35-44</td>\n",
       "      <td>man</td>\n",
       "      <td>ANDROID</td>\n",
       "      <td>SMARTPHONE</td>\n",
       "      <td>Россия</td>\n",
       "      <td>Москва</td>\n",
       "      <td>10</td>\n",
       "      <td>promoter</td>\n",
       "      <td>5-10</td>\n",
       "    </tr>\n",
       "    <tr>\n",
       "      <th>27055</th>\n",
       "      <td>BEKL3Q</td>\n",
       "      <td>2</td>\n",
       "      <td>new user</td>\n",
       "      <td>1</td>\n",
       "      <td>41.0</td>\n",
       "      <td>35-44</td>\n",
       "      <td>man</td>\n",
       "      <td>ANDROID</td>\n",
       "      <td>SMARTPHONE</td>\n",
       "      <td>Россия</td>\n",
       "      <td>Томск</td>\n",
       "      <td>9</td>\n",
       "      <td>promoter</td>\n",
       "      <td>1-5</td>\n",
       "    </tr>\n",
       "    <tr>\n",
       "      <th>7763</th>\n",
       "      <td>AEHHWI</td>\n",
       "      <td>21</td>\n",
       "      <td>new user</td>\n",
       "      <td>1</td>\n",
       "      <td>27.0</td>\n",
       "      <td>25-34</td>\n",
       "      <td>man</td>\n",
       "      <td>ANDROID</td>\n",
       "      <td>SMARTPHONE</td>\n",
       "      <td>Россия</td>\n",
       "      <td>Москва</td>\n",
       "      <td>7</td>\n",
       "      <td>passive</td>\n",
       "      <td>5-10</td>\n",
       "    </tr>\n",
       "    <tr>\n",
       "      <th>471581</th>\n",
       "      <td>YGQKQF</td>\n",
       "      <td>2</td>\n",
       "      <td>new user</td>\n",
       "      <td>1</td>\n",
       "      <td>48.0</td>\n",
       "      <td>45-54</td>\n",
       "      <td>woman</td>\n",
       "      <td>ANDROID</td>\n",
       "      <td>SMARTPHONE</td>\n",
       "      <td>Россия</td>\n",
       "      <td>Хабаровск</td>\n",
       "      <td>10</td>\n",
       "      <td>promoter</td>\n",
       "      <td>1-5</td>\n",
       "    </tr>\n",
       "    <tr>\n",
       "      <th>63298</th>\n",
       "      <td>D9O91R</td>\n",
       "      <td>26</td>\n",
       "      <td>new user</td>\n",
       "      <td>1</td>\n",
       "      <td>37.0</td>\n",
       "      <td>35-44</td>\n",
       "      <td>woman</td>\n",
       "      <td>IOS</td>\n",
       "      <td>SMARTPHONE</td>\n",
       "      <td>Россия</td>\n",
       "      <td>Москва</td>\n",
       "      <td>9</td>\n",
       "      <td>promoter</td>\n",
       "      <td>5-10</td>\n",
       "    </tr>\n",
       "    <tr>\n",
       "      <th>293936</th>\n",
       "      <td>P8PJSL</td>\n",
       "      <td>20</td>\n",
       "      <td>new user</td>\n",
       "      <td>1</td>\n",
       "      <td>46.0</td>\n",
       "      <td>45-54</td>\n",
       "      <td>woman</td>\n",
       "      <td>ANDROID</td>\n",
       "      <td>SMARTPHONE</td>\n",
       "      <td>Россия</td>\n",
       "      <td>Москва</td>\n",
       "      <td>10</td>\n",
       "      <td>promoter</td>\n",
       "      <td>20-25</td>\n",
       "    </tr>\n",
       "    <tr>\n",
       "      <th>403491</th>\n",
       "      <td>UXSE32</td>\n",
       "      <td>3</td>\n",
       "      <td>new user</td>\n",
       "      <td>1</td>\n",
       "      <td>56.0</td>\n",
       "      <td>55-64</td>\n",
       "      <td>man</td>\n",
       "      <td>ANDROID</td>\n",
       "      <td>SMARTPHONE</td>\n",
       "      <td>Россия</td>\n",
       "      <td>Москва</td>\n",
       "      <td>10</td>\n",
       "      <td>promoter</td>\n",
       "      <td>0.1-1</td>\n",
       "    </tr>\n",
       "    <tr>\n",
       "      <th>47714</th>\n",
       "      <td>CGYVPA</td>\n",
       "      <td>30</td>\n",
       "      <td>new user</td>\n",
       "      <td>1</td>\n",
       "      <td>31.0</td>\n",
       "      <td>25-34</td>\n",
       "      <td>woman</td>\n",
       "      <td>ANDROID</td>\n",
       "      <td>SMARTPHONE</td>\n",
       "      <td>Россия</td>\n",
       "      <td>Москва</td>\n",
       "      <td>10</td>\n",
       "      <td>promoter</td>\n",
       "      <td>45-50</td>\n",
       "    </tr>\n",
       "    <tr>\n",
       "      <th>463967</th>\n",
       "      <td>Y2JQLA</td>\n",
       "      <td>2</td>\n",
       "      <td>new user</td>\n",
       "      <td>1</td>\n",
       "      <td>53.0</td>\n",
       "      <td>45-54</td>\n",
       "      <td>man</td>\n",
       "      <td>ANDROID</td>\n",
       "      <td>SMARTPHONE</td>\n",
       "      <td>Россия</td>\n",
       "      <td>Красноярск</td>\n",
       "      <td>10</td>\n",
       "      <td>promoter</td>\n",
       "      <td>1-5</td>\n",
       "    </tr>\n",
       "    <tr>\n",
       "      <th>150237</th>\n",
       "      <td>HRUMIF</td>\n",
       "      <td>24</td>\n",
       "      <td>new user</td>\n",
       "      <td>1</td>\n",
       "      <td>48.0</td>\n",
       "      <td>45-54</td>\n",
       "      <td>woman</td>\n",
       "      <td>ANDROID</td>\n",
       "      <td>SMARTPHONE</td>\n",
       "      <td>Россия</td>\n",
       "      <td>Москва</td>\n",
       "      <td>10</td>\n",
       "      <td>promoter</td>\n",
       "      <td>1-5</td>\n",
       "    </tr>\n",
       "    <tr>\n",
       "      <th>389183</th>\n",
       "      <td>U6X3VU</td>\n",
       "      <td>365</td>\n",
       "      <td>new user</td>\n",
       "      <td>13-24</td>\n",
       "      <td>26.0</td>\n",
       "      <td>25-34</td>\n",
       "      <td>woman</td>\n",
       "      <td>ANDROID</td>\n",
       "      <td>SMARTPHONE</td>\n",
       "      <td>Россия</td>\n",
       "      <td>Екатеринбург</td>\n",
       "      <td>10</td>\n",
       "      <td>promoter</td>\n",
       "      <td>30-35</td>\n",
       "    </tr>\n",
       "    <tr>\n",
       "      <th>371407</th>\n",
       "      <td>T9IELN</td>\n",
       "      <td>365</td>\n",
       "      <td>new user</td>\n",
       "      <td>13-24</td>\n",
       "      <td>34.0</td>\n",
       "      <td>25-34</td>\n",
       "      <td>man</td>\n",
       "      <td>ANDROID</td>\n",
       "      <td>SMARTPHONE</td>\n",
       "      <td>Россия</td>\n",
       "      <td>Екатеринбург</td>\n",
       "      <td>10</td>\n",
       "      <td>promoter</td>\n",
       "      <td>5-10</td>\n",
       "    </tr>\n",
       "    <tr>\n",
       "      <th>188537</th>\n",
       "      <td>JROQHL</td>\n",
       "      <td>361</td>\n",
       "      <td>new user</td>\n",
       "      <td>13-24</td>\n",
       "      <td>32.0</td>\n",
       "      <td>25-34</td>\n",
       "      <td>man</td>\n",
       "      <td>ANDROID</td>\n",
       "      <td>SMARTPHONE</td>\n",
       "      <td>Россия</td>\n",
       "      <td>Омск</td>\n",
       "      <td>10</td>\n",
       "      <td>promoter</td>\n",
       "      <td>1-5</td>\n",
       "    </tr>\n",
       "    <tr>\n",
       "      <th>251705</th>\n",
       "      <td>N1PJZY</td>\n",
       "      <td>361</td>\n",
       "      <td>new user</td>\n",
       "      <td>13-24</td>\n",
       "      <td>27.0</td>\n",
       "      <td>25-34</td>\n",
       "      <td>woman</td>\n",
       "      <td>IOS</td>\n",
       "      <td>SMARTPHONE</td>\n",
       "      <td>Россия</td>\n",
       "      <td>СанктПетербург</td>\n",
       "      <td>2</td>\n",
       "      <td>detractor</td>\n",
       "      <td>65-70</td>\n",
       "    </tr>\n",
       "    <tr>\n",
       "      <th>447541</th>\n",
       "      <td>X7YR1S</td>\n",
       "      <td>361</td>\n",
       "      <td>new user</td>\n",
       "      <td>13-24</td>\n",
       "      <td>36.0</td>\n",
       "      <td>35-44</td>\n",
       "      <td>man</td>\n",
       "      <td>ANDROID</td>\n",
       "      <td>TABLET</td>\n",
       "      <td>Россия</td>\n",
       "      <td>Уфа</td>\n",
       "      <td>5</td>\n",
       "      <td>detractor</td>\n",
       "      <td>5-10</td>\n",
       "    </tr>\n",
       "    <tr>\n",
       "      <th>371885</th>\n",
       "      <td>TAE57P</td>\n",
       "      <td>365</td>\n",
       "      <td>new user</td>\n",
       "      <td>13-24</td>\n",
       "      <td>36.0</td>\n",
       "      <td>35-44</td>\n",
       "      <td>man</td>\n",
       "      <td>IOS</td>\n",
       "      <td>SMARTPHONE</td>\n",
       "      <td>Россия</td>\n",
       "      <td>Чебоксары</td>\n",
       "      <td>10</td>\n",
       "      <td>promoter</td>\n",
       "      <td>100+</td>\n",
       "    </tr>\n",
       "    <tr>\n",
       "      <th>198843</th>\n",
       "      <td>KB04E8</td>\n",
       "      <td>365</td>\n",
       "      <td>new user</td>\n",
       "      <td>13-24</td>\n",
       "      <td>44.0</td>\n",
       "      <td>35-44</td>\n",
       "      <td>man</td>\n",
       "      <td>ANDROID</td>\n",
       "      <td>TABLET</td>\n",
       "      <td>Россия</td>\n",
       "      <td>Волгоград</td>\n",
       "      <td>10</td>\n",
       "      <td>promoter</td>\n",
       "      <td>15-20</td>\n",
       "    </tr>\n",
       "    <tr>\n",
       "      <th>91749</th>\n",
       "      <td>EQN0P3</td>\n",
       "      <td>362</td>\n",
       "      <td>new user</td>\n",
       "      <td>13-24</td>\n",
       "      <td>33.0</td>\n",
       "      <td>25-34</td>\n",
       "      <td>man</td>\n",
       "      <td>ANDROID</td>\n",
       "      <td>SMARTPHONE</td>\n",
       "      <td>Россия</td>\n",
       "      <td>Екатеринбург</td>\n",
       "      <td>8</td>\n",
       "      <td>passive</td>\n",
       "      <td>30-35</td>\n",
       "    </tr>\n",
       "    <tr>\n",
       "      <th>112778</th>\n",
       "      <td>FTT5UQ</td>\n",
       "      <td>361</td>\n",
       "      <td>new user</td>\n",
       "      <td>13-24</td>\n",
       "      <td>28.0</td>\n",
       "      <td>25-34</td>\n",
       "      <td>man</td>\n",
       "      <td>ANDROID</td>\n",
       "      <td>SMARTPHONE</td>\n",
       "      <td>Россия</td>\n",
       "      <td>Москва</td>\n",
       "      <td>10</td>\n",
       "      <td>promoter</td>\n",
       "      <td>10-15</td>\n",
       "    </tr>\n",
       "    <tr>\n",
       "      <th>126224</th>\n",
       "      <td>GIQEM3</td>\n",
       "      <td>362</td>\n",
       "      <td>new user</td>\n",
       "      <td>13-24</td>\n",
       "      <td>50.0</td>\n",
       "      <td>45-54</td>\n",
       "      <td>woman</td>\n",
       "      <td>ANDROID</td>\n",
       "      <td>SMARTPHONE</td>\n",
       "      <td>Россия</td>\n",
       "      <td>Уфа</td>\n",
       "      <td>10</td>\n",
       "      <td>promoter</td>\n",
       "      <td>5-10</td>\n",
       "    </tr>\n",
       "    <tr>\n",
       "      <th>371009</th>\n",
       "      <td>T8SLL4</td>\n",
       "      <td>364</td>\n",
       "      <td>new user</td>\n",
       "      <td>13-24</td>\n",
       "      <td>29.0</td>\n",
       "      <td>25-34</td>\n",
       "      <td>man</td>\n",
       "      <td>ANDROID</td>\n",
       "      <td>SMARTPHONE</td>\n",
       "      <td>Россия</td>\n",
       "      <td>Чита</td>\n",
       "      <td>10</td>\n",
       "      <td>promoter</td>\n",
       "      <td>15-20</td>\n",
       "    </tr>\n",
       "    <tr>\n",
       "      <th>7880</th>\n",
       "      <td>AEOMLQ</td>\n",
       "      <td>361</td>\n",
       "      <td>new user</td>\n",
       "      <td>13-24</td>\n",
       "      <td>44.0</td>\n",
       "      <td>35-44</td>\n",
       "      <td>man</td>\n",
       "      <td>ANDROID</td>\n",
       "      <td>SMARTPHONE</td>\n",
       "      <td>Россия</td>\n",
       "      <td>Москва</td>\n",
       "      <td>10</td>\n",
       "      <td>promoter</td>\n",
       "      <td>0.1-1</td>\n",
       "    </tr>\n",
       "    <tr>\n",
       "      <th>389745</th>\n",
       "      <td>U7ZRZY</td>\n",
       "      <td>364</td>\n",
       "      <td>new user</td>\n",
       "      <td>13-24</td>\n",
       "      <td>39.0</td>\n",
       "      <td>35-44</td>\n",
       "      <td>man</td>\n",
       "      <td>ANDROID</td>\n",
       "      <td>SMARTPHONE</td>\n",
       "      <td>Россия</td>\n",
       "      <td>Москва</td>\n",
       "      <td>9</td>\n",
       "      <td>promoter</td>\n",
       "      <td>90-95</td>\n",
       "    </tr>\n",
       "    <tr>\n",
       "      <th>425384</th>\n",
       "      <td>W2AV1S</td>\n",
       "      <td>361</td>\n",
       "      <td>new user</td>\n",
       "      <td>13-24</td>\n",
       "      <td>47.0</td>\n",
       "      <td>45-54</td>\n",
       "      <td>man</td>\n",
       "      <td>IOS</td>\n",
       "      <td>SMARTPHONE</td>\n",
       "      <td>Россия</td>\n",
       "      <td>СанктПетербург</td>\n",
       "      <td>8</td>\n",
       "      <td>passive</td>\n",
       "      <td>5-10</td>\n",
       "    </tr>\n",
       "    <tr>\n",
       "      <th>370869</th>\n",
       "      <td>T8JJE9</td>\n",
       "      <td>365</td>\n",
       "      <td>new user</td>\n",
       "      <td>13-24</td>\n",
       "      <td>31.0</td>\n",
       "      <td>25-34</td>\n",
       "      <td>woman</td>\n",
       "      <td>ANDROID</td>\n",
       "      <td>SMARTPHONE</td>\n",
       "      <td>Россия</td>\n",
       "      <td>Красноярск</td>\n",
       "      <td>1</td>\n",
       "      <td>detractor</td>\n",
       "      <td>10-15</td>\n",
       "    </tr>\n",
       "    <tr>\n",
       "      <th>322814</th>\n",
       "      <td>QQXG6O</td>\n",
       "      <td>363</td>\n",
       "      <td>new user</td>\n",
       "      <td>13-24</td>\n",
       "      <td>39.0</td>\n",
       "      <td>35-44</td>\n",
       "      <td>woman</td>\n",
       "      <td>ANDROID</td>\n",
       "      <td>SMARTPHONE</td>\n",
       "      <td>Россия</td>\n",
       "      <td>Сургут</td>\n",
       "      <td>2</td>\n",
       "      <td>detractor</td>\n",
       "      <td>1-5</td>\n",
       "    </tr>\n",
       "    <tr>\n",
       "      <th>126263</th>\n",
       "      <td>GISMAO</td>\n",
       "      <td>363</td>\n",
       "      <td>new user</td>\n",
       "      <td>13-24</td>\n",
       "      <td>31.0</td>\n",
       "      <td>25-34</td>\n",
       "      <td>woman</td>\n",
       "      <td>ANDROID</td>\n",
       "      <td>SMARTPHONE</td>\n",
       "      <td>Россия</td>\n",
       "      <td>Белгород</td>\n",
       "      <td>10</td>\n",
       "      <td>promoter</td>\n",
       "      <td>40-45</td>\n",
       "    </tr>\n",
       "    <tr>\n",
       "      <th>140370</th>\n",
       "      <td>H98EGY</td>\n",
       "      <td>365</td>\n",
       "      <td>new user</td>\n",
       "      <td>13-24</td>\n",
       "      <td>38.0</td>\n",
       "      <td>35-44</td>\n",
       "      <td>man</td>\n",
       "      <td>ANDROID</td>\n",
       "      <td>SMARTPHONE</td>\n",
       "      <td>Россия</td>\n",
       "      <td>НижнийНовгород</td>\n",
       "      <td>10</td>\n",
       "      <td>promoter</td>\n",
       "      <td>15-20</td>\n",
       "    </tr>\n",
       "    <tr>\n",
       "      <th>125697</th>\n",
       "      <td>GHQ700</td>\n",
       "      <td>365</td>\n",
       "      <td>new user</td>\n",
       "      <td>13-24</td>\n",
       "      <td>55.0</td>\n",
       "      <td>55-64</td>\n",
       "      <td>woman</td>\n",
       "      <td>ANDROID</td>\n",
       "      <td>SMARTPHONE</td>\n",
       "      <td>Россия</td>\n",
       "      <td>СанктПетербург</td>\n",
       "      <td>10</td>\n",
       "      <td>promoter</td>\n",
       "      <td>1-5</td>\n",
       "    </tr>\n",
       "    <tr>\n",
       "      <th>447628</th>\n",
       "      <td>X83R7A</td>\n",
       "      <td>363</td>\n",
       "      <td>new user</td>\n",
       "      <td>13-24</td>\n",
       "      <td>24.0</td>\n",
       "      <td>16-24</td>\n",
       "      <td>woman</td>\n",
       "      <td>ANDROID</td>\n",
       "      <td>TABLET</td>\n",
       "      <td>Россия</td>\n",
       "      <td>Краснодар</td>\n",
       "      <td>10</td>\n",
       "      <td>promoter</td>\n",
       "      <td>60-65</td>\n",
       "    </tr>\n",
       "    <tr>\n",
       "      <th>188578</th>\n",
       "      <td>JRRRIE</td>\n",
       "      <td>363</td>\n",
       "      <td>new user</td>\n",
       "      <td>13-24</td>\n",
       "      <td>33.0</td>\n",
       "      <td>25-34</td>\n",
       "      <td>man</td>\n",
       "      <td>ANDROID</td>\n",
       "      <td>SMARTPHONE</td>\n",
       "      <td>Россия</td>\n",
       "      <td>Москва</td>\n",
       "      <td>10</td>\n",
       "      <td>promoter</td>\n",
       "      <td>15-20</td>\n",
       "    </tr>\n",
       "    <tr>\n",
       "      <th>341442</th>\n",
       "      <td>RPT2XO</td>\n",
       "      <td>364</td>\n",
       "      <td>new user</td>\n",
       "      <td>13-24</td>\n",
       "      <td>24.0</td>\n",
       "      <td>16-24</td>\n",
       "      <td>man</td>\n",
       "      <td>ANDROID</td>\n",
       "      <td>SMARTPHONE</td>\n",
       "      <td>Россия</td>\n",
       "      <td>Хабаровск</td>\n",
       "      <td>10</td>\n",
       "      <td>promoter</td>\n",
       "      <td>35-40</td>\n",
       "    </tr>\n",
       "    <tr>\n",
       "      <th>113059</th>\n",
       "      <td>FUDTL7</td>\n",
       "      <td>364</td>\n",
       "      <td>new user</td>\n",
       "      <td>13-24</td>\n",
       "      <td>30.0</td>\n",
       "      <td>25-34</td>\n",
       "      <td>woman</td>\n",
       "      <td>ANDROID</td>\n",
       "      <td>SMARTPHONE</td>\n",
       "      <td>Россия</td>\n",
       "      <td>Москва</td>\n",
       "      <td>10</td>\n",
       "      <td>promoter</td>\n",
       "      <td>10-15</td>\n",
       "    </tr>\n",
       "    <tr>\n",
       "      <th>221345</th>\n",
       "      <td>LGUA2I</td>\n",
       "      <td>362</td>\n",
       "      <td>new user</td>\n",
       "      <td>13-24</td>\n",
       "      <td>38.0</td>\n",
       "      <td>35-44</td>\n",
       "      <td>man</td>\n",
       "      <td>ANDROID</td>\n",
       "      <td>SMARTPHONE</td>\n",
       "      <td>Россия</td>\n",
       "      <td>Самара</td>\n",
       "      <td>7</td>\n",
       "      <td>passive</td>\n",
       "      <td>10-15</td>\n",
       "    </tr>\n",
       "    <tr>\n",
       "      <th>424673</th>\n",
       "      <td>W0ZXIT</td>\n",
       "      <td>362</td>\n",
       "      <td>new user</td>\n",
       "      <td>13-24</td>\n",
       "      <td>26.0</td>\n",
       "      <td>25-34</td>\n",
       "      <td>woman</td>\n",
       "      <td>ANDROID</td>\n",
       "      <td>SMARTPHONE</td>\n",
       "      <td>Россия</td>\n",
       "      <td>Курск</td>\n",
       "      <td>9</td>\n",
       "      <td>promoter</td>\n",
       "      <td>15-20</td>\n",
       "    </tr>\n",
       "    <tr>\n",
       "      <th>389255</th>\n",
       "      <td>U71UM3</td>\n",
       "      <td>364</td>\n",
       "      <td>new user</td>\n",
       "      <td>13-24</td>\n",
       "      <td>42.0</td>\n",
       "      <td>35-44</td>\n",
       "      <td>woman</td>\n",
       "      <td>ANDROID</td>\n",
       "      <td>SMARTPHONE</td>\n",
       "      <td>Россия</td>\n",
       "      <td>Ярославль</td>\n",
       "      <td>10</td>\n",
       "      <td>promoter</td>\n",
       "      <td>1-5</td>\n",
       "    </tr>\n",
       "    <tr>\n",
       "      <th>286594</th>\n",
       "      <td>OV833K</td>\n",
       "      <td>364</td>\n",
       "      <td>new user</td>\n",
       "      <td>13-24</td>\n",
       "      <td>32.0</td>\n",
       "      <td>25-34</td>\n",
       "      <td>woman</td>\n",
       "      <td>PROPRIETARY</td>\n",
       "      <td>PHONE</td>\n",
       "      <td>Россия</td>\n",
       "      <td>Пермь</td>\n",
       "      <td>5</td>\n",
       "      <td>detractor</td>\n",
       "      <td>1-5</td>\n",
       "    </tr>\n",
       "    <tr>\n",
       "      <th>263591</th>\n",
       "      <td>NO33K7</td>\n",
       "      <td>362</td>\n",
       "      <td>new user</td>\n",
       "      <td>13-24</td>\n",
       "      <td>29.0</td>\n",
       "      <td>25-34</td>\n",
       "      <td>woman</td>\n",
       "      <td>ANDROID</td>\n",
       "      <td>SMARTPHONE</td>\n",
       "      <td>Россия</td>\n",
       "      <td>Калуга</td>\n",
       "      <td>6</td>\n",
       "      <td>detractor</td>\n",
       "      <td>1-5</td>\n",
       "    </tr>\n",
       "    <tr>\n",
       "      <th>53901</th>\n",
       "      <td>CS42AV</td>\n",
       "      <td>364</td>\n",
       "      <td>new user</td>\n",
       "      <td>13-24</td>\n",
       "      <td>36.0</td>\n",
       "      <td>35-44</td>\n",
       "      <td>man</td>\n",
       "      <td>ANDROID</td>\n",
       "      <td>SMARTPHONE</td>\n",
       "      <td>Россия</td>\n",
       "      <td>Краснодар</td>\n",
       "      <td>10</td>\n",
       "      <td>promoter</td>\n",
       "      <td>15-20</td>\n",
       "    </tr>\n",
       "    <tr>\n",
       "      <th>341248</th>\n",
       "      <td>RPFMUJ</td>\n",
       "      <td>362</td>\n",
       "      <td>new user</td>\n",
       "      <td>13-24</td>\n",
       "      <td>51.0</td>\n",
       "      <td>45-54</td>\n",
       "      <td>woman</td>\n",
       "      <td>ANDROID</td>\n",
       "      <td>SMARTPHONE</td>\n",
       "      <td>Россия</td>\n",
       "      <td>НижнийНовгород</td>\n",
       "      <td>1</td>\n",
       "      <td>detractor</td>\n",
       "      <td>1-5</td>\n",
       "    </tr>\n",
       "    <tr>\n",
       "      <th>389403</th>\n",
       "      <td>U7BVSQ</td>\n",
       "      <td>364</td>\n",
       "      <td>new user</td>\n",
       "      <td>13-24</td>\n",
       "      <td>29.0</td>\n",
       "      <td>25-34</td>\n",
       "      <td>woman</td>\n",
       "      <td>ANDROID</td>\n",
       "      <td>SMARTPHONE</td>\n",
       "      <td>Россия</td>\n",
       "      <td>СанктПетербург</td>\n",
       "      <td>10</td>\n",
       "      <td>promoter</td>\n",
       "      <td>10-15</td>\n",
       "    </tr>\n",
       "    <tr>\n",
       "      <th>29208</th>\n",
       "      <td>BIL8GC</td>\n",
       "      <td>362</td>\n",
       "      <td>new user</td>\n",
       "      <td>13-24</td>\n",
       "      <td>30.0</td>\n",
       "      <td>25-34</td>\n",
       "      <td>man</td>\n",
       "      <td>IOS</td>\n",
       "      <td>SMARTPHONE</td>\n",
       "      <td>Россия</td>\n",
       "      <td>Пермь</td>\n",
       "      <td>7</td>\n",
       "      <td>passive</td>\n",
       "      <td>5-10</td>\n",
       "    </tr>\n",
       "    <tr>\n",
       "      <th>8248</th>\n",
       "      <td>AFD8V7</td>\n",
       "      <td>363</td>\n",
       "      <td>new user</td>\n",
       "      <td>13-24</td>\n",
       "      <td>37.0</td>\n",
       "      <td>35-44</td>\n",
       "      <td>woman</td>\n",
       "      <td>ANDROID</td>\n",
       "      <td>SMARTPHONE</td>\n",
       "      <td>Россия</td>\n",
       "      <td>Иваново</td>\n",
       "      <td>10</td>\n",
       "      <td>promoter</td>\n",
       "      <td>35-40</td>\n",
       "    </tr>\n",
       "    <tr>\n",
       "      <th>8036</th>\n",
       "      <td>AEYRW6</td>\n",
       "      <td>362</td>\n",
       "      <td>new user</td>\n",
       "      <td>13-24</td>\n",
       "      <td>37.0</td>\n",
       "      <td>35-44</td>\n",
       "      <td>man</td>\n",
       "      <td>ANDROID</td>\n",
       "      <td>SMARTPHONE</td>\n",
       "      <td>Россия</td>\n",
       "      <td>Краснодар</td>\n",
       "      <td>10</td>\n",
       "      <td>promoter</td>\n",
       "      <td>5-10</td>\n",
       "    </tr>\n",
       "    <tr>\n",
       "      <th>447955</th>\n",
       "      <td>X8Q5DA</td>\n",
       "      <td>365</td>\n",
       "      <td>new user</td>\n",
       "      <td>13-24</td>\n",
       "      <td>31.0</td>\n",
       "      <td>25-34</td>\n",
       "      <td>man</td>\n",
       "      <td>ANDROID</td>\n",
       "      <td>SMARTPHONE</td>\n",
       "      <td>Россия</td>\n",
       "      <td>НижнийНовгород</td>\n",
       "      <td>10</td>\n",
       "      <td>promoter</td>\n",
       "      <td>40-45</td>\n",
       "    </tr>\n",
       "    <tr>\n",
       "      <th>424558</th>\n",
       "      <td>W0SM8E</td>\n",
       "      <td>363</td>\n",
       "      <td>new user</td>\n",
       "      <td>13-24</td>\n",
       "      <td>38.0</td>\n",
       "      <td>35-44</td>\n",
       "      <td>woman</td>\n",
       "      <td>ANDROID</td>\n",
       "      <td>MOBILE PHONE/FEATURE PHONE</td>\n",
       "      <td>Россия</td>\n",
       "      <td>Самара</td>\n",
       "      <td>1</td>\n",
       "      <td>detractor</td>\n",
       "      <td>5-10</td>\n",
       "    </tr>\n",
       "    <tr>\n",
       "      <th>151423</th>\n",
       "      <td>HU137K</td>\n",
       "      <td>361</td>\n",
       "      <td>new user</td>\n",
       "      <td>13-24</td>\n",
       "      <td>39.0</td>\n",
       "      <td>35-44</td>\n",
       "      <td>woman</td>\n",
       "      <td>ANDROID</td>\n",
       "      <td>SMARTPHONE</td>\n",
       "      <td>Россия</td>\n",
       "      <td>Иваново</td>\n",
       "      <td>9</td>\n",
       "      <td>promoter</td>\n",
       "      <td>5-10</td>\n",
       "    </tr>\n",
       "  </tbody>\n",
       "</table>\n",
       "</div>"
      ],
      "text/plain": [
       "       user_id  lt_day    is_new lifetime_segment   age age_segment  \\\n",
       "226834  LR6CUR      10  new user                1  37.0       35-44   \n",
       "61276   D5TACT       2  new user                1  42.0       35-44   \n",
       "374527  TFDG3K      16  new user                1  43.0       35-44   \n",
       "132279  GU5USS      28  new user                1  35.0       35-44   \n",
       "27055   BEKL3Q       2  new user                1  41.0       35-44   \n",
       "7763    AEHHWI      21  new user                1  27.0       25-34   \n",
       "471581  YGQKQF       2  new user                1  48.0       45-54   \n",
       "63298   D9O91R      26  new user                1  37.0       35-44   \n",
       "293936  P8PJSL      20  new user                1  46.0       45-54   \n",
       "403491  UXSE32       3  new user                1  56.0       55-64   \n",
       "47714   CGYVPA      30  new user                1  31.0       25-34   \n",
       "463967  Y2JQLA       2  new user                1  53.0       45-54   \n",
       "150237  HRUMIF      24  new user                1  48.0       45-54   \n",
       "389183  U6X3VU     365  new user            13-24  26.0       25-34   \n",
       "371407  T9IELN     365  new user            13-24  34.0       25-34   \n",
       "188537  JROQHL     361  new user            13-24  32.0       25-34   \n",
       "251705  N1PJZY     361  new user            13-24  27.0       25-34   \n",
       "447541  X7YR1S     361  new user            13-24  36.0       35-44   \n",
       "371885  TAE57P     365  new user            13-24  36.0       35-44   \n",
       "198843  KB04E8     365  new user            13-24  44.0       35-44   \n",
       "91749   EQN0P3     362  new user            13-24  33.0       25-34   \n",
       "112778  FTT5UQ     361  new user            13-24  28.0       25-34   \n",
       "126224  GIQEM3     362  new user            13-24  50.0       45-54   \n",
       "371009  T8SLL4     364  new user            13-24  29.0       25-34   \n",
       "7880    AEOMLQ     361  new user            13-24  44.0       35-44   \n",
       "389745  U7ZRZY     364  new user            13-24  39.0       35-44   \n",
       "425384  W2AV1S     361  new user            13-24  47.0       45-54   \n",
       "370869  T8JJE9     365  new user            13-24  31.0       25-34   \n",
       "322814  QQXG6O     363  new user            13-24  39.0       35-44   \n",
       "126263  GISMAO     363  new user            13-24  31.0       25-34   \n",
       "140370  H98EGY     365  new user            13-24  38.0       35-44   \n",
       "125697  GHQ700     365  new user            13-24  55.0       55-64   \n",
       "447628  X83R7A     363  new user            13-24  24.0       16-24   \n",
       "188578  JRRRIE     363  new user            13-24  33.0       25-34   \n",
       "341442  RPT2XO     364  new user            13-24  24.0       16-24   \n",
       "113059  FUDTL7     364  new user            13-24  30.0       25-34   \n",
       "221345  LGUA2I     362  new user            13-24  38.0       35-44   \n",
       "424673  W0ZXIT     362  new user            13-24  26.0       25-34   \n",
       "389255  U71UM3     364  new user            13-24  42.0       35-44   \n",
       "286594  OV833K     364  new user            13-24  32.0       25-34   \n",
       "263591  NO33K7     362  new user            13-24  29.0       25-34   \n",
       "53901   CS42AV     364  new user            13-24  36.0       35-44   \n",
       "341248  RPFMUJ     362  new user            13-24  51.0       45-54   \n",
       "389403  U7BVSQ     364  new user            13-24  29.0       25-34   \n",
       "29208   BIL8GC     362  new user            13-24  30.0       25-34   \n",
       "8248    AFD8V7     363  new user            13-24  37.0       35-44   \n",
       "8036    AEYRW6     362  new user            13-24  37.0       35-44   \n",
       "447955  X8Q5DA     365  new user            13-24  31.0       25-34   \n",
       "424558  W0SM8E     363  new user            13-24  38.0       35-44   \n",
       "151423  HU137K     361  new user            13-24  39.0       35-44   \n",
       "\n",
       "       gender_segment      os_name               cpe_type_name country  \\\n",
       "226834            man      ANDROID                  SMARTPHONE  Россия   \n",
       "61276           woman      ANDROID                  SMARTPHONE  Россия   \n",
       "374527          woman      ANDROID                  SMARTPHONE  Россия   \n",
       "132279            man      ANDROID                  SMARTPHONE  Россия   \n",
       "27055             man      ANDROID                  SMARTPHONE  Россия   \n",
       "7763              man      ANDROID                  SMARTPHONE  Россия   \n",
       "471581          woman      ANDROID                  SMARTPHONE  Россия   \n",
       "63298           woman          IOS                  SMARTPHONE  Россия   \n",
       "293936          woman      ANDROID                  SMARTPHONE  Россия   \n",
       "403491            man      ANDROID                  SMARTPHONE  Россия   \n",
       "47714           woman      ANDROID                  SMARTPHONE  Россия   \n",
       "463967            man      ANDROID                  SMARTPHONE  Россия   \n",
       "150237          woman      ANDROID                  SMARTPHONE  Россия   \n",
       "389183          woman      ANDROID                  SMARTPHONE  Россия   \n",
       "371407            man      ANDROID                  SMARTPHONE  Россия   \n",
       "188537            man      ANDROID                  SMARTPHONE  Россия   \n",
       "251705          woman          IOS                  SMARTPHONE  Россия   \n",
       "447541            man      ANDROID                      TABLET  Россия   \n",
       "371885            man          IOS                  SMARTPHONE  Россия   \n",
       "198843            man      ANDROID                      TABLET  Россия   \n",
       "91749             man      ANDROID                  SMARTPHONE  Россия   \n",
       "112778            man      ANDROID                  SMARTPHONE  Россия   \n",
       "126224          woman      ANDROID                  SMARTPHONE  Россия   \n",
       "371009            man      ANDROID                  SMARTPHONE  Россия   \n",
       "7880              man      ANDROID                  SMARTPHONE  Россия   \n",
       "389745            man      ANDROID                  SMARTPHONE  Россия   \n",
       "425384            man          IOS                  SMARTPHONE  Россия   \n",
       "370869          woman      ANDROID                  SMARTPHONE  Россия   \n",
       "322814          woman      ANDROID                  SMARTPHONE  Россия   \n",
       "126263          woman      ANDROID                  SMARTPHONE  Россия   \n",
       "140370            man      ANDROID                  SMARTPHONE  Россия   \n",
       "125697          woman      ANDROID                  SMARTPHONE  Россия   \n",
       "447628          woman      ANDROID                      TABLET  Россия   \n",
       "188578            man      ANDROID                  SMARTPHONE  Россия   \n",
       "341442            man      ANDROID                  SMARTPHONE  Россия   \n",
       "113059          woman      ANDROID                  SMARTPHONE  Россия   \n",
       "221345            man      ANDROID                  SMARTPHONE  Россия   \n",
       "424673          woman      ANDROID                  SMARTPHONE  Россия   \n",
       "389255          woman      ANDROID                  SMARTPHONE  Россия   \n",
       "286594          woman  PROPRIETARY                       PHONE  Россия   \n",
       "263591          woman      ANDROID                  SMARTPHONE  Россия   \n",
       "53901             man      ANDROID                  SMARTPHONE  Россия   \n",
       "341248          woman      ANDROID                  SMARTPHONE  Россия   \n",
       "389403          woman      ANDROID                  SMARTPHONE  Россия   \n",
       "29208             man          IOS                  SMARTPHONE  Россия   \n",
       "8248            woman      ANDROID                  SMARTPHONE  Россия   \n",
       "8036              man      ANDROID                  SMARTPHONE  Россия   \n",
       "447955            man      ANDROID                  SMARTPHONE  Россия   \n",
       "424558          woman      ANDROID  MOBILE PHONE/FEATURE PHONE  Россия   \n",
       "151423          woman      ANDROID                  SMARTPHONE  Россия   \n",
       "\n",
       "                   city  nps_score  nps_group traffic_segment  \n",
       "226834  НабережныеЧелны          5  detractor            5-10  \n",
       "61276            Москва          3  detractor           0.1-1  \n",
       "374527           Москва         10   promoter           40-45  \n",
       "132279           Москва         10   promoter            5-10  \n",
       "27055             Томск          9   promoter             1-5  \n",
       "7763             Москва          7    passive            5-10  \n",
       "471581        Хабаровск         10   promoter             1-5  \n",
       "63298            Москва          9   promoter            5-10  \n",
       "293936           Москва         10   promoter           20-25  \n",
       "403491           Москва         10   promoter           0.1-1  \n",
       "47714            Москва         10   promoter           45-50  \n",
       "463967       Красноярск         10   promoter             1-5  \n",
       "150237           Москва         10   promoter             1-5  \n",
       "389183     Екатеринбург         10   promoter           30-35  \n",
       "371407     Екатеринбург         10   promoter            5-10  \n",
       "188537             Омск         10   promoter             1-5  \n",
       "251705   СанктПетербург          2  detractor           65-70  \n",
       "447541              Уфа          5  detractor            5-10  \n",
       "371885        Чебоксары         10   promoter            100+  \n",
       "198843        Волгоград         10   promoter           15-20  \n",
       "91749      Екатеринбург          8    passive           30-35  \n",
       "112778           Москва         10   promoter           10-15  \n",
       "126224              Уфа         10   promoter            5-10  \n",
       "371009             Чита         10   promoter           15-20  \n",
       "7880             Москва         10   promoter           0.1-1  \n",
       "389745           Москва          9   promoter           90-95  \n",
       "425384   СанктПетербург          8    passive            5-10  \n",
       "370869       Красноярск          1  detractor           10-15  \n",
       "322814           Сургут          2  detractor             1-5  \n",
       "126263         Белгород         10   promoter           40-45  \n",
       "140370   НижнийНовгород         10   promoter           15-20  \n",
       "125697   СанктПетербург         10   promoter             1-5  \n",
       "447628        Краснодар         10   promoter           60-65  \n",
       "188578           Москва         10   promoter           15-20  \n",
       "341442        Хабаровск         10   promoter           35-40  \n",
       "113059           Москва         10   promoter           10-15  \n",
       "221345           Самара          7    passive           10-15  \n",
       "424673            Курск          9   promoter           15-20  \n",
       "389255        Ярославль         10   promoter             1-5  \n",
       "286594            Пермь          5  detractor             1-5  \n",
       "263591           Калуга          6  detractor             1-5  \n",
       "53901         Краснодар         10   promoter           15-20  \n",
       "341248   НижнийНовгород          1  detractor             1-5  \n",
       "389403   СанктПетербург         10   promoter           10-15  \n",
       "29208             Пермь          7    passive            5-10  \n",
       "8248            Иваново         10   promoter           35-40  \n",
       "8036          Краснодар         10   promoter            5-10  \n",
       "447955   НижнийНовгород         10   promoter           40-45  \n",
       "424558           Самара          1  detractor            5-10  \n",
       "151423          Иваново          9   promoter            5-10  "
      ]
     },
     "execution_count": 17,
     "metadata": {},
     "output_type": "execute_result"
    }
   ],
   "source": [
    "df_test = df.query('is_new == \"new user\"').sort_values(by='lifetime_segment')\n",
    "#df_test = df_test.query('lifetime_segment == \"13-24\"')\n",
    "df_test.head(50)"
   ]
  },
  {
   "cell_type": "code",
   "execution_count": 18,
   "id": "357de5eb",
   "metadata": {},
   "outputs": [
    {
     "data": {
      "text/plain": [
       "array([[<AxesSubplot:title={'center':'lt_day'}>,\n",
       "        <AxesSubplot:title={'center':'age'}>],\n",
       "       [<AxesSubplot:title={'center':'nps_score'}>, <AxesSubplot:>]],\n",
       "      dtype=object)"
      ]
     },
     "execution_count": 18,
     "metadata": {},
     "output_type": "execute_result"
    },
    {
     "data": {
      "image/png": "[encoded data removed]",
      "text/plain": [
       "<Figure size 432x288 with 4 Axes>"
      ]
     },
     "metadata": {
      "needs_background": "light"
     },
     "output_type": "display_data"
    }
   ],
   "source": [
    "#общие кол-ые статистики\n",
    "df.hist()"
   ]
  },
  {
   "cell_type": "code",
   "execution_count": 19,
   "id": "b4e7b456",
   "metadata": {},
   "outputs": [],
   "source": [
    "#сохраняем датафрейм в csv\n",
    "df.to_csv('telecomm_csi_db_tableau.csv', index=False)"
   ]
  },
  {
   "cell_type": "code",
   "execution_count": 20,
   "id": "5f60a14b",
   "metadata": {},
   "outputs": [],
   "source": [
    "#для локального использования\n",
    "#df.to_csv('C:/Users/Asus/Яндекс_практикум/telecomm_csi_db_tableau.csv', index=False)"
   ]
  },
  {
   "cell_type": "markdown",
   "id": "3e9850de",
   "metadata": {},
   "source": [
    "Выгруженный файл корректный и соответствует датафрейму. Для проверки: в MS Escel из файла csv импортировалось ровно 501152 строк без пустых значений и ошибок."
   ]
  },
  {
   "cell_type": "markdown",
   "id": "81891cf0",
   "metadata": {},
   "source": [
    "## Дашборд:\n",
    "Дашборд по [ссылке](https://public.tableau.com/app/profile/boris.shch/viz/Telecommdashboard/_1)\n",
    "\n",
    "*Комментарий 1. Дашборд создавался в десктопной версии Tableau. При просмотре в веб версии 3 визуализации \"распределение по \" отображаются некорректно в окне просмотра из-за несовпадения автоопределения размеров области построения дашборда / рабочей области и браузера. Рекомендуется переключить режим просмотра \"на полный экран\"/\"Full Screen\"*\n",
    "\n",
    "*Комментарий 2. Элементы визуализаций также являются фильтрами для остальных визуализаций и графиков, поэтому общие фильтры несут по больщому счёту вспомогательную функцию*"
   ]
  },
  {
   "cell_type": "markdown",
   "id": "6f113b80",
   "metadata": {},
   "source": [
    "## Презентация:\n",
    "Презентация по [ссылке](https://disk.yandex.ru/d/4bc6ACvU6Zth4Q)"
   ]
  },
  {
   "cell_type": "code",
   "execution_count": null,
   "id": "fcfcfb74",
   "metadata": {},
   "outputs": [],
   "source": []
  }
 ],
 "metadata": {
  "ExecuteTimeLog": [
   {
    "duration": 752,
    "start_time": "2021-10-03T17:40:52.731Z"
   },
   {
    "duration": 20,
    "start_time": "2021-10-03T17:40:53.486Z"
   },
   {
    "duration": 4,
    "start_time": "2021-10-03T17:41:04.638Z"
   },
   {
    "duration": 461,
    "start_time": "2021-10-03T17:41:04.912Z"
   },
   {
    "duration": 284,
    "start_time": "2021-10-03T17:41:05.376Z"
   },
   {
    "duration": 574,
    "start_time": "2021-10-06T07:55:05.029Z"
   },
   {
    "duration": 6,
    "start_time": "2021-10-06T07:55:05.605Z"
   },
   {
    "duration": 3,
    "start_time": "2021-10-06T07:55:14.685Z"
   },
   {
    "duration": 406,
    "start_time": "2021-10-06T07:55:15.522Z"
   },
   {
    "duration": 67,
    "start_time": "2021-10-06T07:55:15.929Z"
   },
   {
    "duration": 840,
    "start_time": "2021-10-07T07:54:04.647Z"
   },
   {
    "duration": 10,
    "start_time": "2021-10-07T07:54:05.490Z"
   },
   {
    "duration": 4,
    "start_time": "2021-10-07T07:54:05.544Z"
   },
   {
    "duration": 391,
    "start_time": "2021-10-07T07:54:06.237Z"
   },
   {
    "duration": 293,
    "start_time": "2021-10-07T07:54:06.654Z"
   },
   {
    "duration": 66,
    "start_time": "2023-01-04T16:26:56.848Z"
   },
   {
    "duration": 574,
    "start_time": "2023-01-04T16:27:05.929Z"
   },
   {
    "duration": 18,
    "start_time": "2023-01-04T16:27:09.666Z"
   },
   {
    "duration": 74,
    "start_time": "2023-01-04T16:27:46.089Z"
   },
   {
    "duration": 84,
    "start_time": "2023-01-04T16:27:51.785Z"
   },
   {
    "duration": 3,
    "start_time": "2023-01-04T16:28:08.975Z"
   },
   {
    "duration": 4205,
    "start_time": "2023-01-04T16:28:11.073Z"
   },
   {
    "duration": 3603,
    "start_time": "2023-01-04T16:32:24.437Z"
   },
   {
    "duration": 8,
    "start_time": "2023-01-04T16:33:03.951Z"
   },
   {
    "duration": 615,
    "start_time": "2023-01-04T16:33:06.731Z"
   },
   {
    "duration": 34,
    "start_time": "2023-01-04T16:38:21.167Z"
   },
   {
    "duration": 3,
    "start_time": "2023-01-04T16:38:25.168Z"
   },
   {
    "duration": 642,
    "start_time": "2023-01-04T16:38:30.868Z"
   },
   {
    "duration": 675,
    "start_time": "2023-01-04T16:38:34.436Z"
   },
   {
    "duration": 638,
    "start_time": "2023-01-04T16:38:38.066Z"
   },
   {
    "duration": 140,
    "start_time": "2023-01-04T16:41:25.130Z"
   },
   {
    "duration": 8,
    "start_time": "2023-01-04T16:43:20.330Z"
   },
   {
    "duration": 8,
    "start_time": "2023-01-04T16:43:25.767Z"
   },
   {
    "duration": 8,
    "start_time": "2023-01-04T16:44:01.724Z"
   },
   {
    "duration": 8,
    "start_time": "2023-01-04T16:44:29.565Z"
   },
   {
    "duration": 9,
    "start_time": "2023-01-04T16:44:54.097Z"
   },
   {
    "duration": 3797,
    "start_time": "2023-01-04T16:58:32.259Z"
   },
   {
    "duration": 3731,
    "start_time": "2023-01-04T16:58:54.233Z"
   },
   {
    "duration": 50,
    "start_time": "2023-01-04T19:43:04.723Z"
   },
   {
    "duration": 7,
    "start_time": "2023-01-04T19:43:14.177Z"
   },
   {
    "duration": 576,
    "start_time": "2023-01-04T19:44:00.948Z"
   },
   {
    "duration": 11,
    "start_time": "2023-01-04T19:44:03.761Z"
   },
   {
    "duration": 3,
    "start_time": "2023-01-04T19:44:06.889Z"
   },
   {
    "duration": 5054,
    "start_time": "2023-01-04T19:44:10.282Z"
   },
   {
    "duration": 531,
    "start_time": "2023-01-04T19:44:17.920Z"
   },
   {
    "duration": 540,
    "start_time": "2023-01-04T19:44:21.045Z"
   },
   {
    "duration": 536,
    "start_time": "2023-01-04T19:44:24.213Z"
   },
   {
    "duration": 581,
    "start_time": "2023-01-04T19:44:27.347Z"
   },
   {
    "duration": 541,
    "start_time": "2023-01-04T19:53:47.374Z"
   },
   {
    "duration": 545,
    "start_time": "2023-01-04T19:54:19.913Z"
   },
   {
    "duration": 544,
    "start_time": "2023-01-04T19:54:36.456Z"
   },
   {
    "duration": 4,
    "start_time": "2023-01-04T20:15:14.949Z"
   },
   {
    "duration": 4,
    "start_time": "2023-01-04T20:15:28.141Z"
   },
   {
    "duration": 8,
    "start_time": "2023-01-04T20:15:56.002Z"
   },
   {
    "duration": 9,
    "start_time": "2023-01-04T20:16:49.511Z"
   },
   {
    "duration": 5,
    "start_time": "2023-01-04T20:19:33.505Z"
   },
   {
    "duration": 11,
    "start_time": "2023-01-04T20:20:08.525Z"
   },
   {
    "duration": 5,
    "start_time": "2023-01-04T20:27:57.726Z"
   },
   {
    "duration": 4,
    "start_time": "2023-01-04T20:28:12.224Z"
   },
   {
    "duration": 2655,
    "start_time": "2023-01-04T20:30:24.673Z"
   },
   {
    "duration": 3082,
    "start_time": "2023-01-04T20:30:47.513Z"
   },
   {
    "duration": 3,
    "start_time": "2023-01-04T20:42:39.218Z"
   },
   {
    "duration": 7,
    "start_time": "2023-01-04T20:42:46.972Z"
   },
   {
    "duration": 340,
    "start_time": "2023-01-04T20:43:18.691Z"
   },
   {
    "duration": 541,
    "start_time": "2023-01-04T20:45:09.960Z"
   },
   {
    "duration": 10,
    "start_time": "2023-01-04T20:45:12.704Z"
   },
   {
    "duration": 4,
    "start_time": "2023-01-04T20:45:24.787Z"
   },
   {
    "duration": 391,
    "start_time": "2023-01-04T20:45:29.190Z"
   },
   {
    "duration": 3,
    "start_time": "2023-01-04T20:48:58.619Z"
   },
   {
    "duration": 5915,
    "start_time": "2023-01-04T20:49:02.031Z"
   },
   {
    "duration": 4852,
    "start_time": "2023-01-04T20:49:13.137Z"
   },
   {
    "duration": 47,
    "start_time": "2023-01-04T20:49:54.809Z"
   },
   {
    "duration": 36,
    "start_time": "2023-01-04T20:50:12.999Z"
   },
   {
    "duration": 38,
    "start_time": "2023-01-04T20:50:36.052Z"
   },
   {
    "duration": 51,
    "start_time": "2023-01-04T20:52:30.990Z"
   },
   {
    "duration": 4,
    "start_time": "2023-01-04T20:52:47.114Z"
   },
   {
    "duration": 3,
    "start_time": "2023-01-04T21:07:11.345Z"
   },
   {
    "duration": 3,
    "start_time": "2023-01-04T21:07:14.843Z"
   },
   {
    "duration": 553,
    "start_time": "2023-01-04T21:07:17.361Z"
   },
   {
    "duration": 560,
    "start_time": "2023-01-04T21:07:19.440Z"
   },
   {
    "duration": 548,
    "start_time": "2023-01-04T21:07:21.621Z"
   },
   {
    "duration": 533,
    "start_time": "2023-01-04T21:07:23.820Z"
   },
   {
    "duration": 3,
    "start_time": "2023-01-04T21:58:40.961Z"
   },
   {
    "duration": 3,
    "start_time": "2023-01-04T22:06:14.852Z"
   },
   {
    "duration": 6944,
    "start_time": "2023-01-04T22:06:20.278Z"
   },
   {
    "duration": 51,
    "start_time": "2023-01-05T13:45:44.943Z"
   },
   {
    "duration": 553,
    "start_time": "2023-01-05T13:45:50.119Z"
   },
   {
    "duration": 551,
    "start_time": "2023-01-05T13:45:59.517Z"
   },
   {
    "duration": 27,
    "start_time": "2023-01-05T13:46:01.397Z"
   },
   {
    "duration": 5,
    "start_time": "2023-01-05T13:46:05.382Z"
   },
   {
    "duration": 3459,
    "start_time": "2023-01-05T13:46:07.857Z"
   },
   {
    "duration": 586,
    "start_time": "2023-01-05T13:46:13.838Z"
   },
   {
    "duration": 562,
    "start_time": "2023-01-05T13:46:16.276Z"
   },
   {
    "duration": 557,
    "start_time": "2023-01-05T13:46:19.813Z"
   },
   {
    "duration": 562,
    "start_time": "2023-01-05T13:46:22.554Z"
   },
   {
    "duration": 3,
    "start_time": "2023-01-05T14:25:37.639Z"
   },
   {
    "duration": 463,
    "start_time": "2023-01-05T14:25:42.765Z"
   },
   {
    "duration": 4,
    "start_time": "2023-01-05T14:27:04.599Z"
   },
   {
    "duration": 385,
    "start_time": "2023-01-05T14:27:07.073Z"
   },
   {
    "duration": 4,
    "start_time": "2023-01-05T14:29:59.474Z"
   },
   {
    "duration": 442,
    "start_time": "2023-01-05T14:30:01.623Z"
   },
   {
    "duration": 3,
    "start_time": "2023-01-05T14:36:07.230Z"
   },
   {
    "duration": 396,
    "start_time": "2023-01-05T14:36:09.934Z"
   },
   {
    "duration": 4,
    "start_time": "2023-01-05T14:37:45.197Z"
   },
   {
    "duration": 5955,
    "start_time": "2023-01-05T14:37:47.911Z"
   },
   {
    "duration": 3,
    "start_time": "2023-01-05T14:42:40.850Z"
   },
   {
    "duration": 375,
    "start_time": "2023-01-05T14:42:44.099Z"
   },
   {
    "duration": 556,
    "start_time": "2023-01-05T14:43:03.438Z"
   },
   {
    "duration": 10,
    "start_time": "2023-01-05T14:43:03.996Z"
   },
   {
    "duration": 7,
    "start_time": "2023-01-05T14:43:04.008Z"
   },
   {
    "duration": 21,
    "start_time": "2023-01-05T14:43:04.023Z"
   },
   {
    "duration": 3638,
    "start_time": "2023-01-05T14:43:04.046Z"
   },
   {
    "duration": 589,
    "start_time": "2023-01-05T14:43:07.686Z"
   },
   {
    "duration": 561,
    "start_time": "2023-01-05T14:43:08.277Z"
   },
   {
    "duration": 575,
    "start_time": "2023-01-05T14:43:08.841Z"
   },
   {
    "duration": 583,
    "start_time": "2023-01-05T14:43:09.418Z"
   },
   {
    "duration": 3,
    "start_time": "2023-01-05T14:43:10.004Z"
   },
   {
    "duration": 410,
    "start_time": "2023-01-05T14:43:10.009Z"
   },
   {
    "duration": 0,
    "start_time": "2023-01-05T14:43:10.421Z"
   },
   {
    "duration": 4,
    "start_time": "2023-01-05T14:44:31.753Z"
   },
   {
    "duration": 395,
    "start_time": "2023-01-05T14:44:35.029Z"
   },
   {
    "duration": 2,
    "start_time": "2023-01-05T14:46:32.895Z"
   },
   {
    "duration": 376,
    "start_time": "2023-01-05T14:46:40.195Z"
   },
   {
    "duration": 3,
    "start_time": "2023-01-05T14:49:04.377Z"
   },
   {
    "duration": 380,
    "start_time": "2023-01-05T14:49:08.486Z"
   },
   {
    "duration": 3,
    "start_time": "2023-01-05T15:14:38.903Z"
   },
   {
    "duration": 375,
    "start_time": "2023-01-05T15:14:41.795Z"
   },
   {
    "duration": 3,
    "start_time": "2023-01-05T15:15:11.517Z"
   },
   {
    "duration": 374,
    "start_time": "2023-01-05T15:15:17.971Z"
   },
   {
    "duration": 3,
    "start_time": "2023-01-05T15:15:35.230Z"
   },
   {
    "duration": 369,
    "start_time": "2023-01-05T15:15:38.677Z"
   },
   {
    "duration": 3,
    "start_time": "2023-01-05T16:13:19.112Z"
   },
   {
    "duration": 370,
    "start_time": "2023-01-05T16:13:22.349Z"
   },
   {
    "duration": 3,
    "start_time": "2023-01-05T16:26:52.076Z"
   },
   {
    "duration": 3,
    "start_time": "2023-01-05T16:30:16.003Z"
   },
   {
    "duration": 3,
    "start_time": "2023-01-05T16:32:33.104Z"
   },
   {
    "duration": 374,
    "start_time": "2023-01-05T16:32:36.570Z"
   },
   {
    "duration": 3,
    "start_time": "2023-01-05T16:40:57.890Z"
   },
   {
    "duration": 382,
    "start_time": "2023-01-05T16:41:04.352Z"
   },
   {
    "duration": 3,
    "start_time": "2023-01-05T16:43:42.982Z"
   },
   {
    "duration": 5807,
    "start_time": "2023-01-05T16:43:47.274Z"
   },
   {
    "duration": 2,
    "start_time": "2023-01-05T16:44:45.191Z"
   },
   {
    "duration": 373,
    "start_time": "2023-01-05T16:44:47.727Z"
   },
   {
    "duration": 3,
    "start_time": "2023-01-05T16:45:16.091Z"
   },
   {
    "duration": 6169,
    "start_time": "2023-01-05T16:45:18.527Z"
   },
   {
    "duration": 3,
    "start_time": "2023-01-05T16:49:14.976Z"
   },
   {
    "duration": 381,
    "start_time": "2023-01-05T16:49:19.715Z"
   },
   {
    "duration": 2,
    "start_time": "2023-01-05T16:49:38.981Z"
   },
   {
    "duration": 354,
    "start_time": "2023-01-05T16:49:40.966Z"
   },
   {
    "duration": 3,
    "start_time": "2023-01-05T16:54:16.034Z"
   },
   {
    "duration": 386,
    "start_time": "2023-01-05T16:54:21.118Z"
   },
   {
    "duration": 38,
    "start_time": "2023-01-05T17:02:39.919Z"
   },
   {
    "duration": 20,
    "start_time": "2023-01-05T17:03:40.286Z"
   },
   {
    "duration": 592,
    "start_time": "2023-01-05T17:11:40.814Z"
   },
   {
    "duration": 258,
    "start_time": "2023-01-05T17:11:49.687Z"
   },
   {
    "duration": 495,
    "start_time": "2023-01-05T17:12:16.261Z"
   },
   {
    "duration": 249,
    "start_time": "2023-01-05T17:12:30.385Z"
   },
   {
    "duration": 306,
    "start_time": "2023-01-05T17:14:27.670Z"
   },
   {
    "duration": 246,
    "start_time": "2023-01-05T17:15:18.158Z"
   },
   {
    "duration": 3,
    "start_time": "2023-01-05T17:18:41.518Z"
   },
   {
    "duration": 383,
    "start_time": "2023-01-05T17:18:46.822Z"
   },
   {
    "duration": 3,
    "start_time": "2023-01-05T17:19:30.293Z"
   },
   {
    "duration": 414,
    "start_time": "2023-01-05T17:19:35.847Z"
   },
   {
    "duration": 3,
    "start_time": "2023-01-05T17:27:34.171Z"
   },
   {
    "duration": 6695,
    "start_time": "2023-01-05T17:27:38.204Z"
   },
   {
    "duration": 3,
    "start_time": "2023-01-05T17:33:52.471Z"
   },
   {
    "duration": 647,
    "start_time": "2023-01-05T17:33:57.273Z"
   },
   {
    "duration": 3,
    "start_time": "2023-01-05T17:35:21.360Z"
   },
   {
    "duration": 655,
    "start_time": "2023-01-05T17:35:25.641Z"
   },
   {
    "duration": 4,
    "start_time": "2023-01-05T17:37:20.070Z"
   },
   {
    "duration": 6042,
    "start_time": "2023-01-05T17:37:24.387Z"
   },
   {
    "duration": 347,
    "start_time": "2023-01-05T17:38:15.419Z"
   },
   {
    "duration": 415,
    "start_time": "2023-01-05T17:38:25.336Z"
   },
   {
    "duration": 340,
    "start_time": "2023-01-05T17:38:33.583Z"
   },
   {
    "duration": 551,
    "start_time": "2023-01-05T17:41:43.020Z"
   },
   {
    "duration": 10,
    "start_time": "2023-01-05T17:41:43.573Z"
   },
   {
    "duration": 3,
    "start_time": "2023-01-05T17:41:43.584Z"
   },
   {
    "duration": 7,
    "start_time": "2023-01-05T17:41:43.589Z"
   },
   {
    "duration": 3709,
    "start_time": "2023-01-05T17:41:43.599Z"
   },
   {
    "duration": 556,
    "start_time": "2023-01-05T17:41:47.310Z"
   },
   {
    "duration": 563,
    "start_time": "2023-01-05T17:41:47.868Z"
   },
   {
    "duration": 548,
    "start_time": "2023-01-05T17:41:48.433Z"
   },
   {
    "duration": 576,
    "start_time": "2023-01-05T17:41:48.982Z"
   },
   {
    "duration": 33,
    "start_time": "2023-01-05T17:41:49.560Z"
   },
   {
    "duration": 28,
    "start_time": "2023-01-05T17:41:49.596Z"
   },
   {
    "duration": 502,
    "start_time": "2023-01-05T17:41:49.625Z"
   },
   {
    "duration": 272,
    "start_time": "2023-01-05T17:41:50.129Z"
   },
   {
    "duration": 3,
    "start_time": "2023-01-05T17:41:50.404Z"
   },
   {
    "duration": 6052,
    "start_time": "2023-01-05T17:41:50.408Z"
   },
   {
    "duration": 347,
    "start_time": "2023-01-05T17:41:56.462Z"
   },
   {
    "duration": 4035,
    "start_time": "2023-01-05T17:41:56.812Z"
   },
   {
    "duration": 3,
    "start_time": "2023-01-05T17:42:00.850Z"
   },
   {
    "duration": 511,
    "start_time": "2023-01-07T13:06:20.979Z"
   },
   {
    "duration": 10,
    "start_time": "2023-01-07T13:06:21.492Z"
   },
   {
    "duration": 2,
    "start_time": "2023-01-07T13:06:21.504Z"
   },
   {
    "duration": 13,
    "start_time": "2023-01-07T13:06:21.508Z"
   },
   {
    "duration": 5170,
    "start_time": "2023-01-07T13:06:21.523Z"
   },
   {
    "duration": 575,
    "start_time": "2023-01-07T13:06:26.695Z"
   },
   {
    "duration": 586,
    "start_time": "2023-01-07T13:06:27.272Z"
   },
   {
    "duration": 530,
    "start_time": "2023-01-07T13:06:27.860Z"
   },
   {
    "duration": 598,
    "start_time": "2023-01-07T13:06:28.392Z"
   },
   {
    "duration": 29,
    "start_time": "2023-01-07T13:06:28.993Z"
   },
   {
    "duration": 24,
    "start_time": "2023-01-07T13:06:29.024Z"
   },
   {
    "duration": 715,
    "start_time": "2023-01-07T13:06:29.050Z"
   },
   {
    "duration": 313,
    "start_time": "2023-01-07T13:06:29.767Z"
   },
   {
    "duration": 3,
    "start_time": "2023-01-07T13:06:30.083Z"
   },
   {
    "duration": 6780,
    "start_time": "2023-01-07T13:06:30.088Z"
   },
   {
    "duration": 355,
    "start_time": "2023-01-07T13:06:36.870Z"
   },
   {
    "duration": 5143,
    "start_time": "2023-01-07T13:06:37.227Z"
   },
   {
    "duration": 3,
    "start_time": "2023-01-07T13:06:42.373Z"
   },
   {
    "duration": 4,
    "start_time": "2023-01-07T13:20:53.447Z"
   },
   {
    "duration": 6366,
    "start_time": "2023-01-07T13:21:01.543Z"
   },
   {
    "duration": 1081,
    "start_time": "2023-01-07T13:31:36.784Z"
   },
   {
    "duration": 487,
    "start_time": "2023-01-07T14:01:47.175Z"
   },
   {
    "duration": 27,
    "start_time": "2023-01-07T14:01:47.664Z"
   },
   {
    "duration": 2,
    "start_time": "2023-01-07T14:01:47.693Z"
   },
   {
    "duration": 8,
    "start_time": "2023-01-07T14:01:47.697Z"
   },
   {
    "duration": 4545,
    "start_time": "2023-01-07T14:01:47.707Z"
   },
   {
    "duration": 570,
    "start_time": "2023-01-07T14:01:52.254Z"
   },
   {
    "duration": 567,
    "start_time": "2023-01-07T14:01:52.825Z"
   },
   {
    "duration": 531,
    "start_time": "2023-01-07T14:01:53.394Z"
   },
   {
    "duration": 550,
    "start_time": "2023-01-07T14:01:53.927Z"
   },
   {
    "duration": 33,
    "start_time": "2023-01-07T14:01:54.479Z"
   },
   {
    "duration": 22,
    "start_time": "2023-01-07T14:01:54.513Z"
   },
   {
    "duration": 518,
    "start_time": "2023-01-07T14:01:54.536Z"
   },
   {
    "duration": 241,
    "start_time": "2023-01-07T14:01:55.056Z"
   },
   {
    "duration": 3,
    "start_time": "2023-01-07T14:01:55.299Z"
   },
   {
    "duration": 14,
    "start_time": "2023-01-07T14:01:55.303Z"
   },
   {
    "duration": 6361,
    "start_time": "2023-01-07T14:01:55.319Z"
   },
   {
    "duration": 6548,
    "start_time": "2023-01-07T14:02:01.682Z"
   },
   {
    "duration": 364,
    "start_time": "2023-01-07T14:02:08.232Z"
   },
   {
    "duration": 4852,
    "start_time": "2023-01-07T14:02:08.598Z"
   },
   {
    "duration": 3,
    "start_time": "2023-01-07T14:02:13.452Z"
   },
   {
    "duration": 3,
    "start_time": "2023-01-07T14:02:31.596Z"
   },
   {
    "duration": 6323,
    "start_time": "2023-01-07T14:02:35.320Z"
   },
   {
    "duration": 4,
    "start_time": "2023-01-07T14:02:59.382Z"
   },
   {
    "duration": 6785,
    "start_time": "2023-01-07T14:03:01.063Z"
   },
   {
    "duration": 7,
    "start_time": "2023-01-07T14:04:40.946Z"
   },
   {
    "duration": 6170,
    "start_time": "2023-01-07T14:04:42.304Z"
   },
   {
    "duration": 2,
    "start_time": "2023-01-07T14:05:33.366Z"
   },
   {
    "duration": 6295,
    "start_time": "2023-01-07T14:05:35.210Z"
   },
   {
    "duration": 4,
    "start_time": "2023-01-07T14:07:48.747Z"
   },
   {
    "duration": 754,
    "start_time": "2023-01-07T14:07:51.803Z"
   },
   {
    "duration": 4,
    "start_time": "2023-01-07T14:08:00.263Z"
   },
   {
    "duration": 6348,
    "start_time": "2023-01-07T14:08:01.608Z"
   },
   {
    "duration": 3,
    "start_time": "2023-01-07T14:08:43.650Z"
   },
   {
    "duration": 6575,
    "start_time": "2023-01-07T14:08:49.055Z"
   },
   {
    "duration": 6,
    "start_time": "2023-01-07T14:09:18.634Z"
   },
   {
    "duration": 3,
    "start_time": "2023-01-07T14:09:28.368Z"
   },
   {
    "duration": 6439,
    "start_time": "2023-01-07T14:09:30.112Z"
   },
   {
    "duration": 4,
    "start_time": "2023-01-07T14:10:32.689Z"
   },
   {
    "duration": 6316,
    "start_time": "2023-01-07T14:10:34.901Z"
   },
   {
    "duration": 3,
    "start_time": "2023-01-07T14:11:41.010Z"
   },
   {
    "duration": 6272,
    "start_time": "2023-01-07T14:11:42.457Z"
   },
   {
    "duration": 4,
    "start_time": "2023-01-07T14:12:30.648Z"
   },
   {
    "duration": 6363,
    "start_time": "2023-01-07T14:12:40.330Z"
   },
   {
    "duration": 497,
    "start_time": "2023-01-07T16:02:39.303Z"
   },
   {
    "duration": 10,
    "start_time": "2023-01-07T16:02:39.802Z"
   },
   {
    "duration": 2,
    "start_time": "2023-01-07T16:02:39.814Z"
   },
   {
    "duration": 8,
    "start_time": "2023-01-07T16:02:39.818Z"
   },
   {
    "duration": 3941,
    "start_time": "2023-01-07T16:02:39.828Z"
   },
   {
    "duration": 524,
    "start_time": "2023-01-07T16:02:43.771Z"
   },
   {
    "duration": 500,
    "start_time": "2023-01-07T16:02:44.297Z"
   },
   {
    "duration": 553,
    "start_time": "2023-01-07T16:02:44.799Z"
   },
   {
    "duration": 555,
    "start_time": "2023-01-07T16:02:45.354Z"
   },
   {
    "duration": 38,
    "start_time": "2023-01-07T16:02:45.910Z"
   },
   {
    "duration": 21,
    "start_time": "2023-01-07T16:02:45.950Z"
   },
   {
    "duration": 460,
    "start_time": "2023-01-07T16:02:45.973Z"
   },
   {
    "duration": 263,
    "start_time": "2023-01-07T16:02:46.435Z"
   },
   {
    "duration": 3,
    "start_time": "2023-01-07T16:02:46.701Z"
   },
   {
    "duration": 6205,
    "start_time": "2023-01-07T16:02:46.706Z"
   },
   {
    "duration": 328,
    "start_time": "2023-01-07T16:02:52.912Z"
   },
   {
    "duration": 4383,
    "start_time": "2023-01-07T16:02:53.242Z"
   },
   {
    "duration": 3,
    "start_time": "2023-01-07T16:02:57.627Z"
   },
   {
    "duration": 506,
    "start_time": "2023-01-09T14:15:40.962Z"
   },
   {
    "duration": 20,
    "start_time": "2023-01-09T14:15:43.165Z"
   },
   {
    "duration": 3,
    "start_time": "2023-01-09T14:15:45.484Z"
   },
   {
    "duration": 4498,
    "start_time": "2023-01-09T14:15:48.094Z"
   },
   {
    "duration": 541,
    "start_time": "2023-01-09T14:15:56.882Z"
   },
   {
    "duration": 543,
    "start_time": "2023-01-09T14:16:00.971Z"
   },
   {
    "duration": 555,
    "start_time": "2023-01-09T14:16:09.858Z"
   },
   {
    "duration": 535,
    "start_time": "2023-01-09T14:16:13.091Z"
   },
   {
    "duration": 33,
    "start_time": "2023-01-09T14:16:17.057Z"
   },
   {
    "duration": 22,
    "start_time": "2023-01-09T14:16:19.813Z"
   },
   {
    "duration": 668,
    "start_time": "2023-01-09T14:16:21.960Z"
   },
   {
    "duration": 252,
    "start_time": "2023-01-09T14:16:24.716Z"
   },
   {
    "duration": 110,
    "start_time": "2023-01-09T14:17:09.337Z"
   },
   {
    "duration": 3,
    "start_time": "2023-01-09T14:17:18.441Z"
   },
   {
    "duration": 5880,
    "start_time": "2023-01-09T14:17:21.905Z"
   },
   {
    "duration": 340,
    "start_time": "2023-01-09T14:17:31.039Z"
   },
   {
    "duration": 4421,
    "start_time": "2023-01-09T14:17:34.061Z"
   },
   {
    "duration": 74,
    "start_time": "2023-01-09T14:41:28.505Z"
   },
   {
    "duration": 49,
    "start_time": "2023-01-09T22:21:03.873Z"
   },
   {
    "duration": 7,
    "start_time": "2023-01-09T22:21:08.426Z"
   },
   {
    "duration": 505,
    "start_time": "2023-01-09T22:22:13.884Z"
   },
   {
    "duration": 9,
    "start_time": "2023-01-09T22:22:14.392Z"
   },
   {
    "duration": 14,
    "start_time": "2023-01-09T22:22:14.402Z"
   },
   {
    "duration": 16,
    "start_time": "2023-01-09T22:22:14.418Z"
   },
   {
    "duration": 4859,
    "start_time": "2023-01-09T22:22:14.436Z"
   },
   {
    "duration": 418,
    "start_time": "2023-01-09T22:22:19.297Z"
   },
   {
    "duration": 404,
    "start_time": "2023-01-09T22:22:19.717Z"
   },
   {
    "duration": 418,
    "start_time": "2023-01-09T22:22:20.122Z"
   },
   {
    "duration": 398,
    "start_time": "2023-01-09T22:22:20.542Z"
   },
   {
    "duration": 35,
    "start_time": "2023-01-09T22:22:20.943Z"
   },
   {
    "duration": 25,
    "start_time": "2023-01-09T22:22:20.980Z"
   },
   {
    "duration": 642,
    "start_time": "2023-01-09T22:22:21.008Z"
   },
   {
    "duration": 259,
    "start_time": "2023-01-09T22:22:21.652Z"
   },
   {
    "duration": 3,
    "start_time": "2023-01-09T22:22:21.912Z"
   },
   {
    "duration": 6460,
    "start_time": "2023-01-09T22:22:21.917Z"
   },
   {
    "duration": 76,
    "start_time": "2023-01-09T22:22:28.379Z"
   },
   {
    "duration": 0,
    "start_time": "2023-01-09T22:22:28.456Z"
   },
   {
    "duration": 0,
    "start_time": "2023-01-09T22:22:28.458Z"
   },
   {
    "duration": 0,
    "start_time": "2023-01-09T22:22:28.459Z"
   },
   {
    "duration": 379,
    "start_time": "2023-01-09T22:23:11.069Z"
   },
   {
    "duration": 10,
    "start_time": "2023-01-09T22:28:04.482Z"
   },
   {
    "duration": 9,
    "start_time": "2023-01-09T22:28:49.945Z"
   },
   {
    "duration": 82,
    "start_time": "2023-01-09T22:29:13.409Z"
   },
   {
    "duration": 168,
    "start_time": "2023-01-09T22:37:22.279Z"
   },
   {
    "duration": 163,
    "start_time": "2023-01-09T22:38:09.115Z"
   },
   {
    "duration": 168,
    "start_time": "2023-01-09T22:38:38.879Z"
   },
   {
    "duration": 174,
    "start_time": "2023-01-09T22:41:45.043Z"
   },
   {
    "duration": 128,
    "start_time": "2023-01-09T22:41:56.461Z"
   },
   {
    "duration": 134,
    "start_time": "2023-01-09T22:42:02.509Z"
   },
   {
    "duration": 384,
    "start_time": "2023-01-09T22:43:29.606Z"
   },
   {
    "duration": 343,
    "start_time": "2023-01-09T22:46:35.663Z"
   },
   {
    "duration": 3840,
    "start_time": "2023-01-09T22:46:38.578Z"
   },
   {
    "duration": 3,
    "start_time": "2023-01-09T22:46:43.791Z"
   },
   {
    "duration": 530,
    "start_time": "2023-01-10T01:07:29.587Z"
   },
   {
    "duration": 9,
    "start_time": "2023-01-10T01:07:30.119Z"
   },
   {
    "duration": 3,
    "start_time": "2023-01-10T01:07:30.129Z"
   },
   {
    "duration": 16,
    "start_time": "2023-01-10T01:07:30.134Z"
   },
   {
    "duration": 3728,
    "start_time": "2023-01-10T01:07:30.151Z"
   },
   {
    "duration": 416,
    "start_time": "2023-01-10T01:07:33.881Z"
   },
   {
    "duration": 390,
    "start_time": "2023-01-10T01:07:34.299Z"
   },
   {
    "duration": 443,
    "start_time": "2023-01-10T01:07:34.691Z"
   },
   {
    "duration": 403,
    "start_time": "2023-01-10T01:07:35.135Z"
   },
   {
    "duration": 34,
    "start_time": "2023-01-10T01:07:35.541Z"
   },
   {
    "duration": 21,
    "start_time": "2023-01-10T01:07:35.577Z"
   },
   {
    "duration": 454,
    "start_time": "2023-01-10T01:07:35.600Z"
   },
   {
    "duration": 256,
    "start_time": "2023-01-10T01:07:36.055Z"
   },
   {
    "duration": 3,
    "start_time": "2023-01-10T01:07:36.312Z"
   },
   {
    "duration": 6631,
    "start_time": "2023-01-10T01:07:36.317Z"
   },
   {
    "duration": 388,
    "start_time": "2023-01-10T01:07:42.950Z"
   },
   {
    "duration": 428,
    "start_time": "2023-01-10T01:07:43.340Z"
   },
   {
    "duration": 359,
    "start_time": "2023-01-10T01:07:43.770Z"
   },
   {
    "duration": 3907,
    "start_time": "2023-01-10T01:07:44.131Z"
   },
   {
    "duration": 2,
    "start_time": "2023-01-10T01:07:48.040Z"
   },
   {
    "duration": 463,
    "start_time": "2023-01-10T17:30:17.854Z"
   },
   {
    "duration": 9,
    "start_time": "2023-01-10T17:30:18.319Z"
   },
   {
    "duration": 5,
    "start_time": "2023-01-10T17:30:18.329Z"
   },
   {
    "duration": 10,
    "start_time": "2023-01-10T17:30:18.336Z"
   },
   {
    "duration": 3271,
    "start_time": "2023-01-10T17:30:18.347Z"
   },
   {
    "duration": 662,
    "start_time": "2023-01-10T17:30:21.620Z"
   },
   {
    "duration": 468,
    "start_time": "2023-01-10T17:30:22.283Z"
   },
   {
    "duration": 422,
    "start_time": "2023-01-10T17:30:22.753Z"
   },
   {
    "duration": 419,
    "start_time": "2023-01-10T17:30:23.177Z"
   },
   {
    "duration": 29,
    "start_time": "2023-01-10T17:30:23.599Z"
   },
   {
    "duration": 20,
    "start_time": "2023-01-10T17:30:23.629Z"
   },
   {
    "duration": 414,
    "start_time": "2023-01-10T17:30:23.650Z"
   },
   {
    "duration": 210,
    "start_time": "2023-01-10T17:30:24.065Z"
   },
   {
    "duration": 2,
    "start_time": "2023-01-10T17:30:24.277Z"
   },
   {
    "duration": 5258,
    "start_time": "2023-01-10T17:30:24.281Z"
   },
   {
    "duration": 266,
    "start_time": "2023-01-10T17:30:29.541Z"
   },
   {
    "duration": 323,
    "start_time": "2023-01-10T17:30:29.808Z"
   },
   {
    "duration": 299,
    "start_time": "2023-01-10T17:30:30.132Z"
   },
   {
    "duration": 4203,
    "start_time": "2023-01-10T17:30:30.432Z"
   },
   {
    "duration": 2,
    "start_time": "2023-01-10T17:30:34.637Z"
   },
   {
    "duration": 498,
    "start_time": "2023-01-11T10:49:26.894Z"
   },
   {
    "duration": 8,
    "start_time": "2023-01-11T10:49:27.393Z"
   },
   {
    "duration": 5,
    "start_time": "2023-01-11T10:49:27.403Z"
   },
   {
    "duration": 5,
    "start_time": "2023-01-11T10:49:27.409Z"
   },
   {
    "duration": 3246,
    "start_time": "2023-01-11T10:49:27.415Z"
   },
   {
    "duration": 471,
    "start_time": "2023-01-11T10:49:30.662Z"
   },
   {
    "duration": 436,
    "start_time": "2023-01-11T10:49:31.135Z"
   },
   {
    "duration": 482,
    "start_time": "2023-01-11T10:49:31.573Z"
   },
   {
    "duration": 439,
    "start_time": "2023-01-11T10:49:32.057Z"
   },
   {
    "duration": 31,
    "start_time": "2023-01-11T10:49:32.498Z"
   },
   {
    "duration": 20,
    "start_time": "2023-01-11T10:49:32.531Z"
   },
   {
    "duration": 466,
    "start_time": "2023-01-11T10:49:32.552Z"
   },
   {
    "duration": 230,
    "start_time": "2023-01-11T10:49:33.019Z"
   },
   {
    "duration": 2,
    "start_time": "2023-01-11T10:49:33.251Z"
   },
   {
    "duration": 5458,
    "start_time": "2023-01-11T10:49:33.255Z"
   },
   {
    "duration": 285,
    "start_time": "2023-01-11T10:49:38.715Z"
   },
   {
    "duration": 320,
    "start_time": "2023-01-11T10:49:39.001Z"
   },
   {
    "duration": 305,
    "start_time": "2023-01-11T10:49:39.322Z"
   },
   {
    "duration": 3635,
    "start_time": "2023-01-11T10:49:39.628Z"
   },
   {
    "duration": 2,
    "start_time": "2023-01-11T10:49:43.265Z"
   }
  ],
  "kernelspec": {
   "display_name": "Python 3 (ipykernel)",
   "language": "python",
   "name": "python3"
  },
  "language_info": {
   "codemirror_mode": {
    "name": "ipython",
    "version": 3
   },
   "file_extension": ".py",
   "mimetype": "text/x-python",
   "name": "python",
   "nbconvert_exporter": "python",
   "pygments_lexer": "ipython3",
   "version": "3.8.16"
  },
  "toc": {
   "base_numbering": 1,
   "nav_menu": {},
   "number_sections": true,
   "sideBar": true,
   "skip_h1_title": true,
   "title_cell": "Table of Contents",
   "title_sidebar": "Contents",
   "toc_cell": false,
   "toc_position": {},
   "toc_section_display": true,
   "toc_window_display": false
  }
 },
 "nbformat": 4,
 "nbformat_minor": 5
}
