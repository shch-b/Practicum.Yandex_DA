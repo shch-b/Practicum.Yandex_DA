{
 "cells": [
  {
   "cell_type": "markdown",
   "metadata": {},
   "source": [
    "# Самостоятельный проект: Принятие решений в бизнесе\n",
    "\n",
    "# *Описание*\n",
    "Я — аналитик крупного интернет-магазина. Вместе с отделом маркетинга мы подготовили список гипотез для увеличения выручки. Необходимо приоритизировать гипотезы, запустить A/B-тест и проанализировать результаты. \n",
    "\n",
    "# *Этапы работы*\n",
    "Работа состоит из двух частей:\n",
    "1) в первой части работы будут проанализированы 9 гипотез по увеличению выручки интернет-магазина с применением фреймворков ICE и RICE\n",
    "2) во второй части работы будет проведено А/В-тестирование и проанализированы результаты"
   ]
  },
  {
   "cell_type": "code",
   "execution_count": 1,
   "metadata": {},
   "outputs": [],
   "source": [
    "# импортируем необходимые бибилиотеки\n",
    "import pandas as pd\n",
    "import scipy.stats as stats\n",
    "from scipy import stats as st\n",
    "import numpy as np\n",
    "import seaborn as sns\n",
    "import matplotlib.pyplot as plt"
   ]
  },
  {
   "cell_type": "code",
   "execution_count": 2,
   "metadata": {},
   "outputs": [],
   "source": [
    "# загрузим файлы\n",
    "try:\n",
    "    hypothesis = pd.read_csv('/datasets/hypothesis.csv')\n",
    "except:\n",
    "    hypotesis = pd.read_csv('https://????????????/datasets/hypothesis.csv')\n",
    "    \n",
    "try:\n",
    "    orders = pd.read_csv('/datasets/orders.csv')\n",
    "except:\n",
    "    orders = pd.read_csv('https://????????????????/datasets/orders.csv')\n",
    "    \n",
    "try:\n",
    "    visitors = pd.read_csv('/datasets/visitors.csv')\n",
    "except:\n",
    "    visitors = pd.read_csv('https://????????????????/datasets/visitors.csv')"
   ]
  },
  {
   "cell_type": "code",
   "execution_count": 3,
   "metadata": {},
   "outputs": [],
   "source": [
    "# проверим датафреймы\n",
    "#hypothesis.head(9)"
   ]
  },
  {
   "cell_type": "code",
   "execution_count": 4,
   "metadata": {},
   "outputs": [],
   "source": [
    "#hypothesis.info()"
   ]
  },
  {
   "cell_type": "code",
   "execution_count": 5,
   "metadata": {},
   "outputs": [],
   "source": [
    "#orders.head()"
   ]
  },
  {
   "cell_type": "code",
   "execution_count": 6,
   "metadata": {},
   "outputs": [],
   "source": [
    "#orders.info()"
   ]
  },
  {
   "cell_type": "code",
   "execution_count": 7,
   "metadata": {},
   "outputs": [],
   "source": [
    "#visitors.head()"
   ]
  },
  {
   "cell_type": "code",
   "execution_count": 8,
   "metadata": {},
   "outputs": [],
   "source": [
    "#visitors.info()"
   ]
  },
  {
   "cell_type": "markdown",
   "metadata": {},
   "source": [
    "Данные выгружены корректно. Необходима замена типов данных атрибута date в orders и visitors. В hypothesis также добавим дополнительный столбец с номером гипотезы.\n",
    "\n",
    "Наименование одной из гипотез некорректное (№4 \"Изменить структура категорий...\"). Заменим на более правильное. Также можно сократить наименования гипотез для более удобного представления данных в табличном и графическом виде"
   ]
  },
  {
   "cell_type": "code",
   "execution_count": 9,
   "metadata": {},
   "outputs": [
    {
     "data": {
      "text/plain": [
       "array(['Добавить два новых канала привлечения трафика, что позволит привлекать на 30% больше пользователей',\n",
       "       'Запустить собственную службу доставки, что сократит срок доставки заказов',\n",
       "       'Добавить блоки рекомендаций товаров на сайт интернет магазина, чтобы повысить конверсию и средний чек заказа',\n",
       "       'Изменить структура категорий, что увеличит конверсию, т.к. пользователи быстрее найдут нужный товар',\n",
       "       'Изменить цвет фона главной страницы, чтобы увеличить вовлеченность пользователей',\n",
       "       'Добавить страницу отзывов клиентов о магазине, что позволит увеличить количество заказов',\n",
       "       'Показать на главной странице баннеры с актуальными акциями и распродажами, чтобы увеличить конверсию',\n",
       "       'Добавить форму подписки на все основные страницы, чтобы собрать базу клиентов для email-рассылок',\n",
       "       'Запустить акцию, дающую скидку на товар в день рождения'],\n",
       "      dtype=object)"
      ]
     },
     "execution_count": 9,
     "metadata": {},
     "output_type": "execute_result"
    }
   ],
   "source": [
    "hypothesis['Hypothesis'].unique()"
   ]
  },
  {
   "cell_type": "code",
   "execution_count": 10,
   "metadata": {},
   "outputs": [],
   "source": [
    "short_name = ['2 новых канала', 'Своя доставка', 'Блоки рекомендаций на сайт', 'Новая структура категорий',\n",
    "       'Новый цвет фона глагне',\n",
    "       'Страница отзывов',\n",
    "       'Баннеры с акциями',\n",
    "       'Подписка',\n",
    "       'Скидка на ДР']"
   ]
  },
  {
   "cell_type": "code",
   "execution_count": 11,
   "metadata": {},
   "outputs": [],
   "source": [
    "orders['date'] = pd.to_datetime(orders['date'], format='%Y-%m-%d')\n",
    "visitors['date'] = pd.to_datetime(visitors['date'], format='%Y-%m-%d')"
   ]
  },
  {
   "cell_type": "code",
   "execution_count": 12,
   "metadata": {},
   "outputs": [
    {
     "data": {
      "text/html": [
       "<div>\n",
       "<style scoped>\n",
       "    .dataframe tbody tr th:only-of-type {\n",
       "        vertical-align: middle;\n",
       "    }\n",
       "\n",
       "    .dataframe tbody tr th {\n",
       "        vertical-align: top;\n",
       "    }\n",
       "\n",
       "    .dataframe thead th {\n",
       "        text-align: right;\n",
       "    }\n",
       "</style>\n",
       "<table border=\"1\" class=\"dataframe\">\n",
       "  <thead>\n",
       "    <tr style=\"text-align: right;\">\n",
       "      <th></th>\n",
       "      <th>Hypothesis</th>\n",
       "      <th>Reach</th>\n",
       "      <th>Impact</th>\n",
       "      <th>Confidence</th>\n",
       "      <th>Efforts</th>\n",
       "      <th>hyp_number</th>\n",
       "      <th>short_name</th>\n",
       "    </tr>\n",
       "  </thead>\n",
       "  <tbody>\n",
       "    <tr>\n",
       "      <th>0</th>\n",
       "      <td>Добавить два новых канала привлечения трафика,...</td>\n",
       "      <td>3</td>\n",
       "      <td>10</td>\n",
       "      <td>8</td>\n",
       "      <td>6</td>\n",
       "      <td>1</td>\n",
       "      <td>2 новых канала</td>\n",
       "    </tr>\n",
       "    <tr>\n",
       "      <th>1</th>\n",
       "      <td>Запустить собственную службу доставки, что сок...</td>\n",
       "      <td>2</td>\n",
       "      <td>5</td>\n",
       "      <td>4</td>\n",
       "      <td>10</td>\n",
       "      <td>2</td>\n",
       "      <td>Своя доставка</td>\n",
       "    </tr>\n",
       "    <tr>\n",
       "      <th>2</th>\n",
       "      <td>Добавить блоки рекомендаций товаров на сайт ин...</td>\n",
       "      <td>8</td>\n",
       "      <td>3</td>\n",
       "      <td>7</td>\n",
       "      <td>3</td>\n",
       "      <td>3</td>\n",
       "      <td>Блоки рекомендаций на сайт</td>\n",
       "    </tr>\n",
       "    <tr>\n",
       "      <th>3</th>\n",
       "      <td>Изменить структуру категорий, что увеличит кон...</td>\n",
       "      <td>8</td>\n",
       "      <td>3</td>\n",
       "      <td>3</td>\n",
       "      <td>8</td>\n",
       "      <td>4</td>\n",
       "      <td>Новая структура категорий</td>\n",
       "    </tr>\n",
       "    <tr>\n",
       "      <th>4</th>\n",
       "      <td>Изменить цвет фона главной страницы, чтобы уве...</td>\n",
       "      <td>3</td>\n",
       "      <td>1</td>\n",
       "      <td>1</td>\n",
       "      <td>1</td>\n",
       "      <td>5</td>\n",
       "      <td>Новый цвет фона глагне</td>\n",
       "    </tr>\n",
       "    <tr>\n",
       "      <th>5</th>\n",
       "      <td>Добавить страницу отзывов клиентов о магазине,...</td>\n",
       "      <td>3</td>\n",
       "      <td>2</td>\n",
       "      <td>2</td>\n",
       "      <td>3</td>\n",
       "      <td>6</td>\n",
       "      <td>Страница отзывов</td>\n",
       "    </tr>\n",
       "    <tr>\n",
       "      <th>6</th>\n",
       "      <td>Показать на главной странице баннеры с актуаль...</td>\n",
       "      <td>5</td>\n",
       "      <td>3</td>\n",
       "      <td>8</td>\n",
       "      <td>3</td>\n",
       "      <td>7</td>\n",
       "      <td>Баннеры с акциями</td>\n",
       "    </tr>\n",
       "    <tr>\n",
       "      <th>7</th>\n",
       "      <td>Добавить форму подписки на все основные страни...</td>\n",
       "      <td>10</td>\n",
       "      <td>7</td>\n",
       "      <td>8</td>\n",
       "      <td>5</td>\n",
       "      <td>8</td>\n",
       "      <td>Подписка</td>\n",
       "    </tr>\n",
       "    <tr>\n",
       "      <th>8</th>\n",
       "      <td>Запустить акцию, дающую скидку на товар в день...</td>\n",
       "      <td>1</td>\n",
       "      <td>9</td>\n",
       "      <td>9</td>\n",
       "      <td>5</td>\n",
       "      <td>9</td>\n",
       "      <td>Скидка на ДР</td>\n",
       "    </tr>\n",
       "  </tbody>\n",
       "</table>\n",
       "</div>"
      ],
      "text/plain": [
       "                                          Hypothesis  Reach  Impact  \\\n",
       "0  Добавить два новых канала привлечения трафика,...      3      10   \n",
       "1  Запустить собственную службу доставки, что сок...      2       5   \n",
       "2  Добавить блоки рекомендаций товаров на сайт ин...      8       3   \n",
       "3  Изменить структуру категорий, что увеличит кон...      8       3   \n",
       "4  Изменить цвет фона главной страницы, чтобы уве...      3       1   \n",
       "5  Добавить страницу отзывов клиентов о магазине,...      3       2   \n",
       "6  Показать на главной странице баннеры с актуаль...      5       3   \n",
       "7  Добавить форму подписки на все основные страни...     10       7   \n",
       "8  Запустить акцию, дающую скидку на товар в день...      1       9   \n",
       "\n",
       "   Confidence  Efforts  hyp_number                  short_name  \n",
       "0           8        6           1              2 новых канала  \n",
       "1           4       10           2               Своя доставка  \n",
       "2           7        3           3  Блоки рекомендаций на сайт  \n",
       "3           3        8           4   Новая структура категорий  \n",
       "4           1        1           5      Новый цвет фона глагне  \n",
       "5           2        3           6            Страница отзывов  \n",
       "6           8        3           7           Баннеры с акциями  \n",
       "7           8        5           8                    Подписка  \n",
       "8           9        5           9                Скидка на ДР  "
      ]
     },
     "execution_count": 12,
     "metadata": {},
     "output_type": "execute_result"
    }
   ],
   "source": [
    "hypothesis['hyp_number'] = range(1, len(hypothesis) + 1)\n",
    "hypothesis.loc[3, 'Hypothesis'] = 'Изменить структуру категорий, что увеличит конверсию, т.к. пользователи быстрее найдут нужный товар'\n",
    "hypothesis['short_name'] = short_name\n",
    "hypothesis"
   ]
  },
  {
   "cell_type": "markdown",
   "metadata": {},
   "source": [
    "## Часть 1. Приоритизация гипотез"
   ]
  },
  {
   "cell_type": "markdown",
   "metadata": {},
   "source": [
    "Рассчитаем параметры ICE и RICE для представленных гипотез, воспользовавшись формулами расчета"
   ]
  },
  {
   "cell_type": "code",
   "execution_count": 13,
   "metadata": {},
   "outputs": [],
   "source": [
    "# в большинстве случаев значения параметров - целые числа, поэтому к новым атрибутам также применим форматирование до 2-го знака\n",
    "# и преобразование в тип float, т.к. форматирование превращает в object\n",
    "hypothesis['ICE'] = (hypothesis['Impact'] * hypothesis['Confidence'] / hypothesis['Efforts']).map('{:,.2f}'.format).astype(float)\n",
    "hypothesis['RICE'] = (hypothesis['Reach'] * hypothesis['Impact'] * hypothesis['Confidence'] / hypothesis['Efforts']).map('{:,.2f}'.format).astype(float)"
   ]
  },
  {
   "cell_type": "code",
   "execution_count": 14,
   "metadata": {},
   "outputs": [],
   "source": [
    "#hypothesis"
   ]
  },
  {
   "cell_type": "markdown",
   "metadata": {},
   "source": [
    "Создадим отдельный датафрейм с расчетами и рагжированием гипотез"
   ]
  },
  {
   "cell_type": "code",
   "execution_count": 15,
   "metadata": {},
   "outputs": [],
   "source": [
    "ice = hypothesis[['hyp_number','short_name', 'ICE']].sort_values(by='ICE', ascending=False)\n",
    "rice = hypothesis[['hyp_number','short_name', 'RICE']].sort_values(by='RICE', ascending=False)  \n",
    "ice['hyp_ice_range'] = range(1, len(ice) + 1)\n",
    "rice['hyp_rice_range'] = range(1, len(rice) + 1)"
   ]
  },
  {
   "cell_type": "code",
   "execution_count": 16,
   "metadata": {},
   "outputs": [
    {
     "data": {
      "text/html": [
       "<div>\n",
       "<style scoped>\n",
       "    .dataframe tbody tr th:only-of-type {\n",
       "        vertical-align: middle;\n",
       "    }\n",
       "\n",
       "    .dataframe tbody tr th {\n",
       "        vertical-align: top;\n",
       "    }\n",
       "\n",
       "    .dataframe thead th {\n",
       "        text-align: right;\n",
       "    }\n",
       "</style>\n",
       "<table border=\"1\" class=\"dataframe\">\n",
       "  <thead>\n",
       "    <tr style=\"text-align: right;\">\n",
       "      <th></th>\n",
       "      <th>hyp_number</th>\n",
       "      <th>short_name</th>\n",
       "      <th>ICE</th>\n",
       "      <th>hyp_ice_range</th>\n",
       "    </tr>\n",
       "  </thead>\n",
       "  <tbody>\n",
       "    <tr>\n",
       "      <th>8</th>\n",
       "      <td>9</td>\n",
       "      <td>Скидка на ДР</td>\n",
       "      <td>16.20</td>\n",
       "      <td>1</td>\n",
       "    </tr>\n",
       "    <tr>\n",
       "      <th>0</th>\n",
       "      <td>1</td>\n",
       "      <td>2 новых канала</td>\n",
       "      <td>13.33</td>\n",
       "      <td>2</td>\n",
       "    </tr>\n",
       "    <tr>\n",
       "      <th>7</th>\n",
       "      <td>8</td>\n",
       "      <td>Подписка</td>\n",
       "      <td>11.20</td>\n",
       "      <td>3</td>\n",
       "    </tr>\n",
       "    <tr>\n",
       "      <th>6</th>\n",
       "      <td>7</td>\n",
       "      <td>Баннеры с акциями</td>\n",
       "      <td>8.00</td>\n",
       "      <td>4</td>\n",
       "    </tr>\n",
       "    <tr>\n",
       "      <th>2</th>\n",
       "      <td>3</td>\n",
       "      <td>Блоки рекомендаций на сайт</td>\n",
       "      <td>7.00</td>\n",
       "      <td>5</td>\n",
       "    </tr>\n",
       "    <tr>\n",
       "      <th>1</th>\n",
       "      <td>2</td>\n",
       "      <td>Своя доставка</td>\n",
       "      <td>2.00</td>\n",
       "      <td>6</td>\n",
       "    </tr>\n",
       "    <tr>\n",
       "      <th>5</th>\n",
       "      <td>6</td>\n",
       "      <td>Страница отзывов</td>\n",
       "      <td>1.33</td>\n",
       "      <td>7</td>\n",
       "    </tr>\n",
       "    <tr>\n",
       "      <th>3</th>\n",
       "      <td>4</td>\n",
       "      <td>Новая структура категорий</td>\n",
       "      <td>1.12</td>\n",
       "      <td>8</td>\n",
       "    </tr>\n",
       "    <tr>\n",
       "      <th>4</th>\n",
       "      <td>5</td>\n",
       "      <td>Новый цвет фона глагне</td>\n",
       "      <td>1.00</td>\n",
       "      <td>9</td>\n",
       "    </tr>\n",
       "  </tbody>\n",
       "</table>\n",
       "</div>"
      ],
      "text/plain": [
       "   hyp_number                  short_name    ICE  hyp_ice_range\n",
       "8           9                Скидка на ДР  16.20              1\n",
       "0           1              2 новых канала  13.33              2\n",
       "7           8                    Подписка  11.20              3\n",
       "6           7           Баннеры с акциями   8.00              4\n",
       "2           3  Блоки рекомендаций на сайт   7.00              5\n",
       "1           2               Своя доставка   2.00              6\n",
       "5           6            Страница отзывов   1.33              7\n",
       "3           4   Новая структура категорий   1.12              8\n",
       "4           5      Новый цвет фона глагне   1.00              9"
      ]
     },
     "execution_count": 16,
     "metadata": {},
     "output_type": "execute_result"
    }
   ],
   "source": [
    "ice"
   ]
  },
  {
   "cell_type": "code",
   "execution_count": 17,
   "metadata": {},
   "outputs": [
    {
     "data": {
      "image/png": "[encoded data removed]",
      "text/plain": [
       "<Figure size 720x432 with 1 Axes>"
      ]
     },
     "metadata": {
      "needs_background": "light"
     },
     "output_type": "display_data"
    }
   ],
   "source": [
    "plt.figure(figsize=(10,6))\n",
    "sns.barplot(data=ice, y='short_name', x='ICE', palette=\"mako\")\n",
    "plt.title('Приоритизация ICE')\n",
    "plt.xlabel('Значение ICE')\n",
    "plt.ylabel('Гипотеза')\n",
    "plt.show()"
   ]
  },
  {
   "cell_type": "code",
   "execution_count": 18,
   "metadata": {},
   "outputs": [
    {
     "data": {
      "text/html": [
       "<div>\n",
       "<style scoped>\n",
       "    .dataframe tbody tr th:only-of-type {\n",
       "        vertical-align: middle;\n",
       "    }\n",
       "\n",
       "    .dataframe tbody tr th {\n",
       "        vertical-align: top;\n",
       "    }\n",
       "\n",
       "    .dataframe thead th {\n",
       "        text-align: right;\n",
       "    }\n",
       "</style>\n",
       "<table border=\"1\" class=\"dataframe\">\n",
       "  <thead>\n",
       "    <tr style=\"text-align: right;\">\n",
       "      <th></th>\n",
       "      <th>hyp_number</th>\n",
       "      <th>short_name</th>\n",
       "      <th>RICE</th>\n",
       "      <th>hyp_rice_range</th>\n",
       "    </tr>\n",
       "  </thead>\n",
       "  <tbody>\n",
       "    <tr>\n",
       "      <th>7</th>\n",
       "      <td>8</td>\n",
       "      <td>Подписка</td>\n",
       "      <td>112.0</td>\n",
       "      <td>1</td>\n",
       "    </tr>\n",
       "    <tr>\n",
       "      <th>2</th>\n",
       "      <td>3</td>\n",
       "      <td>Блоки рекомендаций на сайт</td>\n",
       "      <td>56.0</td>\n",
       "      <td>2</td>\n",
       "    </tr>\n",
       "    <tr>\n",
       "      <th>0</th>\n",
       "      <td>1</td>\n",
       "      <td>2 новых канала</td>\n",
       "      <td>40.0</td>\n",
       "      <td>3</td>\n",
       "    </tr>\n",
       "    <tr>\n",
       "      <th>6</th>\n",
       "      <td>7</td>\n",
       "      <td>Баннеры с акциями</td>\n",
       "      <td>40.0</td>\n",
       "      <td>4</td>\n",
       "    </tr>\n",
       "    <tr>\n",
       "      <th>8</th>\n",
       "      <td>9</td>\n",
       "      <td>Скидка на ДР</td>\n",
       "      <td>16.2</td>\n",
       "      <td>5</td>\n",
       "    </tr>\n",
       "    <tr>\n",
       "      <th>3</th>\n",
       "      <td>4</td>\n",
       "      <td>Новая структура категорий</td>\n",
       "      <td>9.0</td>\n",
       "      <td>6</td>\n",
       "    </tr>\n",
       "    <tr>\n",
       "      <th>1</th>\n",
       "      <td>2</td>\n",
       "      <td>Своя доставка</td>\n",
       "      <td>4.0</td>\n",
       "      <td>7</td>\n",
       "    </tr>\n",
       "    <tr>\n",
       "      <th>5</th>\n",
       "      <td>6</td>\n",
       "      <td>Страница отзывов</td>\n",
       "      <td>4.0</td>\n",
       "      <td>8</td>\n",
       "    </tr>\n",
       "    <tr>\n",
       "      <th>4</th>\n",
       "      <td>5</td>\n",
       "      <td>Новый цвет фона глагне</td>\n",
       "      <td>3.0</td>\n",
       "      <td>9</td>\n",
       "    </tr>\n",
       "  </tbody>\n",
       "</table>\n",
       "</div>"
      ],
      "text/plain": [
       "   hyp_number                  short_name   RICE  hyp_rice_range\n",
       "7           8                    Подписка  112.0               1\n",
       "2           3  Блоки рекомендаций на сайт   56.0               2\n",
       "0           1              2 новых канала   40.0               3\n",
       "6           7           Баннеры с акциями   40.0               4\n",
       "8           9                Скидка на ДР   16.2               5\n",
       "3           4   Новая структура категорий    9.0               6\n",
       "1           2               Своя доставка    4.0               7\n",
       "5           6            Страница отзывов    4.0               8\n",
       "4           5      Новый цвет фона глагне    3.0               9"
      ]
     },
     "execution_count": 18,
     "metadata": {},
     "output_type": "execute_result"
    }
   ],
   "source": [
    "rice"
   ]
  },
  {
   "cell_type": "code",
   "execution_count": 19,
   "metadata": {},
   "outputs": [
    {
     "data": {
      "image/png": "[encoded data removed]",
      "text/plain": [
       "<Figure size 720x432 with 1 Axes>"
      ]
     },
     "metadata": {
      "needs_background": "light"
     },
     "output_type": "display_data"
    }
   ],
   "source": [
    "plt.figure(figsize=(10,6))\n",
    "sns.barplot(data=rice, y='short_name', x='RICE', palette=\"mako\")\n",
    "plt.title('Приоритизация RICE')\n",
    "plt.xlabel('Значение RICE')\n",
    "plt.ylabel('Гипотеза')\n",
    "plt.show()"
   ]
  },
  {
   "cell_type": "markdown",
   "metadata": {},
   "source": [
    "Сравним приоритизацию гипотез в одном датафрейме. Добавим расчетный параметр и изменением рейтинга"
   ]
  },
  {
   "cell_type": "code",
   "execution_count": 20,
   "metadata": {},
   "outputs": [
    {
     "data": {
      "text/html": [
       "<div>\n",
       "<style scoped>\n",
       "    .dataframe tbody tr th:only-of-type {\n",
       "        vertical-align: middle;\n",
       "    }\n",
       "\n",
       "    .dataframe tbody tr th {\n",
       "        vertical-align: top;\n",
       "    }\n",
       "\n",
       "    .dataframe thead th {\n",
       "        text-align: right;\n",
       "    }\n",
       "</style>\n",
       "<table border=\"1\" class=\"dataframe\">\n",
       "  <thead>\n",
       "    <tr style=\"text-align: right;\">\n",
       "      <th></th>\n",
       "      <th>short_name</th>\n",
       "      <th>hyp_number</th>\n",
       "      <th>hyp_ice_range</th>\n",
       "      <th>hyp_rice_range</th>\n",
       "      <th>range_delta</th>\n",
       "    </tr>\n",
       "  </thead>\n",
       "  <tbody>\n",
       "    <tr>\n",
       "      <th>0</th>\n",
       "      <td>Скидка на ДР</td>\n",
       "      <td>9</td>\n",
       "      <td>1</td>\n",
       "      <td>5</td>\n",
       "      <td>-4</td>\n",
       "    </tr>\n",
       "    <tr>\n",
       "      <th>1</th>\n",
       "      <td>2 новых канала</td>\n",
       "      <td>1</td>\n",
       "      <td>2</td>\n",
       "      <td>3</td>\n",
       "      <td>-1</td>\n",
       "    </tr>\n",
       "    <tr>\n",
       "      <th>2</th>\n",
       "      <td>Подписка</td>\n",
       "      <td>8</td>\n",
       "      <td>3</td>\n",
       "      <td>1</td>\n",
       "      <td>2</td>\n",
       "    </tr>\n",
       "    <tr>\n",
       "      <th>3</th>\n",
       "      <td>Баннеры с акциями</td>\n",
       "      <td>7</td>\n",
       "      <td>4</td>\n",
       "      <td>4</td>\n",
       "      <td>0</td>\n",
       "    </tr>\n",
       "    <tr>\n",
       "      <th>4</th>\n",
       "      <td>Блоки рекомендаций на сайт</td>\n",
       "      <td>3</td>\n",
       "      <td>5</td>\n",
       "      <td>2</td>\n",
       "      <td>3</td>\n",
       "    </tr>\n",
       "    <tr>\n",
       "      <th>5</th>\n",
       "      <td>Своя доставка</td>\n",
       "      <td>2</td>\n",
       "      <td>6</td>\n",
       "      <td>7</td>\n",
       "      <td>-1</td>\n",
       "    </tr>\n",
       "    <tr>\n",
       "      <th>6</th>\n",
       "      <td>Страница отзывов</td>\n",
       "      <td>6</td>\n",
       "      <td>7</td>\n",
       "      <td>8</td>\n",
       "      <td>-1</td>\n",
       "    </tr>\n",
       "    <tr>\n",
       "      <th>7</th>\n",
       "      <td>Новая структура категорий</td>\n",
       "      <td>4</td>\n",
       "      <td>8</td>\n",
       "      <td>6</td>\n",
       "      <td>2</td>\n",
       "    </tr>\n",
       "    <tr>\n",
       "      <th>8</th>\n",
       "      <td>Новый цвет фона глагне</td>\n",
       "      <td>5</td>\n",
       "      <td>9</td>\n",
       "      <td>9</td>\n",
       "      <td>0</td>\n",
       "    </tr>\n",
       "  </tbody>\n",
       "</table>\n",
       "</div>"
      ],
      "text/plain": [
       "                   short_name  hyp_number  hyp_ice_range  hyp_rice_range  \\\n",
       "0                Скидка на ДР           9              1               5   \n",
       "1              2 новых канала           1              2               3   \n",
       "2                    Подписка           8              3               1   \n",
       "3           Баннеры с акциями           7              4               4   \n",
       "4  Блоки рекомендаций на сайт           3              5               2   \n",
       "5               Своя доставка           2              6               7   \n",
       "6            Страница отзывов           6              7               8   \n",
       "7   Новая структура категорий           4              8               6   \n",
       "8      Новый цвет фона глагне           5              9               9   \n",
       "\n",
       "   range_delta  \n",
       "0           -4  \n",
       "1           -1  \n",
       "2            2  \n",
       "3            0  \n",
       "4            3  \n",
       "5           -1  \n",
       "6           -1  \n",
       "7            2  \n",
       "8            0  "
      ]
     },
     "execution_count": 20,
     "metadata": {},
     "output_type": "execute_result"
    }
   ],
   "source": [
    "comparision = ice.merge(rice, how='left')\n",
    "comparision['range_delta'] = comparision['hyp_ice_range'] - comparision['hyp_rice_range']\n",
    "comparision[['short_name', 'hyp_number', 'hyp_ice_range', 'hyp_rice_range', 'range_delta']]"
   ]
  },
  {
   "cell_type": "markdown",
   "metadata": {},
   "source": [
    "**Как видно из талицы сравнения приоритизации методами ICE и  RICE:**\n",
    "- не изменился приоритет у гипотез №№ 7 и 5 (4-е и 9 место соответственно)\n",
    "- больше всего упала в приоритете гипотеза №9 - минус 4 места в рейтинге, т.к. значение параметра Reach для данной гипотезы = 1\n",
    "- на 1 позицию вниз упали в приоритете гипотезы №№ 1, 2, 6\n",
    "- на 2-3 позиции выросли в приоритете гипотезы 8, 4 и 3"
   ]
  },
  {
   "cell_type": "markdown",
   "metadata": {},
   "source": [
    "Попробуем отобразить значения параметров ICE и RICE на графике. В целом можно выделить ряд \"зон\"/\"областей\" в зависимости от значений параметров (низкий, средний, высокий):\n",
    "- ICE < 6, RICE < 20 - низкий приоритет, гипотезы 2, 4, 5, 6\n",
    "- ICE [6;10], RICE [20; 60] - средний приоритет, гипотезы 3 и 7\n",
    "- ICE > 10, RICE > 60 - высокий приоритет, гипотеза 8\n",
    "Отдельно выделяются гипотезы 1 и 9 с высоким значенем параметра ICE, и низким (по сравнению с гипотезой 8) значением параметра RICE"
   ]
  },
  {
   "cell_type": "code",
   "execution_count": 21,
   "metadata": {},
   "outputs": [
    {
     "data": {
      "image/png": "[encoded data removed]",
      "text/plain": [
       "<Figure size 720x432 with 1 Axes>"
      ]
     },
     "metadata": {
      "needs_background": "light"
     },
     "output_type": "display_data"
    }
   ],
   "source": [
    "plt.figure(figsize=(10,6))\n",
    "sns.scatterplot(data=hypothesis, x='ICE', y='RICE', legend=True, markers=True)\n",
    "plt.axhline(y=20, color='red', linestyle='--')\n",
    "plt.axhline(y=60, color='red', linestyle='--')\n",
    "plt.axvline(x=6, color='red', linestyle='--')\n",
    "plt.axvline(x=10, color='red', linestyle='--')\n",
    "plt.show()"
   ]
  },
  {
   "cell_type": "markdown",
   "metadata": {},
   "source": [
    "Возможно, на графике не хватает подписей, только вот почему-то в бибилиотеках seaborn и и matplotlib нет толком метода и инструмента, который может на графике типа scatterplot обозначить все маркеры. Можно использовать цикл для вставления текста по координатам на графике scatter из библиотеки matplotlib. Для этого необходимо подготовить данные отдельно."
   ]
  },
  {
   "cell_type": "code",
   "execution_count": 22,
   "metadata": {},
   "outputs": [
    {
     "data": {
      "image/png": "[encoded data removed]",
      "text/plain": [
       "<Figure size 720x432 with 1 Axes>"
      ]
     },
     "metadata": {
      "needs_background": "light"
     },
     "output_type": "display_data"
    }
   ],
   "source": [
    "x_list = hypothesis['ICE'].tolist()\n",
    "y_list = hypothesis['RICE'].tolist()\n",
    "labels = hypothesis['hyp_number'].tolist()\n",
    "plt.figure(figsize=(10,6))\n",
    "plt.scatter(x_list, y_list)\n",
    "\n",
    "for i, label in enumerate(labels):\n",
    "    plt.annotate(label, (x_list[i], y_list[i]))\n",
    "\n",
    "plt.axhline(y=20, color='red', linestyle='--')\n",
    "plt.axhline(y=60, color='red', linestyle='--')\n",
    "plt.axvline(x=6, color='red', linestyle='--')\n",
    "plt.axvline(x=10, color='red', linestyle='--')\n",
    "plt.xlabel('ICE')\n",
    "plt.ylabel('RICE')\n",
    "plt.show()"
   ]
  },
  {
   "cell_type": "code",
   "execution_count": 23,
   "metadata": {},
   "outputs": [
    {
     "data": {
      "image/png": "[encoded data removed]",
      "text/plain": [
       "<Figure size 720x432 with 1 Axes>"
      ]
     },
     "metadata": {
      "needs_background": "light"
     },
     "output_type": "display_data"
    }
   ],
   "source": [
    "labels_name = hypothesis['short_name'].tolist()\n",
    "plt.figure(figsize=(10,6))\n",
    "plt.scatter(x_list, y_list)\n",
    "\n",
    "for i, label in enumerate(labels_name):\n",
    "    plt.annotate(label, (x_list[i], y_list[i]))\n",
    "\n",
    "plt.axhline(y=20, color='red', linestyle='--')\n",
    "plt.axhline(y=60, color='red', linestyle='--')\n",
    "plt.axvline(x=6, color='red', linestyle='--')\n",
    "plt.axvline(x=10, color='red', linestyle='--')\n",
    "plt.xlabel('ICE')\n",
    "plt.ylabel('RICE')\n",
    "plt.show()"
   ]
  },
  {
   "cell_type": "markdown",
   "metadata": {},
   "source": [
    "начинания, связанные со своей доставкой, страницей отзывов, новой структурой категорий и новым цветом фона главной, явно в **пролете**"
   ]
  },
  {
   "cell_type": "markdown",
   "metadata": {},
   "source": [
    "## Часть 2. Анализ А/В-теста"
   ]
  },
  {
   "cell_type": "markdown",
   "metadata": {},
   "source": [
    "**Предварительная проверка данных**"
   ]
  },
  {
   "cell_type": "markdown",
   "metadata": {},
   "source": [
    "1) Проведем проверку данных на нормальность. Рассчитаем  критерий Шапиро-Уилка для значений выручки и количества посетителей. Пусть alpha = 0.05"
   ]
  },
  {
   "cell_type": "code",
   "execution_count": 24,
   "metadata": {},
   "outputs": [
    {
     "name": "stdout",
     "output_type": "stream",
     "text": [
      "р-значение для выручки: 0.0\n",
      "р-значение для посетителей: 0.00202026404440403\n"
     ]
    }
   ],
   "source": [
    "\n",
    "revenue_data = orders['revenue'].tolist()\n",
    "visitors_data = visitors['visitors'].tolist()\n",
    "\n",
    "result_1 = st.shapiro(revenue_data)\n",
    "p_value_1 = result_1[1]\n",
    "\n",
    "result_2 = st.shapiro(visitors_data)\n",
    "p_value_2 = result_2[1]\n",
    "\n",
    "print('р-значение для выручки:', p_value_1)\n",
    "print('р-значение для посетителей:', p_value_2)"
   ]
  },
  {
   "cell_type": "markdown",
   "metadata": {},
   "source": [
    "Как видно, р-значение намного ниже критического уровеня статистической значимости. Поэтому данные о выручке и количестве посетителей распределены не нормально. Аналогичное ненормальное распеределение внутри групп. А данные точно настоящие?)"
   ]
  },
  {
   "cell_type": "code",
   "execution_count": 25,
   "metadata": {},
   "outputs": [
    {
     "name": "stdout",
     "output_type": "stream",
     "text": [
      "р-значение для A: 1.739723833199812e-34\n",
      "р-значение для B: 0.0\n"
     ]
    }
   ],
   "source": [
    "revenue_a_data = orders.query('group == \"A\"')['revenue'].tolist()\n",
    "revenue_b_data = orders.query('group == \"B\"')['revenue'].tolist()\n",
    "\n",
    "#visitors_data = visitors['visitors'].tolist()\n",
    "\n",
    "result_1 = st.shapiro(revenue_a_data)\n",
    "p_value_1 = result_1[1]\n",
    "\n",
    "result_2 = st.shapiro(revenue_b_data)\n",
    "p_value_2 = result_2[1]\n",
    "\n",
    "print('р-значение для A:', p_value_1)\n",
    "print('р-значение для B:', p_value_2)"
   ]
  },
  {
   "cell_type": "markdown",
   "metadata": {},
   "source": [
    "2) Найдем значение критерия Манна-Уитни. Можно заключить, что между группами А и В нет какой-то статистически значимой разницы"
   ]
  },
  {
   "cell_type": "code",
   "execution_count": 26,
   "metadata": {},
   "outputs": [
    {
     "name": "stdout",
     "output_type": "stream",
     "text": [
      "0.3646454927716229\n"
     ]
    }
   ],
   "source": [
    "results = st.mannwhitneyu(revenue_a_data, revenue_b_data, use_continuity=True, alternative='less')\n",
    "print(results.pvalue)"
   ]
  },
  {
   "cell_type": "markdown",
   "metadata": {},
   "source": [
    "3) Посмотрим на динамику выручки и посетителей в разрезе групп в целом"
   ]
  },
  {
   "cell_type": "code",
   "execution_count": 27,
   "metadata": {},
   "outputs": [
    {
     "data": {
      "image/png": "[encoded data removed]",
      "text/plain": [
       "<Figure size 720x432 with 1 Axes>"
      ]
     },
     "metadata": {
      "needs_background": "light"
     },
     "output_type": "display_data"
    }
   ],
   "source": [
    "plt.figure(figsize=(10,6))\n",
    "sns.lineplot(data=orders, x='date', y='revenue', hue='group')\n",
    "plt.xticks(rotation=45)\n",
    "plt.show()"
   ]
  },
  {
   "cell_type": "code",
   "execution_count": 28,
   "metadata": {},
   "outputs": [
    {
     "data": {
      "image/png": "[encoded data removed]",
      "text/plain": [
       "<Figure size 720x432 with 1 Axes>"
      ]
     },
     "metadata": {
      "needs_background": "light"
     },
     "output_type": "display_data"
    }
   ],
   "source": [
    "plt.figure(figsize=(10,6))\n",
    "sns.lineplot(data=visitors, x='date', y='visitors', hue='group')\n",
    "plt.xticks(rotation=45)\n",
    "plt.show()"
   ]
  },
  {
   "cell_type": "markdown",
   "metadata": {},
   "source": [
    "Основываясь на данных графиках динамики выявить особого различия между группами не возможно. Видем вспелск выручки 19 августа 2019 года в группе В."
   ]
  },
  {
   "cell_type": "markdown",
   "metadata": {},
   "source": [
    "### График кумулятивной выручки по группам"
   ]
  },
  {
   "cell_type": "code",
   "execution_count": 29,
   "metadata": {},
   "outputs": [
    {
     "data": {
      "text/html": [
       "<div>\n",
       "<style scoped>\n",
       "    .dataframe tbody tr th:only-of-type {\n",
       "        vertical-align: middle;\n",
       "    }\n",
       "\n",
       "    .dataframe tbody tr th {\n",
       "        vertical-align: top;\n",
       "    }\n",
       "\n",
       "    .dataframe thead th {\n",
       "        text-align: right;\n",
       "    }\n",
       "</style>\n",
       "<table border=\"1\" class=\"dataframe\">\n",
       "  <thead>\n",
       "    <tr style=\"text-align: right;\">\n",
       "      <th></th>\n",
       "      <th>transactionId</th>\n",
       "      <th>visitorId</th>\n",
       "      <th>date</th>\n",
       "      <th>revenue</th>\n",
       "      <th>group</th>\n",
       "    </tr>\n",
       "  </thead>\n",
       "  <tbody>\n",
       "    <tr>\n",
       "      <th>0</th>\n",
       "      <td>3667963787</td>\n",
       "      <td>3312258926</td>\n",
       "      <td>2019-08-15</td>\n",
       "      <td>1650</td>\n",
       "      <td>B</td>\n",
       "    </tr>\n",
       "    <tr>\n",
       "      <th>1</th>\n",
       "      <td>2804400009</td>\n",
       "      <td>3642806036</td>\n",
       "      <td>2019-08-15</td>\n",
       "      <td>730</td>\n",
       "      <td>B</td>\n",
       "    </tr>\n",
       "    <tr>\n",
       "      <th>2</th>\n",
       "      <td>2961555356</td>\n",
       "      <td>4069496402</td>\n",
       "      <td>2019-08-15</td>\n",
       "      <td>400</td>\n",
       "      <td>A</td>\n",
       "    </tr>\n",
       "    <tr>\n",
       "      <th>3</th>\n",
       "      <td>3797467345</td>\n",
       "      <td>1196621759</td>\n",
       "      <td>2019-08-15</td>\n",
       "      <td>9759</td>\n",
       "      <td>B</td>\n",
       "    </tr>\n",
       "    <tr>\n",
       "      <th>4</th>\n",
       "      <td>2282983706</td>\n",
       "      <td>2322279887</td>\n",
       "      <td>2019-08-15</td>\n",
       "      <td>2308</td>\n",
       "      <td>B</td>\n",
       "    </tr>\n",
       "    <tr>\n",
       "      <th>...</th>\n",
       "      <td>...</td>\n",
       "      <td>...</td>\n",
       "      <td>...</td>\n",
       "      <td>...</td>\n",
       "      <td>...</td>\n",
       "    </tr>\n",
       "    <tr>\n",
       "      <th>1192</th>\n",
       "      <td>2662137336</td>\n",
       "      <td>3733762160</td>\n",
       "      <td>2019-08-14</td>\n",
       "      <td>6490</td>\n",
       "      <td>B</td>\n",
       "    </tr>\n",
       "    <tr>\n",
       "      <th>1193</th>\n",
       "      <td>2203539145</td>\n",
       "      <td>370388673</td>\n",
       "      <td>2019-08-14</td>\n",
       "      <td>3190</td>\n",
       "      <td>A</td>\n",
       "    </tr>\n",
       "    <tr>\n",
       "      <th>1194</th>\n",
       "      <td>1807773912</td>\n",
       "      <td>573423106</td>\n",
       "      <td>2019-08-14</td>\n",
       "      <td>10550</td>\n",
       "      <td>A</td>\n",
       "    </tr>\n",
       "    <tr>\n",
       "      <th>1195</th>\n",
       "      <td>1947021204</td>\n",
       "      <td>1614305549</td>\n",
       "      <td>2019-08-14</td>\n",
       "      <td>100</td>\n",
       "      <td>A</td>\n",
       "    </tr>\n",
       "    <tr>\n",
       "      <th>1196</th>\n",
       "      <td>3936777065</td>\n",
       "      <td>2108080724</td>\n",
       "      <td>2019-08-15</td>\n",
       "      <td>202740</td>\n",
       "      <td>B</td>\n",
       "    </tr>\n",
       "  </tbody>\n",
       "</table>\n",
       "<p>1197 rows × 5 columns</p>\n",
       "</div>"
      ],
      "text/plain": [
       "      transactionId   visitorId       date  revenue group\n",
       "0        3667963787  3312258926 2019-08-15     1650     B\n",
       "1        2804400009  3642806036 2019-08-15      730     B\n",
       "2        2961555356  4069496402 2019-08-15      400     A\n",
       "3        3797467345  1196621759 2019-08-15     9759     B\n",
       "4        2282983706  2322279887 2019-08-15     2308     B\n",
       "...             ...         ...        ...      ...   ...\n",
       "1192     2662137336  3733762160 2019-08-14     6490     B\n",
       "1193     2203539145   370388673 2019-08-14     3190     A\n",
       "1194     1807773912   573423106 2019-08-14    10550     A\n",
       "1195     1947021204  1614305549 2019-08-14      100     A\n",
       "1196     3936777065  2108080724 2019-08-15   202740     B\n",
       "\n",
       "[1197 rows x 5 columns]"
      ]
     },
     "execution_count": 29,
     "metadata": {},
     "output_type": "execute_result"
    }
   ],
   "source": [
    "orders"
   ]
  },
  {
   "cell_type": "code",
   "execution_count": 30,
   "metadata": {},
   "outputs": [
    {
     "data": {
      "text/html": [
       "<div>\n",
       "<style scoped>\n",
       "    .dataframe tbody tr th:only-of-type {\n",
       "        vertical-align: middle;\n",
       "    }\n",
       "\n",
       "    .dataframe tbody tr th {\n",
       "        vertical-align: top;\n",
       "    }\n",
       "\n",
       "    .dataframe thead th {\n",
       "        text-align: right;\n",
       "    }\n",
       "</style>\n",
       "<table border=\"1\" class=\"dataframe\">\n",
       "  <thead>\n",
       "    <tr style=\"text-align: right;\">\n",
       "      <th></th>\n",
       "      <th>date</th>\n",
       "      <th>group</th>\n",
       "      <th>orders</th>\n",
       "      <th>buyers</th>\n",
       "      <th>revenue</th>\n",
       "    </tr>\n",
       "  </thead>\n",
       "  <tbody>\n",
       "    <tr>\n",
       "      <th>0</th>\n",
       "      <td>2019-08-01</td>\n",
       "      <td>A</td>\n",
       "      <td>24</td>\n",
       "      <td>20</td>\n",
       "      <td>148579</td>\n",
       "    </tr>\n",
       "    <tr>\n",
       "      <th>1</th>\n",
       "      <td>2019-08-01</td>\n",
       "      <td>B</td>\n",
       "      <td>21</td>\n",
       "      <td>20</td>\n",
       "      <td>101217</td>\n",
       "    </tr>\n",
       "    <tr>\n",
       "      <th>2</th>\n",
       "      <td>2019-08-02</td>\n",
       "      <td>A</td>\n",
       "      <td>44</td>\n",
       "      <td>39</td>\n",
       "      <td>242401</td>\n",
       "    </tr>\n",
       "    <tr>\n",
       "      <th>3</th>\n",
       "      <td>2019-08-02</td>\n",
       "      <td>B</td>\n",
       "      <td>45</td>\n",
       "      <td>43</td>\n",
       "      <td>266748</td>\n",
       "    </tr>\n",
       "    <tr>\n",
       "      <th>4</th>\n",
       "      <td>2019-08-03</td>\n",
       "      <td>A</td>\n",
       "      <td>68</td>\n",
       "      <td>63</td>\n",
       "      <td>354874</td>\n",
       "    </tr>\n",
       "    <tr>\n",
       "      <th>...</th>\n",
       "      <td>...</td>\n",
       "      <td>...</td>\n",
       "      <td>...</td>\n",
       "      <td>...</td>\n",
       "      <td>...</td>\n",
       "    </tr>\n",
       "    <tr>\n",
       "      <th>57</th>\n",
       "      <td>2019-08-29</td>\n",
       "      <td>B</td>\n",
       "      <td>596</td>\n",
       "      <td>584</td>\n",
       "      <td>5559398</td>\n",
       "    </tr>\n",
       "    <tr>\n",
       "      <th>58</th>\n",
       "      <td>2019-08-30</td>\n",
       "      <td>A</td>\n",
       "      <td>545</td>\n",
       "      <td>531</td>\n",
       "      <td>4022970</td>\n",
       "    </tr>\n",
       "    <tr>\n",
       "      <th>59</th>\n",
       "      <td>2019-08-30</td>\n",
       "      <td>B</td>\n",
       "      <td>620</td>\n",
       "      <td>608</td>\n",
       "      <td>5774631</td>\n",
       "    </tr>\n",
       "    <tr>\n",
       "      <th>60</th>\n",
       "      <td>2019-08-31</td>\n",
       "      <td>A</td>\n",
       "      <td>557</td>\n",
       "      <td>543</td>\n",
       "      <td>4084803</td>\n",
       "    </tr>\n",
       "    <tr>\n",
       "      <th>61</th>\n",
       "      <td>2019-08-31</td>\n",
       "      <td>B</td>\n",
       "      <td>640</td>\n",
       "      <td>628</td>\n",
       "      <td>5907760</td>\n",
       "    </tr>\n",
       "  </tbody>\n",
       "</table>\n",
       "<p>62 rows × 5 columns</p>\n",
       "</div>"
      ],
      "text/plain": [
       "         date group  orders  buyers  revenue\n",
       "0  2019-08-01     A      24      20   148579\n",
       "1  2019-08-01     B      21      20   101217\n",
       "2  2019-08-02     A      44      39   242401\n",
       "3  2019-08-02     B      45      43   266748\n",
       "4  2019-08-03     A      68      63   354874\n",
       "..        ...   ...     ...     ...      ...\n",
       "57 2019-08-29     B     596     584  5559398\n",
       "58 2019-08-30     A     545     531  4022970\n",
       "59 2019-08-30     B     620     608  5774631\n",
       "60 2019-08-31     A     557     543  4084803\n",
       "61 2019-08-31     B     640     628  5907760\n",
       "\n",
       "[62 rows x 5 columns]"
      ]
     },
     "execution_count": 30,
     "metadata": {},
     "output_type": "execute_result"
    }
   ],
   "source": [
    "#агрегируем данные о выручке по дате и группе - посчитаем уникальное количество покупателей и заказов, а также сумму заказов (выручки)\n",
    "orders_agg = orders.groupby(['date','group']).agg(\n",
    "                            {'transactionId':'nunique','visitorId':'nunique','revenue':'sum'}).rename(\n",
    "                            columns={'transactionId':'orders','visitorId':'buyers'}).reset_index()\n",
    "#добавим вспомогательный столбец\n",
    "orders_agg['group_copy'] = orders_agg['group']\n",
    "orders_agg = orders_agg.set_index(['date','group'])\n",
    "#посчитаем кумулятивные значения\n",
    "orders_cumsum = orders_agg.sort_values(['date','group']).groupby('group_copy').cumsum().reset_index()\n",
    "orders_cumsum"
   ]
  },
  {
   "cell_type": "code",
   "execution_count": 31,
   "metadata": {},
   "outputs": [
    {
     "data": {
      "text/html": [
       "<div>\n",
       "<style scoped>\n",
       "    .dataframe tbody tr th:only-of-type {\n",
       "        vertical-align: middle;\n",
       "    }\n",
       "\n",
       "    .dataframe tbody tr th {\n",
       "        vertical-align: top;\n",
       "    }\n",
       "\n",
       "    .dataframe thead th {\n",
       "        text-align: right;\n",
       "    }\n",
       "</style>\n",
       "<table border=\"1\" class=\"dataframe\">\n",
       "  <thead>\n",
       "    <tr style=\"text-align: right;\">\n",
       "      <th></th>\n",
       "      <th>date</th>\n",
       "      <th>group</th>\n",
       "      <th>visitors</th>\n",
       "    </tr>\n",
       "  </thead>\n",
       "  <tbody>\n",
       "    <tr>\n",
       "      <th>0</th>\n",
       "      <td>2019-08-01</td>\n",
       "      <td>A</td>\n",
       "      <td>719</td>\n",
       "    </tr>\n",
       "    <tr>\n",
       "      <th>1</th>\n",
       "      <td>2019-08-01</td>\n",
       "      <td>B</td>\n",
       "      <td>713</td>\n",
       "    </tr>\n",
       "    <tr>\n",
       "      <th>2</th>\n",
       "      <td>2019-08-02</td>\n",
       "      <td>A</td>\n",
       "      <td>1338</td>\n",
       "    </tr>\n",
       "    <tr>\n",
       "      <th>3</th>\n",
       "      <td>2019-08-02</td>\n",
       "      <td>B</td>\n",
       "      <td>1294</td>\n",
       "    </tr>\n",
       "    <tr>\n",
       "      <th>4</th>\n",
       "      <td>2019-08-03</td>\n",
       "      <td>A</td>\n",
       "      <td>1845</td>\n",
       "    </tr>\n",
       "    <tr>\n",
       "      <th>...</th>\n",
       "      <td>...</td>\n",
       "      <td>...</td>\n",
       "      <td>...</td>\n",
       "    </tr>\n",
       "    <tr>\n",
       "      <th>57</th>\n",
       "      <td>2019-08-29</td>\n",
       "      <td>B</td>\n",
       "      <td>17708</td>\n",
       "    </tr>\n",
       "    <tr>\n",
       "      <th>58</th>\n",
       "      <td>2019-08-30</td>\n",
       "      <td>A</td>\n",
       "      <td>18037</td>\n",
       "    </tr>\n",
       "    <tr>\n",
       "      <th>59</th>\n",
       "      <td>2019-08-30</td>\n",
       "      <td>B</td>\n",
       "      <td>18198</td>\n",
       "    </tr>\n",
       "    <tr>\n",
       "      <th>60</th>\n",
       "      <td>2019-08-31</td>\n",
       "      <td>A</td>\n",
       "      <td>18736</td>\n",
       "    </tr>\n",
       "    <tr>\n",
       "      <th>61</th>\n",
       "      <td>2019-08-31</td>\n",
       "      <td>B</td>\n",
       "      <td>18916</td>\n",
       "    </tr>\n",
       "  </tbody>\n",
       "</table>\n",
       "<p>62 rows × 3 columns</p>\n",
       "</div>"
      ],
      "text/plain": [
       "         date group  visitors\n",
       "0  2019-08-01     A       719\n",
       "1  2019-08-01     B       713\n",
       "2  2019-08-02     A      1338\n",
       "3  2019-08-02     B      1294\n",
       "4  2019-08-03     A      1845\n",
       "..        ...   ...       ...\n",
       "57 2019-08-29     B     17708\n",
       "58 2019-08-30     A     18037\n",
       "59 2019-08-30     B     18198\n",
       "60 2019-08-31     A     18736\n",
       "61 2019-08-31     B     18916\n",
       "\n",
       "[62 rows x 3 columns]"
      ]
     },
     "execution_count": 31,
     "metadata": {},
     "output_type": "execute_result"
    }
   ],
   "source": [
    "#аналогично для посетителей без дополнительной агрегации и группировки\n",
    "visitors_cumsum = visitors.groupby(['date','group']).agg({'visitors':'sum'}).sort_values(['date','group']).reset_index()\n",
    "visitors_cumsum['group_copy'] = visitors_cumsum['group']\n",
    "visitors_cumsum = visitors_cumsum.set_index(['date','group']).groupby('group_copy').cumsum().reset_index()\n",
    "visitors_cumsum"
   ]
  },
  {
   "cell_type": "code",
   "execution_count": 32,
   "metadata": {},
   "outputs": [
    {
     "data": {
      "text/html": [
       "<div>\n",
       "<style scoped>\n",
       "    .dataframe tbody tr th:only-of-type {\n",
       "        vertical-align: middle;\n",
       "    }\n",
       "\n",
       "    .dataframe tbody tr th {\n",
       "        vertical-align: top;\n",
       "    }\n",
       "\n",
       "    .dataframe thead th {\n",
       "        text-align: right;\n",
       "    }\n",
       "</style>\n",
       "<table border=\"1\" class=\"dataframe\">\n",
       "  <thead>\n",
       "    <tr style=\"text-align: right;\">\n",
       "      <th></th>\n",
       "      <th>date</th>\n",
       "      <th>group</th>\n",
       "      <th>orders</th>\n",
       "      <th>buyers</th>\n",
       "      <th>revenue</th>\n",
       "      <th>visitors</th>\n",
       "      <th>revenue_mill</th>\n",
       "    </tr>\n",
       "  </thead>\n",
       "  <tbody>\n",
       "    <tr>\n",
       "      <th>0</th>\n",
       "      <td>2019-08-01</td>\n",
       "      <td>A</td>\n",
       "      <td>24</td>\n",
       "      <td>20</td>\n",
       "      <td>148579</td>\n",
       "      <td>719</td>\n",
       "      <td>0.149</td>\n",
       "    </tr>\n",
       "    <tr>\n",
       "      <th>1</th>\n",
       "      <td>2019-08-01</td>\n",
       "      <td>B</td>\n",
       "      <td>21</td>\n",
       "      <td>20</td>\n",
       "      <td>101217</td>\n",
       "      <td>713</td>\n",
       "      <td>0.101</td>\n",
       "    </tr>\n",
       "    <tr>\n",
       "      <th>2</th>\n",
       "      <td>2019-08-02</td>\n",
       "      <td>A</td>\n",
       "      <td>44</td>\n",
       "      <td>39</td>\n",
       "      <td>242401</td>\n",
       "      <td>1338</td>\n",
       "      <td>0.242</td>\n",
       "    </tr>\n",
       "    <tr>\n",
       "      <th>3</th>\n",
       "      <td>2019-08-02</td>\n",
       "      <td>B</td>\n",
       "      <td>45</td>\n",
       "      <td>43</td>\n",
       "      <td>266748</td>\n",
       "      <td>1294</td>\n",
       "      <td>0.267</td>\n",
       "    </tr>\n",
       "    <tr>\n",
       "      <th>4</th>\n",
       "      <td>2019-08-03</td>\n",
       "      <td>A</td>\n",
       "      <td>68</td>\n",
       "      <td>63</td>\n",
       "      <td>354874</td>\n",
       "      <td>1845</td>\n",
       "      <td>0.355</td>\n",
       "    </tr>\n",
       "    <tr>\n",
       "      <th>...</th>\n",
       "      <td>...</td>\n",
       "      <td>...</td>\n",
       "      <td>...</td>\n",
       "      <td>...</td>\n",
       "      <td>...</td>\n",
       "      <td>...</td>\n",
       "      <td>...</td>\n",
       "    </tr>\n",
       "    <tr>\n",
       "      <th>57</th>\n",
       "      <td>2019-08-29</td>\n",
       "      <td>B</td>\n",
       "      <td>596</td>\n",
       "      <td>584</td>\n",
       "      <td>5559398</td>\n",
       "      <td>17708</td>\n",
       "      <td>5.559</td>\n",
       "    </tr>\n",
       "    <tr>\n",
       "      <th>58</th>\n",
       "      <td>2019-08-30</td>\n",
       "      <td>A</td>\n",
       "      <td>545</td>\n",
       "      <td>531</td>\n",
       "      <td>4022970</td>\n",
       "      <td>18037</td>\n",
       "      <td>4.023</td>\n",
       "    </tr>\n",
       "    <tr>\n",
       "      <th>59</th>\n",
       "      <td>2019-08-30</td>\n",
       "      <td>B</td>\n",
       "      <td>620</td>\n",
       "      <td>608</td>\n",
       "      <td>5774631</td>\n",
       "      <td>18198</td>\n",
       "      <td>5.775</td>\n",
       "    </tr>\n",
       "    <tr>\n",
       "      <th>60</th>\n",
       "      <td>2019-08-31</td>\n",
       "      <td>A</td>\n",
       "      <td>557</td>\n",
       "      <td>543</td>\n",
       "      <td>4084803</td>\n",
       "      <td>18736</td>\n",
       "      <td>4.085</td>\n",
       "    </tr>\n",
       "    <tr>\n",
       "      <th>61</th>\n",
       "      <td>2019-08-31</td>\n",
       "      <td>B</td>\n",
       "      <td>640</td>\n",
       "      <td>628</td>\n",
       "      <td>5907760</td>\n",
       "      <td>18916</td>\n",
       "      <td>5.908</td>\n",
       "    </tr>\n",
       "  </tbody>\n",
       "</table>\n",
       "<p>62 rows × 7 columns</p>\n",
       "</div>"
      ],
      "text/plain": [
       "         date group  orders  buyers  revenue  visitors  revenue_mill\n",
       "0  2019-08-01     A      24      20   148579       719         0.149\n",
       "1  2019-08-01     B      21      20   101217       713         0.101\n",
       "2  2019-08-02     A      44      39   242401      1338         0.242\n",
       "3  2019-08-02     B      45      43   266748      1294         0.267\n",
       "4  2019-08-03     A      68      63   354874      1845         0.355\n",
       "..        ...   ...     ...     ...      ...       ...           ...\n",
       "57 2019-08-29     B     596     584  5559398     17708         5.559\n",
       "58 2019-08-30     A     545     531  4022970     18037         4.023\n",
       "59 2019-08-30     B     620     608  5774631     18198         5.775\n",
       "60 2019-08-31     A     557     543  4084803     18736         4.085\n",
       "61 2019-08-31     B     640     628  5907760     18916         5.908\n",
       "\n",
       "[62 rows x 7 columns]"
      ]
     },
     "execution_count": 32,
     "metadata": {},
     "output_type": "execute_result"
    }
   ],
   "source": [
    "#Объединим 2 таблицы с кумулятивными данными\n",
    "cumulativedata = orders_cumsum.merge(visitors_cumsum, left_on=['date', 'group'], right_on=['date', 'group'])\n",
    "cumulativedata['revenue_mill'] = (cumulativedata['revenue'] / 1000000).map('{:,.3f}'.format).astype(float)\n",
    "cumulativedata"
   ]
  },
  {
   "cell_type": "code",
   "execution_count": 33,
   "metadata": {},
   "outputs": [
    {
     "data": {
      "image/png": "[encoded data removed]",
      "text/plain": [
       "<Figure size 720x432 with 1 Axes>"
      ]
     },
     "metadata": {
      "needs_background": "light"
     },
     "output_type": "display_data"
    }
   ],
   "source": [
    "plt.figure(figsize=(10,6))\n",
    "sns.lineplot(data=cumulativedata, x='date', y='revenue_mill', hue='group')\n",
    "plt.title('График кумулятивной выручки по группам')\n",
    "plt.ylabel('Revenue in millions')\n",
    "plt.xticks(rotation=45)\n",
    "plt.show()"
   ]
  },
  {
   "cell_type": "markdown",
   "metadata": {},
   "source": [
    "По графику кумулятивной выручки видно, что 19 августа 2019 года в группе В произошел резкий скачок выручки (также видно на графике динамики выручки, см. выше). Скорее всего это случайный выброс (ошибка в бд, дописали лишний нолик), т.к. далее кумулятивная выручка растет линейно. *В тоже время 19 августа достигнет максимума метеорный поток Каппа Цигниды - с редкими, но яркими и крупными метеорами. Ну и что-то там с Меркурием в Сатурне...* Возможно это астрономическое событие повлияло на поведение пользователей. \n",
    "\n",
    "А что по посетителям? Количество посетителей растет линейно без внезапных всплесков, т.е. наплыва посетителей в данную дату не наблюдалось"
   ]
  },
  {
   "cell_type": "code",
   "execution_count": 34,
   "metadata": {},
   "outputs": [
    {
     "data": {
      "image/png": "[encoded data removed]",
      "text/plain": [
       "<Figure size 720x432 with 1 Axes>"
      ]
     },
     "metadata": {
      "needs_background": "light"
     },
     "output_type": "display_data"
    }
   ],
   "source": [
    "plt.figure(figsize=(10,6))\n",
    "sns.lineplot(data=cumulativedata, x='date', y='visitors', hue='group')\n",
    "plt.title('Количество посетителей (с накоплением)')\n",
    "plt.xticks(rotation=45)\n",
    "plt.show()"
   ]
  },
  {
   "cell_type": "markdown",
   "metadata": {},
   "source": [
    "#### Проверка \"пересекающихся пользователей\"\n",
    "\n",
    "Проверим, попадают ли какие-нибудь пользователи в обе группы. Для этого проанализируем данные orders"
   ]
  },
  {
   "cell_type": "code",
   "execution_count": 35,
   "metadata": {},
   "outputs": [
    {
     "name": "stdout",
     "output_type": "stream",
     "text": [
      "Количество пользователей, которые попали в обе группы -  58\n"
     ]
    }
   ],
   "source": [
    "v_i = orders.pivot_table(index='visitorId', columns='group', values='transactionId', aggfunc='count').reset_index()\n",
    "\n",
    "def groups_check(group):\n",
    "    if group > 0:\n",
    "        return 1\n",
    "    else:\n",
    "        return 0\n",
    "v_i['AA'] = v_i['A'].apply(groups_check)\n",
    "v_i['BB'] = v_i['B'].apply(groups_check)\n",
    "\n",
    "v_i['A+B'] = v_i['AA'] + v_i['BB']\n",
    "v_i_user_list = v_i.query('A+B > 1')['visitorId'].tolist()\n",
    "\n",
    "print('Количество пользователей, которые попали в обе группы - ', len(v_i_user_list))\n"
   ]
  },
  {
   "cell_type": "markdown",
   "metadata": {},
   "source": [
    "Т.е. в выборки групп А и В попали одинаковые пользователи. По идее на этапе анализа результатов теста по \"очищенным\" данным нам также необходимо избавиться от таких пользователей"
   ]
  },
  {
   "cell_type": "markdown",
   "metadata": {},
   "source": [
    "### График кумулятивного среднего чека по группам"
   ]
  },
  {
   "cell_type": "markdown",
   "metadata": {},
   "source": [
    "Добавим дополнительные параметры"
   ]
  },
  {
   "cell_type": "code",
   "execution_count": 36,
   "metadata": {},
   "outputs": [
    {
     "data": {
      "text/html": [
       "<div>\n",
       "<style scoped>\n",
       "    .dataframe tbody tr th:only-of-type {\n",
       "        vertical-align: middle;\n",
       "    }\n",
       "\n",
       "    .dataframe tbody tr th {\n",
       "        vertical-align: top;\n",
       "    }\n",
       "\n",
       "    .dataframe thead th {\n",
       "        text-align: right;\n",
       "    }\n",
       "</style>\n",
       "<table border=\"1\" class=\"dataframe\">\n",
       "  <thead>\n",
       "    <tr style=\"text-align: right;\">\n",
       "      <th></th>\n",
       "      <th>date</th>\n",
       "      <th>group</th>\n",
       "      <th>orders</th>\n",
       "      <th>buyers</th>\n",
       "      <th>revenue</th>\n",
       "      <th>visitors</th>\n",
       "      <th>revenue_mill</th>\n",
       "      <th>avg_bill</th>\n",
       "      <th>conversion</th>\n",
       "    </tr>\n",
       "  </thead>\n",
       "  <tbody>\n",
       "    <tr>\n",
       "      <th>0</th>\n",
       "      <td>2019-08-01</td>\n",
       "      <td>A</td>\n",
       "      <td>24</td>\n",
       "      <td>20</td>\n",
       "      <td>148579</td>\n",
       "      <td>719</td>\n",
       "      <td>0.149</td>\n",
       "      <td>6190.791667</td>\n",
       "      <td>0.033380</td>\n",
       "    </tr>\n",
       "    <tr>\n",
       "      <th>1</th>\n",
       "      <td>2019-08-01</td>\n",
       "      <td>B</td>\n",
       "      <td>21</td>\n",
       "      <td>20</td>\n",
       "      <td>101217</td>\n",
       "      <td>713</td>\n",
       "      <td>0.101</td>\n",
       "      <td>4819.857143</td>\n",
       "      <td>0.029453</td>\n",
       "    </tr>\n",
       "    <tr>\n",
       "      <th>2</th>\n",
       "      <td>2019-08-02</td>\n",
       "      <td>A</td>\n",
       "      <td>44</td>\n",
       "      <td>39</td>\n",
       "      <td>242401</td>\n",
       "      <td>1338</td>\n",
       "      <td>0.242</td>\n",
       "      <td>5509.113636</td>\n",
       "      <td>0.032885</td>\n",
       "    </tr>\n",
       "    <tr>\n",
       "      <th>3</th>\n",
       "      <td>2019-08-02</td>\n",
       "      <td>B</td>\n",
       "      <td>45</td>\n",
       "      <td>43</td>\n",
       "      <td>266748</td>\n",
       "      <td>1294</td>\n",
       "      <td>0.267</td>\n",
       "      <td>5927.733333</td>\n",
       "      <td>0.034776</td>\n",
       "    </tr>\n",
       "    <tr>\n",
       "      <th>4</th>\n",
       "      <td>2019-08-03</td>\n",
       "      <td>A</td>\n",
       "      <td>68</td>\n",
       "      <td>63</td>\n",
       "      <td>354874</td>\n",
       "      <td>1845</td>\n",
       "      <td>0.355</td>\n",
       "      <td>5218.735294</td>\n",
       "      <td>0.036856</td>\n",
       "    </tr>\n",
       "    <tr>\n",
       "      <th>...</th>\n",
       "      <td>...</td>\n",
       "      <td>...</td>\n",
       "      <td>...</td>\n",
       "      <td>...</td>\n",
       "      <td>...</td>\n",
       "      <td>...</td>\n",
       "      <td>...</td>\n",
       "      <td>...</td>\n",
       "      <td>...</td>\n",
       "    </tr>\n",
       "    <tr>\n",
       "      <th>57</th>\n",
       "      <td>2019-08-29</td>\n",
       "      <td>B</td>\n",
       "      <td>596</td>\n",
       "      <td>584</td>\n",
       "      <td>5559398</td>\n",
       "      <td>17708</td>\n",
       "      <td>5.559</td>\n",
       "      <td>9327.848993</td>\n",
       "      <td>0.033657</td>\n",
       "    </tr>\n",
       "    <tr>\n",
       "      <th>58</th>\n",
       "      <td>2019-08-30</td>\n",
       "      <td>A</td>\n",
       "      <td>545</td>\n",
       "      <td>531</td>\n",
       "      <td>4022970</td>\n",
       "      <td>18037</td>\n",
       "      <td>4.023</td>\n",
       "      <td>7381.596330</td>\n",
       "      <td>0.030216</td>\n",
       "    </tr>\n",
       "    <tr>\n",
       "      <th>59</th>\n",
       "      <td>2019-08-30</td>\n",
       "      <td>B</td>\n",
       "      <td>620</td>\n",
       "      <td>608</td>\n",
       "      <td>5774631</td>\n",
       "      <td>18198</td>\n",
       "      <td>5.775</td>\n",
       "      <td>9313.920968</td>\n",
       "      <td>0.034070</td>\n",
       "    </tr>\n",
       "    <tr>\n",
       "      <th>60</th>\n",
       "      <td>2019-08-31</td>\n",
       "      <td>A</td>\n",
       "      <td>557</td>\n",
       "      <td>543</td>\n",
       "      <td>4084803</td>\n",
       "      <td>18736</td>\n",
       "      <td>4.085</td>\n",
       "      <td>7333.578097</td>\n",
       "      <td>0.029729</td>\n",
       "    </tr>\n",
       "    <tr>\n",
       "      <th>61</th>\n",
       "      <td>2019-08-31</td>\n",
       "      <td>B</td>\n",
       "      <td>640</td>\n",
       "      <td>628</td>\n",
       "      <td>5907760</td>\n",
       "      <td>18916</td>\n",
       "      <td>5.908</td>\n",
       "      <td>9230.875000</td>\n",
       "      <td>0.033834</td>\n",
       "    </tr>\n",
       "  </tbody>\n",
       "</table>\n",
       "<p>62 rows × 9 columns</p>\n",
       "</div>"
      ],
      "text/plain": [
       "         date group  orders  buyers  revenue  visitors  revenue_mill  \\\n",
       "0  2019-08-01     A      24      20   148579       719         0.149   \n",
       "1  2019-08-01     B      21      20   101217       713         0.101   \n",
       "2  2019-08-02     A      44      39   242401      1338         0.242   \n",
       "3  2019-08-02     B      45      43   266748      1294         0.267   \n",
       "4  2019-08-03     A      68      63   354874      1845         0.355   \n",
       "..        ...   ...     ...     ...      ...       ...           ...   \n",
       "57 2019-08-29     B     596     584  5559398     17708         5.559   \n",
       "58 2019-08-30     A     545     531  4022970     18037         4.023   \n",
       "59 2019-08-30     B     620     608  5774631     18198         5.775   \n",
       "60 2019-08-31     A     557     543  4084803     18736         4.085   \n",
       "61 2019-08-31     B     640     628  5907760     18916         5.908   \n",
       "\n",
       "       avg_bill  conversion  \n",
       "0   6190.791667    0.033380  \n",
       "1   4819.857143    0.029453  \n",
       "2   5509.113636    0.032885  \n",
       "3   5927.733333    0.034776  \n",
       "4   5218.735294    0.036856  \n",
       "..          ...         ...  \n",
       "57  9327.848993    0.033657  \n",
       "58  7381.596330    0.030216  \n",
       "59  9313.920968    0.034070  \n",
       "60  7333.578097    0.029729  \n",
       "61  9230.875000    0.033834  \n",
       "\n",
       "[62 rows x 9 columns]"
      ]
     },
     "execution_count": 36,
     "metadata": {},
     "output_type": "execute_result"
    }
   ],
   "source": [
    "#средний чек\n",
    "cumulativedata['avg_bill'] = (cumulativedata['revenue'] / cumulativedata['orders'])\n",
    "#конверсия - посетители в заказы\n",
    "cumulativedata['conversion'] = (cumulativedata['orders'] / cumulativedata['visitors'])\n",
    "\n",
    "cumulativedata"
   ]
  },
  {
   "cell_type": "code",
   "execution_count": 37,
   "metadata": {},
   "outputs": [
    {
     "data": {
      "image/png": "[encoded data removed]",
      "text/plain": [
       "<Figure size 720x432 with 1 Axes>"
      ]
     },
     "metadata": {
      "needs_background": "light"
     },
     "output_type": "display_data"
    }
   ],
   "source": [
    "plt.figure(figsize=(10,6))\n",
    "sns.lineplot(data=cumulativedata, x='date', y='avg_bill', hue='group')\n",
    "plt.title('Средний чек')\n",
    "plt.ylabel('Кумулятивный средний чек')\n",
    "plt.xticks(rotation=45)\n",
    "\n",
    "plt.show()"
   ]
  },
  {
   "cell_type": "markdown",
   "metadata": {},
   "source": [
    "В середине августа кумулятивный средний чек в группе В резко выроз в 1,2 раза, после чего начал снижаться до конца наблюдений."
   ]
  },
  {
   "cell_type": "markdown",
   "metadata": {},
   "source": [
    "### График относительного изменения кумулятивного среднего чека группы B к группе A"
   ]
  },
  {
   "cell_type": "code",
   "execution_count": 38,
   "metadata": {},
   "outputs": [
    {
     "data": {
      "image/png": "[encoded data removed]",
      "text/plain": [
       "<Figure size 720x432 with 1 Axes>"
      ]
     },
     "metadata": {
      "needs_background": "light"
     },
     "output_type": "display_data"
    }
   ],
   "source": [
    "#создадим 2 новых датафрейма с даннымит по каждой группе и объединим их в один общий\n",
    "cumulativeA = cumulativedata.query('group == \"A\"')\n",
    "cumulativeB = cumulativedata.query('group == \"B\"')\n",
    "\n",
    "cumulativeA_B = cumulativeA.merge(\n",
    "                              cumulativeB, left_on='date', right_on='date', how='left', suffixes=['A', 'B'])\n",
    "cumulativeA_B['avg_diff_B_A'] = cumulativeA_B['avg_billB'] / cumulativeA_B['avg_billA'] - 1\n",
    "\n",
    "plt.figure(figsize=(10,6))\n",
    "sns.lineplot(data=cumulativeA_B, x='date', y='avg_diff_B_A')\n",
    "plt.title('Изменения кумулятивного среднего чека группы B к группе A')\n",
    "plt.ylabel('Относительное значение')\n",
    "plt.xticks(rotation=45)\n",
    "plt.axhline(y=0, color='red', linestyle='-')\n",
    "\n",
    "plt.show()\n"
   ]
  },
  {
   "cell_type": "markdown",
   "metadata": {},
   "source": [
    "Практически за всю историю наблюдений средний чек в группе В был выше, чем в группе А. Всего 3 раза средние чеки сравнялись. Также виден резкий рост отношения средних чеков 19 августа."
   ]
  },
  {
   "cell_type": "markdown",
   "metadata": {},
   "source": [
    "### График кумулятивного среднего количества заказов на посетителя по группам"
   ]
  },
  {
   "cell_type": "code",
   "execution_count": 39,
   "metadata": {},
   "outputs": [
    {
     "name": "stdout",
     "output_type": "stream",
     "text": [
      "0.03002538268319994\n",
      "0.034359199346079984\n",
      "0.03219229101463996\n"
     ]
    }
   ],
   "source": [
    "# посчитаем среднюю конверсию после через неделю \n",
    "print(cumulativeA.query('date > \"2019-08-07\"')['conversion'].mean())\n",
    "print(cumulativeB.query('date > \"2019-08-07\"')['conversion'].mean())\n",
    "print(cumulativedata.query('date > \"2019-08-07\"')['conversion'].mean())"
   ]
  },
  {
   "cell_type": "code",
   "execution_count": 40,
   "metadata": {},
   "outputs": [
    {
     "data": {
      "image/png": "[encoded data removed]",
      "text/plain": [
       "<Figure size 720x432 with 1 Axes>"
      ]
     },
     "metadata": {
      "needs_background": "light"
     },
     "output_type": "display_data"
    }
   ],
   "source": [
    "plt.figure(figsize=(10,6))\n",
    "sns.lineplot(data=cumulativedata, x='date', y='conversion', hue='group')\n",
    "plt.title('Кумулятивная конверсия')\n",
    "plt.ylabel('Кумулятивный конверсия')\n",
    "plt.xticks(rotation=45)\n",
    "plt.axhline(y=0.0322, color='red', linestyle='--')\n",
    "plt.axhline(y=0.0343, color='orange', linestyle='--')\n",
    "plt.axhline(y=0.030025, color='blue', linestyle='--')\n",
    "\n",
    "plt.show()"
   ]
  },
  {
   "cell_type": "markdown",
   "metadata": {},
   "source": [
    "Примерно после первой недели августа среднее количество заказов на посетителя в обеих группах стабилизируется в окрестности своих медианных значений. Конверсия в группе В лучше"
   ]
  },
  {
   "cell_type": "markdown",
   "metadata": {},
   "source": [
    "### График относительного изменения кумулятивного среднего количества заказов на посетителя группы B к группе A"
   ]
  },
  {
   "cell_type": "code",
   "execution_count": 41,
   "metadata": {},
   "outputs": [
    {
     "data": {
      "image/png": "[encoded data removed]",
      "text/plain": [
       "<Figure size 720x432 with 1 Axes>"
      ]
     },
     "metadata": {
      "needs_background": "light"
     },
     "output_type": "display_data"
    }
   ],
   "source": [
    "cumulativeA_B['conv_diff_B_A'] = cumulativeA_B['conversionB'] / cumulativeA_B['conversionA'] - 1\n",
    "\n",
    "plt.figure(figsize=(10,6))\n",
    "sns.lineplot(data=cumulativeA_B, x='date', y='conv_diff_B_A')\n",
    "plt.title('Изменения кумулятивной конверсии группы B к группе A')\n",
    "plt.ylabel('Относительное значение')\n",
    "plt.xticks(rotation=45)\n",
    "plt.axhline(y=0, color='red', linestyle='-')\n",
    "\n",
    "plt.show()"
   ]
  },
  {
   "cell_type": "markdown",
   "metadata": {},
   "source": [
    "За 1 неделю конверсия в группе В становится значительнее лучше, чем в группе А"
   ]
  },
  {
   "cell_type": "markdown",
   "metadata": {},
   "source": [
    "### Точечный график количества заказов по пользователям"
   ]
  },
  {
   "cell_type": "code",
   "execution_count": 42,
   "metadata": {},
   "outputs": [
    {
     "data": {
      "text/html": [
       "<div>\n",
       "<style scoped>\n",
       "    .dataframe tbody tr th:only-of-type {\n",
       "        vertical-align: middle;\n",
       "    }\n",
       "\n",
       "    .dataframe tbody tr th {\n",
       "        vertical-align: top;\n",
       "    }\n",
       "\n",
       "    .dataframe thead th {\n",
       "        text-align: right;\n",
       "    }\n",
       "</style>\n",
       "<table border=\"1\" class=\"dataframe\">\n",
       "  <thead>\n",
       "    <tr style=\"text-align: right;\">\n",
       "      <th></th>\n",
       "      <th>visitorId</th>\n",
       "      <th>orders</th>\n",
       "      <th>num</th>\n",
       "    </tr>\n",
       "  </thead>\n",
       "  <tbody>\n",
       "    <tr>\n",
       "      <th>0</th>\n",
       "      <td>4256040402</td>\n",
       "      <td>11</td>\n",
       "      <td>1</td>\n",
       "    </tr>\n",
       "    <tr>\n",
       "      <th>1</th>\n",
       "      <td>2458001652</td>\n",
       "      <td>11</td>\n",
       "      <td>2</td>\n",
       "    </tr>\n",
       "    <tr>\n",
       "      <th>2</th>\n",
       "      <td>2378935119</td>\n",
       "      <td>9</td>\n",
       "      <td>3</td>\n",
       "    </tr>\n",
       "    <tr>\n",
       "      <th>3</th>\n",
       "      <td>2038680547</td>\n",
       "      <td>8</td>\n",
       "      <td>4</td>\n",
       "    </tr>\n",
       "    <tr>\n",
       "      <th>4</th>\n",
       "      <td>199603092</td>\n",
       "      <td>5</td>\n",
       "      <td>5</td>\n",
       "    </tr>\n",
       "    <tr>\n",
       "      <th>...</th>\n",
       "      <td>...</td>\n",
       "      <td>...</td>\n",
       "      <td>...</td>\n",
       "    </tr>\n",
       "    <tr>\n",
       "      <th>1026</th>\n",
       "      <td>1484903144</td>\n",
       "      <td>1</td>\n",
       "      <td>1027</td>\n",
       "    </tr>\n",
       "    <tr>\n",
       "      <th>1027</th>\n",
       "      <td>1485964287</td>\n",
       "      <td>1</td>\n",
       "      <td>1028</td>\n",
       "    </tr>\n",
       "    <tr>\n",
       "      <th>1028</th>\n",
       "      <td>1494664757</td>\n",
       "      <td>1</td>\n",
       "      <td>1029</td>\n",
       "    </tr>\n",
       "    <tr>\n",
       "      <th>1029</th>\n",
       "      <td>1495112755</td>\n",
       "      <td>1</td>\n",
       "      <td>1030</td>\n",
       "    </tr>\n",
       "    <tr>\n",
       "      <th>1030</th>\n",
       "      <td>4283872382</td>\n",
       "      <td>1</td>\n",
       "      <td>1031</td>\n",
       "    </tr>\n",
       "  </tbody>\n",
       "</table>\n",
       "<p>1031 rows × 3 columns</p>\n",
       "</div>"
      ],
      "text/plain": [
       "       visitorId  orders   num\n",
       "0     4256040402      11     1\n",
       "1     2458001652      11     2\n",
       "2     2378935119       9     3\n",
       "3     2038680547       8     4\n",
       "4      199603092       5     5\n",
       "...          ...     ...   ...\n",
       "1026  1484903144       1  1027\n",
       "1027  1485964287       1  1028\n",
       "1028  1494664757       1  1029\n",
       "1029  1495112755       1  1030\n",
       "1030  4283872382       1  1031\n",
       "\n",
       "[1031 rows x 3 columns]"
      ]
     },
     "execution_count": 42,
     "metadata": {},
     "output_type": "execute_result"
    }
   ],
   "source": [
    "# создадим новый датафрейм с подсчетом заказов на 1-го пользователя\n",
    "users_orders_count = orders.groupby('visitorId').agg({'transactionId' : 'count'}).rename(columns={'transactionId':'orders'})\n",
    "users_orders_count = users_orders_count.sort_values(by='orders', ascending=False).reset_index()\n",
    "#добавим номер по порядку, который соответствует \"рейтингу\" пользователя по кол-ву заказов\n",
    "users_orders_count['num'] = range(1, len(users_orders_count) + 1)\n",
    "users_orders_count['orders'] = users_orders_count['orders'].astype(int)\n",
    "users_orders_count"
   ]
  },
  {
   "cell_type": "code",
   "execution_count": 43,
   "metadata": {},
   "outputs": [
    {
     "name": "stdout",
     "output_type": "stream",
     "text": [
      "1197\n"
     ]
    }
   ],
   "source": [
    "print(users_orders_count['orders'].sum())"
   ]
  },
  {
   "cell_type": "markdown",
   "metadata": {},
   "source": [
    "Подсчет корректный, т.к. в исходном наборе данных 1197 записей о заказах. Также был добавлен \"рейтинг\" пользователя, который будет отображен на оси ординат на точечном графике. Т.о. график будет уже отсортирован и более нагляден"
   ]
  },
  {
   "cell_type": "code",
   "execution_count": 44,
   "metadata": {},
   "outputs": [
    {
     "data": {
      "image/png": "[encoded data removed]",
      "text/plain": [
       "<Figure size 720x432 with 1 Axes>"
      ]
     },
     "metadata": {
      "needs_background": "light"
     },
     "output_type": "display_data"
    }
   ],
   "source": [
    "plt.figure(figsize=(10,6))\n",
    "sns.scatterplot(data=users_orders_count, x='num', y='orders')\n",
    "plt.title('Количество заказов на пользователя')\n",
    "plt.ylabel('Количество заказов')\n",
    "plt.xlabel('Номер пользователя')\n",
    "\n",
    "plt.show()"
   ]
  },
  {
   "cell_type": "code",
   "execution_count": 45,
   "metadata": {},
   "outputs": [
    {
     "name": "stdout",
     "output_type": "stream",
     "text": [
      "Количество пользователей с 2-я и более заказами: 94\n",
      "Количество уникальных пользователей: 1031\n",
      "Доля пользователей с 2-я и более заказами: 9.117361784675072 %\n"
     ]
    }
   ],
   "source": [
    "print('Количество пользователей с 2-я и более заказами:', users_orders_count.query('orders >= 2')['visitorId'].count())\n",
    "print('Количество уникальных пользователей:', users_orders_count['visitorId'].nunique())\n",
    "print('Доля пользователей с 2-я и более заказами:', (100 * users_orders_count.query('orders >= 2')['visitorId'].count() / users_orders_count['visitorId'].nunique()),'%')"
   ]
  },
  {
   "cell_type": "markdown",
   "metadata": {},
   "source": [
    "Т.е. только 94 из 1031 пользователя сделали 2 и более заказов. Отобразим отдельно данных пользователей"
   ]
  },
  {
   "cell_type": "code",
   "execution_count": 46,
   "metadata": {},
   "outputs": [
    {
     "data": {
      "image/png": "[encoded data removed]",
      "text/plain": [
       "<Figure size 720x432 with 1 Axes>"
      ]
     },
     "metadata": {
      "needs_background": "light"
     },
     "output_type": "display_data"
    }
   ],
   "source": [
    "plt.figure(figsize=(10,6))\n",
    "sns.scatterplot(data=users_orders_count, x='num', y='orders')\n",
    "plt.title('Количество заказов на пользователя')\n",
    "plt.ylabel('Количество заказов')\n",
    "plt.xlabel('Номер пользователя')\n",
    "plt.xlim(0,94)\n",
    "\n",
    "plt.show()"
   ]
  },
  {
   "cell_type": "markdown",
   "metadata": {},
   "source": [
    "### 95-й и 99-й перцентили количества заказов на пользователя.Граница для определения аномальных пользователей."
   ]
  },
  {
   "cell_type": "code",
   "execution_count": 47,
   "metadata": {},
   "outputs": [
    {
     "name": "stdout",
     "output_type": "stream",
     "text": [
      "[2. 2. 4.]\n"
     ]
    }
   ],
   "source": [
    "#добавим также 91-й персентиль\n",
    "print(np.percentile(users_orders_count['orders'], [91, 95, 99])) "
   ]
  },
  {
   "cell_type": "markdown",
   "metadata": {},
   "source": [
    "Действительно, около 9% пользователей совершили 2 и более заказов, менее 1% 4 и более заказов. Т.о. границей для определени аномальных пользователей будет 99-й перцентиль или 4 и более заказов на пользователя"
   ]
  },
  {
   "cell_type": "markdown",
   "metadata": {},
   "source": [
    "### Точечный график стоимостей заказов"
   ]
  },
  {
   "cell_type": "code",
   "execution_count": 48,
   "metadata": {},
   "outputs": [
    {
     "data": {
      "text/html": [
       "<div>\n",
       "<style scoped>\n",
       "    .dataframe tbody tr th:only-of-type {\n",
       "        vertical-align: middle;\n",
       "    }\n",
       "\n",
       "    .dataframe tbody tr th {\n",
       "        vertical-align: top;\n",
       "    }\n",
       "\n",
       "    .dataframe thead th {\n",
       "        text-align: right;\n",
       "    }\n",
       "</style>\n",
       "<table border=\"1\" class=\"dataframe\">\n",
       "  <thead>\n",
       "    <tr style=\"text-align: right;\">\n",
       "      <th></th>\n",
       "      <th>transactionId</th>\n",
       "      <th>visitorId</th>\n",
       "      <th>date</th>\n",
       "      <th>revenue</th>\n",
       "      <th>group</th>\n",
       "      <th>num</th>\n",
       "    </tr>\n",
       "  </thead>\n",
       "  <tbody>\n",
       "    <tr>\n",
       "      <th>425</th>\n",
       "      <td>590470918</td>\n",
       "      <td>1920142716</td>\n",
       "      <td>2019-08-19</td>\n",
       "      <td>1294500</td>\n",
       "      <td>B</td>\n",
       "      <td>1</td>\n",
       "    </tr>\n",
       "    <tr>\n",
       "      <th>1196</th>\n",
       "      <td>3936777065</td>\n",
       "      <td>2108080724</td>\n",
       "      <td>2019-08-15</td>\n",
       "      <td>202740</td>\n",
       "      <td>B</td>\n",
       "      <td>2</td>\n",
       "    </tr>\n",
       "    <tr>\n",
       "      <th>858</th>\n",
       "      <td>192721366</td>\n",
       "      <td>1316129916</td>\n",
       "      <td>2019-08-27</td>\n",
       "      <td>93940</td>\n",
       "      <td>A</td>\n",
       "      <td>3</td>\n",
       "    </tr>\n",
       "    <tr>\n",
       "      <th>1136</th>\n",
       "      <td>666610489</td>\n",
       "      <td>1307669133</td>\n",
       "      <td>2019-08-13</td>\n",
       "      <td>92550</td>\n",
       "      <td>A</td>\n",
       "      <td>4</td>\n",
       "    </tr>\n",
       "    <tr>\n",
       "      <th>744</th>\n",
       "      <td>3668308183</td>\n",
       "      <td>888512513</td>\n",
       "      <td>2019-08-27</td>\n",
       "      <td>86620</td>\n",
       "      <td>B</td>\n",
       "      <td>5</td>\n",
       "    </tr>\n",
       "    <tr>\n",
       "      <th>...</th>\n",
       "      <td>...</td>\n",
       "      <td>...</td>\n",
       "      <td>...</td>\n",
       "      <td>...</td>\n",
       "      <td>...</td>\n",
       "      <td>...</td>\n",
       "    </tr>\n",
       "    <tr>\n",
       "      <th>933</th>\n",
       "      <td>3760662696</td>\n",
       "      <td>3577713868</td>\n",
       "      <td>2019-08-27</td>\n",
       "      <td>60</td>\n",
       "      <td>B</td>\n",
       "      <td>1193</td>\n",
       "    </tr>\n",
       "    <tr>\n",
       "      <th>459</th>\n",
       "      <td>863448794</td>\n",
       "      <td>2738601405</td>\n",
       "      <td>2019-08-19</td>\n",
       "      <td>50</td>\n",
       "      <td>B</td>\n",
       "      <td>1194</td>\n",
       "    </tr>\n",
       "    <tr>\n",
       "      <th>756</th>\n",
       "      <td>125335873</td>\n",
       "      <td>3423937755</td>\n",
       "      <td>2019-08-30</td>\n",
       "      <td>50</td>\n",
       "      <td>B</td>\n",
       "      <td>1195</td>\n",
       "    </tr>\n",
       "    <tr>\n",
       "      <th>584</th>\n",
       "      <td>1126146019</td>\n",
       "      <td>2705308997</td>\n",
       "      <td>2019-08-20</td>\n",
       "      <td>50</td>\n",
       "      <td>A</td>\n",
       "      <td>1196</td>\n",
       "    </tr>\n",
       "    <tr>\n",
       "      <th>1091</th>\n",
       "      <td>750632879</td>\n",
       "      <td>4256040402</td>\n",
       "      <td>2019-08-12</td>\n",
       "      <td>50</td>\n",
       "      <td>A</td>\n",
       "      <td>1197</td>\n",
       "    </tr>\n",
       "  </tbody>\n",
       "</table>\n",
       "<p>1197 rows × 6 columns</p>\n",
       "</div>"
      ],
      "text/plain": [
       "      transactionId   visitorId       date  revenue group   num\n",
       "425       590470918  1920142716 2019-08-19  1294500     B     1\n",
       "1196     3936777065  2108080724 2019-08-15   202740     B     2\n",
       "858       192721366  1316129916 2019-08-27    93940     A     3\n",
       "1136      666610489  1307669133 2019-08-13    92550     A     4\n",
       "744      3668308183   888512513 2019-08-27    86620     B     5\n",
       "...             ...         ...        ...      ...   ...   ...\n",
       "933      3760662696  3577713868 2019-08-27       60     B  1193\n",
       "459       863448794  2738601405 2019-08-19       50     B  1194\n",
       "756       125335873  3423937755 2019-08-30       50     B  1195\n",
       "584      1126146019  2705308997 2019-08-20       50     A  1196\n",
       "1091      750632879  4256040402 2019-08-12       50     A  1197\n",
       "\n",
       "[1197 rows x 6 columns]"
      ]
     },
     "execution_count": 48,
     "metadata": {},
     "output_type": "execute_result"
    }
   ],
   "source": [
    "#отсортируем заказы по стоимости и пронумеруем по возрастанию\n",
    "orders_copy = orders.copy(deep=True)\n",
    "orders_copy = orders_copy.sort_values(by='revenue', ascending=False)\n",
    "orders_copy['num'] = range(1, len(orders_copy) + 1)\n",
    "orders_copy"
   ]
  },
  {
   "cell_type": "code",
   "execution_count": 49,
   "metadata": {},
   "outputs": [
    {
     "data": {
      "image/png": "[encoded data removed]",
      "text/plain": [
       "<Figure size 720x432 with 1 Axes>"
      ]
     },
     "metadata": {
      "needs_background": "light"
     },
     "output_type": "display_data"
    }
   ],
   "source": [
    "plt.figure(figsize=(10,6))\n",
    "sns.scatterplot(data=orders_copy, x='num', y='revenue')\n",
    "plt.title('Стоимость заказов')\n",
    "plt.ylabel('Стоимость заказа')\n",
    "plt.xlabel('Номер заказа')\n",
    "#plt.xlim(0,5)\n",
    "\n",
    "plt.show()"
   ]
  },
  {
   "cell_type": "code",
   "execution_count": 50,
   "metadata": {},
   "outputs": [
    {
     "data": {
      "image/png": "[encoded data removed]",
      "text/plain": [
       "<Figure size 720x432 with 1 Axes>"
      ]
     },
     "metadata": {
      "needs_background": "light"
     },
     "output_type": "display_data"
    }
   ],
   "source": [
    "#изменим масштаб\n",
    "plt.figure(figsize=(10,6))\n",
    "sns.scatterplot(data=orders_copy, x='num', y='revenue')\n",
    "plt.title('Стоимость заказов')\n",
    "plt.ylabel('Стоимость заказа')\n",
    "plt.xlabel('Номер заказа')\n",
    "plt.xlim(0,10)\n",
    "\n",
    "plt.show()"
   ]
  },
  {
   "cell_type": "markdown",
   "metadata": {},
   "source": [
    "Как видно в наборе данных с заказами есть 1 аномально крупный заказ на 1294500\tу.е., который совершен как раз 19 августа. Данный заказ повлиял на характер кривых на графиках выше. Возможно, целесообразно было удалить данный заказ из выборки"
   ]
  },
  {
   "cell_type": "markdown",
   "metadata": {},
   "source": [
    "### 95-й и 99-й перцентили стоимости заказов. Граница для определения аномальных заказов."
   ]
  },
  {
   "cell_type": "code",
   "execution_count": 51,
   "metadata": {},
   "outputs": [
    {
     "name": "stdout",
     "output_type": "stream",
     "text": [
      "[18168.  28000.  58233.2]\n"
     ]
    }
   ],
   "source": [
    "print(np.percentile(orders['revenue'], [90, 95, 99])) "
   ]
  },
  {
   "cell_type": "code",
   "execution_count": 52,
   "metadata": {},
   "outputs": [
    {
     "name": "stdout",
     "output_type": "stream",
     "text": [
      "[ 78990.          89063.16       181415.20000001]\n"
     ]
    }
   ],
   "source": [
    "print(np.percentile(orders['revenue'], [99.5, 99.7, 99.9])) "
   ]
  },
  {
   "cell_type": "markdown",
   "metadata": {},
   "source": [
    "На мой взгляд, заказы под номерами 2-5 (10) нельзя считать какими-то аномальными, поэтому верхней границей для определения аномальности по стоимость примем что-то в районе 180 тыс. у.е.\n",
    "\n",
    "Но для \"чистоты эксперимента\" дальнейшие оценки также проведем для значений ниже 99-й перцентиля, т.е. 58223"
   ]
  },
  {
   "cell_type": "markdown",
   "metadata": {},
   "source": [
    "### Статистическая значимость различий в среднем количестве заказов на посетителя между группами по «сырым» данным"
   ]
  },
  {
   "cell_type": "markdown",
   "metadata": {},
   "source": [
    "Воспользуемся данными, которые собрали в датафрейме cumulativeA_B, и применим к ним критерий Манна-Уитни.\n",
    "\n",
    "Сформулируем гипотезы:\n",
    "- H0: Конверсия в группе A не превосходит конверсию в группе B, отсутствует статитсическая разница\n",
    "- H1: Конверсия в группе В превосходит конверсию в группе А, разница статистически значима"
   ]
  },
  {
   "cell_type": "code",
   "execution_count": 53,
   "metadata": {},
   "outputs": [
    {
     "name": "stdout",
     "output_type": "stream",
     "text": [
      "p-value = 0.00000\n",
      "Отвергаем H0: разница статистически значима\n"
     ]
    }
   ],
   "source": [
    "results = st.mannwhitneyu(cumulativeA_B['conversionA'], cumulativeA_B['conversionB'], use_continuity=True, alternative='less')\n",
    "p_value = results.pvalue\n",
    "alpha = 0.05\n",
    "print('p-value = {0:.5f}'.format(p_value))\n",
    "if (p_value < alpha):\n",
    "    print('Отвергаем H0: разница статистически значима')\n",
    "else:\n",
    "    print('Не отвергаем H0: вывод о различии сделать нельзя')"
   ]
  },
  {
   "cell_type": "code",
   "execution_count": 54,
   "metadata": {},
   "outputs": [
    {
     "name": "stdout",
     "output_type": "stream",
     "text": [
      "Средняя конверсия в группе А: 0.031\n",
      "Средняя конвесрия в группе B: 0.034\n"
     ]
    }
   ],
   "source": [
    "print('Средняя конверсия в группе А: {0:.3f}'.format(cumulativeA_B['conversionA'].mean()))\n",
    "print('Средняя конвесрия в группе B: {0:.3f}'.format(cumulativeA_B['conversionB'].mean()))"
   ]
  },
  {
   "cell_type": "markdown",
   "metadata": {},
   "source": [
    "Т.о. разница статистически значима, средняя конверсия в группе В больше в 1,1 раза"
   ]
  },
  {
   "cell_type": "markdown",
   "metadata": {},
   "source": [
    " C другой стороны выше критерий применяется к кумулятивным значениям и рассчитаны кумулятивные средние. Проведем аналогичный расчет для исходных данных. "
   ]
  },
  {
   "cell_type": "code",
   "execution_count": 55,
   "metadata": {},
   "outputs": [],
   "source": [
    "#сгруппируем ordres по дате и группе с расчетом количества заказов\n",
    "df1 = orders.groupby(['date', 'group']).agg({'transactionId':'count'}).rename(columns={'transactionId':'orders'}).reset_index()\n",
    "#сгруппируем orders по дате и группе с расчетом суммы выручки\n",
    "df2 = orders.groupby(['date', 'group']).agg({'revenue':'sum'}).reset_index()\n",
    "#объединим сгруппированный денные и visitors_c\n",
    "df_raw = df1.merge(df2,left_on=['date', 'group'], right_on=['date', 'group'], how='left').merge(visitors, left_on=['date', 'group'], right_on=['date', 'group'], how='left')\n",
    "# добавим новые столбцы\n",
    "df_raw['avg_bill'] = df_raw['revenue'] / df_raw['orders']\n",
    "df_raw['conversion'] = df_raw['orders'] / df_raw['visitors']"
   ]
  },
  {
   "cell_type": "markdown",
   "metadata": {},
   "source": [
    "Напишем функцию для поиска статистической разницы"
   ]
  },
  {
   "cell_type": "code",
   "execution_count": 56,
   "metadata": {},
   "outputs": [],
   "source": [
    "def diff(data_A, data_B):\n",
    "    alpha = 0.05\n",
    "    p_value = stats.mannwhitneyu(data_A, data_B, use_continuity=True, alternative='less')[1]\n",
    "    print('P-value: {0:.3f}'.format(p_value))\n",
    "\n",
    "    if (p_value < alpha):\n",
    "        print('Отвергаем H0: разница статистически значима')\n",
    "    else:\n",
    "        print('Не не отвергаем H0: вывод о различии сделать нельзя')"
   ]
  },
  {
   "cell_type": "markdown",
   "metadata": {},
   "source": [
    "Применим функцию для конверсий"
   ]
  },
  {
   "cell_type": "code",
   "execution_count": 57,
   "metadata": {},
   "outputs": [
    {
     "name": "stdout",
     "output_type": "stream",
     "text": [
      "P-value: 0.043\n",
      "Отвергаем H0: разница статистически значима\n"
     ]
    }
   ],
   "source": [
    "diff(df_raw.query('group == \"A\"')['conversion'], df_raw.query('group == \"B\"')['conversion'])"
   ]
  },
  {
   "cell_type": "markdown",
   "metadata": {},
   "source": [
    "Т.е. предыдущий вывод повторился"
   ]
  },
  {
   "cell_type": "markdown",
   "metadata": {},
   "source": [
    "### Статистическая значимость различий в среднем чеке заказа между группами по «сырым» данным"
   ]
  },
  {
   "cell_type": "markdown",
   "metadata": {},
   "source": [
    "В процессе предварительного анализа данных статистическая значимость различий в среднем чеке заказа по сырым данным была найдена.\n",
    "Для этого использовался критерий Манна-Уитни.\n",
    "\n",
    "Сформулируем гипотезы:\n",
    "- H0: Средний чек A **не превосходит** средний чек группы B, отсутствует статистическая разница\n",
    "- H1: Средний чек В **превосходит** средний чек группы А, разница статистически значима"
   ]
  },
  {
   "cell_type": "code",
   "execution_count": 58,
   "metadata": {},
   "outputs": [
    {
     "name": "stdout",
     "output_type": "stream",
     "text": [
      "P-value = 0.365\n",
      "Hе отвергаем H0: вывод о различии сделать нельзя\n"
     ]
    }
   ],
   "source": [
    "# повторим алгоритм, использованный в начале части 2 (в прошлый раз значения были переведены в список)\n",
    "# сформируем набор со значениями выручки для каждой группы\n",
    "revenue_a_data = orders.query('group == \"A\"')['revenue']\n",
    "revenue_b_data = orders.query('group == \"B\"')['revenue']\n",
    "results = st.mannwhitneyu(revenue_a_data, revenue_b_data, use_continuity=True, alternative='less')\n",
    "p_value = results.pvalue\n",
    "alpha = 0.05\n",
    "print('P-value = {0:.3f}'.format(p_value))\n",
    "if (p_value < alpha):\n",
    "    print(\"Отвергаем H0: разница статистически значима\")\n",
    "else:\n",
    "    print(\"Hе отвергаем H0: вывод о различии сделать нельзя\")"
   ]
  },
  {
   "cell_type": "code",
   "execution_count": 59,
   "metadata": {},
   "outputs": [
    {
     "name": "stdout",
     "output_type": "stream",
     "text": [
      "Средний чек в группе А: 7333.6\n",
      "Средний чек в группе B: 9230.9\n"
     ]
    }
   ],
   "source": [
    "print('Средний чек в группе А: {0:.1f}'.format(revenue_a_data.mean()))\n",
    "print('Средний чек в группе B: {0:.1f}'.format(revenue_b_data.mean()))"
   ]
  },
  {
   "cell_type": "markdown",
   "metadata": {},
   "source": [
    "Т.о. какая-либо статитически значимая разница средних чеков отсутствует, с другой стороны средний чек в группе В больше практичеки на 1900 у.е. 1"
   ]
  },
  {
   "cell_type": "markdown",
   "metadata": {},
   "source": [
    "Как мы помним, 19 августа что-то случилось и в выборку группы В попал черезчур странный заказ, сумма которого на порядок выше. Посчитаем средний чек в группе В без одного супераномального заказа "
   ]
  },
  {
   "cell_type": "code",
   "execution_count": 60,
   "metadata": {},
   "outputs": [
    {
     "name": "stdout",
     "output_type": "stream",
     "text": [
      "Средний чек в группе В без аномалии: 7233.990306946688\n",
      "Отличие в средних чеках: 0.013579699934291756\n"
     ]
    }
   ],
   "source": [
    "print('Средний чек в группе В без аномалии:' , orders.query('group == \"B\" and date != \"2019-08-19\"')['revenue'].mean())\n",
    "print('Отличие в средних чеках:', abs(orders.query('group == \"B\" and date != \"2019-08-19\"')['revenue'].mean() / \n",
    "                                      orders.query('group == \"A\"')['revenue'].mean() - 1))"
   ]
  },
  {
   "cell_type": "markdown",
   "metadata": {},
   "source": [
    "Т.е. с учетом аномального заказа средний чек в группе В 9230 у.е, без учета - 7233 у.е. Отличие составляет 1,3%, что свидетельствует о том, что  статитически значимая разница средних чеков отсутствует. Т.е. тест Манна-Уитни проведен корректно, даже с учетом аномального заказа.\n",
    "\n",
    "Возможно, удаление данного заказа необходимо было сделать в самом начале работы.  "
   ]
  },
  {
   "cell_type": "markdown",
   "metadata": {},
   "source": [
    "### Статистическую значимость различий в среднем количестве заказов на посетителя между группами по «очищенным» данным"
   ]
  },
  {
   "cell_type": "markdown",
   "metadata": {},
   "source": [
    "Скорее всего предположение о том, что нельзя было использовать кумулятивные значения, - верно. Повторим примененый выше алгоритм для \"очистки\" с учетом предельных значений. Предарительно убрав из заказов сех пользователей, которые совершили 4 и более заказов.\n",
    "\n",
    "Сформулируем гипотезы:\n",
    "- H0: Конверсия в группе A не превосходит конверсию в группе B, отсутствует статитсическая разница\n",
    "- H1: Конверсия в группе В превосходит конверсию в группе А, разница статистически значима"
   ]
  },
  {
   "cell_type": "code",
   "execution_count": 61,
   "metadata": {},
   "outputs": [],
   "source": [
    "# добавим в переменные значения 99-го перцентиля для заказов и выручки\n",
    "vis_marg_value = np.percentile(users_orders_count['orders'], 99)\n",
    "ord_marg_value = np.percentile(orders['revenue'], 99)"
   ]
  },
  {
   "cell_type": "code",
   "execution_count": 62,
   "metadata": {},
   "outputs": [],
   "source": [
    "# составим список пользователей, которые совершили менее 4-х заказов\n",
    "visitors_list = users_orders_count.query('orders < @vis_marg_value')['visitorId']\n",
    "# оставим в данных с заказами только те заказы, которые совершены пользователями из списка \n",
    "orders_c = orders[orders['visitorId'].isin(visitors_list)]"
   ]
  },
  {
   "cell_type": "code",
   "execution_count": 63,
   "metadata": {},
   "outputs": [],
   "source": [
    "#сгруппируем ordres по дате и группе с расчетом количества заказов\n",
    "df1_c = orders_c.query('revenue <= @ord_marg_value').groupby(['date', 'group']).agg({'transactionId':'count'}).rename(columns={'transactionId':'orders'}).reset_index()\n",
    "#сгруппируем orders по дате и группе с расчетом суммы выручки\n",
    "df2_c = orders_c.query('revenue <= @ord_marg_value').groupby(['date', 'group']).agg({'revenue':'sum'}).reset_index()\n",
    "#объединим сгруппированный денные и visitors\n",
    "df_clean = df1_c.merge(df2_c,left_on=['date', 'group'], right_on=['date', 'group'], how='left').merge(visitors, left_on=['date', 'group'], right_on=['date', 'group'], how='left')\n",
    "# добавим новые столбцы\n",
    "df_clean['avg_bill'] = df_clean['revenue'] / df_clean['orders']\n",
    "df_clean['conversion'] = df_clean['orders'] / df_clean['visitors']"
   ]
  },
  {
   "cell_type": "code",
   "execution_count": 64,
   "metadata": {},
   "outputs": [
    {
     "name": "stdout",
     "output_type": "stream",
     "text": [
      "P-value: 0.019\n",
      "Отвергаем H0: разница статистически значима\n"
     ]
    }
   ],
   "source": [
    "diff(df_clean.query('group == \"A\"')['conversion'], df_clean.query('group == \"B\"')['conversion'])"
   ]
  },
  {
   "cell_type": "markdown",
   "metadata": {},
   "source": [
    "Разница статистически значима, средняя конверсия в группе В больше даже на очищенных данных"
   ]
  },
  {
   "cell_type": "markdown",
   "metadata": {},
   "source": [
    "### Статистическая значимость различий в среднем чеке заказа между группами по «очищенным» данным"
   ]
  },
  {
   "cell_type": "markdown",
   "metadata": {},
   "source": [
    "Сформулируем гипотезы:\n",
    "- H0: Средний чек A **не превосходит** средний чек группы B, отсутствует статистическая разница\n",
    "- H1: Средний чек В **превосходит** средний чек группы А, разница статистически значима"
   ]
  },
  {
   "cell_type": "code",
   "execution_count": 65,
   "metadata": {},
   "outputs": [
    {
     "name": "stdout",
     "output_type": "stream",
     "text": [
      "P-value: 0.600\n",
      "Не не отвергаем H0: вывод о различии сделать нельзя\n"
     ]
    }
   ],
   "source": [
    "diff(df_clean.query('group == \"A\"')['avg_bill'], df_clean.query('group == \"B\"')['avg_bill'])"
   ]
  },
  {
   "cell_type": "markdown",
   "metadata": {},
   "source": [
    "Получен аналогичный результат, как и на \"грязных\" данных"
   ]
  },
  {
   "cell_type": "markdown",
   "metadata": {},
   "source": [
    "### Решение по результатам теста и объясните его. \n",
    "**Варианты решений:**\n",
    "1. Остановить тест, зафиксировать победу одной из групп.\n",
    "2. Остановить тест, зафиксировать отсутствие различий между группами.\n",
    "3. Продолжить тест."
   ]
  },
  {
   "cell_type": "markdown",
   "metadata": {},
   "source": [
    "Выявдена статистически значимая разница между конверсиями в группах (в группе В больше, чем в А), при этом какой-либо статзначимой разницы между средними чеками нет. Аналогичный результат получен и для оищенных от выбросов и аномальных значений данных (в \"чистый\" набор также не попали аномальные заказы, которые портили картину при расчете кумулятиных метрик). \n",
    "**Т.о. целесообразно зафикисровать победу в группе В и остановить тест**"
   ]
  },
  {
   "cell_type": "markdown",
   "metadata": {},
   "source": [
    "## Заключительные выводы"
   ]
  },
  {
   "cell_type": "markdown",
   "metadata": {},
   "source": [
    "По согласованию с отделом маркетинга мы подготовили список гипотез для увеличения выручки. \n",
    "\n",
    "**Работа проведена в 2 этапа:** \n",
    "\n",
    "1) в первой части работы  проанализированы 9 гипотез по увеличению выручки интернет-магазина с применением фреймворков ICE и RICE \n",
    "2) во второй части работы проведено А/В-тестирование и проанализированы результаты\n",
    "\n",
    "По результатам **первого этапа** работы выявлено, что в результате сравнения приоритизации методами ICE и RICE:\n",
    "\n",
    "- не изменился приоритет у гипотез №№ 7 \"Баннеры с акциями\" и 5 \"Новый цвет фона главной\" (4-е и 9 место соответственно)\n",
    "- больше всего упала в приоритете гипотеза №9 \"Скидка на ДР\" - минус 4 места в рейтинге, т.к. значение параметра Reach для данной гипотезы = 1\n",
    "- на 1 позицию вниз упали в приоритете гипотезы №№ 1 \"2 новых канала\", 2 \"Своя достака\", 6 \"Страница отзывов\"\n",
    "- на 2-3 позиции выросли в приоритете гипотезы 8 \"Подписка\",  4 \"Новая структура категорий\" и 3 \"Блоки рекомендаций на сайт\"\n",
    "\n",
    "В целом можно выделить ряд \"зон\"/\"областей\" в зависимости от значений параметров (низкий, средний, высокий):\n",
    "\n",
    "- ICE < 6, RICE < 20 - низкий приоритет, гипотезы 2, 4, 5, 6, связанные со своей доставкой, новой структрурой категорий, новым цветом фона, страницей отзывов\n",
    "- ICE [6;10], RICE [20; 60] - средний приоритет, гипотезы 3 и 7, связанные с блоками рекомендаций и баннерными акциями\n",
    "- ICE > 10, RICE > 60 - высокий приоритет, гипотеза 8 с подпиской, затрагивающая наибольшее кол-во пользователей\n",
    "\n",
    "Отдельно выделяются гипотезы 1 (2 новых канала) и 9 (Скидка на ДР) с высоким значенем параметра ICE, и низким (по сравнению с гипотезой 8) значением параметра RICE"
   ]
  },
  {
   "cell_type": "code",
   "execution_count": 66,
   "metadata": {},
   "outputs": [
    {
     "data": {
      "image/png": "[encoded data removed]",
      "text/plain": [
       "<Figure size 720x432 with 1 Axes>"
      ]
     },
     "metadata": {
      "needs_background": "light"
     },
     "output_type": "display_data"
    }
   ],
   "source": [
    "plt.figure(figsize=(10,6))\n",
    "plt.scatter(x_list, y_list)\n",
    "\n",
    "for i, label in enumerate(labels_name):\n",
    "    plt.annotate(label, (x_list[i], y_list[i]))\n",
    "\n",
    "plt.axhline(y=60, color='red', linestyle='--')\n",
    "plt.axvline(x=10, color='red', linestyle='--')\n",
    "plt.xlim(6,17)\n",
    "plt.ylim(35,140)\n",
    "plt.xlabel('ICE')\n",
    "plt.ylabel('RICE')\n",
    "\n",
    "plt.text(6, 48, 'Средний приоритет', fontsize=18)\n",
    "plt.text(11, 100, 'Высокий приоритет', fontsize=18)\n",
    "\n",
    "plt.show()"
   ]
  },
  {
   "cell_type": "markdown",
   "metadata": {},
   "source": [
    "2) Во второй части проведе А/В-тест и проанализированы его результаты:\n",
    "- выявлены ряд аномальных значений, которые скорее всего связаны м ошибкой в БД, впоследствии аномальные значения были удалены\n",
    "- куммулятивная конверсия в группах растет линейно, в группе В она выше, аналогично с кумулятивным средним чеком\n",
    "- кумулятивное количество заказов в группе В выше\n",
    "- выявлена статистически значимая разница конверсии в группах (в группе В выше), в т.ч. при анализе очищенных данных\n",
    "\n",
    "Предложено остановить тест и зафикисровать победу в группе В"
   ]
  }
 ],
 "metadata": {
  "ExecuteTimeLog": [
   {
    "duration": 50,
    "start_time": "2023-06-29T12:50:59.110Z"
   },
   {
    "duration": 442,
    "start_time": "2023-06-29T12:51:05.198Z"
   },
   {
    "duration": 222,
    "start_time": "2023-06-29T13:03:46.085Z"
   },
   {
    "duration": 19,
    "start_time": "2023-06-29T13:04:18.502Z"
   },
   {
    "duration": 9,
    "start_time": "2023-06-29T13:04:23.226Z"
   },
   {
    "duration": 9,
    "start_time": "2023-06-29T13:05:12.949Z"
   },
   {
    "duration": 8,
    "start_time": "2023-06-29T13:05:19.700Z"
   },
   {
    "duration": 15,
    "start_time": "2023-06-29T13:05:59.957Z"
   },
   {
    "duration": 11,
    "start_time": "2023-06-29T13:06:10.189Z"
   },
   {
    "duration": 13,
    "start_time": "2023-06-29T13:06:27.449Z"
   },
   {
    "duration": 6,
    "start_time": "2023-06-29T13:09:50.729Z"
   },
   {
    "duration": 15,
    "start_time": "2023-06-29T13:09:59.319Z"
   },
   {
    "duration": 15,
    "start_time": "2023-06-29T13:10:09.801Z"
   },
   {
    "duration": 21,
    "start_time": "2023-06-29T13:10:40.202Z"
   },
   {
    "duration": 496,
    "start_time": "2023-06-29T13:11:25.929Z"
   },
   {
    "duration": 13,
    "start_time": "2023-06-29T13:11:57.550Z"
   },
   {
    "duration": 9,
    "start_time": "2023-06-29T13:17:57.600Z"
   },
   {
    "duration": 59,
    "start_time": "2023-06-29T13:18:06.233Z"
   },
   {
    "duration": 12,
    "start_time": "2023-06-29T13:18:11.529Z"
   },
   {
    "duration": 10,
    "start_time": "2023-06-29T13:21:51.161Z"
   },
   {
    "duration": 14,
    "start_time": "2023-06-29T13:24:17.917Z"
   },
   {
    "duration": 7,
    "start_time": "2023-06-29T13:25:24.853Z"
   },
   {
    "duration": 12,
    "start_time": "2023-06-29T13:25:29.411Z"
   },
   {
    "duration": 7,
    "start_time": "2023-06-29T13:25:38.477Z"
   },
   {
    "duration": 11,
    "start_time": "2023-06-29T13:25:40.895Z"
   },
   {
    "duration": 7,
    "start_time": "2023-06-29T13:26:01.705Z"
   },
   {
    "duration": 7,
    "start_time": "2023-06-29T13:26:15.119Z"
   },
   {
    "duration": 11,
    "start_time": "2023-06-29T13:26:18.068Z"
   },
   {
    "duration": 961,
    "start_time": "2023-06-29T13:26:38.108Z"
   },
   {
    "duration": 83,
    "start_time": "2023-06-29T13:26:39.071Z"
   },
   {
    "duration": 17,
    "start_time": "2023-06-29T13:26:39.156Z"
   },
   {
    "duration": 21,
    "start_time": "2023-06-29T13:26:39.176Z"
   },
   {
    "duration": 15,
    "start_time": "2023-06-29T13:26:39.199Z"
   },
   {
    "duration": 25,
    "start_time": "2023-06-29T13:26:39.217Z"
   },
   {
    "duration": 31,
    "start_time": "2023-06-29T13:26:39.245Z"
   },
   {
    "duration": 22,
    "start_time": "2023-06-29T13:26:39.278Z"
   },
   {
    "duration": 29,
    "start_time": "2023-06-29T13:26:39.302Z"
   },
   {
    "duration": 24,
    "start_time": "2023-06-29T13:26:39.333Z"
   },
   {
    "duration": 39,
    "start_time": "2023-06-29T13:26:39.359Z"
   },
   {
    "duration": 12,
    "start_time": "2023-06-29T13:29:44.091Z"
   },
   {
    "duration": 13,
    "start_time": "2023-06-29T13:30:10.812Z"
   },
   {
    "duration": 904,
    "start_time": "2023-06-29T13:30:50.490Z"
   },
   {
    "duration": 84,
    "start_time": "2023-06-29T13:30:51.397Z"
   },
   {
    "duration": 16,
    "start_time": "2023-06-29T13:30:51.483Z"
   },
   {
    "duration": 38,
    "start_time": "2023-06-29T13:30:51.502Z"
   },
   {
    "duration": 20,
    "start_time": "2023-06-29T13:30:51.542Z"
   },
   {
    "duration": 29,
    "start_time": "2023-06-29T13:30:51.563Z"
   },
   {
    "duration": 55,
    "start_time": "2023-06-29T13:30:51.594Z"
   },
   {
    "duration": 29,
    "start_time": "2023-06-29T13:30:51.651Z"
   },
   {
    "duration": 29,
    "start_time": "2023-06-29T13:30:51.681Z"
   },
   {
    "duration": 16,
    "start_time": "2023-06-29T13:30:51.713Z"
   },
   {
    "duration": 14,
    "start_time": "2023-06-29T13:30:51.731Z"
   },
   {
    "duration": 31,
    "start_time": "2023-06-29T13:30:51.747Z"
   },
   {
    "duration": 8,
    "start_time": "2023-06-29T13:32:12.745Z"
   },
   {
    "duration": 12,
    "start_time": "2023-06-29T13:32:21.180Z"
   },
   {
    "duration": 17,
    "start_time": "2023-06-29T13:32:26.099Z"
   },
   {
    "duration": 8,
    "start_time": "2023-06-29T13:35:18.806Z"
   },
   {
    "duration": 4,
    "start_time": "2023-06-29T13:37:29.062Z"
   },
   {
    "duration": 6,
    "start_time": "2023-06-29T13:38:01.785Z"
   },
   {
    "duration": 5,
    "start_time": "2023-06-29T13:38:11.903Z"
   },
   {
    "duration": 10,
    "start_time": "2023-06-29T13:44:28.137Z"
   },
   {
    "duration": 6,
    "start_time": "2023-06-29T13:45:07.935Z"
   },
   {
    "duration": 6,
    "start_time": "2023-06-29T13:45:11.146Z"
   },
   {
    "duration": 9,
    "start_time": "2023-06-29T13:45:22.030Z"
   },
   {
    "duration": 14,
    "start_time": "2023-06-29T13:49:39.687Z"
   },
   {
    "duration": 931,
    "start_time": "2023-06-29T13:57:31.791Z"
   },
   {
    "duration": 88,
    "start_time": "2023-06-29T13:57:32.725Z"
   },
   {
    "duration": 16,
    "start_time": "2023-06-29T13:57:32.822Z"
   },
   {
    "duration": 20,
    "start_time": "2023-06-29T13:57:32.840Z"
   },
   {
    "duration": 18,
    "start_time": "2023-06-29T13:57:32.862Z"
   },
   {
    "duration": 16,
    "start_time": "2023-06-29T13:57:32.882Z"
   },
   {
    "duration": 18,
    "start_time": "2023-06-29T13:57:32.900Z"
   },
   {
    "duration": 25,
    "start_time": "2023-06-29T13:57:32.920Z"
   },
   {
    "duration": 13,
    "start_time": "2023-06-29T13:57:32.947Z"
   },
   {
    "duration": 20,
    "start_time": "2023-06-29T13:57:32.962Z"
   },
   {
    "duration": 17,
    "start_time": "2023-06-29T13:57:32.984Z"
   },
   {
    "duration": 32,
    "start_time": "2023-06-29T13:57:33.003Z"
   },
   {
    "duration": 46,
    "start_time": "2023-06-29T13:57:33.037Z"
   },
   {
    "duration": 50,
    "start_time": "2023-06-29T13:57:33.086Z"
   },
   {
    "duration": 848,
    "start_time": "2023-06-29T14:09:04.304Z"
   },
   {
    "duration": 172,
    "start_time": "2023-06-29T14:10:18.927Z"
   },
   {
    "duration": 111,
    "start_time": "2023-06-29T14:18:16.144Z"
   },
   {
    "duration": 19,
    "start_time": "2023-06-29T14:18:26.123Z"
   },
   {
    "duration": 8,
    "start_time": "2023-06-29T14:22:16.672Z"
   },
   {
    "duration": 10,
    "start_time": "2023-06-29T14:22:22.223Z"
   },
   {
    "duration": 12,
    "start_time": "2023-06-29T14:22:37.024Z"
   },
   {
    "duration": 169,
    "start_time": "2023-06-29T14:23:52.979Z"
   },
   {
    "duration": 171,
    "start_time": "2023-06-29T14:30:38.530Z"
   },
   {
    "duration": 4,
    "start_time": "2023-06-29T14:30:43.967Z"
   },
   {
    "duration": 174,
    "start_time": "2023-06-29T14:30:48.757Z"
   },
   {
    "duration": 215,
    "start_time": "2023-06-29T14:31:39.347Z"
   },
   {
    "duration": 92,
    "start_time": "2023-07-02T18:10:51.128Z"
   },
   {
    "duration": 1711,
    "start_time": "2023-07-02T18:11:00.608Z"
   },
   {
    "duration": 344,
    "start_time": "2023-07-02T18:11:02.321Z"
   },
   {
    "duration": 20,
    "start_time": "2023-07-02T18:11:02.669Z"
   },
   {
    "duration": 26,
    "start_time": "2023-07-02T18:11:02.693Z"
   },
   {
    "duration": 22,
    "start_time": "2023-07-02T18:11:02.721Z"
   },
   {
    "duration": 61,
    "start_time": "2023-07-02T18:11:02.746Z"
   },
   {
    "duration": 14,
    "start_time": "2023-07-02T18:11:02.809Z"
   },
   {
    "duration": 16,
    "start_time": "2023-07-02T18:11:02.825Z"
   },
   {
    "duration": 46,
    "start_time": "2023-07-02T18:11:02.843Z"
   },
   {
    "duration": 45,
    "start_time": "2023-07-02T18:11:02.897Z"
   },
   {
    "duration": 30,
    "start_time": "2023-07-02T18:11:02.944Z"
   },
   {
    "duration": 35,
    "start_time": "2023-07-02T18:11:02.976Z"
   },
   {
    "duration": 15,
    "start_time": "2023-07-02T18:11:03.013Z"
   },
   {
    "duration": 14,
    "start_time": "2023-07-02T18:11:03.031Z"
   },
   {
    "duration": 36,
    "start_time": "2023-07-02T18:11:03.047Z"
   },
   {
    "duration": 353,
    "start_time": "2023-07-02T18:11:03.085Z"
   },
   {
    "duration": 187,
    "start_time": "2023-07-02T18:16:00.903Z"
   },
   {
    "duration": 304,
    "start_time": "2023-07-02T18:16:09.836Z"
   },
   {
    "duration": 300,
    "start_time": "2023-07-02T18:16:22.109Z"
   },
   {
    "duration": 295,
    "start_time": "2023-07-02T18:16:47.269Z"
   },
   {
    "duration": 274,
    "start_time": "2023-07-02T18:17:57.935Z"
   },
   {
    "duration": 15,
    "start_time": "2023-07-02T18:36:58.107Z"
   },
   {
    "duration": 38,
    "start_time": "2023-07-02T18:40:44.349Z"
   },
   {
    "duration": 12,
    "start_time": "2023-07-02T18:42:25.112Z"
   },
   {
    "duration": 12,
    "start_time": "2023-07-02T18:42:27.819Z"
   },
   {
    "duration": 10,
    "start_time": "2023-07-02T18:42:31.908Z"
   },
   {
    "duration": 48,
    "start_time": "2023-07-02T18:42:35.436Z"
   },
   {
    "duration": 13,
    "start_time": "2023-07-02T18:43:07.186Z"
   },
   {
    "duration": 17,
    "start_time": "2023-07-02T18:45:17.189Z"
   },
   {
    "duration": 19,
    "start_time": "2023-07-02T18:46:17.241Z"
   },
   {
    "duration": 1390,
    "start_time": "2023-07-05T15:40:17.601Z"
   },
   {
    "duration": 208,
    "start_time": "2023-07-05T15:40:18.994Z"
   },
   {
    "duration": 14,
    "start_time": "2023-07-05T15:40:19.203Z"
   },
   {
    "duration": 13,
    "start_time": "2023-07-05T15:40:19.220Z"
   },
   {
    "duration": 13,
    "start_time": "2023-07-05T15:40:19.235Z"
   },
   {
    "duration": 14,
    "start_time": "2023-07-05T15:40:19.250Z"
   },
   {
    "duration": 15,
    "start_time": "2023-07-05T15:40:19.266Z"
   },
   {
    "duration": 22,
    "start_time": "2023-07-05T15:40:19.282Z"
   },
   {
    "duration": 18,
    "start_time": "2023-07-05T15:40:19.305Z"
   },
   {
    "duration": 10,
    "start_time": "2023-07-05T15:40:19.326Z"
   },
   {
    "duration": 8,
    "start_time": "2023-07-05T15:40:19.338Z"
   },
   {
    "duration": 16,
    "start_time": "2023-07-05T15:40:19.347Z"
   },
   {
    "duration": 10,
    "start_time": "2023-07-05T15:40:19.364Z"
   },
   {
    "duration": 9,
    "start_time": "2023-07-05T15:40:19.376Z"
   },
   {
    "duration": 20,
    "start_time": "2023-07-05T15:40:19.387Z"
   },
   {
    "duration": 16,
    "start_time": "2023-07-05T15:40:19.408Z"
   },
   {
    "duration": 321,
    "start_time": "2023-07-05T15:40:19.426Z"
   },
   {
    "duration": 120,
    "start_time": "2023-07-05T15:56:33.390Z"
   },
   {
    "duration": 4,
    "start_time": "2023-07-05T15:56:36.456Z"
   },
   {
    "duration": 164,
    "start_time": "2023-07-05T15:56:38.791Z"
   },
   {
    "duration": 285,
    "start_time": "2023-07-05T15:58:45.797Z"
   },
   {
    "duration": 276,
    "start_time": "2023-07-05T16:00:55.449Z"
   },
   {
    "duration": 281,
    "start_time": "2023-07-05T16:02:02.867Z"
   },
   {
    "duration": 277,
    "start_time": "2023-07-05T16:09:00.728Z"
   },
   {
    "duration": 303,
    "start_time": "2023-07-05T16:09:05.350Z"
   },
   {
    "duration": 242,
    "start_time": "2023-07-05T16:09:50.200Z"
   },
   {
    "duration": 10,
    "start_time": "2023-07-05T16:24:15.846Z"
   },
   {
    "duration": 12,
    "start_time": "2023-07-05T16:24:30.348Z"
   },
   {
    "duration": 4,
    "start_time": "2023-07-05T16:25:14.417Z"
   },
   {
    "duration": 6,
    "start_time": "2023-07-05T16:25:19.916Z"
   },
   {
    "duration": 10,
    "start_time": "2023-07-05T16:26:58.690Z"
   },
   {
    "duration": 5,
    "start_time": "2023-07-05T16:27:05.929Z"
   },
   {
    "duration": 6,
    "start_time": "2023-07-05T16:31:34.990Z"
   },
   {
    "duration": 41,
    "start_time": "2023-07-05T16:33:17.553Z"
   },
   {
    "duration": 17,
    "start_time": "2023-07-05T16:34:01.257Z"
   },
   {
    "duration": 20,
    "start_time": "2023-07-05T16:34:07.590Z"
   },
   {
    "duration": 11,
    "start_time": "2023-07-05T16:34:15.743Z"
   },
   {
    "duration": 10,
    "start_time": "2023-07-05T16:34:29.851Z"
   },
   {
    "duration": 8,
    "start_time": "2023-07-05T16:36:11.291Z"
   },
   {
    "duration": 27,
    "start_time": "2023-07-05T16:41:09.804Z"
   },
   {
    "duration": 12,
    "start_time": "2023-07-05T16:41:11.592Z"
   },
   {
    "duration": 11,
    "start_time": "2023-07-05T16:47:00.702Z"
   },
   {
    "duration": 14,
    "start_time": "2023-07-05T16:47:11.691Z"
   },
   {
    "duration": 1453,
    "start_time": "2023-07-05T16:47:27.319Z"
   },
   {
    "duration": 191,
    "start_time": "2023-07-05T16:50:27.253Z"
   },
   {
    "duration": 200,
    "start_time": "2023-07-05T16:50:32.850Z"
   },
   {
    "duration": 1422,
    "start_time": "2023-07-05T16:50:54.495Z"
   },
   {
    "duration": 11,
    "start_time": "2023-07-05T16:51:43.433Z"
   },
   {
    "duration": 13,
    "start_time": "2023-07-05T16:51:54.644Z"
   },
   {
    "duration": 236,
    "start_time": "2023-07-05T16:51:59.581Z"
   },
   {
    "duration": 1350,
    "start_time": "2023-07-05T16:57:11.486Z"
   },
   {
    "duration": 253,
    "start_time": "2023-07-05T16:57:18.224Z"
   },
   {
    "duration": 14,
    "start_time": "2023-07-05T16:59:50.616Z"
   },
   {
    "duration": 26,
    "start_time": "2023-07-05T17:00:22.690Z"
   },
   {
    "duration": 33,
    "start_time": "2023-07-05T17:02:11.849Z"
   },
   {
    "duration": 23,
    "start_time": "2023-07-05T17:02:21.594Z"
   },
   {
    "duration": 26,
    "start_time": "2023-07-05T17:02:34.986Z"
   },
   {
    "duration": 29,
    "start_time": "2023-07-05T17:03:04.197Z"
   },
   {
    "duration": 26,
    "start_time": "2023-07-05T17:03:26.304Z"
   },
   {
    "duration": 19,
    "start_time": "2023-07-05T17:03:45.890Z"
   },
   {
    "duration": 30,
    "start_time": "2023-07-05T17:03:56.143Z"
   },
   {
    "duration": 11,
    "start_time": "2023-07-05T17:04:51.006Z"
   },
   {
    "duration": 19,
    "start_time": "2023-07-05T17:05:05.012Z"
   },
   {
    "duration": 22,
    "start_time": "2023-07-05T17:05:44.470Z"
   },
   {
    "duration": 20,
    "start_time": "2023-07-05T17:08:14.399Z"
   },
   {
    "duration": 24,
    "start_time": "2023-07-05T17:08:24.790Z"
   },
   {
    "duration": 17,
    "start_time": "2023-07-05T17:09:38.440Z"
   },
   {
    "duration": 26,
    "start_time": "2023-07-05T17:10:34.449Z"
   },
   {
    "duration": 21,
    "start_time": "2023-07-05T17:10:42.996Z"
   },
   {
    "duration": 27,
    "start_time": "2023-07-05T17:10:48.753Z"
   },
   {
    "duration": 20,
    "start_time": "2023-07-05T17:11:34.706Z"
   },
   {
    "duration": 25,
    "start_time": "2023-07-05T17:11:44.628Z"
   },
   {
    "duration": 24,
    "start_time": "2023-07-05T17:11:50.182Z"
   },
   {
    "duration": 1007,
    "start_time": "2023-07-05T17:14:08.952Z"
   },
   {
    "duration": 27,
    "start_time": "2023-07-05T17:15:56.690Z"
   },
   {
    "duration": 24,
    "start_time": "2023-07-05T17:16:18.432Z"
   },
   {
    "duration": 22,
    "start_time": "2023-07-05T17:17:24.403Z"
   },
   {
    "duration": 230,
    "start_time": "2023-07-05T17:18:58.756Z"
   },
   {
    "duration": 260,
    "start_time": "2023-07-05T17:20:07.518Z"
   },
   {
    "duration": 244,
    "start_time": "2023-07-05T17:20:25.419Z"
   },
   {
    "duration": 25,
    "start_time": "2023-07-05T17:32:03.131Z"
   },
   {
    "duration": 21,
    "start_time": "2023-07-05T17:32:15.002Z"
   },
   {
    "duration": 20,
    "start_time": "2023-07-05T17:32:21.902Z"
   },
   {
    "duration": 331,
    "start_time": "2023-07-05T17:32:34.541Z"
   },
   {
    "duration": 249,
    "start_time": "2023-07-05T17:32:55.400Z"
   },
   {
    "duration": 403,
    "start_time": "2023-07-05T17:33:45.895Z"
   },
   {
    "duration": 271,
    "start_time": "2023-07-05T17:33:52.800Z"
   },
   {
    "duration": 270,
    "start_time": "2023-07-05T17:34:15.593Z"
   },
   {
    "duration": 1252,
    "start_time": "2023-07-05T17:34:41.092Z"
   },
   {
    "duration": 1325,
    "start_time": "2023-07-05T17:34:48.182Z"
   },
   {
    "duration": 315,
    "start_time": "2023-07-05T17:34:56.290Z"
   },
   {
    "duration": 321,
    "start_time": "2023-07-05T17:35:06.687Z"
   },
   {
    "duration": 255,
    "start_time": "2023-07-05T17:35:17.570Z"
   },
   {
    "duration": 272,
    "start_time": "2023-07-05T17:41:03.013Z"
   },
   {
    "duration": 12,
    "start_time": "2023-07-05T17:48:50.398Z"
   },
   {
    "duration": 23,
    "start_time": "2023-07-05T17:48:58.145Z"
   },
   {
    "duration": 19,
    "start_time": "2023-07-05T17:49:48.230Z"
   },
   {
    "duration": 22,
    "start_time": "2023-07-05T17:50:16.164Z"
   },
   {
    "duration": 21,
    "start_time": "2023-07-05T17:50:35.398Z"
   },
   {
    "duration": 21,
    "start_time": "2023-07-05T17:50:47.157Z"
   },
   {
    "duration": 25,
    "start_time": "2023-07-05T17:51:09.294Z"
   },
   {
    "duration": 20,
    "start_time": "2023-07-05T17:51:17.897Z"
   },
   {
    "duration": 122,
    "start_time": "2023-07-05T17:51:21.696Z"
   },
   {
    "duration": 275,
    "start_time": "2023-07-05T17:51:46.619Z"
   },
   {
    "duration": 19,
    "start_time": "2023-07-05T17:52:07.889Z"
   },
   {
    "duration": 21,
    "start_time": "2023-07-05T17:52:33.615Z"
   },
   {
    "duration": 32,
    "start_time": "2023-07-05T17:52:39.351Z"
   },
   {
    "duration": 19,
    "start_time": "2023-07-05T17:52:52.531Z"
   },
   {
    "duration": 28,
    "start_time": "2023-07-05T17:53:09.299Z"
   },
   {
    "duration": 248,
    "start_time": "2023-07-05T17:53:12.675Z"
   },
   {
    "duration": 179,
    "start_time": "2023-07-05T17:58:27.898Z"
   },
   {
    "duration": 284,
    "start_time": "2023-07-05T17:58:45.610Z"
   },
   {
    "duration": 274,
    "start_time": "2023-07-05T18:05:29.857Z"
   },
   {
    "duration": 1191,
    "start_time": "2023-07-05T18:58:57.884Z"
   },
   {
    "duration": 74,
    "start_time": "2023-07-05T18:58:59.082Z"
   },
   {
    "duration": 20,
    "start_time": "2023-07-05T18:58:59.158Z"
   },
   {
    "duration": 6,
    "start_time": "2023-07-05T18:58:59.190Z"
   },
   {
    "duration": 14,
    "start_time": "2023-07-05T18:58:59.198Z"
   },
   {
    "duration": 39,
    "start_time": "2023-07-05T18:58:59.214Z"
   },
   {
    "duration": 11,
    "start_time": "2023-07-05T18:58:59.255Z"
   },
   {
    "duration": 4,
    "start_time": "2023-07-05T18:58:59.267Z"
   },
   {
    "duration": 15,
    "start_time": "2023-07-05T18:58:59.273Z"
   },
   {
    "duration": 16,
    "start_time": "2023-07-05T18:58:59.293Z"
   },
   {
    "duration": 11,
    "start_time": "2023-07-05T18:58:59.310Z"
   },
   {
    "duration": 26,
    "start_time": "2023-07-05T18:58:59.323Z"
   },
   {
    "duration": 20,
    "start_time": "2023-07-05T18:58:59.351Z"
   },
   {
    "duration": 10,
    "start_time": "2023-07-05T18:58:59.380Z"
   },
   {
    "duration": 12,
    "start_time": "2023-07-05T18:58:59.392Z"
   },
   {
    "duration": 18,
    "start_time": "2023-07-05T18:58:59.406Z"
   },
   {
    "duration": 294,
    "start_time": "2023-07-05T18:58:59.425Z"
   },
   {
    "duration": 281,
    "start_time": "2023-07-05T18:58:59.721Z"
   },
   {
    "duration": 6,
    "start_time": "2023-07-05T18:59:00.005Z"
   },
   {
    "duration": 64,
    "start_time": "2023-07-05T18:59:00.013Z"
   },
   {
    "duration": 10,
    "start_time": "2023-07-05T18:59:00.079Z"
   },
   {
    "duration": 1604,
    "start_time": "2023-07-05T18:59:00.094Z"
   },
   {
    "duration": 328,
    "start_time": "2023-07-05T18:59:01.701Z"
   },
   {
    "duration": 15,
    "start_time": "2023-07-05T18:59:02.032Z"
   },
   {
    "duration": 67,
    "start_time": "2023-07-05T18:59:02.049Z"
   },
   {
    "duration": 59,
    "start_time": "2023-07-05T18:59:02.118Z"
   },
   {
    "duration": 22,
    "start_time": "2023-07-05T18:59:02.178Z"
   },
   {
    "duration": 383,
    "start_time": "2023-07-05T18:59:02.202Z"
   },
   {
    "duration": 266,
    "start_time": "2023-07-05T18:59:02.587Z"
   },
   {
    "duration": 32,
    "start_time": "2023-07-05T18:59:02.861Z"
   },
   {
    "duration": 254,
    "start_time": "2023-07-05T18:59:02.895Z"
   },
   {
    "duration": 50,
    "start_time": "2023-07-05T18:59:03.151Z"
   },
   {
    "duration": 139,
    "start_time": "2023-07-05T19:03:13.706Z"
   },
   {
    "duration": 308,
    "start_time": "2023-07-05T19:03:44.115Z"
   },
   {
    "duration": 396,
    "start_time": "2023-07-05T19:03:56.923Z"
   },
   {
    "duration": 371,
    "start_time": "2023-07-05T19:04:37.614Z"
   },
   {
    "duration": 360,
    "start_time": "2023-07-05T19:12:57.930Z"
   },
   {
    "duration": 385,
    "start_time": "2023-07-05T19:15:44.344Z"
   },
   {
    "duration": 594,
    "start_time": "2023-07-05T19:16:42.409Z"
   },
   {
    "duration": 588,
    "start_time": "2023-07-05T19:16:47.332Z"
   },
   {
    "duration": 577,
    "start_time": "2023-07-05T19:16:56.717Z"
   },
   {
    "duration": 492,
    "start_time": "2023-07-05T19:17:01.789Z"
   },
   {
    "duration": 519,
    "start_time": "2023-07-05T19:17:07.823Z"
   },
   {
    "duration": 6,
    "start_time": "2023-07-05T19:20:45.208Z"
   },
   {
    "duration": 553,
    "start_time": "2023-07-05T19:21:24.649Z"
   },
   {
    "duration": 18,
    "start_time": "2023-07-05T19:21:43.989Z"
   },
   {
    "duration": 588,
    "start_time": "2023-07-05T19:22:17.976Z"
   },
   {
    "duration": 585,
    "start_time": "2023-07-05T19:24:44.238Z"
   },
   {
    "duration": 8,
    "start_time": "2023-07-05T19:27:09.511Z"
   },
   {
    "duration": 418,
    "start_time": "2023-07-05T19:27:23.127Z"
   },
   {
    "duration": 176,
    "start_time": "2023-07-05T19:27:40.228Z"
   },
   {
    "duration": 12,
    "start_time": "2023-07-05T19:27:53.076Z"
   },
   {
    "duration": 11,
    "start_time": "2023-07-05T19:28:04.234Z"
   },
   {
    "duration": 440,
    "start_time": "2023-07-05T19:28:12.217Z"
   },
   {
    "duration": 22,
    "start_time": "2023-07-05T19:29:23.558Z"
   },
   {
    "duration": 431,
    "start_time": "2023-07-05T19:32:22.508Z"
   },
   {
    "duration": 17,
    "start_time": "2023-07-05T19:34:21.040Z"
   },
   {
    "duration": 78,
    "start_time": "2023-07-05T19:35:14.612Z"
   },
   {
    "duration": 112,
    "start_time": "2023-07-05T19:35:28.632Z"
   },
   {
    "duration": 19,
    "start_time": "2023-07-05T19:35:36.966Z"
   },
   {
    "duration": 17,
    "start_time": "2023-07-05T19:35:47.662Z"
   },
   {
    "duration": 16,
    "start_time": "2023-07-05T19:36:21.253Z"
   },
   {
    "duration": 4,
    "start_time": "2023-07-05T19:37:40.953Z"
   },
   {
    "duration": 14,
    "start_time": "2023-07-05T19:42:06.502Z"
   },
   {
    "duration": 20,
    "start_time": "2023-07-05T19:44:38.710Z"
   },
   {
    "duration": 19,
    "start_time": "2023-07-05T19:45:01.839Z"
   },
   {
    "duration": 19,
    "start_time": "2023-07-05T19:45:10.468Z"
   },
   {
    "duration": 17,
    "start_time": "2023-07-05T19:46:28.135Z"
   },
   {
    "duration": 130,
    "start_time": "2023-07-05T19:47:18.357Z"
   },
   {
    "duration": 21,
    "start_time": "2023-07-05T19:47:45.337Z"
   },
   {
    "duration": 196,
    "start_time": "2023-07-05T19:47:54.130Z"
   },
   {
    "duration": 214,
    "start_time": "2023-07-05T19:49:14.226Z"
   },
   {
    "duration": 8,
    "start_time": "2023-07-05T19:51:05.112Z"
   },
   {
    "duration": 7,
    "start_time": "2023-07-05T19:52:20.336Z"
   },
   {
    "duration": 84,
    "start_time": "2023-07-05T19:53:43.455Z"
   },
   {
    "duration": 12,
    "start_time": "2023-07-05T19:53:48.457Z"
   },
   {
    "duration": 13,
    "start_time": "2023-07-05T19:54:04.021Z"
   },
   {
    "duration": 11,
    "start_time": "2023-07-05T19:54:31.449Z"
   },
   {
    "duration": 67,
    "start_time": "2023-07-05T19:55:57.337Z"
   },
   {
    "duration": 24,
    "start_time": "2023-07-05T19:56:14.484Z"
   },
   {
    "duration": 11,
    "start_time": "2023-07-05T19:56:31.976Z"
   },
   {
    "duration": 12,
    "start_time": "2023-07-05T19:58:00.941Z"
   },
   {
    "duration": 164,
    "start_time": "2023-07-05T19:58:28.540Z"
   },
   {
    "duration": 176,
    "start_time": "2023-07-05T19:58:37.997Z"
   },
   {
    "duration": 10,
    "start_time": "2023-07-05T20:01:09.405Z"
   },
   {
    "duration": 6,
    "start_time": "2023-07-05T20:01:28.845Z"
   },
   {
    "duration": 5,
    "start_time": "2023-07-05T20:15:49.704Z"
   },
   {
    "duration": 6,
    "start_time": "2023-07-05T20:15:59.569Z"
   },
   {
    "duration": 13,
    "start_time": "2023-07-05T20:55:12.639Z"
   },
   {
    "duration": 19,
    "start_time": "2023-07-05T20:59:02.001Z"
   },
   {
    "duration": 336,
    "start_time": "2023-07-05T21:00:23.412Z"
   },
   {
    "duration": 196,
    "start_time": "2023-07-05T21:00:40.401Z"
   },
   {
    "duration": 179,
    "start_time": "2023-07-05T21:00:56.581Z"
   },
   {
    "duration": 165,
    "start_time": "2023-07-05T21:01:26.875Z"
   },
   {
    "duration": 172,
    "start_time": "2023-07-05T21:02:12.661Z"
   },
   {
    "duration": 9,
    "start_time": "2023-07-05T21:05:46.396Z"
   },
   {
    "duration": 5,
    "start_time": "2023-07-05T21:06:12.052Z"
   },
   {
    "duration": 5,
    "start_time": "2023-07-05T21:06:17.048Z"
   },
   {
    "duration": 5,
    "start_time": "2023-07-05T21:06:23.954Z"
   },
   {
    "duration": 8,
    "start_time": "2023-07-05T21:07:35.887Z"
   },
   {
    "duration": 3,
    "start_time": "2023-07-05T21:33:34.734Z"
   },
   {
    "duration": 318,
    "start_time": "2023-07-05T21:36:18.622Z"
   },
   {
    "duration": 289,
    "start_time": "2023-07-05T21:36:28.396Z"
   },
   {
    "duration": 5,
    "start_time": "2023-07-05T21:39:04.389Z"
   },
   {
    "duration": 3,
    "start_time": "2023-07-05T21:42:07.496Z"
   },
   {
    "duration": 22,
    "start_time": "2023-07-05T21:42:21.786Z"
   },
   {
    "duration": 7,
    "start_time": "2023-07-05T21:42:35.242Z"
   },
   {
    "duration": 14,
    "start_time": "2023-07-05T21:42:51.552Z"
   },
   {
    "duration": 4,
    "start_time": "2023-07-05T21:43:28.596Z"
   },
   {
    "duration": 11,
    "start_time": "2023-07-05T21:43:39.340Z"
   },
   {
    "duration": 12,
    "start_time": "2023-07-05T21:43:41.400Z"
   },
   {
    "duration": 12,
    "start_time": "2023-07-05T21:43:46.384Z"
   },
   {
    "duration": 251,
    "start_time": "2023-07-05T21:45:33.192Z"
   },
   {
    "duration": 170,
    "start_time": "2023-07-05T21:45:50.353Z"
   },
   {
    "duration": 169,
    "start_time": "2023-07-05T21:46:01.826Z"
   },
   {
    "duration": 216,
    "start_time": "2023-07-05T21:46:59.596Z"
   },
   {
    "duration": 139,
    "start_time": "2023-07-05T21:47:18.613Z"
   },
   {
    "duration": 14,
    "start_time": "2023-07-05T21:47:48.433Z"
   },
   {
    "duration": 369,
    "start_time": "2023-07-05T21:47:54.494Z"
   },
   {
    "duration": 216,
    "start_time": "2023-07-05T21:48:47.234Z"
   },
   {
    "duration": 17,
    "start_time": "2023-07-05T21:49:08.406Z"
   },
   {
    "duration": 213,
    "start_time": "2023-07-05T21:49:15.766Z"
   },
   {
    "duration": 40,
    "start_time": "2023-07-05T21:49:54.641Z"
   },
   {
    "duration": 315,
    "start_time": "2023-07-05T21:50:57.588Z"
   },
   {
    "duration": 7,
    "start_time": "2023-07-05T22:02:25.791Z"
   },
   {
    "duration": 1327,
    "start_time": "2023-07-05T22:03:07.598Z"
   },
   {
    "duration": 15,
    "start_time": "2023-07-05T22:03:15.098Z"
   },
   {
    "duration": 8,
    "start_time": "2023-07-05T22:03:20.297Z"
   },
   {
    "duration": 1234,
    "start_time": "2023-07-05T22:09:37.318Z"
   },
   {
    "duration": 82,
    "start_time": "2023-07-05T22:09:38.555Z"
   },
   {
    "duration": 3,
    "start_time": "2023-07-05T22:09:38.639Z"
   },
   {
    "duration": 6,
    "start_time": "2023-07-05T22:09:38.644Z"
   },
   {
    "duration": 5,
    "start_time": "2023-07-05T22:09:38.652Z"
   },
   {
    "duration": 15,
    "start_time": "2023-07-05T22:09:38.658Z"
   },
   {
    "duration": 10,
    "start_time": "2023-07-05T22:09:38.675Z"
   },
   {
    "duration": 4,
    "start_time": "2023-07-05T22:09:38.687Z"
   },
   {
    "duration": 15,
    "start_time": "2023-07-05T22:09:38.693Z"
   },
   {
    "duration": 6,
    "start_time": "2023-07-05T22:09:38.710Z"
   },
   {
    "duration": 13,
    "start_time": "2023-07-05T22:09:38.717Z"
   },
   {
    "duration": 35,
    "start_time": "2023-07-05T22:09:38.732Z"
   },
   {
    "duration": 13,
    "start_time": "2023-07-05T22:09:38.768Z"
   },
   {
    "duration": 3,
    "start_time": "2023-07-05T22:09:38.788Z"
   },
   {
    "duration": 20,
    "start_time": "2023-07-05T22:09:38.793Z"
   },
   {
    "duration": 24,
    "start_time": "2023-07-05T22:09:38.815Z"
   },
   {
    "duration": 255,
    "start_time": "2023-07-05T22:09:38.841Z"
   },
   {
    "duration": 11,
    "start_time": "2023-07-05T22:09:39.098Z"
   },
   {
    "duration": 233,
    "start_time": "2023-07-05T22:09:39.111Z"
   },
   {
    "duration": 29,
    "start_time": "2023-07-05T22:09:39.346Z"
   },
   {
    "duration": 319,
    "start_time": "2023-07-05T22:09:39.376Z"
   },
   {
    "duration": 290,
    "start_time": "2023-07-05T22:09:39.697Z"
   },
   {
    "duration": 306,
    "start_time": "2023-07-05T22:09:39.989Z"
   },
   {
    "duration": 7,
    "start_time": "2023-07-05T22:09:40.298Z"
   },
   {
    "duration": 16,
    "start_time": "2023-07-05T22:09:40.307Z"
   },
   {
    "duration": 19,
    "start_time": "2023-07-05T22:09:40.325Z"
   },
   {
    "duration": 1481,
    "start_time": "2023-07-05T22:09:40.362Z"
   },
   {
    "duration": 299,
    "start_time": "2023-07-05T22:09:41.846Z"
   },
   {
    "duration": 27,
    "start_time": "2023-07-05T22:09:42.147Z"
   },
   {
    "duration": 28,
    "start_time": "2023-07-05T22:09:42.179Z"
   },
   {
    "duration": 24,
    "start_time": "2023-07-05T22:09:42.208Z"
   },
   {
    "duration": 46,
    "start_time": "2023-07-05T22:09:42.233Z"
   },
   {
    "duration": 268,
    "start_time": "2023-07-05T22:09:42.281Z"
   },
   {
    "duration": 390,
    "start_time": "2023-07-05T22:09:42.551Z"
   },
   {
    "duration": 35,
    "start_time": "2023-07-05T22:09:42.943Z"
   },
   {
    "duration": 271,
    "start_time": "2023-07-05T22:09:42.981Z"
   },
   {
    "duration": 408,
    "start_time": "2023-07-05T22:09:43.253Z"
   },
   {
    "duration": 19,
    "start_time": "2023-07-05T22:09:43.668Z"
   },
   {
    "duration": 460,
    "start_time": "2023-07-05T22:09:43.689Z"
   },
   {
    "duration": 363,
    "start_time": "2023-07-05T22:09:44.152Z"
   },
   {
    "duration": 17,
    "start_time": "2023-07-05T22:09:44.517Z"
   },
   {
    "duration": 3,
    "start_time": "2023-07-05T22:09:44.536Z"
   },
   {
    "duration": 193,
    "start_time": "2023-07-05T22:09:44.541Z"
   },
   {
    "duration": 12,
    "start_time": "2023-07-05T22:09:44.736Z"
   },
   {
    "duration": 182,
    "start_time": "2023-07-05T22:09:44.759Z"
   },
   {
    "duration": 5,
    "start_time": "2023-07-05T22:09:44.943Z"
   },
   {
    "duration": 41,
    "start_time": "2023-07-05T22:09:44.961Z"
   },
   {
    "duration": 241,
    "start_time": "2023-07-05T22:09:45.004Z"
   },
   {
    "duration": 192,
    "start_time": "2023-07-05T22:09:45.247Z"
   },
   {
    "duration": 6,
    "start_time": "2023-07-05T22:09:45.441Z"
   },
   {
    "duration": 19,
    "start_time": "2023-07-05T22:09:45.459Z"
   },
   {
    "duration": 341,
    "start_time": "2023-07-05T22:10:32.558Z"
   },
   {
    "duration": 303,
    "start_time": "2023-07-05T22:11:37.320Z"
   },
   {
    "duration": 454,
    "start_time": "2023-07-05T22:13:11.446Z"
   },
   {
    "duration": 1350,
    "start_time": "2023-07-06T18:47:04.415Z"
   },
   {
    "duration": 310,
    "start_time": "2023-07-06T18:47:05.767Z"
   },
   {
    "duration": 3,
    "start_time": "2023-07-06T18:47:06.079Z"
   },
   {
    "duration": 16,
    "start_time": "2023-07-06T18:47:06.083Z"
   },
   {
    "duration": 48,
    "start_time": "2023-07-06T18:47:06.102Z"
   },
   {
    "duration": 23,
    "start_time": "2023-07-06T18:47:06.152Z"
   },
   {
    "duration": 45,
    "start_time": "2023-07-06T18:47:06.179Z"
   },
   {
    "duration": 37,
    "start_time": "2023-07-06T18:47:06.226Z"
   },
   {
    "duration": 33,
    "start_time": "2023-07-06T18:47:06.266Z"
   },
   {
    "duration": 39,
    "start_time": "2023-07-06T18:47:06.301Z"
   },
   {
    "duration": 23,
    "start_time": "2023-07-06T18:47:06.342Z"
   },
   {
    "duration": 25,
    "start_time": "2023-07-06T18:47:06.367Z"
   },
   {
    "duration": 9,
    "start_time": "2023-07-06T18:47:06.394Z"
   },
   {
    "duration": 3,
    "start_time": "2023-07-06T18:47:06.407Z"
   },
   {
    "duration": 11,
    "start_time": "2023-07-06T18:47:06.411Z"
   },
   {
    "duration": 19,
    "start_time": "2023-07-06T18:47:06.424Z"
   },
   {
    "duration": 244,
    "start_time": "2023-07-06T18:47:06.445Z"
   },
   {
    "duration": 16,
    "start_time": "2023-07-06T18:47:06.691Z"
   },
   {
    "duration": 195,
    "start_time": "2023-07-06T18:47:06.708Z"
   },
   {
    "duration": 15,
    "start_time": "2023-07-06T18:47:06.904Z"
   },
   {
    "duration": 339,
    "start_time": "2023-07-06T18:47:06.920Z"
   },
   {
    "duration": 331,
    "start_time": "2023-07-06T18:47:07.261Z"
   },
   {
    "duration": 302,
    "start_time": "2023-07-06T18:47:07.593Z"
   },
   {
    "duration": 6,
    "start_time": "2023-07-06T18:47:07.900Z"
   },
   {
    "duration": 14,
    "start_time": "2023-07-06T18:47:07.908Z"
   },
   {
    "duration": 10,
    "start_time": "2023-07-06T18:47:07.924Z"
   },
   {
    "duration": 1146,
    "start_time": "2023-07-06T18:47:07.935Z"
   },
   {
    "duration": 247,
    "start_time": "2023-07-06T18:47:09.083Z"
   },
   {
    "duration": 11,
    "start_time": "2023-07-06T18:47:09.332Z"
   },
   {
    "duration": 38,
    "start_time": "2023-07-06T18:47:09.345Z"
   },
   {
    "duration": 23,
    "start_time": "2023-07-06T18:47:09.385Z"
   },
   {
    "duration": 20,
    "start_time": "2023-07-06T18:47:09.409Z"
   },
   {
    "duration": 241,
    "start_time": "2023-07-06T18:47:09.431Z"
   },
   {
    "duration": 285,
    "start_time": "2023-07-06T18:47:09.674Z"
   },
   {
    "duration": 19,
    "start_time": "2023-07-06T18:47:09.960Z"
   },
   {
    "duration": 225,
    "start_time": "2023-07-06T18:47:09.981Z"
   },
   {
    "duration": 281,
    "start_time": "2023-07-06T18:47:10.208Z"
   },
   {
    "duration": 15,
    "start_time": "2023-07-06T18:47:10.491Z"
   },
   {
    "duration": 386,
    "start_time": "2023-07-06T18:47:10.508Z"
   },
   {
    "duration": 351,
    "start_time": "2023-07-06T18:47:10.896Z"
   },
   {
    "duration": 3168,
    "start_time": "2023-07-06T18:47:11.252Z"
   },
   {
    "duration": 1497,
    "start_time": "2023-07-06T18:47:14.422Z"
   },
   {
    "duration": 527,
    "start_time": "2023-07-06T18:47:15.921Z"
   },
   {
    "duration": 16,
    "start_time": "2023-07-06T18:47:16.449Z"
   },
   {
    "duration": 187,
    "start_time": "2023-07-06T18:47:16.467Z"
   },
   {
    "duration": 4,
    "start_time": "2023-07-06T18:47:16.656Z"
   },
   {
    "duration": 20,
    "start_time": "2023-07-06T18:47:16.661Z"
   },
   {
    "duration": 154,
    "start_time": "2023-07-06T18:47:16.683Z"
   },
   {
    "duration": 153,
    "start_time": "2023-07-06T18:47:16.839Z"
   },
   {
    "duration": 8,
    "start_time": "2023-07-06T18:47:16.994Z"
   },
   {
    "duration": 8,
    "start_time": "2023-07-06T18:47:17.004Z"
   },
   {
    "duration": 296,
    "start_time": "2023-07-06T18:47:17.013Z"
   },
   {
    "duration": 360,
    "start_time": "2023-07-06T18:49:07.094Z"
   },
   {
    "duration": 352,
    "start_time": "2023-07-06T18:49:22.147Z"
   },
   {
    "duration": 270,
    "start_time": "2023-07-06T18:49:50.447Z"
   },
   {
    "duration": 13,
    "start_time": "2023-07-06T18:54:31.464Z"
   },
   {
    "duration": 22,
    "start_time": "2023-07-06T18:55:05.973Z"
   },
   {
    "duration": 165,
    "start_time": "2023-07-06T19:11:36.691Z"
   },
   {
    "duration": 21,
    "start_time": "2023-07-06T19:11:44.196Z"
   },
   {
    "duration": 5,
    "start_time": "2023-07-06T19:16:33.156Z"
   },
   {
    "duration": 6,
    "start_time": "2023-07-06T19:17:29.295Z"
   },
   {
    "duration": 3,
    "start_time": "2023-07-06T19:17:50.644Z"
   },
   {
    "duration": 6,
    "start_time": "2023-07-06T19:24:35.841Z"
   },
   {
    "duration": 5,
    "start_time": "2023-07-06T19:25:21.827Z"
   },
   {
    "duration": 4,
    "start_time": "2023-07-06T19:34:38.883Z"
   },
   {
    "duration": 22,
    "start_time": "2023-07-06T19:34:54.435Z"
   },
   {
    "duration": 4,
    "start_time": "2023-07-06T19:35:23.343Z"
   },
   {
    "duration": 24,
    "start_time": "2023-07-06T19:39:19.694Z"
   },
   {
    "duration": 11,
    "start_time": "2023-07-06T19:39:24.495Z"
   },
   {
    "duration": 14,
    "start_time": "2023-07-06T19:50:10.044Z"
   },
   {
    "duration": 17,
    "start_time": "2023-07-06T19:51:19.604Z"
   },
   {
    "duration": 16,
    "start_time": "2023-07-06T19:51:26.435Z"
   },
   {
    "duration": 13,
    "start_time": "2023-07-06T19:51:32.013Z"
   },
   {
    "duration": 18,
    "start_time": "2023-07-06T19:51:45.971Z"
   },
   {
    "duration": 14,
    "start_time": "2023-07-06T19:51:55.631Z"
   },
   {
    "duration": 12,
    "start_time": "2023-07-06T19:55:30.537Z"
   },
   {
    "duration": 25,
    "start_time": "2023-07-06T19:55:41.555Z"
   },
   {
    "duration": 17,
    "start_time": "2023-07-06T19:59:04.657Z"
   },
   {
    "duration": 17,
    "start_time": "2023-07-06T19:59:38.977Z"
   },
   {
    "duration": 17,
    "start_time": "2023-07-06T20:00:15.743Z"
   },
   {
    "duration": 22,
    "start_time": "2023-07-06T20:00:35.034Z"
   },
   {
    "duration": 36,
    "start_time": "2023-07-06T20:00:41.617Z"
   },
   {
    "duration": 25,
    "start_time": "2023-07-06T20:01:13.396Z"
   },
   {
    "duration": 17,
    "start_time": "2023-07-06T20:01:18.462Z"
   },
   {
    "duration": 25,
    "start_time": "2023-07-06T20:01:22.231Z"
   },
   {
    "duration": 55,
    "start_time": "2023-07-06T20:01:42.381Z"
   },
   {
    "duration": 30,
    "start_time": "2023-07-06T20:01:54.946Z"
   },
   {
    "duration": 48,
    "start_time": "2023-07-06T20:03:16.292Z"
   },
   {
    "duration": 18,
    "start_time": "2023-07-06T20:07:21.871Z"
   },
   {
    "duration": 4,
    "start_time": "2023-07-06T20:12:29.414Z"
   },
   {
    "duration": 18,
    "start_time": "2023-07-06T20:13:48.120Z"
   },
   {
    "duration": 4,
    "start_time": "2023-07-06T20:13:53.094Z"
   },
   {
    "duration": 18,
    "start_time": "2023-07-06T20:13:56.091Z"
   },
   {
    "duration": 15,
    "start_time": "2023-07-06T20:24:42.923Z"
   },
   {
    "duration": 1650,
    "start_time": "2023-07-06T20:29:01.218Z"
   },
   {
    "duration": 12,
    "start_time": "2023-07-06T20:29:09.836Z"
   },
   {
    "duration": 15,
    "start_time": "2023-07-06T20:29:18.238Z"
   },
   {
    "duration": 20,
    "start_time": "2023-07-06T20:29:57.392Z"
   },
   {
    "duration": 6,
    "start_time": "2023-07-06T20:30:03.778Z"
   },
   {
    "duration": 16,
    "start_time": "2023-07-06T20:30:13.551Z"
   },
   {
    "duration": 7,
    "start_time": "2023-07-06T20:31:29.067Z"
   },
   {
    "duration": 10,
    "start_time": "2023-07-06T20:32:05.845Z"
   },
   {
    "duration": 7,
    "start_time": "2023-07-06T20:32:31.086Z"
   },
   {
    "duration": 14,
    "start_time": "2023-07-06T20:32:38.126Z"
   },
   {
    "duration": 1176,
    "start_time": "2023-07-06T20:32:53.828Z"
   },
   {
    "duration": 91,
    "start_time": "2023-07-06T20:32:55.005Z"
   },
   {
    "duration": 4,
    "start_time": "2023-07-06T20:32:55.097Z"
   },
   {
    "duration": 44,
    "start_time": "2023-07-06T20:32:55.103Z"
   },
   {
    "duration": 4,
    "start_time": "2023-07-06T20:32:55.149Z"
   },
   {
    "duration": 16,
    "start_time": "2023-07-06T20:32:55.154Z"
   },
   {
    "duration": 8,
    "start_time": "2023-07-06T20:32:55.171Z"
   },
   {
    "duration": 4,
    "start_time": "2023-07-06T20:32:55.180Z"
   },
   {
    "duration": 6,
    "start_time": "2023-07-06T20:32:55.186Z"
   },
   {
    "duration": 3,
    "start_time": "2023-07-06T20:32:55.194Z"
   },
   {
    "duration": 51,
    "start_time": "2023-07-06T20:32:55.198Z"
   },
   {
    "duration": 19,
    "start_time": "2023-07-06T20:32:55.250Z"
   },
   {
    "duration": 6,
    "start_time": "2023-07-06T20:32:55.270Z"
   },
   {
    "duration": 25,
    "start_time": "2023-07-06T20:32:55.277Z"
   },
   {
    "duration": 63,
    "start_time": "2023-07-06T20:32:55.303Z"
   },
   {
    "duration": 9,
    "start_time": "2023-07-06T20:32:55.367Z"
   },
   {
    "duration": 275,
    "start_time": "2023-07-06T20:32:55.378Z"
   },
   {
    "duration": 8,
    "start_time": "2023-07-06T20:32:55.654Z"
   },
   {
    "duration": 194,
    "start_time": "2023-07-06T20:32:55.664Z"
   },
   {
    "duration": 16,
    "start_time": "2023-07-06T20:32:55.859Z"
   },
   {
    "duration": 377,
    "start_time": "2023-07-06T20:32:55.876Z"
   },
   {
    "duration": 311,
    "start_time": "2023-07-06T20:32:56.266Z"
   },
   {
    "duration": 298,
    "start_time": "2023-07-06T20:32:56.579Z"
   },
   {
    "duration": 6,
    "start_time": "2023-07-06T20:32:56.879Z"
   },
   {
    "duration": 17,
    "start_time": "2023-07-06T20:32:56.887Z"
   },
   {
    "duration": 52,
    "start_time": "2023-07-06T20:32:56.906Z"
   },
   {
    "duration": 1523,
    "start_time": "2023-07-06T20:32:56.959Z"
   },
   {
    "duration": 347,
    "start_time": "2023-07-06T20:32:58.486Z"
   },
   {
    "duration": 26,
    "start_time": "2023-07-06T20:32:58.838Z"
   },
   {
    "duration": 49,
    "start_time": "2023-07-06T20:32:58.868Z"
   },
   {
    "duration": 28,
    "start_time": "2023-07-06T20:32:58.918Z"
   },
   {
    "duration": 61,
    "start_time": "2023-07-06T20:32:58.948Z"
   },
   {
    "duration": 387,
    "start_time": "2023-07-06T20:32:59.010Z"
   },
   {
    "duration": 319,
    "start_time": "2023-07-06T20:32:59.398Z"
   },
   {
    "duration": 45,
    "start_time": "2023-07-06T20:32:59.721Z"
   },
   {
    "duration": 289,
    "start_time": "2023-07-06T20:32:59.767Z"
   },
   {
    "duration": 346,
    "start_time": "2023-07-06T20:33:00.060Z"
   },
   {
    "duration": 29,
    "start_time": "2023-07-06T20:33:00.407Z"
   },
   {
    "duration": 388,
    "start_time": "2023-07-06T20:33:00.439Z"
   },
   {
    "duration": 328,
    "start_time": "2023-07-06T20:33:00.832Z"
   },
   {
    "duration": 17,
    "start_time": "2023-07-06T20:33:01.162Z"
   },
   {
    "duration": 89,
    "start_time": "2023-07-06T20:33:01.180Z"
   },
   {
    "duration": 286,
    "start_time": "2023-07-06T20:33:01.271Z"
   },
   {
    "duration": 22,
    "start_time": "2023-07-06T20:33:01.559Z"
   },
   {
    "duration": 294,
    "start_time": "2023-07-06T20:33:01.582Z"
   },
   {
    "duration": 4,
    "start_time": "2023-07-06T20:33:01.878Z"
   },
   {
    "duration": 170,
    "start_time": "2023-07-06T20:33:01.883Z"
   },
   {
    "duration": 270,
    "start_time": "2023-07-06T20:33:02.055Z"
   },
   {
    "duration": 176,
    "start_time": "2023-07-06T20:33:02.327Z"
   },
   {
    "duration": 6,
    "start_time": "2023-07-06T20:33:02.509Z"
   },
   {
    "duration": 69,
    "start_time": "2023-07-06T20:33:02.517Z"
   },
   {
    "duration": 134,
    "start_time": "2023-07-06T20:33:02.590Z"
   },
   {
    "duration": 0,
    "start_time": "2023-07-06T20:33:02.725Z"
   },
   {
    "duration": 0,
    "start_time": "2023-07-06T20:33:02.726Z"
   },
   {
    "duration": 0,
    "start_time": "2023-07-06T20:33:02.727Z"
   },
   {
    "duration": 0,
    "start_time": "2023-07-06T20:33:02.729Z"
   },
   {
    "duration": 0,
    "start_time": "2023-07-06T20:33:02.730Z"
   },
   {
    "duration": 0,
    "start_time": "2023-07-06T20:33:02.731Z"
   },
   {
    "duration": 0,
    "start_time": "2023-07-06T20:33:02.732Z"
   },
   {
    "duration": 0,
    "start_time": "2023-07-06T20:33:02.732Z"
   },
   {
    "duration": 0,
    "start_time": "2023-07-06T20:33:02.733Z"
   },
   {
    "duration": 1169,
    "start_time": "2023-07-06T20:33:14.285Z"
   },
   {
    "duration": 99,
    "start_time": "2023-07-06T20:33:15.456Z"
   },
   {
    "duration": 3,
    "start_time": "2023-07-06T20:33:15.557Z"
   },
   {
    "duration": 5,
    "start_time": "2023-07-06T20:33:15.562Z"
   },
   {
    "duration": 5,
    "start_time": "2023-07-06T20:33:15.569Z"
   },
   {
    "duration": 5,
    "start_time": "2023-07-06T20:33:15.575Z"
   },
   {
    "duration": 6,
    "start_time": "2023-07-06T20:33:15.581Z"
   },
   {
    "duration": 7,
    "start_time": "2023-07-06T20:33:15.588Z"
   },
   {
    "duration": 36,
    "start_time": "2023-07-06T20:33:15.597Z"
   },
   {
    "duration": 4,
    "start_time": "2023-07-06T20:33:15.637Z"
   },
   {
    "duration": 11,
    "start_time": "2023-07-06T20:33:15.642Z"
   },
   {
    "duration": 16,
    "start_time": "2023-07-06T20:33:15.654Z"
   },
   {
    "duration": 9,
    "start_time": "2023-07-06T20:33:15.672Z"
   },
   {
    "duration": 3,
    "start_time": "2023-07-06T20:33:15.682Z"
   },
   {
    "duration": 11,
    "start_time": "2023-07-06T20:33:15.686Z"
   },
   {
    "duration": 48,
    "start_time": "2023-07-06T20:33:15.698Z"
   },
   {
    "duration": 211,
    "start_time": "2023-07-06T20:33:15.748Z"
   },
   {
    "duration": 11,
    "start_time": "2023-07-06T20:33:15.960Z"
   },
   {
    "duration": 202,
    "start_time": "2023-07-06T20:33:15.972Z"
   },
   {
    "duration": 58,
    "start_time": "2023-07-06T20:33:16.176Z"
   },
   {
    "duration": 243,
    "start_time": "2023-07-06T20:33:16.237Z"
   },
   {
    "duration": 293,
    "start_time": "2023-07-06T20:33:16.482Z"
   },
   {
    "duration": 348,
    "start_time": "2023-07-06T20:33:16.777Z"
   },
   {
    "duration": 7,
    "start_time": "2023-07-06T20:33:17.126Z"
   },
   {
    "duration": 15,
    "start_time": "2023-07-06T20:33:17.135Z"
   },
   {
    "duration": 7,
    "start_time": "2023-07-06T20:33:17.151Z"
   },
   {
    "duration": 1350,
    "start_time": "2023-07-06T20:33:17.159Z"
   },
   {
    "duration": 250,
    "start_time": "2023-07-06T20:33:18.512Z"
   },
   {
    "duration": 11,
    "start_time": "2023-07-06T20:33:18.764Z"
   },
   {
    "duration": 22,
    "start_time": "2023-07-06T20:33:18.776Z"
   },
   {
    "duration": 26,
    "start_time": "2023-07-06T20:33:18.805Z"
   },
   {
    "duration": 21,
    "start_time": "2023-07-06T20:33:18.833Z"
   },
   {
    "duration": 231,
    "start_time": "2023-07-06T20:33:18.855Z"
   },
   {
    "duration": 345,
    "start_time": "2023-07-06T20:33:19.088Z"
   },
   {
    "duration": 24,
    "start_time": "2023-07-06T20:33:19.435Z"
   },
   {
    "duration": 284,
    "start_time": "2023-07-06T20:33:19.460Z"
   },
   {
    "duration": 387,
    "start_time": "2023-07-06T20:33:19.747Z"
   },
   {
    "duration": 12,
    "start_time": "2023-07-06T20:33:20.136Z"
   },
   {
    "duration": 410,
    "start_time": "2023-07-06T20:33:20.150Z"
   },
   {
    "duration": 335,
    "start_time": "2023-07-06T20:33:20.562Z"
   },
   {
    "duration": 20,
    "start_time": "2023-07-06T20:33:20.903Z"
   },
   {
    "duration": 20,
    "start_time": "2023-07-06T20:33:20.927Z"
   },
   {
    "duration": 177,
    "start_time": "2023-07-06T20:33:20.948Z"
   },
   {
    "duration": 17,
    "start_time": "2023-07-06T20:33:21.126Z"
   },
   {
    "duration": 140,
    "start_time": "2023-07-06T20:33:21.145Z"
   },
   {
    "duration": 4,
    "start_time": "2023-07-06T20:33:21.287Z"
   },
   {
    "duration": 50,
    "start_time": "2023-07-06T20:33:21.292Z"
   },
   {
    "duration": 140,
    "start_time": "2023-07-06T20:33:21.344Z"
   },
   {
    "duration": 158,
    "start_time": "2023-07-06T20:33:21.486Z"
   },
   {
    "duration": 4,
    "start_time": "2023-07-06T20:33:21.646Z"
   },
   {
    "duration": 8,
    "start_time": "2023-07-06T20:33:21.651Z"
   },
   {
    "duration": 111,
    "start_time": "2023-07-06T20:33:21.660Z"
   },
   {
    "duration": 0,
    "start_time": "2023-07-06T20:33:21.773Z"
   },
   {
    "duration": 0,
    "start_time": "2023-07-06T20:33:21.775Z"
   },
   {
    "duration": 0,
    "start_time": "2023-07-06T20:33:21.777Z"
   },
   {
    "duration": 0,
    "start_time": "2023-07-06T20:33:21.778Z"
   },
   {
    "duration": 1,
    "start_time": "2023-07-06T20:33:21.779Z"
   },
   {
    "duration": 0,
    "start_time": "2023-07-06T20:33:21.781Z"
   },
   {
    "duration": 0,
    "start_time": "2023-07-06T20:33:21.783Z"
   },
   {
    "duration": 0,
    "start_time": "2023-07-06T20:33:21.784Z"
   },
   {
    "duration": 0,
    "start_time": "2023-07-06T20:33:21.785Z"
   },
   {
    "duration": 7,
    "start_time": "2023-07-06T20:33:29.356Z"
   },
   {
    "duration": 5,
    "start_time": "2023-07-06T20:33:32.039Z"
   },
   {
    "duration": 20,
    "start_time": "2023-07-06T20:33:35.823Z"
   },
   {
    "duration": 4,
    "start_time": "2023-07-06T20:33:39.946Z"
   },
   {
    "duration": 14,
    "start_time": "2023-07-06T20:33:42.490Z"
   },
   {
    "duration": 12,
    "start_time": "2023-07-06T20:33:46.882Z"
   },
   {
    "duration": 7,
    "start_time": "2023-07-06T20:33:49.628Z"
   },
   {
    "duration": 6,
    "start_time": "2023-07-06T20:33:51.921Z"
   },
   {
    "duration": 104,
    "start_time": "2023-07-06T20:33:54.626Z"
   },
   {
    "duration": 18,
    "start_time": "2023-07-06T20:34:30.148Z"
   },
   {
    "duration": 28,
    "start_time": "2023-07-06T20:34:55.535Z"
   },
   {
    "duration": 29,
    "start_time": "2023-07-06T20:35:14.153Z"
   },
   {
    "duration": 19,
    "start_time": "2023-07-06T20:35:39.888Z"
   },
   {
    "duration": 12,
    "start_time": "2023-07-06T20:35:58.402Z"
   },
   {
    "duration": 15,
    "start_time": "2023-07-06T20:36:12.128Z"
   },
   {
    "duration": 16,
    "start_time": "2023-07-06T20:36:21.124Z"
   },
   {
    "duration": 7,
    "start_time": "2023-07-06T20:36:27.561Z"
   },
   {
    "duration": 19,
    "start_time": "2023-07-06T20:36:47.586Z"
   },
   {
    "duration": 24,
    "start_time": "2023-07-06T20:36:55.920Z"
   },
   {
    "duration": 26,
    "start_time": "2023-07-06T20:37:01.413Z"
   },
   {
    "duration": 52,
    "start_time": "2023-07-06T20:38:02.830Z"
   },
   {
    "duration": 38,
    "start_time": "2023-07-06T20:38:49.489Z"
   },
   {
    "duration": 20,
    "start_time": "2023-07-06T20:39:01.459Z"
   },
   {
    "duration": 39,
    "start_time": "2023-07-06T20:39:33.230Z"
   },
   {
    "duration": 15,
    "start_time": "2023-07-06T20:39:38.701Z"
   },
   {
    "duration": 10,
    "start_time": "2023-07-06T20:59:53.917Z"
   },
   {
    "duration": 14,
    "start_time": "2023-07-06T21:06:55.891Z"
   },
   {
    "duration": 41,
    "start_time": "2023-07-06T21:07:05.391Z"
   },
   {
    "duration": 13,
    "start_time": "2023-07-06T21:07:45.790Z"
   },
   {
    "duration": 330,
    "start_time": "2023-07-06T21:19:40.691Z"
   },
   {
    "duration": 1198,
    "start_time": "2023-07-06T21:25:12.104Z"
   },
   {
    "duration": 75,
    "start_time": "2023-07-06T21:25:13.304Z"
   },
   {
    "duration": 2,
    "start_time": "2023-07-06T21:25:13.381Z"
   },
   {
    "duration": 11,
    "start_time": "2023-07-06T21:25:13.386Z"
   },
   {
    "duration": 5,
    "start_time": "2023-07-06T21:25:13.399Z"
   },
   {
    "duration": 9,
    "start_time": "2023-07-06T21:25:13.405Z"
   },
   {
    "duration": 9,
    "start_time": "2023-07-06T21:25:13.416Z"
   },
   {
    "duration": 7,
    "start_time": "2023-07-06T21:25:13.427Z"
   },
   {
    "duration": 16,
    "start_time": "2023-07-06T21:25:13.436Z"
   },
   {
    "duration": 10,
    "start_time": "2023-07-06T21:25:13.456Z"
   },
   {
    "duration": 13,
    "start_time": "2023-07-06T21:25:13.468Z"
   },
   {
    "duration": 28,
    "start_time": "2023-07-06T21:25:13.483Z"
   },
   {
    "duration": 20,
    "start_time": "2023-07-06T21:25:13.513Z"
   },
   {
    "duration": 12,
    "start_time": "2023-07-06T21:25:13.534Z"
   },
   {
    "duration": 9,
    "start_time": "2023-07-06T21:25:13.548Z"
   },
   {
    "duration": 11,
    "start_time": "2023-07-06T21:25:13.558Z"
   },
   {
    "duration": 254,
    "start_time": "2023-07-06T21:25:13.571Z"
   },
   {
    "duration": 7,
    "start_time": "2023-07-06T21:25:13.827Z"
   },
   {
    "duration": 173,
    "start_time": "2023-07-06T21:25:13.835Z"
   },
   {
    "duration": 16,
    "start_time": "2023-07-06T21:25:14.010Z"
   },
   {
    "duration": 245,
    "start_time": "2023-07-06T21:25:14.027Z"
   },
   {
    "duration": 359,
    "start_time": "2023-07-06T21:25:14.274Z"
   },
   {
    "duration": 319,
    "start_time": "2023-07-06T21:25:14.635Z"
   },
   {
    "duration": 7,
    "start_time": "2023-07-06T21:25:14.957Z"
   },
   {
    "duration": 32,
    "start_time": "2023-07-06T21:25:14.967Z"
   },
   {
    "duration": 45,
    "start_time": "2023-07-06T21:25:15.001Z"
   },
   {
    "duration": 1603,
    "start_time": "2023-07-06T21:25:15.048Z"
   },
   {
    "duration": 299,
    "start_time": "2023-07-06T21:25:16.656Z"
   },
   {
    "duration": 14,
    "start_time": "2023-07-06T21:25:16.956Z"
   },
   {
    "duration": 50,
    "start_time": "2023-07-06T21:25:16.972Z"
   },
   {
    "duration": 30,
    "start_time": "2023-07-06T21:25:17.024Z"
   },
   {
    "duration": 22,
    "start_time": "2023-07-06T21:25:17.056Z"
   },
   {
    "duration": 306,
    "start_time": "2023-07-06T21:25:17.080Z"
   },
   {
    "duration": 308,
    "start_time": "2023-07-06T21:25:17.388Z"
   },
   {
    "duration": 25,
    "start_time": "2023-07-06T21:25:17.697Z"
   },
   {
    "duration": 267,
    "start_time": "2023-07-06T21:25:17.724Z"
   },
   {
    "duration": 343,
    "start_time": "2023-07-06T21:25:17.995Z"
   },
   {
    "duration": 11,
    "start_time": "2023-07-06T21:25:18.340Z"
   },
   {
    "duration": 436,
    "start_time": "2023-07-06T21:25:18.353Z"
   },
   {
    "duration": 324,
    "start_time": "2023-07-06T21:25:18.799Z"
   },
   {
    "duration": 20,
    "start_time": "2023-07-06T21:25:19.124Z"
   },
   {
    "duration": 13,
    "start_time": "2023-07-06T21:25:19.147Z"
   },
   {
    "duration": 216,
    "start_time": "2023-07-06T21:25:19.162Z"
   },
   {
    "duration": 11,
    "start_time": "2023-07-06T21:25:19.379Z"
   },
   {
    "duration": 155,
    "start_time": "2023-07-06T21:25:19.400Z"
   },
   {
    "duration": 6,
    "start_time": "2023-07-06T21:25:19.557Z"
   },
   {
    "duration": 26,
    "start_time": "2023-07-06T21:25:19.565Z"
   },
   {
    "duration": 181,
    "start_time": "2023-07-06T21:25:19.599Z"
   },
   {
    "duration": 155,
    "start_time": "2023-07-06T21:25:19.783Z"
   },
   {
    "duration": 5,
    "start_time": "2023-07-06T21:25:19.941Z"
   },
   {
    "duration": 13,
    "start_time": "2023-07-06T21:25:19.948Z"
   },
   {
    "duration": 8,
    "start_time": "2023-07-06T21:25:19.963Z"
   },
   {
    "duration": 27,
    "start_time": "2023-07-06T21:25:19.973Z"
   },
   {
    "duration": 57,
    "start_time": "2023-07-06T21:25:20.002Z"
   },
   {
    "duration": 5,
    "start_time": "2023-07-06T21:25:20.060Z"
   },
   {
    "duration": 19,
    "start_time": "2023-07-06T21:25:20.067Z"
   },
   {
    "duration": 66,
    "start_time": "2023-07-06T21:25:20.088Z"
   },
   {
    "duration": 0,
    "start_time": "2023-07-06T21:25:20.156Z"
   },
   {
    "duration": 0,
    "start_time": "2023-07-06T21:25:20.158Z"
   },
   {
    "duration": 0,
    "start_time": "2023-07-06T21:25:20.159Z"
   },
   {
    "duration": 0,
    "start_time": "2023-07-06T21:25:20.160Z"
   },
   {
    "duration": 0,
    "start_time": "2023-07-06T21:25:20.162Z"
   },
   {
    "duration": 0,
    "start_time": "2023-07-06T21:25:20.163Z"
   },
   {
    "duration": 1492,
    "start_time": "2023-07-07T07:21:28.454Z"
   },
   {
    "duration": 195,
    "start_time": "2023-07-07T07:21:29.949Z"
   },
   {
    "duration": 3,
    "start_time": "2023-07-07T07:21:30.146Z"
   },
   {
    "duration": 19,
    "start_time": "2023-07-07T07:21:30.151Z"
   },
   {
    "duration": 32,
    "start_time": "2023-07-07T07:21:30.173Z"
   },
   {
    "duration": 54,
    "start_time": "2023-07-07T07:21:30.207Z"
   },
   {
    "duration": 36,
    "start_time": "2023-07-07T07:21:30.264Z"
   },
   {
    "duration": 22,
    "start_time": "2023-07-07T07:21:30.302Z"
   },
   {
    "duration": 26,
    "start_time": "2023-07-07T07:21:30.326Z"
   },
   {
    "duration": 26,
    "start_time": "2023-07-07T07:21:30.354Z"
   },
   {
    "duration": 37,
    "start_time": "2023-07-07T07:21:30.382Z"
   },
   {
    "duration": 35,
    "start_time": "2023-07-07T07:21:30.421Z"
   },
   {
    "duration": 38,
    "start_time": "2023-07-07T07:21:30.460Z"
   },
   {
    "duration": 62,
    "start_time": "2023-07-07T07:21:30.502Z"
   },
   {
    "duration": 29,
    "start_time": "2023-07-07T07:21:30.565Z"
   },
   {
    "duration": 50,
    "start_time": "2023-07-07T07:21:30.596Z"
   },
   {
    "duration": 240,
    "start_time": "2023-07-07T07:21:30.648Z"
   },
   {
    "duration": 9,
    "start_time": "2023-07-07T07:21:30.891Z"
   },
   {
    "duration": 211,
    "start_time": "2023-07-07T07:21:30.913Z"
   },
   {
    "duration": 17,
    "start_time": "2023-07-07T07:21:31.126Z"
   },
   {
    "duration": 358,
    "start_time": "2023-07-07T07:21:31.145Z"
   },
   {
    "duration": 338,
    "start_time": "2023-07-07T07:21:31.505Z"
   },
   {
    "duration": 302,
    "start_time": "2023-07-07T07:21:31.845Z"
   },
   {
    "duration": 7,
    "start_time": "2023-07-07T07:21:32.149Z"
   },
   {
    "duration": 48,
    "start_time": "2023-07-07T07:21:32.158Z"
   },
   {
    "duration": 31,
    "start_time": "2023-07-07T07:21:32.208Z"
   },
   {
    "duration": 1475,
    "start_time": "2023-07-07T07:21:32.242Z"
   },
   {
    "duration": 340,
    "start_time": "2023-07-07T07:21:33.719Z"
   },
   {
    "duration": 15,
    "start_time": "2023-07-07T07:21:34.061Z"
   },
   {
    "duration": 29,
    "start_time": "2023-07-07T07:21:34.078Z"
   },
   {
    "duration": 25,
    "start_time": "2023-07-07T07:21:34.109Z"
   },
   {
    "duration": 42,
    "start_time": "2023-07-07T07:21:34.136Z"
   },
   {
    "duration": 274,
    "start_time": "2023-07-07T07:21:34.180Z"
   },
   {
    "duration": 362,
    "start_time": "2023-07-07T07:21:34.456Z"
   },
   {
    "duration": 26,
    "start_time": "2023-07-07T07:21:34.820Z"
   },
   {
    "duration": 282,
    "start_time": "2023-07-07T07:21:34.848Z"
   },
   {
    "duration": 381,
    "start_time": "2023-07-07T07:21:35.132Z"
   },
   {
    "duration": 14,
    "start_time": "2023-07-07T07:21:35.515Z"
   },
   {
    "duration": 434,
    "start_time": "2023-07-07T07:21:35.530Z"
   },
   {
    "duration": 355,
    "start_time": "2023-07-07T07:21:35.966Z"
   },
   {
    "duration": 21,
    "start_time": "2023-07-07T07:21:36.327Z"
   },
   {
    "duration": 9,
    "start_time": "2023-07-07T07:21:36.351Z"
   },
   {
    "duration": 224,
    "start_time": "2023-07-07T07:21:36.363Z"
   },
   {
    "duration": 11,
    "start_time": "2023-07-07T07:21:36.588Z"
   },
   {
    "duration": 165,
    "start_time": "2023-07-07T07:21:36.613Z"
   },
   {
    "duration": 5,
    "start_time": "2023-07-07T07:21:36.780Z"
   },
   {
    "duration": 33,
    "start_time": "2023-07-07T07:21:36.787Z"
   },
   {
    "duration": 196,
    "start_time": "2023-07-07T07:21:36.822Z"
   },
   {
    "duration": 173,
    "start_time": "2023-07-07T07:21:37.020Z"
   },
   {
    "duration": 4,
    "start_time": "2023-07-07T07:21:37.195Z"
   },
   {
    "duration": 15,
    "start_time": "2023-07-07T07:21:37.201Z"
   },
   {
    "duration": 28,
    "start_time": "2023-07-07T07:21:37.217Z"
   },
   {
    "duration": 11,
    "start_time": "2023-07-07T07:21:37.247Z"
   },
   {
    "duration": 28,
    "start_time": "2023-07-07T07:21:37.260Z"
   },
   {
    "duration": 4,
    "start_time": "2023-07-07T07:21:37.290Z"
   },
   {
    "duration": 25,
    "start_time": "2023-07-07T07:21:37.296Z"
   },
   {
    "duration": 112,
    "start_time": "2023-07-07T07:21:37.323Z"
   },
   {
    "duration": 0,
    "start_time": "2023-07-07T07:21:37.437Z"
   },
   {
    "duration": 0,
    "start_time": "2023-07-07T07:21:37.439Z"
   },
   {
    "duration": 0,
    "start_time": "2023-07-07T07:21:37.440Z"
   },
   {
    "duration": 0,
    "start_time": "2023-07-07T07:21:37.441Z"
   },
   {
    "duration": 0,
    "start_time": "2023-07-07T07:21:37.442Z"
   },
   {
    "duration": 0,
    "start_time": "2023-07-07T07:21:37.443Z"
   },
   {
    "duration": 13,
    "start_time": "2023-07-07T07:22:43.636Z"
   },
   {
    "duration": 4,
    "start_time": "2023-07-07T07:22:44.445Z"
   },
   {
    "duration": 7,
    "start_time": "2023-07-07T07:22:45.292Z"
   },
   {
    "duration": 27,
    "start_time": "2023-07-07T07:22:45.518Z"
   },
   {
    "duration": 13,
    "start_time": "2023-07-07T07:22:45.719Z"
   },
   {
    "duration": 12,
    "start_time": "2023-07-07T07:22:46.288Z"
   },
   {
    "duration": 322,
    "start_time": "2023-07-07T07:22:47.376Z"
   },
   {
    "duration": 54,
    "start_time": "2023-07-07T10:05:26.310Z"
   },
   {
    "duration": 1643,
    "start_time": "2023-07-07T10:05:37.986Z"
   },
   {
    "duration": 198,
    "start_time": "2023-07-07T10:05:39.631Z"
   },
   {
    "duration": 3,
    "start_time": "2023-07-07T10:05:39.831Z"
   },
   {
    "duration": 10,
    "start_time": "2023-07-07T10:05:39.837Z"
   },
   {
    "duration": 9,
    "start_time": "2023-07-07T10:05:39.849Z"
   },
   {
    "duration": 7,
    "start_time": "2023-07-07T10:05:39.860Z"
   },
   {
    "duration": 7,
    "start_time": "2023-07-07T10:05:39.870Z"
   },
   {
    "duration": 4,
    "start_time": "2023-07-07T10:05:39.880Z"
   },
   {
    "duration": 12,
    "start_time": "2023-07-07T10:05:39.887Z"
   },
   {
    "duration": 4,
    "start_time": "2023-07-07T10:05:39.908Z"
   },
   {
    "duration": 12,
    "start_time": "2023-07-07T10:05:39.915Z"
   },
   {
    "duration": 27,
    "start_time": "2023-07-07T10:05:39.930Z"
   },
   {
    "duration": 15,
    "start_time": "2023-07-07T10:05:39.959Z"
   },
   {
    "duration": 9,
    "start_time": "2023-07-07T10:05:39.977Z"
   },
   {
    "duration": 32,
    "start_time": "2023-07-07T10:05:39.988Z"
   },
   {
    "duration": 31,
    "start_time": "2023-07-07T10:05:40.022Z"
   },
   {
    "duration": 246,
    "start_time": "2023-07-07T10:05:40.055Z"
   },
   {
    "duration": 13,
    "start_time": "2023-07-07T10:05:40.302Z"
   },
   {
    "duration": 213,
    "start_time": "2023-07-07T10:05:40.317Z"
   },
   {
    "duration": 19,
    "start_time": "2023-07-07T10:05:40.532Z"
   },
   {
    "duration": 356,
    "start_time": "2023-07-07T10:05:40.553Z"
   },
   {
    "duration": 348,
    "start_time": "2023-07-07T10:05:40.911Z"
   },
   {
    "duration": 323,
    "start_time": "2023-07-07T10:05:41.261Z"
   },
   {
    "duration": 8,
    "start_time": "2023-07-07T10:05:41.586Z"
   },
   {
    "duration": 17,
    "start_time": "2023-07-07T10:05:41.609Z"
   },
   {
    "duration": 26,
    "start_time": "2023-07-07T10:05:41.628Z"
   },
   {
    "duration": 1456,
    "start_time": "2023-07-07T10:05:41.656Z"
   },
   {
    "duration": 335,
    "start_time": "2023-07-07T10:05:43.116Z"
   },
   {
    "duration": 14,
    "start_time": "2023-07-07T10:05:43.453Z"
   },
   {
    "duration": 38,
    "start_time": "2023-07-07T10:05:43.469Z"
   },
   {
    "duration": 26,
    "start_time": "2023-07-07T10:05:43.508Z"
   },
   {
    "duration": 21,
    "start_time": "2023-07-07T10:05:43.536Z"
   },
   {
    "duration": 132,
    "start_time": "2023-07-07T10:05:43.560Z"
   },
   {
    "duration": 0,
    "start_time": "2023-07-07T10:05:43.693Z"
   },
   {
    "duration": 0,
    "start_time": "2023-07-07T10:05:43.695Z"
   },
   {
    "duration": 0,
    "start_time": "2023-07-07T10:05:43.696Z"
   },
   {
    "duration": 0,
    "start_time": "2023-07-07T10:05:43.709Z"
   },
   {
    "duration": 1,
    "start_time": "2023-07-07T10:05:43.710Z"
   },
   {
    "duration": 0,
    "start_time": "2023-07-07T10:05:43.712Z"
   },
   {
    "duration": 0,
    "start_time": "2023-07-07T10:05:43.713Z"
   },
   {
    "duration": 0,
    "start_time": "2023-07-07T10:05:43.715Z"
   },
   {
    "duration": 0,
    "start_time": "2023-07-07T10:05:43.716Z"
   },
   {
    "duration": 0,
    "start_time": "2023-07-07T10:05:43.717Z"
   },
   {
    "duration": 0,
    "start_time": "2023-07-07T10:05:43.718Z"
   },
   {
    "duration": 0,
    "start_time": "2023-07-07T10:05:43.719Z"
   },
   {
    "duration": 0,
    "start_time": "2023-07-07T10:05:43.720Z"
   },
   {
    "duration": 0,
    "start_time": "2023-07-07T10:05:43.722Z"
   },
   {
    "duration": 0,
    "start_time": "2023-07-07T10:05:43.723Z"
   },
   {
    "duration": 0,
    "start_time": "2023-07-07T10:05:43.724Z"
   },
   {
    "duration": 0,
    "start_time": "2023-07-07T10:05:43.726Z"
   },
   {
    "duration": 0,
    "start_time": "2023-07-07T10:05:43.727Z"
   },
   {
    "duration": 0,
    "start_time": "2023-07-07T10:05:43.728Z"
   },
   {
    "duration": 0,
    "start_time": "2023-07-07T10:05:43.729Z"
   },
   {
    "duration": 0,
    "start_time": "2023-07-07T10:05:43.731Z"
   },
   {
    "duration": 0,
    "start_time": "2023-07-07T10:05:43.732Z"
   },
   {
    "duration": 0,
    "start_time": "2023-07-07T10:05:43.733Z"
   },
   {
    "duration": 0,
    "start_time": "2023-07-07T10:05:43.734Z"
   },
   {
    "duration": 0,
    "start_time": "2023-07-07T10:05:43.735Z"
   },
   {
    "duration": 0,
    "start_time": "2023-07-07T10:05:43.736Z"
   },
   {
    "duration": 0,
    "start_time": "2023-07-07T10:05:43.737Z"
   },
   {
    "duration": 0,
    "start_time": "2023-07-07T10:05:43.739Z"
   },
   {
    "duration": 0,
    "start_time": "2023-07-07T10:05:43.740Z"
   },
   {
    "duration": 0,
    "start_time": "2023-07-07T10:05:43.741Z"
   },
   {
    "duration": 0,
    "start_time": "2023-07-07T10:05:43.742Z"
   },
   {
    "duration": 22,
    "start_time": "2023-07-07T10:06:11.513Z"
   },
   {
    "duration": 25,
    "start_time": "2023-07-07T10:06:28.336Z"
   },
   {
    "duration": 17,
    "start_time": "2023-07-07T10:07:06.890Z"
   },
   {
    "duration": 25,
    "start_time": "2023-07-07T10:07:17.489Z"
   },
   {
    "duration": 16,
    "start_time": "2023-07-07T10:08:28.531Z"
   },
   {
    "duration": 25,
    "start_time": "2023-07-07T10:08:32.810Z"
   },
   {
    "duration": 114,
    "start_time": "2023-07-07T10:11:35.937Z"
   },
   {
    "duration": 33,
    "start_time": "2023-07-07T10:11:53.974Z"
   },
   {
    "duration": 37,
    "start_time": "2023-07-07T10:11:57.012Z"
   },
   {
    "duration": 34,
    "start_time": "2023-07-07T10:16:20.327Z"
   },
   {
    "duration": 29,
    "start_time": "2023-07-07T10:27:32.531Z"
   },
   {
    "duration": 44,
    "start_time": "2023-07-07T10:27:45.997Z"
   },
   {
    "duration": 1522,
    "start_time": "2023-07-07T10:28:03.930Z"
   },
   {
    "duration": 90,
    "start_time": "2023-07-07T10:28:05.454Z"
   },
   {
    "duration": 4,
    "start_time": "2023-07-07T10:28:05.546Z"
   },
   {
    "duration": 44,
    "start_time": "2023-07-07T10:28:05.552Z"
   },
   {
    "duration": 46,
    "start_time": "2023-07-07T10:28:05.598Z"
   },
   {
    "duration": 34,
    "start_time": "2023-07-07T10:28:05.646Z"
   },
   {
    "duration": 48,
    "start_time": "2023-07-07T10:28:05.682Z"
   },
   {
    "duration": 64,
    "start_time": "2023-07-07T10:28:05.741Z"
   },
   {
    "duration": 64,
    "start_time": "2023-07-07T10:28:05.807Z"
   },
   {
    "duration": 30,
    "start_time": "2023-07-07T10:28:05.876Z"
   },
   {
    "duration": 120,
    "start_time": "2023-07-07T10:28:05.908Z"
   },
   {
    "duration": 97,
    "start_time": "2023-07-07T10:28:06.031Z"
   },
   {
    "duration": 49,
    "start_time": "2023-07-07T10:28:06.129Z"
   },
   {
    "duration": 27,
    "start_time": "2023-07-07T10:28:06.180Z"
   },
   {
    "duration": 45,
    "start_time": "2023-07-07T10:28:06.214Z"
   },
   {
    "duration": 42,
    "start_time": "2023-07-07T10:28:06.261Z"
   },
   {
    "duration": 287,
    "start_time": "2023-07-07T10:28:06.306Z"
   },
   {
    "duration": 30,
    "start_time": "2023-07-07T10:28:06.595Z"
   },
   {
    "duration": 247,
    "start_time": "2023-07-07T10:28:06.627Z"
   },
   {
    "duration": 19,
    "start_time": "2023-07-07T10:28:06.876Z"
   },
   {
    "duration": 378,
    "start_time": "2023-07-07T10:28:06.910Z"
   },
   {
    "duration": 339,
    "start_time": "2023-07-07T10:28:07.290Z"
   },
   {
    "duration": 342,
    "start_time": "2023-07-07T10:28:07.631Z"
   },
   {
    "duration": 7,
    "start_time": "2023-07-07T10:28:07.975Z"
   },
   {
    "duration": 56,
    "start_time": "2023-07-07T10:28:07.984Z"
   },
   {
    "duration": 36,
    "start_time": "2023-07-07T10:28:08.042Z"
   },
   {
    "duration": 1654,
    "start_time": "2023-07-07T10:28:08.080Z"
   },
   {
    "duration": 359,
    "start_time": "2023-07-07T10:28:09.740Z"
   },
   {
    "duration": 18,
    "start_time": "2023-07-07T10:28:10.102Z"
   },
   {
    "duration": 57,
    "start_time": "2023-07-07T10:28:10.122Z"
   },
   {
    "duration": 43,
    "start_time": "2023-07-07T10:28:10.182Z"
   },
   {
    "duration": 39,
    "start_time": "2023-07-07T10:28:10.227Z"
   },
   {
    "duration": 54,
    "start_time": "2023-07-07T10:28:10.268Z"
   },
   {
    "duration": 300,
    "start_time": "2023-07-07T10:28:10.324Z"
   },
   {
    "duration": 421,
    "start_time": "2023-07-07T10:28:10.626Z"
   },
   {
    "duration": 23,
    "start_time": "2023-07-07T10:28:11.049Z"
   },
   {
    "duration": 329,
    "start_time": "2023-07-07T10:28:11.074Z"
   },
   {
    "duration": 380,
    "start_time": "2023-07-07T10:28:11.408Z"
   },
   {
    "duration": 28,
    "start_time": "2023-07-07T10:28:11.791Z"
   },
   {
    "duration": 464,
    "start_time": "2023-07-07T10:28:11.825Z"
   },
   {
    "duration": 358,
    "start_time": "2023-07-07T10:28:12.292Z"
   },
   {
    "duration": 16,
    "start_time": "2023-07-07T10:28:12.652Z"
   },
   {
    "duration": 4,
    "start_time": "2023-07-07T10:28:12.670Z"
   },
   {
    "duration": 212,
    "start_time": "2023-07-07T10:28:12.676Z"
   },
   {
    "duration": 33,
    "start_time": "2023-07-07T10:28:12.890Z"
   },
   {
    "duration": 173,
    "start_time": "2023-07-07T10:28:12.925Z"
   },
   {
    "duration": 10,
    "start_time": "2023-07-07T10:28:13.100Z"
   },
   {
    "duration": 36,
    "start_time": "2023-07-07T10:28:13.111Z"
   },
   {
    "duration": 183,
    "start_time": "2023-07-07T10:28:13.149Z"
   },
   {
    "duration": 189,
    "start_time": "2023-07-07T10:28:13.334Z"
   },
   {
    "duration": 5,
    "start_time": "2023-07-07T10:28:13.525Z"
   },
   {
    "duration": 6,
    "start_time": "2023-07-07T10:28:13.532Z"
   },
   {
    "duration": 16,
    "start_time": "2023-07-07T10:28:13.540Z"
   },
   {
    "duration": 6,
    "start_time": "2023-07-07T10:28:13.558Z"
   },
   {
    "duration": 50,
    "start_time": "2023-07-07T10:28:13.566Z"
   },
   {
    "duration": 12,
    "start_time": "2023-07-07T10:28:13.617Z"
   },
   {
    "duration": 16,
    "start_time": "2023-07-07T10:28:13.631Z"
   },
   {
    "duration": 16,
    "start_time": "2023-07-07T10:28:13.649Z"
   },
   {
    "duration": 12,
    "start_time": "2023-07-07T10:28:13.667Z"
   },
   {
    "duration": 15,
    "start_time": "2023-07-07T10:28:13.681Z"
   },
   {
    "duration": 38,
    "start_time": "2023-07-07T10:28:13.698Z"
   },
   {
    "duration": 20,
    "start_time": "2023-07-07T10:28:13.738Z"
   },
   {
    "duration": 12,
    "start_time": "2023-07-07T10:28:13.760Z"
   },
   {
    "duration": 385,
    "start_time": "2023-07-07T10:28:13.774Z"
   },
   {
    "duration": 32,
    "start_time": "2023-07-07T10:29:35.859Z"
   },
   {
    "duration": 32,
    "start_time": "2023-07-07T10:29:51.858Z"
   },
   {
    "duration": 41,
    "start_time": "2023-07-07T10:30:00.134Z"
   },
   {
    "duration": 35,
    "start_time": "2023-07-07T10:30:04.590Z"
   },
   {
    "duration": 35,
    "start_time": "2023-07-07T10:34:14.084Z"
   },
   {
    "duration": 169,
    "start_time": "2023-07-07T10:34:25.735Z"
   },
   {
    "duration": 24,
    "start_time": "2023-07-07T10:34:54.581Z"
   },
   {
    "duration": 30,
    "start_time": "2023-07-07T10:35:34.927Z"
   },
   {
    "duration": 7,
    "start_time": "2023-07-07T10:41:33.789Z"
   },
   {
    "duration": 12,
    "start_time": "2023-07-07T10:43:06.902Z"
   },
   {
    "duration": 7,
    "start_time": "2023-07-07T10:44:08.551Z"
   },
   {
    "duration": 7,
    "start_time": "2023-07-07T10:44:14.092Z"
   },
   {
    "duration": 5,
    "start_time": "2023-07-07T10:47:05.394Z"
   },
   {
    "duration": 196,
    "start_time": "2023-07-07T10:48:10.663Z"
   },
   {
    "duration": 19,
    "start_time": "2023-07-07T10:48:23.810Z"
   },
   {
    "duration": 42,
    "start_time": "2023-07-07T10:53:58.423Z"
   },
   {
    "duration": 33,
    "start_time": "2023-07-07T10:54:25.695Z"
   },
   {
    "duration": 10,
    "start_time": "2023-07-07T10:54:41.460Z"
   },
   {
    "duration": 29,
    "start_time": "2023-07-07T10:55:30.326Z"
   },
   {
    "duration": 6,
    "start_time": "2023-07-07T10:57:53.446Z"
   },
   {
    "duration": 28,
    "start_time": "2023-07-07T10:58:34.808Z"
   },
   {
    "duration": 13,
    "start_time": "2023-07-07T10:58:59.288Z"
   },
   {
    "duration": 476,
    "start_time": "2023-07-07T11:00:22.412Z"
   },
   {
    "duration": 5,
    "start_time": "2023-07-07T11:03:44.789Z"
   },
   {
    "duration": 1448,
    "start_time": "2023-07-07T11:05:33.151Z"
   },
   {
    "duration": 81,
    "start_time": "2023-07-07T11:05:34.602Z"
   },
   {
    "duration": 4,
    "start_time": "2023-07-07T11:05:34.685Z"
   },
   {
    "duration": 34,
    "start_time": "2023-07-07T11:05:34.691Z"
   },
   {
    "duration": 15,
    "start_time": "2023-07-07T11:05:34.728Z"
   },
   {
    "duration": 43,
    "start_time": "2023-07-07T11:05:34.745Z"
   },
   {
    "duration": 36,
    "start_time": "2023-07-07T11:05:34.791Z"
   },
   {
    "duration": 10,
    "start_time": "2023-07-07T11:05:34.830Z"
   },
   {
    "duration": 31,
    "start_time": "2023-07-07T11:05:34.842Z"
   },
   {
    "duration": 40,
    "start_time": "2023-07-07T11:05:34.876Z"
   },
   {
    "duration": 22,
    "start_time": "2023-07-07T11:05:34.918Z"
   },
   {
    "duration": 40,
    "start_time": "2023-07-07T11:05:34.942Z"
   },
   {
    "duration": 28,
    "start_time": "2023-07-07T11:05:34.984Z"
   },
   {
    "duration": 40,
    "start_time": "2023-07-07T11:05:35.014Z"
   },
   {
    "duration": 32,
    "start_time": "2023-07-07T11:05:35.057Z"
   },
   {
    "duration": 32,
    "start_time": "2023-07-07T11:05:35.091Z"
   },
   {
    "duration": 263,
    "start_time": "2023-07-07T11:05:35.126Z"
   },
   {
    "duration": 18,
    "start_time": "2023-07-07T11:05:35.391Z"
   },
   {
    "duration": 221,
    "start_time": "2023-07-07T11:05:35.411Z"
   },
   {
    "duration": 20,
    "start_time": "2023-07-07T11:05:35.635Z"
   },
   {
    "duration": 334,
    "start_time": "2023-07-07T11:05:35.657Z"
   },
   {
    "duration": 390,
    "start_time": "2023-07-07T11:05:35.994Z"
   },
   {
    "duration": 381,
    "start_time": "2023-07-07T11:05:36.386Z"
   },
   {
    "duration": 7,
    "start_time": "2023-07-07T11:05:36.769Z"
   },
   {
    "duration": 66,
    "start_time": "2023-07-07T11:05:36.778Z"
   },
   {
    "duration": 38,
    "start_time": "2023-07-07T11:05:36.847Z"
   },
   {
    "duration": 1624,
    "start_time": "2023-07-07T11:05:36.887Z"
   },
   {
    "duration": 327,
    "start_time": "2023-07-07T11:05:38.516Z"
   },
   {
    "duration": 17,
    "start_time": "2023-07-07T11:05:38.846Z"
   },
   {
    "duration": 51,
    "start_time": "2023-07-07T11:05:38.865Z"
   },
   {
    "duration": 29,
    "start_time": "2023-07-07T11:05:38.918Z"
   },
   {
    "duration": 24,
    "start_time": "2023-07-07T11:05:38.949Z"
   },
   {
    "duration": 54,
    "start_time": "2023-07-07T11:05:38.976Z"
   },
   {
    "duration": 310,
    "start_time": "2023-07-07T11:05:39.032Z"
   },
   {
    "duration": 449,
    "start_time": "2023-07-07T11:05:39.344Z"
   },
   {
    "duration": 39,
    "start_time": "2023-07-07T11:05:39.796Z"
   },
   {
    "duration": 337,
    "start_time": "2023-07-07T11:05:39.837Z"
   },
   {
    "duration": 383,
    "start_time": "2023-07-07T11:05:40.177Z"
   },
   {
    "duration": 22,
    "start_time": "2023-07-07T11:05:40.562Z"
   },
   {
    "duration": 444,
    "start_time": "2023-07-07T11:05:40.586Z"
   },
   {
    "duration": 408,
    "start_time": "2023-07-07T11:05:41.032Z"
   },
   {
    "duration": 18,
    "start_time": "2023-07-07T11:05:41.442Z"
   },
   {
    "duration": 13,
    "start_time": "2023-07-07T11:05:41.462Z"
   },
   {
    "duration": 190,
    "start_time": "2023-07-07T11:05:41.478Z"
   },
   {
    "duration": 15,
    "start_time": "2023-07-07T11:05:41.669Z"
   },
   {
    "duration": 196,
    "start_time": "2023-07-07T11:05:41.686Z"
   },
   {
    "duration": 5,
    "start_time": "2023-07-07T11:05:41.884Z"
   },
   {
    "duration": 39,
    "start_time": "2023-07-07T11:05:41.891Z"
   },
   {
    "duration": 196,
    "start_time": "2023-07-07T11:05:41.931Z"
   },
   {
    "duration": 244,
    "start_time": "2023-07-07T11:05:42.129Z"
   },
   {
    "duration": 7,
    "start_time": "2023-07-07T11:05:42.376Z"
   },
   {
    "duration": 23,
    "start_time": "2023-07-07T11:05:42.386Z"
   },
   {
    "duration": 13,
    "start_time": "2023-07-07T11:05:42.411Z"
   },
   {
    "duration": 17,
    "start_time": "2023-07-07T11:05:42.427Z"
   },
   {
    "duration": 30,
    "start_time": "2023-07-07T11:05:42.446Z"
   },
   {
    "duration": 6,
    "start_time": "2023-07-07T11:05:42.478Z"
   },
   {
    "duration": 16,
    "start_time": "2023-07-07T11:05:42.510Z"
   },
   {
    "duration": 29,
    "start_time": "2023-07-07T11:05:42.528Z"
   },
   {
    "duration": 11,
    "start_time": "2023-07-07T11:05:42.559Z"
   },
   {
    "duration": 48,
    "start_time": "2023-07-07T11:05:42.572Z"
   },
   {
    "duration": 6,
    "start_time": "2023-07-07T11:05:42.622Z"
   },
   {
    "duration": 16,
    "start_time": "2023-07-07T11:05:42.631Z"
   },
   {
    "duration": 35,
    "start_time": "2023-07-07T11:05:42.650Z"
   },
   {
    "duration": 34,
    "start_time": "2023-07-07T11:05:42.688Z"
   },
   {
    "duration": 15,
    "start_time": "2023-07-07T11:05:42.724Z"
   },
   {
    "duration": 367,
    "start_time": "2023-07-07T11:05:42.742Z"
   },
   {
    "duration": 1474,
    "start_time": "2023-07-07T11:09:52.520Z"
   },
   {
    "duration": 88,
    "start_time": "2023-07-07T11:09:53.997Z"
   },
   {
    "duration": 2,
    "start_time": "2023-07-07T11:09:54.087Z"
   },
   {
    "duration": 60,
    "start_time": "2023-07-07T11:09:54.092Z"
   },
   {
    "duration": 19,
    "start_time": "2023-07-07T11:09:54.154Z"
   },
   {
    "duration": 18,
    "start_time": "2023-07-07T11:09:54.175Z"
   },
   {
    "duration": 29,
    "start_time": "2023-07-07T11:09:54.195Z"
   },
   {
    "duration": 41,
    "start_time": "2023-07-07T11:09:54.227Z"
   },
   {
    "duration": 48,
    "start_time": "2023-07-07T11:09:54.270Z"
   },
   {
    "duration": 56,
    "start_time": "2023-07-07T11:09:54.328Z"
   },
   {
    "duration": 48,
    "start_time": "2023-07-07T11:09:54.386Z"
   },
   {
    "duration": 43,
    "start_time": "2023-07-07T11:09:54.437Z"
   },
   {
    "duration": 53,
    "start_time": "2023-07-07T11:09:54.483Z"
   },
   {
    "duration": 32,
    "start_time": "2023-07-07T11:09:54.538Z"
   },
   {
    "duration": 30,
    "start_time": "2023-07-07T11:09:54.572Z"
   },
   {
    "duration": 43,
    "start_time": "2023-07-07T11:09:54.604Z"
   },
   {
    "duration": 298,
    "start_time": "2023-07-07T11:09:54.649Z"
   },
   {
    "duration": 11,
    "start_time": "2023-07-07T11:09:54.949Z"
   },
   {
    "duration": 271,
    "start_time": "2023-07-07T11:09:54.963Z"
   },
   {
    "duration": 29,
    "start_time": "2023-07-07T11:09:55.237Z"
   },
   {
    "duration": 334,
    "start_time": "2023-07-07T11:09:55.268Z"
   },
   {
    "duration": 385,
    "start_time": "2023-07-07T11:09:55.608Z"
   },
   {
    "duration": 385,
    "start_time": "2023-07-07T11:09:55.996Z"
   },
   {
    "duration": 8,
    "start_time": "2023-07-07T11:09:56.384Z"
   },
   {
    "duration": 84,
    "start_time": "2023-07-07T11:09:56.394Z"
   },
   {
    "duration": 53,
    "start_time": "2023-07-07T11:09:56.481Z"
   },
   {
    "duration": 1802,
    "start_time": "2023-07-07T11:09:56.536Z"
   },
   {
    "duration": 415,
    "start_time": "2023-07-07T11:09:58.344Z"
   },
   {
    "duration": 17,
    "start_time": "2023-07-07T11:09:58.761Z"
   },
   {
    "duration": 64,
    "start_time": "2023-07-07T11:09:58.780Z"
   },
   {
    "duration": 49,
    "start_time": "2023-07-07T11:09:58.846Z"
   },
   {
    "duration": 45,
    "start_time": "2023-07-07T11:09:58.897Z"
   },
   {
    "duration": 335,
    "start_time": "2023-07-07T11:09:58.945Z"
   },
   {
    "duration": 503,
    "start_time": "2023-07-07T11:09:59.282Z"
   },
   {
    "duration": 50,
    "start_time": "2023-07-07T11:09:59.787Z"
   },
   {
    "duration": 41,
    "start_time": "2023-07-07T11:09:59.839Z"
   },
   {
    "duration": 377,
    "start_time": "2023-07-07T11:09:59.883Z"
   },
   {
    "duration": 402,
    "start_time": "2023-07-07T11:10:00.264Z"
   },
   {
    "duration": 20,
    "start_time": "2023-07-07T11:10:00.668Z"
   },
   {
    "duration": 564,
    "start_time": "2023-07-07T11:10:00.691Z"
   },
   {
    "duration": 411,
    "start_time": "2023-07-07T11:10:01.257Z"
   },
   {
    "duration": 26,
    "start_time": "2023-07-07T11:10:01.670Z"
   },
   {
    "duration": 16,
    "start_time": "2023-07-07T11:10:01.710Z"
   },
   {
    "duration": 254,
    "start_time": "2023-07-07T11:10:01.729Z"
   },
   {
    "duration": 28,
    "start_time": "2023-07-07T11:10:01.985Z"
   },
   {
    "duration": 193,
    "start_time": "2023-07-07T11:10:02.016Z"
   },
   {
    "duration": 6,
    "start_time": "2023-07-07T11:10:02.215Z"
   },
   {
    "duration": 73,
    "start_time": "2023-07-07T11:10:02.223Z"
   },
   {
    "duration": 283,
    "start_time": "2023-07-07T11:10:02.298Z"
   },
   {
    "duration": 220,
    "start_time": "2023-07-07T11:10:02.584Z"
   },
   {
    "duration": 6,
    "start_time": "2023-07-07T11:10:02.809Z"
   },
   {
    "duration": 32,
    "start_time": "2023-07-07T11:10:02.817Z"
   },
   {
    "duration": 35,
    "start_time": "2023-07-07T11:10:02.852Z"
   },
   {
    "duration": 18,
    "start_time": "2023-07-07T11:10:02.889Z"
   },
   {
    "duration": 49,
    "start_time": "2023-07-07T11:10:02.911Z"
   },
   {
    "duration": 19,
    "start_time": "2023-07-07T11:10:02.963Z"
   },
   {
    "duration": 38,
    "start_time": "2023-07-07T11:10:02.985Z"
   },
   {
    "duration": 43,
    "start_time": "2023-07-07T11:10:03.026Z"
   },
   {
    "duration": 23,
    "start_time": "2023-07-07T11:10:03.072Z"
   },
   {
    "duration": 39,
    "start_time": "2023-07-07T11:10:03.097Z"
   },
   {
    "duration": 15,
    "start_time": "2023-07-07T11:10:03.139Z"
   },
   {
    "duration": 24,
    "start_time": "2023-07-07T11:10:03.157Z"
   },
   {
    "duration": 59,
    "start_time": "2023-07-07T11:10:03.183Z"
   },
   {
    "duration": 13,
    "start_time": "2023-07-07T11:10:03.245Z"
   },
   {
    "duration": 18,
    "start_time": "2023-07-07T11:10:03.260Z"
   },
   {
    "duration": 396,
    "start_time": "2023-07-07T11:10:03.280Z"
   }
  ],
  "kernelspec": {
   "display_name": "Python 3 (ipykernel)",
   "language": "python",
   "name": "python3"
  },
  "language_info": {
   "codemirror_mode": {
    "name": "ipython",
    "version": 3
   },
   "file_extension": ".py",
   "mimetype": "text/x-python",
   "name": "python",
   "nbconvert_exporter": "python",
   "pygments_lexer": "ipython3",
   "version": "3.8.16"
  },
  "toc": {
   "base_numbering": 1,
   "nav_menu": {
    "height": "71.9922px",
    "width": "241.419px"
   },
   "number_sections": true,
   "sideBar": true,
   "skip_h1_title": true,
   "title_cell": "Table of Contents",
   "title_sidebar": "Contents",
   "toc_cell": false,
   "toc_position": {},
   "toc_section_display": true,
   "toc_window_display": false
  }
 },
 "nbformat": 4,
 "nbformat_minor": 2
}
